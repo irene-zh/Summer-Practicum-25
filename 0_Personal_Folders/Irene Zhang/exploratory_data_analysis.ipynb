{
 "cells": [
  {
   "cell_type": "code",
   "execution_count": 22,
   "id": "ea87c9cf",
   "metadata": {},
   "outputs": [],
   "source": [
    "import numpy as np\n",
    "import pandas as pd\n",
    "import glob\n",
    "import os\n",
    "from plotnine import *"
   ]
  },
  {
   "cell_type": "code",
   "execution_count": null,
   "id": "2897b8a5",
   "metadata": {},
   "outputs": [],
   "source": [
    "path = r'D:\\Summer Practicum\\1_Data\\On_Time_Marketing_Carrier_On_Time_Performance_Beginning_January_2018_2023_All_Months'\n",
    "all_files = glob.glob(os.path.join(path,\"*.csv\"))\n",
    "\n",
    "df = pd.concat((pd.read_csv(f) for f in all_files), ignore_index=True)"
   ]
  },
  {
   "cell_type": "code",
   "execution_count": 18,
   "id": "8e58e9db",
   "metadata": {},
   "outputs": [
    {
     "name": "stdout",
     "output_type": "stream",
     "text": [
      "   Year  Quarter  Month  DayofMonth  DayOfWeek  FlightDate  \\\n",
      "0  2022        4     10          29          6  2022-10-29   \n",
      "1  2022        4     10          29          6  2022-10-29   \n",
      "2  2022        4     10          29          6  2022-10-29   \n",
      "3  2022        4     10          29          6  2022-10-29   \n",
      "4  2022        4     10          29          6  2022-10-29   \n",
      "\n",
      "  Marketing_Airline_Network Operated_or_Branded_Code_Share_Partners  \\\n",
      "0                        UA                                      UA   \n",
      "1                        UA                                      UA   \n",
      "2                        UA                                      UA   \n",
      "3                        UA                                      UA   \n",
      "4                        UA                                      UA   \n",
      "\n",
      "   DOT_ID_Marketing_Airline IATA_Code_Marketing_Airline  ...  Div5Airport  \\\n",
      "0                     19977                          UA  ...          NaN   \n",
      "1                     19977                          UA  ...          NaN   \n",
      "2                     19977                          UA  ...          NaN   \n",
      "3                     19977                          UA  ...          NaN   \n",
      "4                     19977                          UA  ...          NaN   \n",
      "\n",
      "  Div5AirportID  Div5AirportSeqID Div5WheelsOn  Div5TotalGTime  \\\n",
      "0           NaN               NaN          NaN             NaN   \n",
      "1           NaN               NaN          NaN             NaN   \n",
      "2           NaN               NaN          NaN             NaN   \n",
      "3           NaN               NaN          NaN             NaN   \n",
      "4           NaN               NaN          NaN             NaN   \n",
      "\n",
      "  Div5LongestGTime  Div5WheelsOff Div5TailNum Duplicate  Unnamed: 119  \n",
      "0              NaN            NaN         NaN         N           NaN  \n",
      "1              NaN            NaN         NaN         N           NaN  \n",
      "2              NaN            NaN         NaN         N           NaN  \n",
      "3              NaN            NaN         NaN         N           NaN  \n",
      "4              NaN            NaN         NaN         N           NaN  \n",
      "\n",
      "[5 rows x 120 columns]\n"
     ]
    },
    {
     "data": {
      "text/html": [
       "<div>\n",
       "<style scoped>\n",
       "    .dataframe tbody tr th:only-of-type {\n",
       "        vertical-align: middle;\n",
       "    }\n",
       "\n",
       "    .dataframe tbody tr th {\n",
       "        vertical-align: top;\n",
       "    }\n",
       "\n",
       "    .dataframe thead th {\n",
       "        text-align: right;\n",
       "    }\n",
       "</style>\n",
       "<table border=\"1\" class=\"dataframe\">\n",
       "  <thead>\n",
       "    <tr style=\"text-align: right;\">\n",
       "      <th></th>\n",
       "      <th>Year</th>\n",
       "      <th>Quarter</th>\n",
       "      <th>Month</th>\n",
       "      <th>DayofMonth</th>\n",
       "      <th>DayOfWeek</th>\n",
       "      <th>FlightDate</th>\n",
       "      <th>Marketing_Airline_Network</th>\n",
       "      <th>Operated_or_Branded_Code_Share_Partners</th>\n",
       "      <th>DOT_ID_Marketing_Airline</th>\n",
       "      <th>IATA_Code_Marketing_Airline</th>\n",
       "      <th>...</th>\n",
       "      <th>Div5Airport</th>\n",
       "      <th>Div5AirportID</th>\n",
       "      <th>Div5AirportSeqID</th>\n",
       "      <th>Div5WheelsOn</th>\n",
       "      <th>Div5TotalGTime</th>\n",
       "      <th>Div5LongestGTime</th>\n",
       "      <th>Div5WheelsOff</th>\n",
       "      <th>Div5TailNum</th>\n",
       "      <th>Duplicate</th>\n",
       "      <th>Unnamed: 119</th>\n",
       "    </tr>\n",
       "  </thead>\n",
       "  <tbody>\n",
       "    <tr>\n",
       "      <th>7065612</th>\n",
       "      <td>2023</td>\n",
       "      <td>1</td>\n",
       "      <td>3</td>\n",
       "      <td>6</td>\n",
       "      <td>1</td>\n",
       "      <td>2023-03-06</td>\n",
       "      <td>AA</td>\n",
       "      <td>AA_CODESHARE</td>\n",
       "      <td>19805</td>\n",
       "      <td>AA</td>\n",
       "      <td>...</td>\n",
       "      <td>NaN</td>\n",
       "      <td>NaN</td>\n",
       "      <td>NaN</td>\n",
       "      <td>NaN</td>\n",
       "      <td>NaN</td>\n",
       "      <td>NaN</td>\n",
       "      <td>NaN</td>\n",
       "      <td>NaN</td>\n",
       "      <td>N</td>\n",
       "      <td>NaN</td>\n",
       "    </tr>\n",
       "    <tr>\n",
       "      <th>7065613</th>\n",
       "      <td>2023</td>\n",
       "      <td>1</td>\n",
       "      <td>3</td>\n",
       "      <td>8</td>\n",
       "      <td>3</td>\n",
       "      <td>2023-03-08</td>\n",
       "      <td>AA</td>\n",
       "      <td>AA_CODESHARE</td>\n",
       "      <td>19805</td>\n",
       "      <td>AA</td>\n",
       "      <td>...</td>\n",
       "      <td>NaN</td>\n",
       "      <td>NaN</td>\n",
       "      <td>NaN</td>\n",
       "      <td>NaN</td>\n",
       "      <td>NaN</td>\n",
       "      <td>NaN</td>\n",
       "      <td>NaN</td>\n",
       "      <td>NaN</td>\n",
       "      <td>N</td>\n",
       "      <td>NaN</td>\n",
       "    </tr>\n",
       "    <tr>\n",
       "      <th>7065614</th>\n",
       "      <td>2023</td>\n",
       "      <td>1</td>\n",
       "      <td>3</td>\n",
       "      <td>9</td>\n",
       "      <td>4</td>\n",
       "      <td>2023-03-09</td>\n",
       "      <td>AA</td>\n",
       "      <td>AA_CODESHARE</td>\n",
       "      <td>19805</td>\n",
       "      <td>AA</td>\n",
       "      <td>...</td>\n",
       "      <td>NaN</td>\n",
       "      <td>NaN</td>\n",
       "      <td>NaN</td>\n",
       "      <td>NaN</td>\n",
       "      <td>NaN</td>\n",
       "      <td>NaN</td>\n",
       "      <td>NaN</td>\n",
       "      <td>NaN</td>\n",
       "      <td>N</td>\n",
       "      <td>NaN</td>\n",
       "    </tr>\n",
       "    <tr>\n",
       "      <th>7065615</th>\n",
       "      <td>2023</td>\n",
       "      <td>1</td>\n",
       "      <td>3</td>\n",
       "      <td>10</td>\n",
       "      <td>5</td>\n",
       "      <td>2023-03-10</td>\n",
       "      <td>AA</td>\n",
       "      <td>AA_CODESHARE</td>\n",
       "      <td>19805</td>\n",
       "      <td>AA</td>\n",
       "      <td>...</td>\n",
       "      <td>NaN</td>\n",
       "      <td>NaN</td>\n",
       "      <td>NaN</td>\n",
       "      <td>NaN</td>\n",
       "      <td>NaN</td>\n",
       "      <td>NaN</td>\n",
       "      <td>NaN</td>\n",
       "      <td>NaN</td>\n",
       "      <td>N</td>\n",
       "      <td>NaN</td>\n",
       "    </tr>\n",
       "    <tr>\n",
       "      <th>7065616</th>\n",
       "      <td>2023</td>\n",
       "      <td>1</td>\n",
       "      <td>3</td>\n",
       "      <td>12</td>\n",
       "      <td>7</td>\n",
       "      <td>2023-03-12</td>\n",
       "      <td>AA</td>\n",
       "      <td>AA_CODESHARE</td>\n",
       "      <td>19805</td>\n",
       "      <td>AA</td>\n",
       "      <td>...</td>\n",
       "      <td>NaN</td>\n",
       "      <td>NaN</td>\n",
       "      <td>NaN</td>\n",
       "      <td>NaN</td>\n",
       "      <td>NaN</td>\n",
       "      <td>NaN</td>\n",
       "      <td>NaN</td>\n",
       "      <td>NaN</td>\n",
       "      <td>N</td>\n",
       "      <td>NaN</td>\n",
       "    </tr>\n",
       "  </tbody>\n",
       "</table>\n",
       "<p>5 rows × 120 columns</p>\n",
       "</div>"
      ],
      "text/plain": [
       "         Year  Quarter  Month  DayofMonth  DayOfWeek  FlightDate  \\\n",
       "7065612  2023        1      3           6          1  2023-03-06   \n",
       "7065613  2023        1      3           8          3  2023-03-08   \n",
       "7065614  2023        1      3           9          4  2023-03-09   \n",
       "7065615  2023        1      3          10          5  2023-03-10   \n",
       "7065616  2023        1      3          12          7  2023-03-12   \n",
       "\n",
       "        Marketing_Airline_Network Operated_or_Branded_Code_Share_Partners  \\\n",
       "7065612                        AA                            AA_CODESHARE   \n",
       "7065613                        AA                            AA_CODESHARE   \n",
       "7065614                        AA                            AA_CODESHARE   \n",
       "7065615                        AA                            AA_CODESHARE   \n",
       "7065616                        AA                            AA_CODESHARE   \n",
       "\n",
       "         DOT_ID_Marketing_Airline IATA_Code_Marketing_Airline  ...  \\\n",
       "7065612                     19805                          AA  ...   \n",
       "7065613                     19805                          AA  ...   \n",
       "7065614                     19805                          AA  ...   \n",
       "7065615                     19805                          AA  ...   \n",
       "7065616                     19805                          AA  ...   \n",
       "\n",
       "         Div5Airport Div5AirportID  Div5AirportSeqID Div5WheelsOn  \\\n",
       "7065612          NaN           NaN               NaN          NaN   \n",
       "7065613          NaN           NaN               NaN          NaN   \n",
       "7065614          NaN           NaN               NaN          NaN   \n",
       "7065615          NaN           NaN               NaN          NaN   \n",
       "7065616          NaN           NaN               NaN          NaN   \n",
       "\n",
       "         Div5TotalGTime Div5LongestGTime  Div5WheelsOff Div5TailNum Duplicate  \\\n",
       "7065612             NaN              NaN            NaN         NaN         N   \n",
       "7065613             NaN              NaN            NaN         NaN         N   \n",
       "7065614             NaN              NaN            NaN         NaN         N   \n",
       "7065615             NaN              NaN            NaN         NaN         N   \n",
       "7065616             NaN              NaN            NaN         NaN         N   \n",
       "\n",
       "         Unnamed: 119  \n",
       "7065612           NaN  \n",
       "7065613           NaN  \n",
       "7065614           NaN  \n",
       "7065615           NaN  \n",
       "7065616           NaN  \n",
       "\n",
       "[5 rows x 120 columns]"
      ]
     },
     "execution_count": 18,
     "metadata": {},
     "output_type": "execute_result"
    }
   ],
   "source": [
    "print(df.head())\n",
    "df.tail()"
   ]
  },
  {
   "cell_type": "code",
   "execution_count": 14,
   "id": "37661189",
   "metadata": {},
   "outputs": [
    {
     "data": {
      "text/plain": [
       "(7065617, 120)"
      ]
     },
     "execution_count": 14,
     "metadata": {},
     "output_type": "execute_result"
    }
   ],
   "source": [
    "df.shape"
   ]
  },
  {
   "cell_type": "code",
   "execution_count": 15,
   "id": "e9c46351",
   "metadata": {},
   "outputs": [
    {
     "name": "stdout",
     "output_type": "stream",
     "text": [
      "<class 'pandas.core.frame.DataFrame'>\n",
      "RangeIndex: 7065617 entries, 0 to 7065616\n",
      "Columns: 120 entries, Year to Unnamed: 119\n",
      "dtypes: float64(73), int64(22), object(25)\n",
      "memory usage: 6.3+ GB\n"
     ]
    }
   ],
   "source": [
    "df.info()"
   ]
  },
  {
   "cell_type": "code",
   "execution_count": 34,
   "id": "00fa3330",
   "metadata": {},
   "outputs": [
    {
     "data": {
      "text/plain": [
       "OriginCityName\n",
       "Chicago, IL              376870\n",
       "Atlanta, GA              322031\n",
       "New York, NY             308611\n",
       "Denver, CO               283269\n",
       "Dallas/Fort Worth, TX    277588\n",
       "Washington, DC           221545\n",
       "Charlotte, NC            213038\n",
       "Houston, TX              202820\n",
       "Los Angeles, CA          190755\n",
       "Las Vegas, NV            182345\n",
       "Name: count, dtype: int64"
      ]
     },
     "execution_count": 34,
     "metadata": {},
     "output_type": "execute_result"
    }
   ],
   "source": [
    "top_10_airports = df[\"OriginCityName\"].value_counts().head(10)\n",
    "top_10_airports"
   ]
  },
  {
   "cell_type": "code",
   "execution_count": 36,
   "id": "e2076aa7",
   "metadata": {},
   "outputs": [
    {
     "data": {
      "image/png": "[encoded data removed]"
     },
     "metadata": {
      "image/png": {
       "height": 480,
       "width": 640
      }
     },
     "output_type": "display_data"
    }
   ],
   "source": [
    "\n",
    "hist = (\n",
    "    ggplot(df,aes(x=\"IATA_Code_Marketing_Airline\")) +\n",
    "    geom_histogram(mapping=aes(x=df[\"IATA_Code_Marketing_Airline\"]),binwidth=1)\n",
    "    )\n",
    "hist.show()"
   ]
  },
  {
   "cell_type": "code",
   "execution_count": null,
   "id": "0341d3e2",
   "metadata": {},
   "outputs": [],
   "source": []
  }
 ],
 "metadata": {
  "kernelspec": {
   "display_name": "irenes_env",
   "language": "python",
   "name": "python3"
  },
  "language_info": {
   "codemirror_mode": {
    "name": "ipython",
    "version": 3
   },
   "file_extension": ".py",
   "mimetype": "text/x-python",
   "name": "python",
   "nbconvert_exporter": "python",
   "pygments_lexer": "ipython3",
   "version": "3.12.11"
  }
 },
 "nbformat": 4,
 "nbformat_minor": 5
}
