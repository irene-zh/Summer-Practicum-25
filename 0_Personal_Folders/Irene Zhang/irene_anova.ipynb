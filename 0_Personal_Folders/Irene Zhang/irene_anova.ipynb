{
 "cells": [
  {
   "cell_type": "code",
   "execution_count": 15,
   "id": "e4d54c33",
   "metadata": {},
   "outputs": [],
   "source": [
    "import numpy as np\n",
    "import pandas as pd\n",
    "import glob\n",
    "import os\n",
    "from plotnine import *\n",
    "import matplotlib.pyplot as plt\n",
    "import seaborn as sns\n",
    "import statsmodels.formula.api as smf\n",
    "import statsmodels.api as sm"
   ]
  },
  {
   "cell_type": "markdown",
   "id": "244b2aea",
   "metadata": {},
   "source": [
    "Columns of interest:\n",
    "Month, DayOfMonth, DayOfWeek,Operating_Airline,Origin, OriginCity, OriginState,Dest,DestCityName,\n",
    "DestState,DepTime,DepDelay,DepDel15,DepartureDelayGroups,TaxiOut,TaxiIn,ArrTime,ArrDelay,ArrDel15,\n",
    "ArrivalDelayGroups,Cancelled,Diverted,ActualElapsedTime,AirTime,Distance,DistanceGroup,\n",
    "CarrierDelay,WeatherDelay,NASDelay,SecurityDelay,LateAircraftDelay"
   ]
  },
  {
   "cell_type": "code",
   "execution_count": null,
   "id": "396b4fc5",
   "metadata": {},
   "outputs": [],
   "source": [
    "df = pd.read_csv('D:/Summer Practicum/1_Data/training_airlines.csv')\n",
    "df.columns = df.columns.str.replace(' ', '')"
   ]
  },
  {
   "cell_type": "code",
   "execution_count": 27,
   "id": "70d743e8",
   "metadata": {},
   "outputs": [
    {
     "data": {
      "text/html": [
       "<div>\n",
       "<style scoped>\n",
       "    .dataframe tbody tr th:only-of-type {\n",
       "        vertical-align: middle;\n",
       "    }\n",
       "\n",
       "    .dataframe tbody tr th {\n",
       "        vertical-align: top;\n",
       "    }\n",
       "\n",
       "    .dataframe thead th {\n",
       "        text-align: right;\n",
       "    }\n",
       "</style>\n",
       "<table border=\"1\" class=\"dataframe\">\n",
       "  <thead>\n",
       "    <tr style=\"text-align: right;\">\n",
       "      <th></th>\n",
       "      <th>df</th>\n",
       "      <th>sum_sq</th>\n",
       "      <th>mean_sq</th>\n",
       "      <th>F</th>\n",
       "      <th>PR(&gt;F)</th>\n",
       "    </tr>\n",
       "  </thead>\n",
       "  <tbody>\n",
       "    <tr>\n",
       "      <th>C(Operating_Airline)</th>\n",
       "      <td>9.0</td>\n",
       "      <td>4.140323e+07</td>\n",
       "      <td>4.600358e+06</td>\n",
       "      <td>1632.10993</td>\n",
       "      <td>0.0</td>\n",
       "    </tr>\n",
       "    <tr>\n",
       "      <th>Residual</th>\n",
       "      <td>3371655.0</td>\n",
       "      <td>9.503540e+09</td>\n",
       "      <td>2.818657e+03</td>\n",
       "      <td>NaN</td>\n",
       "      <td>NaN</td>\n",
       "    </tr>\n",
       "  </tbody>\n",
       "</table>\n",
       "</div>"
      ],
      "text/plain": [
       "                             df        sum_sq       mean_sq           F  \\\n",
       "C(Operating_Airline)        9.0  4.140323e+07  4.600358e+06  1632.10993   \n",
       "Residual              3371655.0  9.503540e+09  2.818657e+03         NaN   \n",
       "\n",
       "                      PR(>F)  \n",
       "C(Operating_Airline)     0.0  \n",
       "Residual                 NaN  "
      ]
     },
     "execution_count": 27,
     "metadata": {},
     "output_type": "execute_result"
    }
   ],
   "source": [
    "model_oneway = smf.ols(\"DepDelay ~C(Operating_Airline)\", data=df).fit()\n",
    "model_oneway.summary()\n",
    "\n",
    "sm.stats.anova_lm(model_oneway,type=2)"
   ]
  },
  {
   "cell_type": "code",
   "execution_count": 26,
   "id": "a2da36a2",
   "metadata": {},
   "outputs": [
    {
     "data": {
      "text/html": [
       "<div>\n",
       "<style scoped>\n",
       "    .dataframe tbody tr th:only-of-type {\n",
       "        vertical-align: middle;\n",
       "    }\n",
       "\n",
       "    .dataframe tbody tr th {\n",
       "        vertical-align: top;\n",
       "    }\n",
       "\n",
       "    .dataframe thead th {\n",
       "        text-align: right;\n",
       "    }\n",
       "</style>\n",
       "<table border=\"1\" class=\"dataframe\">\n",
       "  <thead>\n",
       "    <tr style=\"text-align: right;\">\n",
       "      <th></th>\n",
       "      <th>df</th>\n",
       "      <th>sum_sq</th>\n",
       "      <th>mean_sq</th>\n",
       "      <th>F</th>\n",
       "      <th>PR(&gt;F)</th>\n",
       "    </tr>\n",
       "  </thead>\n",
       "  <tbody>\n",
       "    <tr>\n",
       "      <th>C(Operating_Airline)</th>\n",
       "      <td>9.0</td>\n",
       "      <td>4.140323e+07</td>\n",
       "      <td>4.600358e+06</td>\n",
       "      <td>1641.185882</td>\n",
       "      <td>0.0</td>\n",
       "    </tr>\n",
       "    <tr>\n",
       "      <th>C(OriginCityName)</th>\n",
       "      <td>239.0</td>\n",
       "      <td>2.403827e+07</td>\n",
       "      <td>1.005785e+05</td>\n",
       "      <td>35.881568</td>\n",
       "      <td>0.0</td>\n",
       "    </tr>\n",
       "    <tr>\n",
       "      <th>C(Operating_Airline):C(OriginCityName)</th>\n",
       "      <td>2151.0</td>\n",
       "      <td>3.637355e+07</td>\n",
       "      <td>1.691006e+04</td>\n",
       "      <td>6.032695</td>\n",
       "      <td>0.0</td>\n",
       "    </tr>\n",
       "    <tr>\n",
       "      <th>Residual</th>\n",
       "      <td>3370696.0</td>\n",
       "      <td>9.448296e+09</td>\n",
       "      <td>2.803070e+03</td>\n",
       "      <td>NaN</td>\n",
       "      <td>NaN</td>\n",
       "    </tr>\n",
       "  </tbody>\n",
       "</table>\n",
       "</div>"
      ],
      "text/plain": [
       "                                               df        sum_sq       mean_sq  \\\n",
       "C(Operating_Airline)                          9.0  4.140323e+07  4.600358e+06   \n",
       "C(OriginCityName)                           239.0  2.403827e+07  1.005785e+05   \n",
       "C(Operating_Airline):C(OriginCityName)     2151.0  3.637355e+07  1.691006e+04   \n",
       "Residual                                3370696.0  9.448296e+09  2.803070e+03   \n",
       "\n",
       "                                                  F  PR(>F)  \n",
       "C(Operating_Airline)                    1641.185882     0.0  \n",
       "C(OriginCityName)                         35.881568     0.0  \n",
       "C(Operating_Airline):C(OriginCityName)     6.032695     0.0  \n",
       "Residual                                        NaN     NaN  "
      ]
     },
     "execution_count": 26,
     "metadata": {},
     "output_type": "execute_result"
    }
   ],
   "source": [
    "model = smf.ols(\"DepDelay ~C(Operating_Airline) + C(OriginCityName)+ C(Operating_Airline):C(OriginCityName)\", data=df).fit()\n",
    "model.summary()\n",
    "\n",
    "sm.stats.anova_lm(model,type=2)"
   ]
  },
  {
   "cell_type": "code",
   "execution_count": 40,
   "id": "edcd2750",
   "metadata": {},
   "outputs": [
    {
     "data": {
      "text/plain": [
       "C(OriginCityName)[T.Harrisburg, PA]           0.996434\n",
       "C(OriginCityName)[T.Jacksonville, FL]         0.992362\n",
       "C(OriginCityName)[T.Portsmouth, NH]           0.992074\n",
       "C(OriginCityName)[T.Martha's Vineyard, MA]    0.990589\n",
       "C(OriginCityName)[T.Burlington, VT]           0.989325\n",
       "C(OriginCityName)[T.Appleton, WI]             0.988467\n",
       "C(OriginCityName)[T.Fort Myers, FL]           0.988314\n",
       "C(OriginCityName)[T.Syracuse, NY]             0.984820\n",
       "C(OriginCityName)[T.Santa Ana, CA]            0.982357\n",
       "C(OriginCityName)[T.Seattle, WA]              0.975758\n",
       "C(OriginCityName)[T.Charleston, SC]           0.973580\n",
       "C(OriginCityName)[T.State College, PA]        0.969282\n",
       "C(OriginCityName)[T.Madison, WI]              0.967286\n",
       "C(OriginCityName)[T.Atlanta, GA]              0.966615\n",
       "C(OriginCityName)[T.Houston, TX]              0.966506\n",
       "dtype: float64"
      ]
     },
     "execution_count": 40,
     "metadata": {},
     "output_type": "execute_result"
    }
   ],
   "source": [
    "pvals = model.pvalues\n",
    "pvals.nlargest(15)"
   ]
  },
  {
   "cell_type": "code",
   "execution_count": 41,
   "id": "a389317e",
   "metadata": {},
   "outputs": [
    {
     "data": {
      "text/plain": [
       "C(Operating_Airline)[T.AS]                   0.000000e+00\n",
       "C(Operating_Airline)[T.DL]                   0.000000e+00\n",
       "C(Operating_Airline)[T.UA]                   0.000000e+00\n",
       "C(Operating_Airline)[T.B6]                  1.195300e-212\n",
       "C(Operating_Airline)[T.F9]                  2.024995e-165\n",
       "C(Operating_Airline)[T.WN]                   4.081766e-83\n",
       "C(Operating_Airline)[T.G4]                   5.788379e-41\n",
       "C(Operating_Airline)[T.NK]                   1.970692e-13\n",
       "C(Operating_Airline)[T.HA]                   1.196297e-12\n",
       "C(OriginCityName)[T.San Luis Obispo, CA]     1.192218e-10\n",
       "C(OriginCityName)[T.Gunnison, CO]            6.446050e-06\n",
       "C(OriginCityName)[T.Pago Pago, TT]           1.374063e-05\n",
       "C(OriginCityName)[T.Shreveport, LA]          1.369670e-03\n",
       "C(OriginCityName)[T.Idaho Falls, ID]         2.747850e-03\n",
       "C(OriginCityName)[T.Duluth, MN]              4.544930e-03\n",
       "dtype: float64"
      ]
     },
     "execution_count": 41,
     "metadata": {},
     "output_type": "execute_result"
    }
   ],
   "source": [
    "pvals.nsmallest(15)"
   ]
  },
  {
   "cell_type": "code",
   "execution_count": 31,
   "id": "1b20cf9c",
   "metadata": {},
   "outputs": [
    {
     "data": {
      "text/html": [
       "<div>\n",
       "<style scoped>\n",
       "    .dataframe tbody tr th:only-of-type {\n",
       "        vertical-align: middle;\n",
       "    }\n",
       "\n",
       "    .dataframe tbody tr th {\n",
       "        vertical-align: top;\n",
       "    }\n",
       "\n",
       "    .dataframe thead th {\n",
       "        text-align: right;\n",
       "    }\n",
       "</style>\n",
       "<table border=\"1\" class=\"dataframe\">\n",
       "  <thead>\n",
       "    <tr style=\"text-align: right;\">\n",
       "      <th></th>\n",
       "      <th>df</th>\n",
       "      <th>sum_sq</th>\n",
       "      <th>mean_sq</th>\n",
       "      <th>F</th>\n",
       "      <th>PR(&gt;F)</th>\n",
       "    </tr>\n",
       "  </thead>\n",
       "  <tbody>\n",
       "    <tr>\n",
       "      <th>C(Operating_Airline)</th>\n",
       "      <td>9.0</td>\n",
       "      <td>4.140323e+07</td>\n",
       "      <td>4.600358e+06</td>\n",
       "      <td>1636.132675</td>\n",
       "      <td>0.0</td>\n",
       "    </tr>\n",
       "    <tr>\n",
       "      <th>C(OriginCityName)</th>\n",
       "      <td>239.0</td>\n",
       "      <td>2.403827e+07</td>\n",
       "      <td>1.005785e+05</td>\n",
       "      <td>35.771089</td>\n",
       "      <td>0.0</td>\n",
       "    </tr>\n",
       "    <tr>\n",
       "      <th>Residual</th>\n",
       "      <td>3371416.0</td>\n",
       "      <td>9.479501e+09</td>\n",
       "      <td>2.811727e+03</td>\n",
       "      <td>NaN</td>\n",
       "      <td>NaN</td>\n",
       "    </tr>\n",
       "  </tbody>\n",
       "</table>\n",
       "</div>"
      ],
      "text/plain": [
       "                             df        sum_sq       mean_sq            F  \\\n",
       "C(Operating_Airline)        9.0  4.140323e+07  4.600358e+06  1636.132675   \n",
       "C(OriginCityName)         239.0  2.403827e+07  1.005785e+05    35.771089   \n",
       "Residual              3371416.0  9.479501e+09  2.811727e+03          NaN   \n",
       "\n",
       "                      PR(>F)  \n",
       "C(Operating_Airline)     0.0  \n",
       "C(OriginCityName)        0.0  \n",
       "Residual                 NaN  "
      ]
     },
     "execution_count": 31,
     "metadata": {},
     "output_type": "execute_result"
    }
   ],
   "source": [
    "model_nointeract = smf.ols(\"DepDelay ~C(Operating_Airline) + C(OriginCityName)\", data=df).fit()\n",
    "model_nointeract.summary()\n",
    "\n",
    "sm.stats.anova_lm(model_nointeract,type=2)"
   ]
  },
  {
   "cell_type": "code",
   "execution_count": 42,
   "id": "e31f232a",
   "metadata": {},
   "outputs": [],
   "source": [
    "top_10_airports=['ATL','DFW','DEN','ORD','LAX','CLT','MCO','LAS','PHX','MIA']\n",
    "df_top_10 = df[((df['Origin'].isin(top_10_airports)) | (df['Dest'].isin(top_10_airports)))]"
   ]
  },
  {
   "cell_type": "code",
   "execution_count": 44,
   "id": "9d1d6a0d",
   "metadata": {},
   "outputs": [
    {
     "data": {
      "text/html": [
       "<div>\n",
       "<style scoped>\n",
       "    .dataframe tbody tr th:only-of-type {\n",
       "        vertical-align: middle;\n",
       "    }\n",
       "\n",
       "    .dataframe tbody tr th {\n",
       "        vertical-align: top;\n",
       "    }\n",
       "\n",
       "    .dataframe thead th {\n",
       "        text-align: right;\n",
       "    }\n",
       "</style>\n",
       "<table border=\"1\" class=\"dataframe\">\n",
       "  <thead>\n",
       "    <tr style=\"text-align: right;\">\n",
       "      <th></th>\n",
       "      <th>df</th>\n",
       "      <th>sum_sq</th>\n",
       "      <th>mean_sq</th>\n",
       "      <th>F</th>\n",
       "      <th>PR(&gt;F)</th>\n",
       "    </tr>\n",
       "  </thead>\n",
       "  <tbody>\n",
       "    <tr>\n",
       "      <th>C(Operating_Airline)</th>\n",
       "      <td>9.0</td>\n",
       "      <td>3.884784e+07</td>\n",
       "      <td>4.316427e+06</td>\n",
       "      <td>1303.521261</td>\n",
       "      <td>0.0</td>\n",
       "    </tr>\n",
       "    <tr>\n",
       "      <th>C(OriginCityName)</th>\n",
       "      <td>194.0</td>\n",
       "      <td>1.684903e+07</td>\n",
       "      <td>8.685067e+04</td>\n",
       "      <td>26.228103</td>\n",
       "      <td>0.0</td>\n",
       "    </tr>\n",
       "    <tr>\n",
       "      <th>C(Operating_Airline):C(OriginCityName)</th>\n",
       "      <td>1746.0</td>\n",
       "      <td>2.687377e+07</td>\n",
       "      <td>1.539162e+04</td>\n",
       "      <td>4.648128</td>\n",
       "      <td>0.0</td>\n",
       "    </tr>\n",
       "    <tr>\n",
       "      <th>Residual</th>\n",
       "      <td>2009173.0</td>\n",
       "      <td>6.653093e+09</td>\n",
       "      <td>3.311359e+03</td>\n",
       "      <td>NaN</td>\n",
       "      <td>NaN</td>\n",
       "    </tr>\n",
       "  </tbody>\n",
       "</table>\n",
       "</div>"
      ],
      "text/plain": [
       "                                               df        sum_sq       mean_sq  \\\n",
       "C(Operating_Airline)                          9.0  3.884784e+07  4.316427e+06   \n",
       "C(OriginCityName)                           194.0  1.684903e+07  8.685067e+04   \n",
       "C(Operating_Airline):C(OriginCityName)     1746.0  2.687377e+07  1.539162e+04   \n",
       "Residual                                2009173.0  6.653093e+09  3.311359e+03   \n",
       "\n",
       "                                                  F  PR(>F)  \n",
       "C(Operating_Airline)                    1303.521261     0.0  \n",
       "C(OriginCityName)                         26.228103     0.0  \n",
       "C(Operating_Airline):C(OriginCityName)     4.648128     0.0  \n",
       "Residual                                        NaN     NaN  "
      ]
     },
     "execution_count": 44,
     "metadata": {},
     "output_type": "execute_result"
    }
   ],
   "source": [
    "model_top10 = smf.ols(\"ArrDelay ~C(Operating_Airline) + C(OriginCityName)+ C(Operating_Airline):C(OriginCityName)\", data=df_top_10).fit()\n",
    "model_top10.summary()\n",
    "\n",
    "sm.stats.anova_lm(model_top10,type=2)"
   ]
  },
  {
   "cell_type": "markdown",
   "id": "1e689693",
   "metadata": {},
   "source": []
  },
  {
   "cell_type": "code",
   "execution_count": 56,
   "id": "de01791c",
   "metadata": {},
   "outputs": [],
   "source": [
    "top_50_airports=df['Dest'].value_counts().nlargest(50).reset_index()\n",
    "df_top_50 = df[(df['Dest'].isin(top_50_airports['Dest']))]"
   ]
  },
  {
   "cell_type": "code",
   "execution_count": 57,
   "id": "757f3cd5",
   "metadata": {},
   "outputs": [
    {
     "data": {
      "text/html": [
       "<div>\n",
       "<style scoped>\n",
       "    .dataframe tbody tr th:only-of-type {\n",
       "        vertical-align: middle;\n",
       "    }\n",
       "\n",
       "    .dataframe tbody tr th {\n",
       "        vertical-align: top;\n",
       "    }\n",
       "\n",
       "    .dataframe thead th {\n",
       "        text-align: right;\n",
       "    }\n",
       "</style>\n",
       "<table border=\"1\" class=\"dataframe\">\n",
       "  <thead>\n",
       "    <tr style=\"text-align: right;\">\n",
       "      <th></th>\n",
       "      <th>df</th>\n",
       "      <th>sum_sq</th>\n",
       "      <th>mean_sq</th>\n",
       "      <th>F</th>\n",
       "      <th>PR(&gt;F)</th>\n",
       "    </tr>\n",
       "  </thead>\n",
       "  <tbody>\n",
       "    <tr>\n",
       "      <th>C(Operating_Airline)</th>\n",
       "      <td>9.0</td>\n",
       "      <td>5.061188e+07</td>\n",
       "      <td>5.623543e+06</td>\n",
       "      <td>1835.808027</td>\n",
       "      <td>0.0</td>\n",
       "    </tr>\n",
       "    <tr>\n",
       "      <th>C(OriginCityName)</th>\n",
       "      <td>213.0</td>\n",
       "      <td>2.324168e+07</td>\n",
       "      <td>1.091159e+05</td>\n",
       "      <td>35.620923</td>\n",
       "      <td>0.0</td>\n",
       "    </tr>\n",
       "    <tr>\n",
       "      <th>C(Operating_Airline):C(OriginCityName)</th>\n",
       "      <td>1917.0</td>\n",
       "      <td>3.493685e+07</td>\n",
       "      <td>1.822475e+04</td>\n",
       "      <td>5.949479</td>\n",
       "      <td>0.0</td>\n",
       "    </tr>\n",
       "    <tr>\n",
       "      <th>Residual</th>\n",
       "      <td>2832195.0</td>\n",
       "      <td>8.675727e+09</td>\n",
       "      <td>3.063252e+03</td>\n",
       "      <td>NaN</td>\n",
       "      <td>NaN</td>\n",
       "    </tr>\n",
       "  </tbody>\n",
       "</table>\n",
       "</div>"
      ],
      "text/plain": [
       "                                               df        sum_sq       mean_sq  \\\n",
       "C(Operating_Airline)                          9.0  5.061188e+07  5.623543e+06   \n",
       "C(OriginCityName)                           213.0  2.324168e+07  1.091159e+05   \n",
       "C(Operating_Airline):C(OriginCityName)     1917.0  3.493685e+07  1.822475e+04   \n",
       "Residual                                2832195.0  8.675727e+09  3.063252e+03   \n",
       "\n",
       "                                                  F  PR(>F)  \n",
       "C(Operating_Airline)                    1835.808027     0.0  \n",
       "C(OriginCityName)                         35.620923     0.0  \n",
       "C(Operating_Airline):C(OriginCityName)     5.949479     0.0  \n",
       "Residual                                        NaN     NaN  "
      ]
     },
     "execution_count": 57,
     "metadata": {},
     "output_type": "execute_result"
    }
   ],
   "source": [
    "model_top50 = smf.ols(\"ArrDelay ~C(Operating_Airline) + C(OriginCityName)+ C(Operating_Airline):C(OriginCityName)\", data=df_top_50).fit()\n",
    "model_top50.summary()\n",
    "\n",
    "sm.stats.anova_lm(model_top50,type=2)"
   ]
  },
  {
   "cell_type": "code",
   "execution_count": 79,
   "id": "d805a1a0",
   "metadata": {},
   "outputs": [
    {
     "name": "stdout",
     "output_type": "stream",
     "text": [
      "389     0.431012\n",
      "1310    0.462295\n",
      "130     0.462295\n",
      "632     0.472971\n",
      "1667    0.473733\n",
      "116     0.474354\n",
      "1991    0.477128\n",
      "910     0.478125\n",
      "1027    0.478125\n",
      "505     0.478125\n",
      "Name: pvalues, dtype: float64\n"
     ]
    },
    {
     "data": {
      "text/html": [
       "<div>\n",
       "<style scoped>\n",
       "    .dataframe tbody tr th:only-of-type {\n",
       "        vertical-align: middle;\n",
       "    }\n",
       "\n",
       "    .dataframe tbody tr th {\n",
       "        vertical-align: top;\n",
       "    }\n",
       "\n",
       "    .dataframe thead th {\n",
       "        text-align: right;\n",
       "    }\n",
       "</style>\n",
       "<table border=\"1\" class=\"dataframe\">\n",
       "  <thead>\n",
       "    <tr style=\"text-align: right;\">\n",
       "      <th></th>\n",
       "      <th>index</th>\n",
       "      <th>pvalues</th>\n",
       "    </tr>\n",
       "  </thead>\n",
       "  <tbody>\n",
       "  </tbody>\n",
       "</table>\n",
       "</div>"
      ],
      "text/plain": [
       "Empty DataFrame\n",
       "Columns: [index, pvalues]\n",
       "Index: []"
      ]
     },
     "execution_count": 79,
     "metadata": {},
     "output_type": "execute_result"
    }
   ],
   "source": [
    "pvals_top50 = model_top50.pvalues.reset_index(name=\"pvalues\")\n",
    "print(pvals_top50[\"pvalues\"].nsmallest(10))\n",
    "\n",
    "output = pvals_top50[pvals_top50['pvalues'] <= 0.05]\n",
    "output"
   ]
  },
  {
   "cell_type": "code",
   "execution_count": null,
   "id": "2e5ee48a",
   "metadata": {},
   "outputs": [],
   "source": []
  }
 ],
 "metadata": {
  "kernelspec": {
   "display_name": "irenes_env",
   "language": "python",
   "name": "python3"
  },
  "language_info": {
   "codemirror_mode": {
    "name": "ipython",
    "version": 3
   },
   "file_extension": ".py",
   "mimetype": "text/x-python",
   "name": "python",
   "nbconvert_exporter": "python",
   "pygments_lexer": "ipython3",
   "version": "3.12.11"
  }
 },
 "nbformat": 4,
 "nbformat_minor": 5
}
