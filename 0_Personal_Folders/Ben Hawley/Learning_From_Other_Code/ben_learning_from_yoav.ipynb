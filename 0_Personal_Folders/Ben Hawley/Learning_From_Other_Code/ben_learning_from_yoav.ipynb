{
 "cells": [
  {
   "cell_type": "markdown",
   "id": "e681f5d2",
   "metadata": {},
   "source": [
    "# Flights Gap Analysis"
   ]
  },
  {
   "cell_type": "markdown",
   "id": "e1ad80b3",
   "metadata": {},
   "source": [
    "## Staging"
   ]
  },
  {
   "cell_type": "code",
   "execution_count": 4,
   "id": "ffc220ce",
   "metadata": {},
   "outputs": [
    {
     "data": {
      "application/vnd.microsoft.datawrangler.viewer.v0+json": {
       "columns": [
        {
         "name": "index",
         "rawType": "int64",
         "type": "integer"
        },
        {
         "name": "Year",
         "rawType": "int64",
         "type": "integer"
        },
        {
         "name": "Quarter",
         "rawType": "int64",
         "type": "integer"
        },
        {
         "name": "Month",
         "rawType": "int64",
         "type": "integer"
        },
        {
         "name": "DayofMonth",
         "rawType": "int64",
         "type": "integer"
        },
        {
         "name": "DayOfWeek",
         "rawType": "int64",
         "type": "integer"
        },
        {
         "name": "FlightDate",
         "rawType": "object",
         "type": "string"
        },
        {
         "name": "Marketing_Airline_Network",
         "rawType": "object",
         "type": "string"
        },
        {
         "name": "Operated_or_Branded_Code_Share_Partners",
         "rawType": "object",
         "type": "string"
        },
        {
         "name": "DOT_ID_Marketing_Airline",
         "rawType": "int64",
         "type": "integer"
        },
        {
         "name": "IATA_Code_Marketing_Airline",
         "rawType": "object",
         "type": "string"
        },
        {
         "name": "Flight_Number_Marketing_Airline",
         "rawType": "int64",
         "type": "integer"
        },
        {
         "name": "Originally_Scheduled_Code_Share_Airline",
         "rawType": "float64",
         "type": "float"
        },
        {
         "name": "DOT_ID_Originally_Scheduled_Code_Share_Airline",
         "rawType": "float64",
         "type": "float"
        },
        {
         "name": "IATA_Code_Originally_Scheduled_Code_Share_Airline",
         "rawType": "float64",
         "type": "float"
        },
        {
         "name": "Flight_Num_Originally_Scheduled_Code_Share_Airline",
         "rawType": "float64",
         "type": "float"
        },
        {
         "name": "Operating_Airline ",
         "rawType": "object",
         "type": "string"
        },
        {
         "name": "DOT_ID_Operating_Airline",
         "rawType": "int64",
         "type": "integer"
        },
        {
         "name": "IATA_Code_Operating_Airline",
         "rawType": "object",
         "type": "string"
        },
        {
         "name": "Tail_Number",
         "rawType": "object",
         "type": "string"
        },
        {
         "name": "Flight_Number_Operating_Airline",
         "rawType": "int64",
         "type": "integer"
        },
        {
         "name": "OriginAirportID",
         "rawType": "int64",
         "type": "integer"
        },
        {
         "name": "OriginAirportSeqID",
         "rawType": "int64",
         "type": "integer"
        },
        {
         "name": "OriginCityMarketID",
         "rawType": "int64",
         "type": "integer"
        },
        {
         "name": "Origin",
         "rawType": "object",
         "type": "string"
        },
        {
         "name": "OriginCityName",
         "rawType": "object",
         "type": "string"
        },
        {
         "name": "OriginState",
         "rawType": "object",
         "type": "string"
        },
        {
         "name": "OriginStateFips",
         "rawType": "int64",
         "type": "integer"
        },
        {
         "name": "OriginStateName",
         "rawType": "object",
         "type": "string"
        },
        {
         "name": "OriginWac",
         "rawType": "int64",
         "type": "integer"
        },
        {
         "name": "DestAirportID",
         "rawType": "int64",
         "type": "integer"
        },
        {
         "name": "DestAirportSeqID",
         "rawType": "int64",
         "type": "integer"
        },
        {
         "name": "DestCityMarketID",
         "rawType": "int64",
         "type": "integer"
        },
        {
         "name": "Dest",
         "rawType": "object",
         "type": "string"
        },
        {
         "name": "DestCityName",
         "rawType": "object",
         "type": "string"
        },
        {
         "name": "DestState",
         "rawType": "object",
         "type": "string"
        },
        {
         "name": "DestStateFips",
         "rawType": "int64",
         "type": "integer"
        },
        {
         "name": "DestStateName",
         "rawType": "object",
         "type": "string"
        },
        {
         "name": "DestWac",
         "rawType": "int64",
         "type": "integer"
        },
        {
         "name": "CRSDepTime",
         "rawType": "int64",
         "type": "integer"
        },
        {
         "name": "DepTime",
         "rawType": "float64",
         "type": "float"
        },
        {
         "name": "DepDelay",
         "rawType": "float64",
         "type": "float"
        },
        {
         "name": "DepDelayMinutes",
         "rawType": "float64",
         "type": "float"
        },
        {
         "name": "DepDel15",
         "rawType": "float64",
         "type": "float"
        },
        {
         "name": "DepartureDelayGroups",
         "rawType": "float64",
         "type": "float"
        },
        {
         "name": "DepTimeBlk",
         "rawType": "object",
         "type": "string"
        },
        {
         "name": "TaxiOut",
         "rawType": "float64",
         "type": "float"
        },
        {
         "name": "WheelsOff",
         "rawType": "float64",
         "type": "float"
        },
        {
         "name": "WheelsOn",
         "rawType": "float64",
         "type": "float"
        },
        {
         "name": "TaxiIn",
         "rawType": "float64",
         "type": "float"
        },
        {
         "name": "CRSArrTime",
         "rawType": "int64",
         "type": "integer"
        },
        {
         "name": "ArrTime",
         "rawType": "float64",
         "type": "float"
        },
        {
         "name": "ArrDelay",
         "rawType": "float64",
         "type": "float"
        },
        {
         "name": "ArrDelayMinutes",
         "rawType": "float64",
         "type": "float"
        },
        {
         "name": "ArrDel15",
         "rawType": "float64",
         "type": "float"
        },
        {
         "name": "ArrivalDelayGroups",
         "rawType": "float64",
         "type": "float"
        },
        {
         "name": "ArrTimeBlk",
         "rawType": "object",
         "type": "string"
        },
        {
         "name": "Cancelled",
         "rawType": "float64",
         "type": "float"
        },
        {
         "name": "CancellationCode",
         "rawType": "object",
         "type": "unknown"
        },
        {
         "name": "Diverted",
         "rawType": "float64",
         "type": "float"
        },
        {
         "name": "CRSElapsedTime",
         "rawType": "float64",
         "type": "float"
        },
        {
         "name": "ActualElapsedTime",
         "rawType": "float64",
         "type": "float"
        },
        {
         "name": "AirTime",
         "rawType": "float64",
         "type": "float"
        },
        {
         "name": "Flights",
         "rawType": "float64",
         "type": "float"
        },
        {
         "name": "Distance",
         "rawType": "float64",
         "type": "float"
        },
        {
         "name": "DistanceGroup",
         "rawType": "int64",
         "type": "integer"
        },
        {
         "name": "CarrierDelay",
         "rawType": "float64",
         "type": "float"
        },
        {
         "name": "WeatherDelay",
         "rawType": "float64",
         "type": "float"
        },
        {
         "name": "NASDelay",
         "rawType": "float64",
         "type": "float"
        },
        {
         "name": "SecurityDelay",
         "rawType": "float64",
         "type": "float"
        },
        {
         "name": "LateAircraftDelay",
         "rawType": "float64",
         "type": "float"
        },
        {
         "name": "FirstDepTime",
         "rawType": "float64",
         "type": "float"
        },
        {
         "name": "TotalAddGTime",
         "rawType": "float64",
         "type": "float"
        },
        {
         "name": "LongestAddGTime",
         "rawType": "float64",
         "type": "float"
        },
        {
         "name": "DivAirportLandings",
         "rawType": "float64",
         "type": "float"
        },
        {
         "name": "DivReachedDest",
         "rawType": "float64",
         "type": "float"
        },
        {
         "name": "DivActualElapsedTime",
         "rawType": "float64",
         "type": "float"
        },
        {
         "name": "DivArrDelay",
         "rawType": "float64",
         "type": "float"
        },
        {
         "name": "DivDistance",
         "rawType": "float64",
         "type": "float"
        },
        {
         "name": "Div1Airport",
         "rawType": "object",
         "type": "unknown"
        },
        {
         "name": "Div1AirportID",
         "rawType": "float64",
         "type": "float"
        },
        {
         "name": "Div1AirportSeqID",
         "rawType": "float64",
         "type": "float"
        },
        {
         "name": "Div1WheelsOn",
         "rawType": "float64",
         "type": "float"
        },
        {
         "name": "Div1TotalGTime",
         "rawType": "float64",
         "type": "float"
        },
        {
         "name": "Div1LongestGTime",
         "rawType": "float64",
         "type": "float"
        },
        {
         "name": "Div1WheelsOff",
         "rawType": "float64",
         "type": "float"
        },
        {
         "name": "Div1TailNum",
         "rawType": "object",
         "type": "unknown"
        },
        {
         "name": "Div2Airport",
         "rawType": "object",
         "type": "unknown"
        },
        {
         "name": "Div2AirportID",
         "rawType": "float64",
         "type": "float"
        },
        {
         "name": "Div2AirportSeqID",
         "rawType": "float64",
         "type": "float"
        },
        {
         "name": "Div2WheelsOn",
         "rawType": "float64",
         "type": "float"
        },
        {
         "name": "Div2TotalGTime",
         "rawType": "float64",
         "type": "float"
        },
        {
         "name": "Div2LongestGTime",
         "rawType": "float64",
         "type": "float"
        },
        {
         "name": "Div2WheelsOff",
         "rawType": "float64",
         "type": "float"
        },
        {
         "name": "Div2TailNum",
         "rawType": "object",
         "type": "unknown"
        },
        {
         "name": "Div3Airport",
         "rawType": "float64",
         "type": "float"
        },
        {
         "name": "Div3AirportID",
         "rawType": "float64",
         "type": "float"
        },
        {
         "name": "Div3AirportSeqID",
         "rawType": "float64",
         "type": "float"
        },
        {
         "name": "Div3WheelsOn",
         "rawType": "float64",
         "type": "float"
        },
        {
         "name": "Div3TotalGTime",
         "rawType": "float64",
         "type": "float"
        },
        {
         "name": "Div3LongestGTime",
         "rawType": "float64",
         "type": "float"
        },
        {
         "name": "Div3WheelsOff",
         "rawType": "float64",
         "type": "float"
        },
        {
         "name": "Div3TailNum",
         "rawType": "float64",
         "type": "float"
        },
        {
         "name": "Div4Airport",
         "rawType": "float64",
         "type": "float"
        },
        {
         "name": "Div4AirportID",
         "rawType": "float64",
         "type": "float"
        },
        {
         "name": "Div4AirportSeqID",
         "rawType": "float64",
         "type": "float"
        },
        {
         "name": "Div4WheelsOn",
         "rawType": "float64",
         "type": "float"
        },
        {
         "name": "Div4TotalGTime",
         "rawType": "float64",
         "type": "float"
        },
        {
         "name": "Div4LongestGTime",
         "rawType": "float64",
         "type": "float"
        },
        {
         "name": "Div4WheelsOff",
         "rawType": "float64",
         "type": "float"
        },
        {
         "name": "Div4TailNum",
         "rawType": "float64",
         "type": "float"
        },
        {
         "name": "Div5Airport",
         "rawType": "float64",
         "type": "float"
        },
        {
         "name": "Div5AirportID",
         "rawType": "float64",
         "type": "float"
        },
        {
         "name": "Div5AirportSeqID",
         "rawType": "float64",
         "type": "float"
        },
        {
         "name": "Div5WheelsOn",
         "rawType": "float64",
         "type": "float"
        },
        {
         "name": "Div5TotalGTime",
         "rawType": "float64",
         "type": "float"
        },
        {
         "name": "Div5LongestGTime",
         "rawType": "float64",
         "type": "float"
        },
        {
         "name": "Div5WheelsOff",
         "rawType": "float64",
         "type": "float"
        },
        {
         "name": "Div5TailNum",
         "rawType": "float64",
         "type": "float"
        },
        {
         "name": "Duplicate",
         "rawType": "object",
         "type": "string"
        },
        {
         "name": "Unnamed: 119",
         "rawType": "float64",
         "type": "float"
        }
       ],
       "ref": "1f260a7b-f13d-48d9-bba6-963d22827157",
       "rows": [
        [
         "0",
         "2022",
         "2",
         "4",
         "20",
         "3",
         "2022-04-20",
         "WN",
         "WN",
         "19393",
         "WN",
         "136",
         null,
         null,
         null,
         null,
         "WN",
         "19393",
         "WN",
         "N8694E",
         "136",
         "10693",
         "1069302",
         "30693",
         "BNA",
         "Nashville, TN",
         "TN",
         "47",
         "Tennessee",
         "54",
         "13342",
         "1334207",
         "33342",
         "MKE",
         "Milwaukee, WI",
         "WI",
         "55",
         "Wisconsin",
         "45",
         "1015",
         "1014.0",
         "-1.0",
         "0.0",
         "0.0",
         "-1.0",
         "1000-1059",
         "10.0",
         "1024.0",
         "1133.0",
         "3.0",
         "1150",
         "1136.0",
         "-14.0",
         "0.0",
         "0.0",
         "-1.0",
         "1100-1159",
         "0.0",
         null,
         "0.0",
         "95.0",
         "82.0",
         "69.0",
         "1.0",
         "475.0",
         "2",
         null,
         null,
         null,
         null,
         null,
         null,
         null,
         null,
         "0.0",
         null,
         null,
         null,
         null,
         null,
         null,
         null,
         null,
         null,
         null,
         null,
         null,
         null,
         null,
         null,
         null,
         null,
         null,
         null,
         null,
         null,
         null,
         null,
         null,
         null,
         null,
         null,
         null,
         null,
         null,
         null,
         null,
         null,
         null,
         null,
         null,
         null,
         null,
         null,
         null,
         null,
         null,
         null,
         null,
         "N",
         null
        ],
        [
         "1",
         "2022",
         "4",
         "12",
         "25",
         "7",
         "2022-12-25",
         "B6",
         "B6",
         "20409",
         "B6",
         "1130",
         null,
         null,
         null,
         null,
         "B6",
         "20409",
         "B6",
         "N821JB",
         "1130",
         "11697",
         "1169706",
         "32467",
         "FLL",
         "Fort Lauderdale, FL",
         "FL",
         "12",
         "Florida",
         "33",
         "10994",
         "1099402",
         "30994",
         "CHS",
         "Charleston, SC",
         "SC",
         "45",
         "South Carolina",
         "37",
         "2205",
         "2203.0",
         "-2.0",
         "0.0",
         "0.0",
         "-1.0",
         "2200-2259",
         "11.0",
         "2214.0",
         "2320.0",
         "6.0",
         "2340",
         "2326.0",
         "-14.0",
         "0.0",
         "0.0",
         "-1.0",
         "2300-2359",
         "0.0",
         null,
         "0.0",
         "95.0",
         "83.0",
         "66.0",
         "1.0",
         "470.0",
         "2",
         null,
         null,
         null,
         null,
         null,
         null,
         null,
         null,
         "0.0",
         null,
         null,
         null,
         null,
         null,
         null,
         null,
         null,
         null,
         null,
         null,
         null,
         null,
         null,
         null,
         null,
         null,
         null,
         null,
         null,
         null,
         null,
         null,
         null,
         null,
         null,
         null,
         null,
         null,
         null,
         null,
         null,
         null,
         null,
         null,
         null,
         null,
         null,
         null,
         null,
         null,
         null,
         null,
         null,
         "N",
         null
        ],
        [
         "2",
         "2022",
         "4",
         "11",
         "1",
         "2",
         "2022-11-01",
         "AA",
         "AA",
         "19805",
         "AA",
         "642",
         null,
         null,
         null,
         null,
         "AA",
         "19805",
         "AA",
         "N936NN",
         "642",
         "11618",
         "1161802",
         "31703",
         "EWR",
         "Newark, NJ",
         "NJ",
         "34",
         "New Jersey",
         "21",
         "13930",
         "1393008",
         "30977",
         "ORD",
         "Chicago, IL",
         "IL",
         "17",
         "Illinois",
         "41",
         "1727",
         "1714.0",
         "-13.0",
         "0.0",
         "0.0",
         "-1.0",
         "1700-1759",
         "20.0",
         "1734.0",
         "1819.0",
         "16.0",
         "1906",
         "1835.0",
         "-31.0",
         "0.0",
         "0.0",
         "-2.0",
         "1900-1959",
         "0.0",
         null,
         "0.0",
         "159.0",
         "141.0",
         "105.0",
         "1.0",
         "719.0",
         "3",
         null,
         null,
         null,
         null,
         null,
         null,
         null,
         null,
         "0.0",
         null,
         null,
         null,
         null,
         null,
         null,
         null,
         null,
         null,
         null,
         null,
         null,
         null,
         null,
         null,
         null,
         null,
         null,
         null,
         null,
         null,
         null,
         null,
         null,
         null,
         null,
         null,
         null,
         null,
         null,
         null,
         null,
         null,
         null,
         null,
         null,
         null,
         null,
         null,
         null,
         null,
         null,
         null,
         null,
         "N",
         null
        ],
        [
         "3",
         "2022",
         "3",
         "9",
         "27",
         "2",
         "2022-09-27",
         "AA",
         "AA",
         "19805",
         "AA",
         "2834",
         null,
         null,
         null,
         null,
         "AA",
         "19805",
         "AA",
         "N836NN",
         "2834",
         "11298",
         "1129806",
         "30194",
         "DFW",
         "Dallas/Fort Worth, TX",
         "TX",
         "48",
         "Texas",
         "74",
         "14831",
         "1483106",
         "32457",
         "SJC",
         "San Jose, CA",
         "CA",
         "6",
         "California",
         "91",
         "1157",
         "1154.0",
         "-3.0",
         "0.0",
         "0.0",
         "-1.0",
         "1100-1159",
         "12.0",
         "1206.0",
         "1314.0",
         "3.0",
         "1332",
         "1317.0",
         "-15.0",
         "0.0",
         "0.0",
         "-1.0",
         "1300-1359",
         "0.0",
         null,
         "0.0",
         "215.0",
         "203.0",
         "188.0",
         "1.0",
         "1438.0",
         "6",
         null,
         null,
         null,
         null,
         null,
         null,
         null,
         null,
         "0.0",
         null,
         null,
         null,
         null,
         null,
         null,
         null,
         null,
         null,
         null,
         null,
         null,
         null,
         null,
         null,
         null,
         null,
         null,
         null,
         null,
         null,
         null,
         null,
         null,
         null,
         null,
         null,
         null,
         null,
         null,
         null,
         null,
         null,
         null,
         null,
         null,
         null,
         null,
         null,
         null,
         null,
         null,
         null,
         null,
         "N",
         null
        ],
        [
         "4",
         "2022",
         "4",
         "10",
         "13",
         "4",
         "2022-10-13",
         "WN",
         "WN",
         "19393",
         "WN",
         "2419",
         null,
         null,
         null,
         null,
         "WN",
         "19393",
         "WN",
         "N434WN",
         "2419",
         "12889",
         "1288904",
         "32211",
         "LAS",
         "Las Vegas, NV",
         "NV",
         "32",
         "Nevada",
         "85",
         "14747",
         "1474703",
         "30559",
         "SEA",
         "Seattle, WA",
         "WA",
         "53",
         "Washington",
         "93",
         "1340",
         "1340.0",
         "0.0",
         "0.0",
         "0.0",
         "0.0",
         "1300-1359",
         "38.0",
         "1418.0",
         "1620.0",
         "11.0",
         "1630",
         "1631.0",
         "1.0",
         "1.0",
         "0.0",
         "0.0",
         "1600-1659",
         "0.0",
         null,
         "0.0",
         "170.0",
         "171.0",
         "122.0",
         "1.0",
         "867.0",
         "4",
         null,
         null,
         null,
         null,
         null,
         null,
         null,
         null,
         "0.0",
         null,
         null,
         null,
         null,
         null,
         null,
         null,
         null,
         null,
         null,
         null,
         null,
         null,
         null,
         null,
         null,
         null,
         null,
         null,
         null,
         null,
         null,
         null,
         null,
         null,
         null,
         null,
         null,
         null,
         null,
         null,
         null,
         null,
         null,
         null,
         null,
         null,
         null,
         null,
         null,
         null,
         null,
         null,
         null,
         "N",
         null
        ]
       ],
       "shape": {
        "columns": 120,
        "rows": 5
       }
      },
      "text/html": [
       "<div>\n",
       "<style scoped>\n",
       "    .dataframe tbody tr th:only-of-type {\n",
       "        vertical-align: middle;\n",
       "    }\n",
       "\n",
       "    .dataframe tbody tr th {\n",
       "        vertical-align: top;\n",
       "    }\n",
       "\n",
       "    .dataframe thead th {\n",
       "        text-align: right;\n",
       "    }\n",
       "</style>\n",
       "<table border=\"1\" class=\"dataframe\">\n",
       "  <thead>\n",
       "    <tr style=\"text-align: right;\">\n",
       "      <th></th>\n",
       "      <th>Year</th>\n",
       "      <th>Quarter</th>\n",
       "      <th>Month</th>\n",
       "      <th>DayofMonth</th>\n",
       "      <th>DayOfWeek</th>\n",
       "      <th>FlightDate</th>\n",
       "      <th>Marketing_Airline_Network</th>\n",
       "      <th>Operated_or_Branded_Code_Share_Partners</th>\n",
       "      <th>DOT_ID_Marketing_Airline</th>\n",
       "      <th>IATA_Code_Marketing_Airline</th>\n",
       "      <th>...</th>\n",
       "      <th>Div5Airport</th>\n",
       "      <th>Div5AirportID</th>\n",
       "      <th>Div5AirportSeqID</th>\n",
       "      <th>Div5WheelsOn</th>\n",
       "      <th>Div5TotalGTime</th>\n",
       "      <th>Div5LongestGTime</th>\n",
       "      <th>Div5WheelsOff</th>\n",
       "      <th>Div5TailNum</th>\n",
       "      <th>Duplicate</th>\n",
       "      <th>Unnamed: 119</th>\n",
       "    </tr>\n",
       "  </thead>\n",
       "  <tbody>\n",
       "    <tr>\n",
       "      <th>0</th>\n",
       "      <td>2022</td>\n",
       "      <td>2</td>\n",
       "      <td>4</td>\n",
       "      <td>20</td>\n",
       "      <td>3</td>\n",
       "      <td>2022-04-20</td>\n",
       "      <td>WN</td>\n",
       "      <td>WN</td>\n",
       "      <td>19393</td>\n",
       "      <td>WN</td>\n",
       "      <td>...</td>\n",
       "      <td>NaN</td>\n",
       "      <td>NaN</td>\n",
       "      <td>NaN</td>\n",
       "      <td>NaN</td>\n",
       "      <td>NaN</td>\n",
       "      <td>NaN</td>\n",
       "      <td>NaN</td>\n",
       "      <td>NaN</td>\n",
       "      <td>N</td>\n",
       "      <td>NaN</td>\n",
       "    </tr>\n",
       "    <tr>\n",
       "      <th>1</th>\n",
       "      <td>2022</td>\n",
       "      <td>4</td>\n",
       "      <td>12</td>\n",
       "      <td>25</td>\n",
       "      <td>7</td>\n",
       "      <td>2022-12-25</td>\n",
       "      <td>B6</td>\n",
       "      <td>B6</td>\n",
       "      <td>20409</td>\n",
       "      <td>B6</td>\n",
       "      <td>...</td>\n",
       "      <td>NaN</td>\n",
       "      <td>NaN</td>\n",
       "      <td>NaN</td>\n",
       "      <td>NaN</td>\n",
       "      <td>NaN</td>\n",
       "      <td>NaN</td>\n",
       "      <td>NaN</td>\n",
       "      <td>NaN</td>\n",
       "      <td>N</td>\n",
       "      <td>NaN</td>\n",
       "    </tr>\n",
       "    <tr>\n",
       "      <th>2</th>\n",
       "      <td>2022</td>\n",
       "      <td>4</td>\n",
       "      <td>11</td>\n",
       "      <td>1</td>\n",
       "      <td>2</td>\n",
       "      <td>2022-11-01</td>\n",
       "      <td>AA</td>\n",
       "      <td>AA</td>\n",
       "      <td>19805</td>\n",
       "      <td>AA</td>\n",
       "      <td>...</td>\n",
       "      <td>NaN</td>\n",
       "      <td>NaN</td>\n",
       "      <td>NaN</td>\n",
       "      <td>NaN</td>\n",
       "      <td>NaN</td>\n",
       "      <td>NaN</td>\n",
       "      <td>NaN</td>\n",
       "      <td>NaN</td>\n",
       "      <td>N</td>\n",
       "      <td>NaN</td>\n",
       "    </tr>\n",
       "    <tr>\n",
       "      <th>3</th>\n",
       "      <td>2022</td>\n",
       "      <td>3</td>\n",
       "      <td>9</td>\n",
       "      <td>27</td>\n",
       "      <td>2</td>\n",
       "      <td>2022-09-27</td>\n",
       "      <td>AA</td>\n",
       "      <td>AA</td>\n",
       "      <td>19805</td>\n",
       "      <td>AA</td>\n",
       "      <td>...</td>\n",
       "      <td>NaN</td>\n",
       "      <td>NaN</td>\n",
       "      <td>NaN</td>\n",
       "      <td>NaN</td>\n",
       "      <td>NaN</td>\n",
       "      <td>NaN</td>\n",
       "      <td>NaN</td>\n",
       "      <td>NaN</td>\n",
       "      <td>N</td>\n",
       "      <td>NaN</td>\n",
       "    </tr>\n",
       "    <tr>\n",
       "      <th>4</th>\n",
       "      <td>2022</td>\n",
       "      <td>4</td>\n",
       "      <td>10</td>\n",
       "      <td>13</td>\n",
       "      <td>4</td>\n",
       "      <td>2022-10-13</td>\n",
       "      <td>WN</td>\n",
       "      <td>WN</td>\n",
       "      <td>19393</td>\n",
       "      <td>WN</td>\n",
       "      <td>...</td>\n",
       "      <td>NaN</td>\n",
       "      <td>NaN</td>\n",
       "      <td>NaN</td>\n",
       "      <td>NaN</td>\n",
       "      <td>NaN</td>\n",
       "      <td>NaN</td>\n",
       "      <td>NaN</td>\n",
       "      <td>NaN</td>\n",
       "      <td>N</td>\n",
       "      <td>NaN</td>\n",
       "    </tr>\n",
       "  </tbody>\n",
       "</table>\n",
       "<p>5 rows × 120 columns</p>\n",
       "</div>"
      ],
      "text/plain": [
       "   Year  Quarter  Month  DayofMonth  DayOfWeek  FlightDate  \\\n",
       "0  2022        2      4          20          3  2022-04-20   \n",
       "1  2022        4     12          25          7  2022-12-25   \n",
       "2  2022        4     11           1          2  2022-11-01   \n",
       "3  2022        3      9          27          2  2022-09-27   \n",
       "4  2022        4     10          13          4  2022-10-13   \n",
       "\n",
       "  Marketing_Airline_Network Operated_or_Branded_Code_Share_Partners  \\\n",
       "0                        WN                                      WN   \n",
       "1                        B6                                      B6   \n",
       "2                        AA                                      AA   \n",
       "3                        AA                                      AA   \n",
       "4                        WN                                      WN   \n",
       "\n",
       "   DOT_ID_Marketing_Airline IATA_Code_Marketing_Airline  ...  Div5Airport  \\\n",
       "0                     19393                          WN  ...          NaN   \n",
       "1                     20409                          B6  ...          NaN   \n",
       "2                     19805                          AA  ...          NaN   \n",
       "3                     19805                          AA  ...          NaN   \n",
       "4                     19393                          WN  ...          NaN   \n",
       "\n",
       "   Div5AirportID  Div5AirportSeqID  Div5WheelsOn  Div5TotalGTime  \\\n",
       "0            NaN               NaN           NaN             NaN   \n",
       "1            NaN               NaN           NaN             NaN   \n",
       "2            NaN               NaN           NaN             NaN   \n",
       "3            NaN               NaN           NaN             NaN   \n",
       "4            NaN               NaN           NaN             NaN   \n",
       "\n",
       "  Div5LongestGTime  Div5WheelsOff Div5TailNum Duplicate  Unnamed: 119  \n",
       "0              NaN            NaN         NaN         N           NaN  \n",
       "1              NaN            NaN         NaN         N           NaN  \n",
       "2              NaN            NaN         NaN         N           NaN  \n",
       "3              NaN            NaN         NaN         N           NaN  \n",
       "4              NaN            NaN         NaN         N           NaN  \n",
       "\n",
       "[5 rows x 120 columns]"
      ]
     },
     "execution_count": 4,
     "metadata": {},
     "output_type": "execute_result"
    }
   ],
   "source": [
    "import numpy as np\n",
    "import pandas as pd\n",
    "import os\n",
    "from plotnine import *\n",
    "from sklearn.linear_model import LinearRegression\n",
    "import statsmodels.formula.api as smf\n",
    "import matplotlib.pyplot as plt\n",
    "import seaborn as sns\n",
    "\n",
    "# Train-Test-Validation Files\n",
    "train_data_path = r'D:\\Summer Practicum\\1_Data\\training_airlines.csv'\n",
    "#test_data_path = r'D:\\Summer Practicum\\1_Data\\testing.csv'\n",
    "#validation_data_path = r'D:\\Summer Practicum\\1_Data\\validation.csv'\n",
    "\n",
    "df_train = pd.read_csv(train_data_path, low_memory=False)\n",
    "rdw_df = df_train.copy()\n",
    "rdw_df.head()"
   ]
  },
  {
   "cell_type": "markdown",
   "id": "a309a379",
   "metadata": {},
   "source": [
    "# Recurring Delays Windows"
   ]
  },
  {
   "cell_type": "markdown",
   "id": "ba6d943e",
   "metadata": {},
   "source": [
    "## Departures"
   ]
  },
  {
   "cell_type": "code",
   "execution_count": 5,
   "id": "dc665874",
   "metadata": {},
   "outputs": [],
   "source": [
    "# create df for all departures with actual delay (no early arrivals)\n",
    "rdw_depts = rdw_df[rdw_df[\"DepDelay\"]>0].copy()\n",
    "\n",
    "# calculate the mean delay to compare later\n",
    "avg_dept_delay = rdw_df[\"DepDelay\"].mean()\n",
    "\n",
    "# prep data\n",
    "day_map = {1: 'Mon',\n",
    "           2: 'Tue',\n",
    "           3: 'Wed',\n",
    "           4: 'Thu',\n",
    "           5: 'Fri',\n",
    "           6: 'Sat',\n",
    "           7: 'Sun'\n",
    "           }\n",
    "rdw_depts['DayOfWeek'] = rdw_depts['DayOfWeek'].map(day_map)\n",
    "group_cols = ['Operating_Airline ', 'DayOfWeek', 'DepTimeBlk']\n",
    "outbound_grouped = (\n",
    "    rdw_depts\n",
    "    .groupby(group_cols)['DepDelay']\n",
    "    .mean()\n",
    "    .reset_index(name='DelayCount')\n",
    ")\n",
    "\n",
    "# set directory for saving data\n",
    "os.makedirs(\"heatmaps/arrivals\", exist_ok=True)\n",
    "os.makedirs(\"heatmaps/departures\", exist_ok=True)\n",
    "\n",
    "# heatmap by timeblock\n",
    "airlines = outbound_grouped['Operating_Airline '].unique()\n",
    "for airline in airlines:\n",
    "    data = outbound_grouped[outbound_grouped['Operating_Airline '] == airline]\n",
    "    pivot_df = pd.pivot(data=data, index='DepTimeBlk', columns='DayOfWeek', values='DelayCount')\n",
    "    \n",
    "    # Sort columns and rows\n",
    "    pivot_df = pivot_df.reindex(columns=['Mon', 'Tue', 'Wed', 'Thu', 'Fri', 'Sat', 'Sun'])\n",
    "    pivot_df = pivot_df.sort_index()\n",
    "\n",
    "    # generate plot\n",
    "    plt.figure(figsize=(10, 8))\n",
    "    ax = sns.heatmap(pivot_df, cmap='Reds', vmin=0, vmax=120, linewidths=0.3, annot=False)\n",
    "    plt.title(f\"Average Departure Delays for {airline}\")\n",
    "\n",
    "    # Add tick at the weekly average\n",
    "    cbar = ax.collections[0].colorbar\n",
    "    cbar.ax.axhline(avg_dept_delay, color='black', linestyle='-', linewidth=2)\n",
    "    cbar.ax.text(1.05, avg_dept_delay, f'Avg: {avg_dept_delay:.1f} min',\n",
    "                color='black', va='center', ha='left', fontsize=9, transform=cbar.ax.transData)\n",
    "    \n",
    "    # save data and close\n",
    "    filename = f\"heatmaps/departures/{airline}_delay_data.csv\"\n",
    "    data.to_csv(filename, index=False)\n",
    "    hmfilename = f\"heatmaps/departures/{airline}_heatmap.png\"\n",
    "    plt.savefig(hmfilename, dpi=300)\n",
    "    plt.close()\n"
   ]
  },
  {
   "cell_type": "markdown",
   "id": "51b9878d",
   "metadata": {},
   "source": [
    "## Arrivals"
   ]
  },
  {
   "cell_type": "code",
   "execution_count": 6,
   "id": "99c46624",
   "metadata": {},
   "outputs": [],
   "source": [
    "# create df for all arrivals with actual delay (no early arrivals)\n",
    "rdw_arrs = rdw_df[rdw_df[\"ArrDelay\"]>0].copy()\n",
    "\n",
    "# calculate the mean delay to compare later\n",
    "avg_arr_delay = rdw_df[\"ArrDelay\"].mean()\n",
    "\n",
    "# prep data\n",
    "day_map = {1: 'Mon',\n",
    "           2: 'Tue',\n",
    "           3: 'Wed',\n",
    "           4: 'Thu',\n",
    "           5: 'Fri',\n",
    "           6: 'Sat',\n",
    "           7: 'Sun'\n",
    "           }\n",
    "rdw_arrs['DayOfWeek'] = rdw_arrs['DayOfWeek'].map(day_map)\n",
    "group_cols = ['Operating_Airline ', 'DayOfWeek', 'ArrTimeBlk']\n",
    "outbound_grouped = (\n",
    "    rdw_arrs\n",
    "    .groupby(group_cols)['ArrDelay']\n",
    "    .mean()\n",
    "    .reset_index(name='DelayCount')\n",
    ")\n",
    "\n",
    "# heatmap by timeblock\n",
    "airlines = outbound_grouped['Operating_Airline '].unique()\n",
    "for airline in airlines:\n",
    "    data = outbound_grouped[outbound_grouped['Operating_Airline '] == airline]\n",
    "    pivot_df = pd.pivot(data=data, index='ArrTimeBlk', columns='DayOfWeek', values='DelayCount')\n",
    "    \n",
    "    # Sort columns and rows\n",
    "    pivot_df = pivot_df.reindex(columns=['Mon', 'Tue', 'Wed', 'Thu', 'Fri', 'Sat', 'Sun'])\n",
    "    pivot_df = pivot_df.sort_index()\n",
    "\n",
    "    plt.figure(figsize=(10, 8))\n",
    "    ax = sns.heatmap(pivot_df, cmap='Reds', vmin=0, vmax=120, linewidths=0.3, annot=False)\n",
    "    plt.title(f\"Average Arrivals Delays for {airline}\")\n",
    "    \n",
    "\n",
    "    # Add tick at the weekly average\n",
    "    cbar = ax.collections[0].colorbar\n",
    "    cbar.ax.axhline(avg_arr_delay, color='black', linestyle='-', linewidth=2)\n",
    "    cbar.ax.text(1.05, avg_arr_delay, f'Avg: {avg_arr_delay:.1f} min',\n",
    "                color='black', va='center', ha='left', fontsize=9, transform=cbar.ax.transData)\n",
    "\n",
    "    # save data and close\n",
    "    filename = f\"heatmaps/arrivals/{airline}_delay_data.csv\"\n",
    "    data.to_csv(filename, index=False)\n",
    "    hmfilename = f\"heatmaps/arrivals/{airline}_heatmap.png\"\n",
    "    plt.savefig(hmfilename, dpi=300)\n",
    "    plt.close()"
   ]
  },
  {
   "cell_type": "markdown",
   "id": "b8b66c43",
   "metadata": {},
   "source": [
    "# Arrival Delays by Flight Route"
   ]
  },
  {
   "cell_type": "markdown",
   "id": "1c116045",
   "metadata": {},
   "source": [
    "## Data Staging"
   ]
  },
  {
   "cell_type": "markdown",
   "id": "b00c1652",
   "metadata": {},
   "source": [
    "### Internal"
   ]
  },
  {
   "cell_type": "code",
   "execution_count": null,
   "id": "88358152",
   "metadata": {},
   "outputs": [],
   "source": [
    "# create a tuple for all airports origin/destination pairs (we don't mind which direction the flight is heading)\n",
    "rdw_df['AIRPORT_PAIR'] = rdw_df.apply(lambda x: '-'.join(sorted([x['Origin'], x['Dest']])), axis=1)"
   ]
  },
  {
   "cell_type": "code",
   "execution_count": 1,
   "id": "c8b2e8d2",
   "metadata": {},
   "outputs": [
    {
     "ename": "NameError",
     "evalue": "name 'rdw_df' is not defined",
     "output_type": "error",
     "traceback": [
      "\u001b[31m---------------------------------------------------------------------------\u001b[39m",
      "\u001b[31mNameError\u001b[39m                                 Traceback (most recent call last)",
      "\u001b[36mCell\u001b[39m\u001b[36m \u001b[39m\u001b[32mIn[1]\u001b[39m\u001b[32m, line 2\u001b[39m\n\u001b[32m      1\u001b[39m \u001b[38;5;66;03m# create aggregated dataframe for the map\u001b[39;00m\n\u001b[32m----> \u001b[39m\u001b[32m2\u001b[39m agg_df = rdw_df[rdw_df[\u001b[33m'\u001b[39m\u001b[33mArrDelay\u001b[39m\u001b[33m'\u001b[39m] > \u001b[32m0\u001b[39m].groupby(\u001b[33m'\u001b[39m\u001b[33mAIRPORT_PAIR\u001b[39m\u001b[33m'\u001b[39m).agg(\n\u001b[32m      3\u001b[39m     avg_delay=(\u001b[33m'\u001b[39m\u001b[33mArrDelay\u001b[39m\u001b[33m'\u001b[39m, \u001b[33m'\u001b[39m\u001b[33mmean\u001b[39m\u001b[33m'\u001b[39m),\n\u001b[32m      4\u001b[39m     median_delay=(\u001b[33m'\u001b[39m\u001b[33mArrDelay\u001b[39m\u001b[33m'\u001b[39m, \u001b[33m'\u001b[39m\u001b[33mmedian\u001b[39m\u001b[33m'\u001b[39m),\n\u001b[32m      5\u001b[39m     total_delay=(\u001b[33m'\u001b[39m\u001b[33mArrDelay\u001b[39m\u001b[33m'\u001b[39m, \u001b[33m'\u001b[39m\u001b[33msum\u001b[39m\u001b[33m'\u001b[39m),\n\u001b[32m      6\u001b[39m     num_flights=(\u001b[33m'\u001b[39m\u001b[33mArrDelay\u001b[39m\u001b[33m'\u001b[39m, \u001b[33m'\u001b[39m\u001b[33mcount\u001b[39m\u001b[33m'\u001b[39m),\n\u001b[32m      7\u001b[39m ).reset_index()\n\u001b[32m      9\u001b[39m \u001b[38;5;66;03m# Optional: filter for routes with a significant number of flights\u001b[39;00m\n\u001b[32m     10\u001b[39m agg_df = agg_df[agg_df[\u001b[33m'\u001b[39m\u001b[33mnum_flights\u001b[39m\u001b[33m'\u001b[39m] >= \u001b[32m10\u001b[39m]\n",
      "\u001b[31mNameError\u001b[39m: name 'rdw_df' is not defined"
     ]
    }
   ],
   "source": [
    "# create aggregated dataframe for the map\n",
    "agg_df = rdw_df[rdw_df['ArrDelay'] > 0].groupby('AIRPORT_PAIR').agg(\n",
    "    avg_delay=('ArrDelay', 'mean'),\n",
    "    median_delay=('ArrDelay', 'median'),\n",
    "    total_delay=('ArrDelay', 'sum'),\n",
    "    num_flights=('ArrDelay', 'count'),\n",
    ").reset_index()\n",
    "\n",
    "# Optional: filter for routes with a significant number of flights\n",
    "agg_df = agg_df[agg_df['num_flights'] >= 10]\n",
    "\n",
    "\n",
    "# Get one DistanceGroup per AIRPORT_PAIR\n",
    "pair_to_group = rdw_df[['AIRPORT_PAIR', 'DistanceGroup']].drop_duplicates(subset='AIRPORT_PAIR') # Get first occurrence - I checked and there's no variability at all so it's safe\n",
    "agg_df = agg_df.merge(pair_to_group, on='AIRPORT_PAIR', how='left') # Merge with agg_df\n",
    "\n",
    "# Normalize delay by distance, using distance groups (every 250 miles) \n",
    "    # need to consider if we want groups or just miles\n",
    "agg_df['norm_delay'] = agg_df['avg_delay'] / agg_df['DistanceGroup'].astype(float)\n",
    "\n",
    "# Optional: filter for n-worst routes to avoid over-cluttering the map\n",
    "n_filter = 10\n",
    "top_df = agg_df.sort_values('norm_delay', ascending=False).head(n_filter).copy()\n",
    "\n",
    "# Normalize values to [0,1] within top-N (combats skewness that messes up the color gradiant)\n",
    "min_nd = top_df['norm_delay'].min()\n",
    "max_nd = top_df['norm_delay'].max()\n",
    "top_df['norm_scaled'] = (top_df['norm_delay'] - min_nd) / (max_nd - min_nd)\n"
   ]
  },
  {
   "cell_type": "markdown",
   "id": "12ce0d78",
   "metadata": {},
   "source": [
    "### External"
   ]
  },
  {
   "cell_type": "code",
   "execution_count": 78,
   "id": "1907d87e",
   "metadata": {},
   "outputs": [],
   "source": [
    "# set up column headers because OpenFlights doesn't have them\n",
    "columns = [\n",
    "    'AirportID', 'Name', 'City', 'Country',\n",
    "    'IATA', 'ICAO', 'Latitude', 'Longitude',\n",
    "    'Altitude', 'Timezone', 'DST', 'TzDatabaseTimeZone',\n",
    "    'Type', 'Source'\n",
    "]\n",
    "\n",
    "# Get coordinates from public OpenFlightd DB and remove duplicates (\"N/A\" is duplicated, causing indexing errors)\n",
    "of_airports = pd.read_csv(r'https://raw.githubusercontent.com/jpatokal/openflights/master/data/airports.dat', header=None, names=columns)\n",
    "of_airports = of_airports[of_airports['IATA'].notna() & (of_airports['IATA'] != '\\\\N')]\n",
    "\n",
    "airport_coords = of_airports.set_index('IATA')[['Latitude', 'Longitude']].to_dict('index')\n",
    "airport_coords['IFP'] = {'Latitude': 35.1574, 'Longitude': -114.5596} # manually add Laughlin/Bullhead, AZ - it is missing from the OpenFlights DB"
   ]
  },
  {
   "cell_type": "code",
   "execution_count": 79,
   "id": "6397ff9b",
   "metadata": {},
   "outputs": [],
   "source": [
    "# split each route into origin and destination coordinates\n",
    "top_df[['AIRPORT1', 'AIRPORT2']] = top_df['AIRPORT_PAIR'].str.split('-', expand=True)\n",
    "top_df['LAT1'] = top_df['AIRPORT1'].map(lambda x: airport_coords.get(x, {}).get('Latitude'))\n",
    "top_df['LON1'] = top_df['AIRPORT1'].map(lambda x: airport_coords.get(x, {}).get('Longitude'))\n",
    "top_df['LAT2'] = top_df['AIRPORT2'].map(lambda x: airport_coords.get(x, {}).get('Latitude'))\n",
    "top_df['LON2'] = top_df['AIRPORT2'].map(lambda x: airport_coords.get(x, {}).get('Longitude'))"
   ]
  },
  {
   "cell_type": "markdown",
   "id": "f2e8db52",
   "metadata": {},
   "source": [
    "## Map Generating"
   ]
  },
  {
   "cell_type": "code",
   "execution_count": 106,
   "id": "8556b4ea",
   "metadata": {},
   "outputs": [
    {
     "data": {
      "application/vnd.plotly.v1+json": {
       "config": {
        "plotlyServerURL": "https://plot.ly"
       },
       "data": [
        {
         "hoverinfo": "text",
         "lat": [
          44.882,
          43.90829849243164
         ],
         "line": {
          "color": "rgba(128, 0, 38, 0.8)",
          "width": 3.2680851063829786
         },
         "locationmode": "USA-states",
         "lon": [
          -93.221802,
          -92.5
         ],
         "mode": "lines",
         "name": "MSP-RST",
         "opacity": 0.8,
         "text": "Route: MSP-RST<br>Avg Delay: 83.0 min<br>Flights: 47",
         "type": "scattergeo"
        },
        {
         "hoverinfo": "text",
         "lat": [
          44.882,
          44.773810943603515,
          44.66562188720703,
          44.55743283081055,
          44.449243774414064,
          44.341054718017574,
          44.23286566162109,
          44.12467660522461,
          44.016487548828124,
          43.90829849243164
         ],
         "locationmode": "USA-states",
         "lon": [
          -93.221802,
          -93.14160177777778,
          -93.06140155555555,
          -92.98120133333333,
          -92.90100111111111,
          -92.82080088888888,
          -92.74060066666667,
          -92.66040044444445,
          -92.58020022222222,
          -92.5
         ],
         "marker": {
          "color": "rgba(128, 0, 38, 0.8)",
          "opacity": 0.001,
          "size": 3
         },
         "mode": "markers",
         "showlegend": false,
         "text": "Route: MSP-RST<br>Avg Delay: 83.0 min<br>Flights: 47",
         "type": "scattergeo"
        },
        {
         "hoverinfo": "skip",
         "lat": [
          45.00539929393761
         ],
         "locationmode": "USA-states",
         "lon": [
          -93.221802
         ],
         "mode": "text",
         "showlegend": false,
         "text": [
          "MSP-RST"
         ],
         "textfont": {
          "color": "black",
          "size": 12
         },
         "type": "scattergeo"
        },
        {
         "hoverinfo": "text",
         "lat": [
          44.48509979248047,
          41.9786
         ],
         "line": {
          "color": "rgba(136, 0, 38, 0.8)",
          "width": 3.2549019607843137
         },
         "locationmode": "USA-states",
         "lon": [
          -88.12960052490234,
          -87.9048
         ],
         "mode": "lines",
         "name": "GRB-ORD",
         "opacity": 0.8,
         "text": "Route: GRB-ORD<br>Avg Delay: 82.6 min<br>Flights: 17",
         "type": "scattergeo"
        },
        {
         "hoverinfo": "text",
         "lat": [
          44.48509979248047,
          44.2065998155382,
          43.92809983859592,
          43.64959986165365,
          43.37109988471137,
          43.0925999077691,
          42.81409993082682,
          42.53559995388455,
          42.25709997694227,
          41.9786
         ],
         "locationmode": "USA-states",
         "lon": [
          -88.12960052490234,
          -88.10462268880208,
          -88.07964485270182,
          -88.05466701660156,
          -88.0296891805013,
          -88.00471134440104,
          -87.97973350830078,
          -87.95475567220052,
          -87.92977783610026,
          -87.9048
         ],
         "marker": {
          "color": "rgba(136, 0, 38, 0.8)",
          "opacity": 0.001,
          "size": 3
         },
         "mode": "markers",
         "showlegend": false,
         "text": "Route: GRB-ORD<br>Avg Delay: 82.6 min<br>Flights: 17",
         "type": "scattergeo"
        },
        {
         "hoverinfo": "skip",
         "lat": [
          41.80307059500324
         ],
         "locationmode": "USA-states",
         "lon": [
          -87.9048
         ],
         "mode": "text",
         "showlegend": false,
         "text": [
          "GRB-ORD"
         ],
         "textfont": {
          "color": "black",
          "size": 12
         },
         "type": "scattergeo"
        },
        {
         "hoverinfo": "text",
         "lat": [
          24.556100845336918,
          27.91020012
         ],
         "line": {
          "color": "rgba(162, 0, 38, 0.8)",
          "width": 3.21358024691358
         },
         "locationmode": "USA-states",
         "lon": [
          -81.75959777832031,
          -82.68740082
         ],
         "mode": "lines",
         "name": "EYW-PIE",
         "opacity": 0.8,
         "text": "Route: EYW-PIE<br>Avg Delay: 81.4 min<br>Flights: 27",
         "type": "scattergeo"
        },
        {
         "hoverinfo": "text",
         "lat": [
          24.556100845336918,
          24.928778542521705,
          25.301456239706493,
          25.674133936891277,
          26.046811634076064,
          26.419489331260852,
          26.79216702844564,
          27.164844725630424,
          27.53752242281521,
          27.91020012
         ],
         "locationmode": "USA-states",
         "lon": [
          -81.75959777832031,
          -81.86268700517361,
          -81.96577623202691,
          -82.06886545888021,
          -82.17195468573351,
          -82.2750439125868,
          -82.3781331394401,
          -82.4812223662934,
          -82.5843115931467,
          -82.68740082
         ],
         "marker": {
          "color": "rgba(162, 0, 38, 0.8)",
          "opacity": 0.001,
          "size": 3
         },
         "mode": "markers",
         "showlegend": false,
         "text": "Route: EYW-PIE<br>Avg Delay: 81.4 min<br>Flights: 27",
         "type": "scattergeo"
        },
        {
         "hoverinfo": "skip",
         "lat": [
          24.894085286219145
         ],
         "locationmode": "USA-states",
         "lon": [
          -81.75959777832031
         ],
         "mode": "text",
         "showlegend": false,
         "text": [
          "EYW-PIE"
         ],
         "textfont": {
          "color": "black",
          "size": 12
         },
         "type": "scattergeo"
        },
        {
         "hoverinfo": "text",
         "lat": [
          38.8521,
          40.63980103
         ],
         "line": {
          "color": "rgba(168, 0, 38, 0.8)",
          "width": 3.202380952380952
         },
         "locationmode": "USA-states",
         "lon": [
          -77.037697,
          -73.77890015
         ],
         "mode": "lines",
         "name": "DCA-JFK",
         "opacity": 0.8,
         "text": "Route: DCA-JFK<br>Avg Delay: 81.1 min<br>Flights: 14",
         "type": "scattergeo"
        },
        {
         "hoverinfo": "text",
         "lat": [
          38.8521,
          39.05073344777778,
          39.24936689555555,
          39.448000343333334,
          39.646633791111114,
          39.84526723888889,
          40.04390068666667,
          40.24253413444445,
          40.44116758222222,
          40.63980103
         ],
         "locationmode": "USA-states",
         "lon": [
          -77.037697,
          -76.67560846111111,
          -76.31351992222221,
          -75.95143138333333,
          -75.58934284444445,
          -75.22725430555555,
          -74.86516576666666,
          -74.50307722777778,
          -74.14098868888888,
          -73.77890015
         ],
         "marker": {
          "color": "rgba(168, 0, 38, 0.8)",
          "opacity": 0.001,
          "size": 3
         },
         "mode": "markers",
         "showlegend": false,
         "text": "Route: DCA-JFK<br>Avg Delay: 81.1 min<br>Flights: 14",
         "type": "scattergeo"
        },
        {
         "hoverinfo": "skip",
         "lat": [
          40.633242024433606
         ],
         "locationmode": "USA-states",
         "lon": [
          -73.77890015
         ],
         "mode": "text",
         "showlegend": false,
         "text": [
          "DCA-JFK"
         ],
         "textfont": {
          "color": "black",
          "size": 12
         },
         "type": "scattergeo"
        },
        {
         "hoverinfo": "text",
         "lat": [
          46.92070007324219,
          44.882
         ],
         "line": {
          "color": "rgba(254, 186, 85, 0.8)",
          "width": 2.76969696969697
         },
         "locationmode": "USA-states",
         "lon": [
          -96.81580352783205,
          -93.221802
         ],
         "mode": "lines",
         "name": "FAR-MSP",
         "opacity": 0.8,
         "text": "Route: FAR-MSP<br>Avg Delay: 68.1 min<br>Flights: 154",
         "type": "scattergeo"
        },
        {
         "hoverinfo": "text",
         "lat": [
          46.92070007324219,
          46.69417784288194,
          46.4676556125217,
          46.24113338216146,
          46.01461115180121,
          45.78808892144097,
          45.56156669108073,
          45.33504446072048,
          45.108522230360244,
          44.882
         ],
         "locationmode": "USA-states",
         "lon": [
          -96.81580352783205,
          -96.4164700247396,
          -96.01713652164715,
          -95.6178030185547,
          -95.21846951546225,
          -94.8191360123698,
          -94.41980250927735,
          -94.0204690061849,
          -93.62113550309245,
          -93.221802
         ],
         "marker": {
          "color": "rgba(254, 186, 85, 0.8)",
          "opacity": 0.001,
          "size": 3
         },
         "mode": "markers",
         "showlegend": false,
         "text": "Route: FAR-MSP<br>Avg Delay: 68.1 min<br>Flights: 154",
         "type": "scattergeo"
        },
        {
         "hoverinfo": "skip",
         "lat": [
          47.20084796775634
         ],
         "locationmode": "USA-states",
         "lon": [
          -96.81580352783205
         ],
         "mode": "text",
         "showlegend": false,
         "text": [
          "FAR-MSP"
         ],
         "textfont": {
          "color": "black",
          "size": 12
         },
         "type": "scattergeo"
        },
        {
         "hoverinfo": "text",
         "lat": [
          36.1245002746582,
          40.91609954833984
         ],
         "line": {
          "color": "rgba(254, 190, 89, 0.8)",
          "width": 5.021212121212121
         },
         "locationmode": "USA-states",
         "lon": [
          -86.6781997680664,
          -81.44219970703125
         ],
         "mode": "lines",
         "name": "BNA-CAK",
         "opacity": 0.8,
         "text": "Route: BNA-CAK<br>Avg Delay: 135.6 min<br>Flights: 11",
         "type": "scattergeo"
        },
        {
         "hoverinfo": "text",
         "lat": [
          36.1245002746582,
          36.65690019395616,
          37.18930011325412,
          37.72170003255208,
          38.25409995185004,
          38.786499871148,
          39.31889979044596,
          39.85129970974392,
          40.38369962904188,
          40.91609954833984
         ],
         "locationmode": "USA-states",
         "lon": [
          -86.6781997680664,
          -86.09642198350694,
          -85.51464419894748,
          -84.93286641438802,
          -84.35108862982855,
          -83.7693108452691,
          -83.18753306070964,
          -82.60575527615018,
          -82.02397749159071,
          -81.44219970703125
         ],
         "marker": {
          "color": "rgba(254, 190, 89, 0.8)",
          "opacity": 0.001,
          "size": 3
         },
         "mode": "markers",
         "showlegend": false,
         "text": "Route: BNA-CAK<br>Avg Delay: 135.6 min<br>Flights: 11",
         "type": "scattergeo"
        },
        {
         "hoverinfo": "skip",
         "lat": [
          40.74394147832606
         ],
         "locationmode": "USA-states",
         "lon": [
          -81.44219970703125
         ],
         "mode": "text",
         "showlegend": false,
         "text": [
          "BNA-CAK"
         ],
         "textfont": {
          "color": "black",
          "size": 12
         },
         "type": "scattergeo"
        },
        {
         "hoverinfo": "text",
         "lat": [
          35.2140007019043,
          35.81100082
         ],
         "line": {
          "color": "rgba(254, 226, 137, 0.8)",
          "width": 2.650438596491228
         },
         "locationmode": "USA-states",
         "lon": [
          -80.94309997558594,
          -83.9940033
         ],
         "mode": "lines",
         "name": "CLT-TYS",
         "opacity": 0.8,
         "text": "Route: CLT-TYS<br>Avg Delay: 64.5 min<br>Flights: 152",
         "type": "scattergeo"
        },
        {
         "hoverinfo": "text",
         "lat": [
          35.2140007019043,
          35.28033404835937,
          35.34666739481445,
          35.41300074126953,
          35.47933408772461,
          35.545667434179684,
          35.612000780634766,
          35.67833412708984,
          35.74466747354492,
          35.81100082
         ],
         "locationmode": "USA-states",
         "lon": [
          -80.94309997558594,
          -81.28208923385417,
          -81.6210784921224,
          -81.96006775039062,
          -82.29905700865885,
          -82.63804626692709,
          -82.97703552519532,
          -83.31602478346355,
          -83.65501404173177,
          -83.9940033
         ],
         "marker": {
          "color": "rgba(254, 226, 137, 0.8)",
          "opacity": 0.001,
          "size": 3
         },
         "mode": "markers",
         "showlegend": false,
         "text": "Route: CLT-TYS<br>Avg Delay: 64.5 min<br>Flights: 152",
         "type": "scattergeo"
        },
        {
         "hoverinfo": "skip",
         "lat": [
          35.40492094404415
         ],
         "locationmode": "USA-states",
         "lon": [
          -80.94309997558594
         ],
         "mode": "text",
         "showlegend": false,
         "text": [
          "CLT-TYS"
         ],
         "textfont": {
          "color": "black",
          "size": 12
         },
         "type": "scattergeo"
        },
        {
         "hoverinfo": "text",
         "lat": [
          43.514599,
          40.78839874267578
         ],
         "line": {
          "color": "rgba(255, 232, 149, 0.8)",
          "width": 2.6231372549019607
         },
         "locationmode": "USA-states",
         "lon": [
          -112.070999,
          -111.97799682617188
         ],
         "mode": "lines",
         "name": "IDA-SLC",
         "opacity": 0.8,
         "text": "Route: IDA-SLC<br>Avg Delay: 63.7 min<br>Flights: 85",
         "type": "scattergeo"
        },
        {
         "hoverinfo": "text",
         "lat": [
          43.514599,
          43.2116878602973,
          42.90877672059462,
          42.60586558089192,
          42.302954441189236,
          42.00004330148654,
          41.697132161783856,
          41.39422102208116,
          41.091309882378475,
          40.78839874267578
         ],
         "locationmode": "USA-states",
         "lon": [
          -112.070999,
          -112.06066542513021,
          -112.05033185026042,
          -112.03999827539063,
          -112.02966470052084,
          -112.01933112565104,
          -112.00899755078125,
          -111.99866397591146,
          -111.98833040104167,
          -111.97799682617188
         ],
         "marker": {
          "color": "rgba(255, 232, 149, 0.8)",
          "opacity": 0.001,
          "size": 3
         },
         "mode": "markers",
         "showlegend": false,
         "text": "Route: IDA-SLC<br>Avg Delay: 63.7 min<br>Flights: 85",
         "type": "scattergeo"
        },
        {
         "hoverinfo": "skip",
         "lat": [
          40.61986578078774
         ],
         "locationmode": "USA-states",
         "lon": [
          -111.97799682617188
         ],
         "mode": "text",
         "showlegend": false,
         "text": [
          "IDA-SLC"
         ],
         "textfont": {
          "color": "black",
          "size": 12
         },
         "type": "scattergeo"
        },
        {
         "hoverinfo": "text",
         "lat": [
          41.25310135,
          42.36429977
         ],
         "line": {
          "color": "rgba(255, 236, 159, 0.8)",
          "width": 2.6016666666666666
         },
         "locationmode": "USA-states",
         "lon": [
          -70.06020355,
          -71.00520325
         ],
         "mode": "lines",
         "name": "ACK-BOS",
         "opacity": 0.8,
         "text": "Route: ACK-BOS<br>Avg Delay: 63.0 min<br>Flights: 80",
         "type": "scattergeo"
        },
        {
         "hoverinfo": "text",
         "lat": [
          41.25310135,
          41.37656784111111,
          41.50003433222222,
          41.62350082333334,
          41.74696731444445,
          41.87043380555556,
          41.993900296666666,
          42.11736678777778,
          42.24083327888889,
          42.36429977
         ],
         "locationmode": "USA-states",
         "lon": [
          -70.06020355,
          -70.16520351666666,
          -70.27020348333333,
          -70.37520345,
          -70.48020341666667,
          -70.58520338333332,
          -70.69020334999999,
          -70.79520331666666,
          -70.90020328333333,
          -71.00520325
         ],
         "marker": {
          "color": "rgba(255, 236, 159, 0.8)",
          "opacity": 0.001,
          "size": 3
         },
         "mode": "markers",
         "showlegend": false,
         "text": "Route: ACK-BOS<br>Avg Delay: 63.0 min<br>Flights: 80",
         "type": "scattergeo"
        },
        {
         "hoverinfo": "skip",
         "lat": [
          41.54822355766038
         ],
         "locationmode": "USA-states",
         "lon": [
          -70.06020355
         ],
         "mode": "text",
         "showlegend": false,
         "text": [
          "ACK-BOS"
         ],
         "textfont": {
          "color": "black",
          "size": 12
         },
         "type": "scattergeo"
        },
        {
         "hoverinfo": "text",
         "lat": [
          38.8521,
          40.77719879
         ],
         "line": {
          "color": "rgba(255, 255, 204, 0.8)",
          "width": 2.5024449421425907
         },
         "locationmode": "USA-states",
         "lon": [
          -77.037697,
          -73.87259674
         ],
         "mode": "lines",
         "name": "DCA-LGA",
         "opacity": 0.8,
         "text": "Route: DCA-LGA<br>Avg Delay: 60.1 min<br>Flights: 1786",
         "type": "scattergeo"
        },
        {
         "hoverinfo": "text",
         "lat": [
          38.8521,
          39.065999865555554,
          39.27989973111111,
          39.49379959666667,
          39.70769946222222,
          39.92159932777778,
          40.13549919333333,
          40.34939905888889,
          40.563298924444446,
          40.77719879
         ],
         "locationmode": "USA-states",
         "lon": [
          -77.037697,
          -76.68601919333332,
          -76.33434138666667,
          -75.98266358,
          -75.63098577333334,
          -75.27930796666666,
          -74.92763016,
          -74.57595235333334,
          -74.22427454666668,
          -73.87259674
         ],
         "marker": {
          "color": "rgba(255, 255, 204, 0.8)",
          "opacity": 0.001,
          "size": 3
         },
         "mode": "markers",
         "showlegend": false,
         "text": "Route: DCA-LGA<br>Avg Delay: 60.1 min<br>Flights: 1786",
         "type": "scattergeo"
        },
        {
         "hoverinfo": "skip",
         "lat": [
          40.58132649813987
         ],
         "locationmode": "USA-states",
         "lon": [
          -73.87259674
         ],
         "mode": "text",
         "showlegend": false,
         "text": [
          "DCA-LGA"
         ],
         "textfont": {
          "color": "black",
          "size": 12
         },
         "type": "scattergeo"
        }
       ],
       "layout": {
        "geo": {
         "projection": {
          "type": "albers usa"
         },
         "scope": "usa",
         "showland": true
        },
        "showlegend": true,
        "template": {
         "data": {
          "bar": [
           {
            "error_x": {
             "color": "#2a3f5f"
            },
            "error_y": {
             "color": "#2a3f5f"
            },
            "marker": {
             "line": {
              "color": "#E5ECF6",
              "width": 0.5
             },
             "pattern": {
              "fillmode": "overlay",
              "size": 10,
              "solidity": 0.2
             }
            },
            "type": "bar"
           }
          ],
          "barpolar": [
           {
            "marker": {
             "line": {
              "color": "#E5ECF6",
              "width": 0.5
             },
             "pattern": {
              "fillmode": "overlay",
              "size": 10,
              "solidity": 0.2
             }
            },
            "type": "barpolar"
           }
          ],
          "carpet": [
           {
            "aaxis": {
             "endlinecolor": "#2a3f5f",
             "gridcolor": "white",
             "linecolor": "white",
             "minorgridcolor": "white",
             "startlinecolor": "#2a3f5f"
            },
            "baxis": {
             "endlinecolor": "#2a3f5f",
             "gridcolor": "white",
             "linecolor": "white",
             "minorgridcolor": "white",
             "startlinecolor": "#2a3f5f"
            },
            "type": "carpet"
           }
          ],
          "choropleth": [
           {
            "colorbar": {
             "outlinewidth": 0,
             "ticks": ""
            },
            "type": "choropleth"
           }
          ],
          "contour": [
           {
            "colorbar": {
             "outlinewidth": 0,
             "ticks": ""
            },
            "colorscale": [
             [
              0,
              "#0d0887"
             ],
             [
              0.1111111111111111,
              "#46039f"
             ],
             [
              0.2222222222222222,
              "#7201a8"
             ],
             [
              0.3333333333333333,
              "#9c179e"
             ],
             [
              0.4444444444444444,
              "#bd3786"
             ],
             [
              0.5555555555555556,
              "#d8576b"
             ],
             [
              0.6666666666666666,
              "#ed7953"
             ],
             [
              0.7777777777777778,
              "#fb9f3a"
             ],
             [
              0.8888888888888888,
              "#fdca26"
             ],
             [
              1,
              "#f0f921"
             ]
            ],
            "type": "contour"
           }
          ],
          "contourcarpet": [
           {
            "colorbar": {
             "outlinewidth": 0,
             "ticks": ""
            },
            "type": "contourcarpet"
           }
          ],
          "heatmap": [
           {
            "colorbar": {
             "outlinewidth": 0,
             "ticks": ""
            },
            "colorscale": [
             [
              0,
              "#0d0887"
             ],
             [
              0.1111111111111111,
              "#46039f"
             ],
             [
              0.2222222222222222,
              "#7201a8"
             ],
             [
              0.3333333333333333,
              "#9c179e"
             ],
             [
              0.4444444444444444,
              "#bd3786"
             ],
             [
              0.5555555555555556,
              "#d8576b"
             ],
             [
              0.6666666666666666,
              "#ed7953"
             ],
             [
              0.7777777777777778,
              "#fb9f3a"
             ],
             [
              0.8888888888888888,
              "#fdca26"
             ],
             [
              1,
              "#f0f921"
             ]
            ],
            "type": "heatmap"
           }
          ],
          "histogram": [
           {
            "marker": {
             "pattern": {
              "fillmode": "overlay",
              "size": 10,
              "solidity": 0.2
             }
            },
            "type": "histogram"
           }
          ],
          "histogram2d": [
           {
            "colorbar": {
             "outlinewidth": 0,
             "ticks": ""
            },
            "colorscale": [
             [
              0,
              "#0d0887"
             ],
             [
              0.1111111111111111,
              "#46039f"
             ],
             [
              0.2222222222222222,
              "#7201a8"
             ],
             [
              0.3333333333333333,
              "#9c179e"
             ],
             [
              0.4444444444444444,
              "#bd3786"
             ],
             [
              0.5555555555555556,
              "#d8576b"
             ],
             [
              0.6666666666666666,
              "#ed7953"
             ],
             [
              0.7777777777777778,
              "#fb9f3a"
             ],
             [
              0.8888888888888888,
              "#fdca26"
             ],
             [
              1,
              "#f0f921"
             ]
            ],
            "type": "histogram2d"
           }
          ],
          "histogram2dcontour": [
           {
            "colorbar": {
             "outlinewidth": 0,
             "ticks": ""
            },
            "colorscale": [
             [
              0,
              "#0d0887"
             ],
             [
              0.1111111111111111,
              "#46039f"
             ],
             [
              0.2222222222222222,
              "#7201a8"
             ],
             [
              0.3333333333333333,
              "#9c179e"
             ],
             [
              0.4444444444444444,
              "#bd3786"
             ],
             [
              0.5555555555555556,
              "#d8576b"
             ],
             [
              0.6666666666666666,
              "#ed7953"
             ],
             [
              0.7777777777777778,
              "#fb9f3a"
             ],
             [
              0.8888888888888888,
              "#fdca26"
             ],
             [
              1,
              "#f0f921"
             ]
            ],
            "type": "histogram2dcontour"
           }
          ],
          "mesh3d": [
           {
            "colorbar": {
             "outlinewidth": 0,
             "ticks": ""
            },
            "type": "mesh3d"
           }
          ],
          "parcoords": [
           {
            "line": {
             "colorbar": {
              "outlinewidth": 0,
              "ticks": ""
             }
            },
            "type": "parcoords"
           }
          ],
          "pie": [
           {
            "automargin": true,
            "type": "pie"
           }
          ],
          "scatter": [
           {
            "fillpattern": {
             "fillmode": "overlay",
             "size": 10,
             "solidity": 0.2
            },
            "type": "scatter"
           }
          ],
          "scatter3d": [
           {
            "line": {
             "colorbar": {
              "outlinewidth": 0,
              "ticks": ""
             }
            },
            "marker": {
             "colorbar": {
              "outlinewidth": 0,
              "ticks": ""
             }
            },
            "type": "scatter3d"
           }
          ],
          "scattercarpet": [
           {
            "marker": {
             "colorbar": {
              "outlinewidth": 0,
              "ticks": ""
             }
            },
            "type": "scattercarpet"
           }
          ],
          "scattergeo": [
           {
            "marker": {
             "colorbar": {
              "outlinewidth": 0,
              "ticks": ""
             }
            },
            "type": "scattergeo"
           }
          ],
          "scattergl": [
           {
            "marker": {
             "colorbar": {
              "outlinewidth": 0,
              "ticks": ""
             }
            },
            "type": "scattergl"
           }
          ],
          "scattermap": [
           {
            "marker": {
             "colorbar": {
              "outlinewidth": 0,
              "ticks": ""
             }
            },
            "type": "scattermap"
           }
          ],
          "scattermapbox": [
           {
            "marker": {
             "colorbar": {
              "outlinewidth": 0,
              "ticks": ""
             }
            },
            "type": "scattermapbox"
           }
          ],
          "scatterpolar": [
           {
            "marker": {
             "colorbar": {
              "outlinewidth": 0,
              "ticks": ""
             }
            },
            "type": "scatterpolar"
           }
          ],
          "scatterpolargl": [
           {
            "marker": {
             "colorbar": {
              "outlinewidth": 0,
              "ticks": ""
             }
            },
            "type": "scatterpolargl"
           }
          ],
          "scatterternary": [
           {
            "marker": {
             "colorbar": {
              "outlinewidth": 0,
              "ticks": ""
             }
            },
            "type": "scatterternary"
           }
          ],
          "surface": [
           {
            "colorbar": {
             "outlinewidth": 0,
             "ticks": ""
            },
            "colorscale": [
             [
              0,
              "#0d0887"
             ],
             [
              0.1111111111111111,
              "#46039f"
             ],
             [
              0.2222222222222222,
              "#7201a8"
             ],
             [
              0.3333333333333333,
              "#9c179e"
             ],
             [
              0.4444444444444444,
              "#bd3786"
             ],
             [
              0.5555555555555556,
              "#d8576b"
             ],
             [
              0.6666666666666666,
              "#ed7953"
             ],
             [
              0.7777777777777778,
              "#fb9f3a"
             ],
             [
              0.8888888888888888,
              "#fdca26"
             ],
             [
              1,
              "#f0f921"
             ]
            ],
            "type": "surface"
           }
          ],
          "table": [
           {
            "cells": {
             "fill": {
              "color": "#EBF0F8"
             },
             "line": {
              "color": "white"
             }
            },
            "header": {
             "fill": {
              "color": "#C8D4E3"
             },
             "line": {
              "color": "white"
             }
            },
            "type": "table"
           }
          ]
         },
         "layout": {
          "annotationdefaults": {
           "arrowcolor": "#2a3f5f",
           "arrowhead": 0,
           "arrowwidth": 1
          },
          "autotypenumbers": "strict",
          "coloraxis": {
           "colorbar": {
            "outlinewidth": 0,
            "ticks": ""
           }
          },
          "colorscale": {
           "diverging": [
            [
             0,
             "#8e0152"
            ],
            [
             0.1,
             "#c51b7d"
            ],
            [
             0.2,
             "#de77ae"
            ],
            [
             0.3,
             "#f1b6da"
            ],
            [
             0.4,
             "#fde0ef"
            ],
            [
             0.5,
             "#f7f7f7"
            ],
            [
             0.6,
             "#e6f5d0"
            ],
            [
             0.7,
             "#b8e186"
            ],
            [
             0.8,
             "#7fbc41"
            ],
            [
             0.9,
             "#4d9221"
            ],
            [
             1,
             "#276419"
            ]
           ],
           "sequential": [
            [
             0,
             "#0d0887"
            ],
            [
             0.1111111111111111,
             "#46039f"
            ],
            [
             0.2222222222222222,
             "#7201a8"
            ],
            [
             0.3333333333333333,
             "#9c179e"
            ],
            [
             0.4444444444444444,
             "#bd3786"
            ],
            [
             0.5555555555555556,
             "#d8576b"
            ],
            [
             0.6666666666666666,
             "#ed7953"
            ],
            [
             0.7777777777777778,
             "#fb9f3a"
            ],
            [
             0.8888888888888888,
             "#fdca26"
            ],
            [
             1,
             "#f0f921"
            ]
           ],
           "sequentialminus": [
            [
             0,
             "#0d0887"
            ],
            [
             0.1111111111111111,
             "#46039f"
            ],
            [
             0.2222222222222222,
             "#7201a8"
            ],
            [
             0.3333333333333333,
             "#9c179e"
            ],
            [
             0.4444444444444444,
             "#bd3786"
            ],
            [
             0.5555555555555556,
             "#d8576b"
            ],
            [
             0.6666666666666666,
             "#ed7953"
            ],
            [
             0.7777777777777778,
             "#fb9f3a"
            ],
            [
             0.8888888888888888,
             "#fdca26"
            ],
            [
             1,
             "#f0f921"
            ]
           ]
          },
          "colorway": [
           "#636efa",
           "#EF553B",
           "#00cc96",
           "#ab63fa",
           "#FFA15A",
           "#19d3f3",
           "#FF6692",
           "#B6E880",
           "#FF97FF",
           "#FECB52"
          ],
          "font": {
           "color": "#2a3f5f"
          },
          "geo": {
           "bgcolor": "white",
           "lakecolor": "white",
           "landcolor": "#E5ECF6",
           "showlakes": true,
           "showland": true,
           "subunitcolor": "white"
          },
          "hoverlabel": {
           "align": "left"
          },
          "hovermode": "closest",
          "mapbox": {
           "style": "light"
          },
          "paper_bgcolor": "white",
          "plot_bgcolor": "#E5ECF6",
          "polar": {
           "angularaxis": {
            "gridcolor": "white",
            "linecolor": "white",
            "ticks": ""
           },
           "bgcolor": "#E5ECF6",
           "radialaxis": {
            "gridcolor": "white",
            "linecolor": "white",
            "ticks": ""
           }
          },
          "scene": {
           "xaxis": {
            "backgroundcolor": "#E5ECF6",
            "gridcolor": "white",
            "gridwidth": 2,
            "linecolor": "white",
            "showbackground": true,
            "ticks": "",
            "zerolinecolor": "white"
           },
           "yaxis": {
            "backgroundcolor": "#E5ECF6",
            "gridcolor": "white",
            "gridwidth": 2,
            "linecolor": "white",
            "showbackground": true,
            "ticks": "",
            "zerolinecolor": "white"
           },
           "zaxis": {
            "backgroundcolor": "#E5ECF6",
            "gridcolor": "white",
            "gridwidth": 2,
            "linecolor": "white",
            "showbackground": true,
            "ticks": "",
            "zerolinecolor": "white"
           }
          },
          "shapedefaults": {
           "line": {
            "color": "#2a3f5f"
           }
          },
          "ternary": {
           "aaxis": {
            "gridcolor": "white",
            "linecolor": "white",
            "ticks": ""
           },
           "baxis": {
            "gridcolor": "white",
            "linecolor": "white",
            "ticks": ""
           },
           "bgcolor": "#E5ECF6",
           "caxis": {
            "gridcolor": "white",
            "linecolor": "white",
            "ticks": ""
           }
          },
          "title": {
           "x": 0.05
          },
          "xaxis": {
           "automargin": true,
           "gridcolor": "white",
           "linecolor": "white",
           "ticks": "",
           "title": {
            "standoff": 15
           },
           "zerolinecolor": "white",
           "zerolinewidth": 2
          },
          "yaxis": {
           "automargin": true,
           "gridcolor": "white",
           "linecolor": "white",
           "ticks": "",
           "title": {
            "standoff": 15
           },
           "zerolinecolor": "white",
           "zerolinewidth": 2
          }
         }
        },
        "title": {
         "font": {
          "size": 18
         },
         "text": "Flight Routes with Worst Normalized Delays (per 250 Miles)<br>Worst 10 Routes with >=10 Flights",
         "x": 0.5,
         "xanchor": "center"
        }
       }
      }
     },
     "metadata": {},
     "output_type": "display_data"
    }
   ],
   "source": [
    "import plotly.graph_objects as go\n",
    "import plotly.io as pio\n",
    "import random\n",
    "\n",
    "# Get color from colormap\n",
    "cmap = plt.get_cmap('YlOrRd')\n",
    "\n",
    "# Helper function to get line color to work with the scaled Normalized values\n",
    "def get_rgba(norm_val):\n",
    "    r, g, b, a = cmap(norm_val)\n",
    "    return f'rgba({r*255:.0f}, {g*255:.0f}, {b*255:.0f}, 0.8)'\n",
    "\n",
    "\n",
    "# Helper function to add markers to any flight path for tooltip hovering\n",
    "def interpolate_coords(lat1, lon1, lat2, lon2, steps=5):\n",
    "    lats = np.linspace(lat1, lat2, steps)\n",
    "    lons = np.linspace(lon1, lon2, steps)\n",
    "    return list(lats), list(lons)\n",
    "\n",
    "\n",
    "\n",
    "fig = go.Figure() # create map plot\n",
    "use_start = True  # initialize toggle for label positioning\n",
    "# Fill map with flight paths (lines)\n",
    "for _, row in top_df.iterrows():\n",
    "    cust_color = get_rgba(row['norm_scaled'])\n",
    "\n",
    "    # Add color-coded trace of flight path\n",
    "    fig.add_trace(go.Scattergeo(\n",
    "        locationmode='USA-states',\n",
    "        lon=[row['LON1'], row['LON2']],\n",
    "        lat=[row['LAT1'], row['LAT2']],\n",
    "        mode='lines',\n",
    "        line=dict(width=0.5 + row['avg_delay'] / 30, color=cust_color),\n",
    "        opacity=0.8,\n",
    "        name=row['AIRPORT_PAIR'],\n",
    "        text=f\"Route: {row['AIRPORT_PAIR']}<br>Avg Delay: {row['avg_delay']:.1f} min<br>Flights: {row['num_flights']}\",\n",
    "        hoverinfo='text'\n",
    "    ))\n",
    "\n",
    "    # Interpolate midpoints for better hover coverage\n",
    "    interp_lats, interp_lons = interpolate_coords(row['LAT1'], row['LON1'], row['LAT2'], row['LON2'], steps=10)\n",
    "\n",
    "    # Add invisible markers along the flight path to enable tooltip when hovering over the line\n",
    "    # (otherwise the tooltip only shows up when hovering around the endpoints)\n",
    "    fig.add_trace(go.Scattergeo(\n",
    "        locationmode='USA-states',\n",
    "        lon=interp_lons,\n",
    "        lat=interp_lats,\n",
    "        mode='markers',\n",
    "        marker=dict(size=3, color=cust_color, opacity=0.001),  # marker indistinguishable from line but still renders - need to see if this causes issues on non-GPU-accelerated machines\n",
    "        text=f\"Route: {row['AIRPORT_PAIR']}<br>Avg Delay: {row['avg_delay']:.1f} min<br>Flights: {row['num_flights']}\",\n",
    "        hoverinfo='text',\n",
    "        showlegend=False\n",
    "    ))\n",
    "\n",
    "    # Alternate label position between origin and destination\n",
    "    if use_start:\n",
    "        label_lat, label_lon = row['LAT1'], row['LON1']\n",
    "    else:\n",
    "        label_lat, label_lon = row['LAT2'], row['LON2']\n",
    "    \n",
    "    # Jitter to prevent label overlapping (will be useful if we increase the N-Filter)\n",
    "    label_lat += random.uniform(0, 0.5) if use_start else -random.uniform(0, 0.2)\n",
    "\n",
    "    # Flip toggle\n",
    "    use_start = not use_start\n",
    "\n",
    "    # Add label trace\n",
    "    fig.add_trace(go.Scattergeo(\n",
    "        locationmode='USA-states',\n",
    "        lon=[label_lon],\n",
    "        lat=[label_lat],\n",
    "        mode='text',\n",
    "        text=[row['AIRPORT_PAIR']],\n",
    "        textfont=dict(size=12, color='black'),\n",
    "        showlegend=False,\n",
    "        hoverinfo='skip'\n",
    "    ))\n",
    "\n",
    "# Create the plot's layout\n",
    "fig.update_layout(\n",
    "    title=dict(\n",
    "        text=f'Flight Routes with Worst Normalized Delays (per 250 Miles)<br>Worst {n_filter} Routes with >=10 Flights',\n",
    "        x=0.5,  # Center the title\n",
    "        xanchor='center',\n",
    "        font=dict(size=18)\n",
    "    ),\n",
    "    geo=dict(\n",
    "        scope='usa',\n",
    "        projection_type='albers usa',\n",
    "        showland=True,\n",
    "    ),\n",
    "    showlegend=True\n",
    ")\n",
    "\n",
    "fig.show()\n",
    "\n",
    "# Save the interactive map to an HTML file\n",
    "pio.write_html(fig, file=\"worst_flight_delays_map.html\", auto_open=False)\n"
   ]
  }
 ],
 "metadata": {
  "kernelspec": {
   "display_name": "summerPracticum",
   "language": "python",
   "name": "python3"
  },
  "language_info": {
   "codemirror_mode": {
    "name": "ipython",
    "version": 3
   },
   "file_extension": ".py",
   "mimetype": "text/x-python",
   "name": "python",
   "nbconvert_exporter": "python",
   "pygments_lexer": "ipython3",
   "version": "3.12.11"
  }
 },
 "nbformat": 4,
 "nbformat_minor": 5
}
