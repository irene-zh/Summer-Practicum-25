{
 "cells": [
  {
   "cell_type": "markdown",
   "id": "b291d65e",
   "metadata": {},
   "source": [
    "#### Loading in packages and data / selecting columns and manipulating"
   ]
  },
  {
   "cell_type": "code",
   "execution_count": 1,
   "id": "004dcd64",
   "metadata": {},
   "outputs": [],
   "source": [
    "import pandas as pd\n",
    "import numpy as np\n",
    "from datetime import date\n",
    "import holidays\n",
    "import seaborn as sns"
   ]
  },
  {
   "cell_type": "code",
   "execution_count": 2,
   "id": "ade74728",
   "metadata": {},
   "outputs": [],
   "source": [
    "train = pd.read_csv('D:/Summer Practicum/1_Data/training_airlines.csv', low_memory=False)\n",
    "test = pd.read_csv('D:/Summer Practicum/1_Data/testing_airlines.csv', low_memory=False)\n",
    "validate = pd.read_csv('D:/Summer Practicum/1_Data/validation_airlines.csv', low_memory=False)\n",
    "df = pd.concat([train,test,validate])\n",
    "df.columns = df.columns.str.replace(' ', '')"
   ]
  },
  {
   "cell_type": "code",
   "execution_count": 3,
   "id": "cfe06428",
   "metadata": {},
   "outputs": [],
   "source": [
    "#selecting specific columns from the training data\n",
    "df_trim = df[[\"OriginAirportID\", \"Flights\", \"FlightDate\", \"Month\", \"DayofMonth\", \"DayOfWeek\",\"Operating_Airline\",\"Origin\", \"OriginCityName\", \"OriginState\",\"Dest\",\"DestCityName\",\n",
    "\"DestState\",\"DepTime\",\"DepDelay\",\"DepDel15\",\"DepartureDelayGroups\",\"TaxiOut\",\"TaxiIn\",\"ArrTime\",\"ArrDelay\",\"ArrDel15\", \"ArrDelayMinutes\",\n",
    "\"ArrivalDelayGroups\",'Cancelled',\"Diverted\",\"ActualElapsedTime\",\"AirTime\",\"Distance\",\"DistanceGroup\",\n",
    "\"CarrierDelay\",\"WeatherDelay\",\"NASDelay\",\"SecurityDelay\",\"LateAircraftDelay\"]]"
   ]
  },
  {
   "cell_type": "code",
   "execution_count": 4,
   "id": "fd3e780d",
   "metadata": {},
   "outputs": [
    {
     "name": "stderr",
     "output_type": "stream",
     "text": [
      "C:\\Users\\bmhawley\\AppData\\Local\\Temp\\4\\ipykernel_35304\\2302655637.py:2: SettingWithCopyWarning: \n",
      "A value is trying to be set on a copy of a slice from a DataFrame.\n",
      "Try using .loc[row_indexer,col_indexer] = value instead\n",
      "\n",
      "See the caveats in the documentation: https://pandas.pydata.org/pandas-docs/stable/user_guide/indexing.html#returning-a-view-versus-a-copy\n",
      "  df_trim[[\"NASDelay\", \"SecurityDelay\", \"CarrierDelay\", \"WeatherDelay\", \"LateAircraftDelay\"]] = df_trim[[\"NASDelay\", \\\n",
      "C:\\Users\\bmhawley\\AppData\\Local\\Temp\\4\\ipykernel_35304\\2302655637.py:6: SettingWithCopyWarning: \n",
      "A value is trying to be set on a copy of a slice from a DataFrame.\n",
      "Try using .loc[row_indexer,col_indexer] = value instead\n",
      "\n",
      "See the caveats in the documentation: https://pandas.pydata.org/pandas-docs/stable/user_guide/indexing.html#returning-a-view-versus-a-copy\n",
      "  df_trim[\"TotalDelay\"] = df_trim[[\"NASDelay\", \"SecurityDelay\", \"CarrierDelay\", \"WeatherDelay\", \"LateAircraftDelay\"]].sum(axis=1)\n",
      "C:\\Users\\bmhawley\\AppData\\Local\\Temp\\4\\ipykernel_35304\\2302655637.py:9: SettingWithCopyWarning: \n",
      "A value is trying to be set on a copy of a slice from a DataFrame.\n",
      "Try using .loc[row_indexer,col_indexer] = value instead\n",
      "\n",
      "See the caveats in the documentation: https://pandas.pydata.org/pandas-docs/stable/user_guide/indexing.html#returning-a-view-versus-a-copy\n",
      "  df_trim[\"CancOrDiv\"] = df_trim[\"Cancelled\"] + df_trim[\"Diverted\"]\n",
      "C:\\Users\\bmhawley\\AppData\\Local\\Temp\\4\\ipykernel_35304\\2302655637.py:10: SettingWithCopyWarning: \n",
      "A value is trying to be set on a copy of a slice from a DataFrame.\n",
      "Try using .loc[row_indexer,col_indexer] = value instead\n",
      "\n",
      "See the caveats in the documentation: https://pandas.pydata.org/pandas-docs/stable/user_guide/indexing.html#returning-a-view-versus-a-copy\n",
      "  df_trim[\"CancOrDiv2\"] = np.where((df_trim[\"Cancelled\"] == 1) | df_trim[\"Diverted\"] == 1, 1, 0)\n",
      "C:\\Users\\bmhawley\\AppData\\Local\\Temp\\4\\ipykernel_35304\\2302655637.py:14: SettingWithCopyWarning: \n",
      "A value is trying to be set on a copy of a slice from a DataFrame.\n",
      "Try using .loc[row_indexer,col_indexer] = value instead\n",
      "\n",
      "See the caveats in the documentation: https://pandas.pydata.org/pandas-docs/stable/user_guide/indexing.html#returning-a-view-versus-a-copy\n",
      "  df_trim[\"Delayed\"] = np.where((df_trim[\"ArrDelayMinutes\"]) > 0, 1, 0)\n",
      "C:\\Users\\bmhawley\\AppData\\Local\\Temp\\4\\ipykernel_35304\\2302655637.py:31: SettingWithCopyWarning: \n",
      "A value is trying to be set on a copy of a slice from a DataFrame.\n",
      "Try using .loc[row_indexer,col_indexer] = value instead\n",
      "\n",
      "See the caveats in the documentation: https://pandas.pydata.org/pandas-docs/stable/user_guide/indexing.html#returning-a-view-versus-a-copy\n",
      "  df_trim[\"Region\"] = df_trim[\"OriginState\"].map(state_to_region)\n",
      "C:\\Users\\bmhawley\\AppData\\Local\\Temp\\4\\ipykernel_35304\\2302655637.py:34: SettingWithCopyWarning: \n",
      "A value is trying to be set on a copy of a slice from a DataFrame.\n",
      "Try using .loc[row_indexer,col_indexer] = value instead\n",
      "\n",
      "See the caveats in the documentation: https://pandas.pydata.org/pandas-docs/stable/user_guide/indexing.html#returning-a-view-versus-a-copy\n",
      "  df_trim['FlightDate'] = pd.to_datetime(df_trim['FlightDate'])\n",
      "C:\\Users\\bmhawley\\AppData\\Local\\Temp\\4\\ipykernel_35304\\2302655637.py:40: SettingWithCopyWarning: \n",
      "A value is trying to be set on a copy of a slice from a DataFrame.\n",
      "Try using .loc[row_indexer,col_indexer] = value instead\n",
      "\n",
      "See the caveats in the documentation: https://pandas.pydata.org/pandas-docs/stable/user_guide/indexing.html#returning-a-view-versus-a-copy\n",
      "  df_trim['Is_Holiday'] = df_trim['FlightDate'].dt.date.isin(holiday_dates)\n",
      "C:\\Users\\bmhawley\\AppData\\Local\\Temp\\4\\ipykernel_35304\\2302655637.py:41: SettingWithCopyWarning: \n",
      "A value is trying to be set on a copy of a slice from a DataFrame.\n",
      "Try using .loc[row_indexer,col_indexer] = value instead\n",
      "\n",
      "See the caveats in the documentation: https://pandas.pydata.org/pandas-docs/stable/user_guide/indexing.html#returning-a-view-versus-a-copy\n",
      "  df_trim['Is_Delayed'] = (df_trim['ArrDelay'] > 0)\n"
     ]
    }
   ],
   "source": [
    "#filling na values in delay fields\n",
    "df_trim[[\"NASDelay\", \"SecurityDelay\", \"CarrierDelay\", \"WeatherDelay\", \"LateAircraftDelay\"]] = df_trim[[\"NASDelay\", \\\n",
    "     \"SecurityDelay\", \"CarrierDelay\", \"WeatherDelay\", \"LateAircraftDelay\"]].fillna(0)\n",
    "\n",
    "#creating a total delay field\n",
    "df_trim[\"TotalDelay\"] = df_trim[[\"NASDelay\", \"SecurityDelay\", \"CarrierDelay\", \"WeatherDelay\", \"LateAircraftDelay\"]].sum(axis=1)\n",
    "\n",
    "#field for if flight was cancelled or diverted\n",
    "df_trim[\"CancOrDiv\"] = df_trim[\"Cancelled\"] + df_trim[\"Diverted\"]\n",
    "df_trim[\"CancOrDiv2\"] = np.where((df_trim[\"Cancelled\"] == 1) | df_trim[\"Diverted\"] == 1, 1, 0)\n",
    "df_trim[\"CancOrDiv2\"] == df_trim[\"CancOrDiv\"]\n",
    "\n",
    "#field for if a flight was delayed\n",
    "df_trim[\"Delayed\"] = np.where((df_trim[\"ArrDelayMinutes\"]) > 0, 1, 0)\n",
    "\n",
    "#creating a region column\n",
    "def state_to_region(state):\n",
    "    West = [\"WA\", \"MT\", \"ID\", \"WY\", \"OR\", \"CA\", \"NV\", \"UT\", \"CO\", \"AZ\", \"NM\", \"AK\", \"HI\"]\n",
    "    South = [\"TX\", \"OK\", \"AR\", \"LA\", \"MS\", \"AL\", \"TN\", \"KY\", \"FL\", \"GA\", \"SC\", \"NC\", \"VA\", \"MD\", \"DE\"]\n",
    "    Northeast = [\"PA\", \"NJ\", \"NY\", \"CT\", \"MA\", \"RI\", \"ME\", \"NH\", \"VT\"]\n",
    "    Midwest = [\"ND\", \"SD\", \"NE\", \"KS\", \"MO\", \"IA\", \"MN\", \"WI\", \"IL\", \"IN\", \"OH\", \"MI\"]\n",
    "    if state in West:\n",
    "        return \"West\"\n",
    "    elif state in South:\n",
    "        return \"South\"\n",
    "    elif state in Northeast:\n",
    "        return \"Northeast\"\n",
    "    elif state in Midwest:\n",
    "        return \"Midwest\"\n",
    "    \n",
    "df_trim[\"Region\"] = df_trim[\"OriginState\"].map(state_to_region)\n",
    "\n",
    "#creating is holiday field\n",
    "df_trim['FlightDate'] = pd.to_datetime(df_trim['FlightDate'])\n",
    "df_trim.columns = df_trim.columns.str.replace(' ','')\n",
    "\n",
    "us_holidays = holidays.US(years=range(df_trim['FlightDate'].min().year,df_trim['FlightDate'].max().year +1))\n",
    "holiday_dates = {date for date, name in us_holidays.items()}\n",
    "\n",
    "df_trim['Is_Holiday'] = df_trim['FlightDate'].dt.date.isin(holiday_dates)\n",
    "df_trim['Is_Delayed'] = (df_trim['ArrDelay'] > 0)\n"
   ]
  },
  {
   "cell_type": "markdown",
   "id": "51a90148",
   "metadata": {},
   "source": [
    "#### Want to remove any flights not involving the top airports (as an origin or destination)"
   ]
  },
  {
   "cell_type": "code",
   "execution_count": 5,
   "id": "4d7ce38d",
   "metadata": {},
   "outputs": [
    {
     "data": {
      "text/plain": [
       "78"
      ]
     },
     "execution_count": 5,
     "metadata": {},
     "output_type": "execute_result"
    }
   ],
   "source": [
    "#which airports are top airports\n",
    "origin_df = df_trim.groupby(\"Origin\")[\"Flights\"].value_counts().reset_index(name=\"Yearly_Flights\")\n",
    "origin_df_trim = origin_df[origin_df[\"Yearly_Flights\"] >= 10000]\n",
    "origin_df_trim.sort_values(\"Yearly_Flights\", ascending=True)\n",
    "\n",
    "dest_df = df_trim.groupby(\"Dest\")[\"Flights\"].value_counts().reset_index(name=\"Yearly_Flights\")\n",
    "dest_df_trim = dest_df[dest_df[\"Yearly_Flights\"] >= 10000]\n",
    "dest_df_trim.sort_values(\"Yearly_Flights\", ascending=True)\n",
    "\n",
    "dest_list = list(dest_df_trim[\"Dest\"])\n",
    "origin_list = list(origin_df_trim[\"Origin\"])\n",
    "\n",
    "combined_list = list(set(dest_list + origin_list))\n",
    "len(combined_list)"
   ]
  },
  {
   "cell_type": "code",
   "execution_count": 6,
   "id": "9cf59e12",
   "metadata": {},
   "outputs": [
    {
     "name": "stdout",
     "output_type": "stream",
     "text": [
      "Original size: 4921235, New size: 4865853\n"
     ]
    }
   ],
   "source": [
    "#remove flights from airports not having more than 10,000 flights\n",
    "\n",
    "df_2 = df_trim[(df_trim[\"Origin\"].isin(combined_list)) | (df_trim[\"Dest\"].isin(combined_list))]\n",
    "\n",
    "print(f\"Original size: {df_trim.shape[0]}, New size: {df_2.shape[0]}\")"
   ]
  },
  {
   "cell_type": "markdown",
   "id": "73e163f2",
   "metadata": {},
   "source": [
    "#### Creating a dataframe that has the holiday, delay, divcancel, extreme delay, and carrier fault at each airport for all airlines"
   ]
  },
  {
   "cell_type": "code",
   "execution_count": 7,
   "id": "7b04a1d3",
   "metadata": {},
   "outputs": [
    {
     "data": {
      "text/plain": [
       "(234, 2)"
      ]
     },
     "execution_count": 7,
     "metadata": {},
     "output_type": "execute_result"
    }
   ],
   "source": [
    "#what percent of delays are the airlines fault\n",
    "when_delayed_df_total = df_2[df_2[\"TotalDelay\"] != 0][[\"NASDelay\", \"SecurityDelay\", \"CarrierDelay\", \n",
    "                                                                   \"WeatherDelay\", \"LateAircraftDelay\", \"Origin\", \"TotalDelay\"]]\n",
    "\n",
    "when_delayed_df_total = when_delayed_df_total.reset_index()\n",
    "\n",
    "when_delayed_df_total[\"PercentAirlineFault\"] = ((when_delayed_df_total[\"CarrierDelay\"]) / when_delayed_df_total[\"TotalDelay\"])\n",
    "\n",
    "fault_at_airports_total = when_delayed_df_total.groupby(\"Origin\")[\"PercentAirlineFault\"].mean().reset_index()\n",
    "fault_at_airports_total.shape"
   ]
  },
  {
   "cell_type": "code",
   "execution_count": 8,
   "id": "f0acc39b",
   "metadata": {},
   "outputs": [
    {
     "data": {
      "text/plain": [
       "(234, 3)"
      ]
     },
     "execution_count": 8,
     "metadata": {},
     "output_type": "execute_result"
    }
   ],
   "source": [
    "#percent of flights delayed and flights delayed/cancelled\n",
    "airport_stats_df_total = df_2.groupby(\"Origin\").agg(\n",
    "    percent_delayed = (\"Delayed\", \"mean\"),\n",
    "    percent_diverted_cancelled = (\"CancOrDiv\", \"mean\")).reset_index() \n",
    "\n",
    "airport_stats_df_total.shape"
   ]
  },
  {
   "cell_type": "code",
   "execution_count": 9,
   "id": "3874b00b",
   "metadata": {},
   "outputs": [
    {
     "data": {
      "text/plain": [
       "(232, 2)"
      ]
     },
     "execution_count": 9,
     "metadata": {},
     "output_type": "execute_result"
    }
   ],
   "source": [
    "#holiday performance at each airport\n",
    "holiday_df_total = df_2[df_2[\"Is_Holiday\"] == 1]\n",
    "\n",
    "holiday_performance_df_total= holiday_df_total.groupby(\"Origin\")[\"Delayed\"].mean().reset_index()\n",
    "holiday_performance_df_total.shape"
   ]
  },
  {
   "cell_type": "code",
   "execution_count": 10,
   "id": "aab5736b",
   "metadata": {},
   "outputs": [],
   "source": [
    "#how extreme is the average delay\n",
    "only_delayed_flights_total = df_2[df_2[\"Delayed\"] == 1]\n",
    "how_extreme_delays_total = only_delayed_flights_total.groupby(\"Origin\")[\"ArrDelayMinutes\"].mean().reset_index()"
   ]
  },
  {
   "cell_type": "code",
   "execution_count": 11,
   "id": "36dd303d",
   "metadata": {},
   "outputs": [
    {
     "name": "stderr",
     "output_type": "stream",
     "text": [
      "C:\\Users\\bmhawley\\AppData\\Local\\Temp\\4\\ipykernel_35304\\1296324087.py:10: SettingWithCopyWarning: \n",
      "A value is trying to be set on a copy of a slice from a DataFrame.\n",
      "Try using .loc[row_indexer,col_indexer] = value instead\n",
      "\n",
      "See the caveats in the documentation: https://pandas.pydata.org/pandas-docs/stable/user_guide/indexing.html#returning-a-view-versus-a-copy\n",
      "  Final_merget[\"HolidayPercentDelayed\"] = merge4t[\"Delayed\"]\n"
     ]
    },
    {
     "data": {
      "application/vnd.microsoft.datawrangler.viewer.v0+json": {
       "columns": [
        {
         "name": "index",
         "rawType": "int64",
         "type": "integer"
        },
        {
         "name": "Origin",
         "rawType": "object",
         "type": "string"
        },
        {
         "name": "percent_delayed",
         "rawType": "float64",
         "type": "float"
        },
        {
         "name": "percent_diverted_cancelled",
         "rawType": "float64",
         "type": "float"
        },
        {
         "name": "PercentAirlineFault",
         "rawType": "float64",
         "type": "float"
        },
        {
         "name": "HolidayPercentDelayed",
         "rawType": "float64",
         "type": "float"
        },
        {
         "name": "HowExtremeDelay",
         "rawType": "float64",
         "type": "float"
        }
       ],
       "ref": "01547bf3-5792-441f-af65-9d6bd7c2347b",
       "rows": [
        [
         "0",
         "ABE",
         "0.3866943866943867",
         "0.029106029106029108",
         "0.3083921198868206",
         "0.45",
         "43.365591397849464"
        ],
        [
         "1",
         "ABQ",
         "0.35838901262063844",
         "0.021467458549863896",
         "0.2552104271703993",
         "0.34201954397394135",
         "40.93751078888314"
        ],
        [
         "2",
         "ACK",
         "0.3501228501228501",
         "0.04176904176904177",
         "0.13514503234967762",
         "0.25",
         "61.80701754385965"
        ],
        [
         "3",
         "ACY",
         "0.26728682170542634",
         "0.032868217054263564",
         "0.23616622960199518",
         "0.23770491803278687",
         "48.98491879350348"
        ],
        [
         "4",
         "ADK",
         "0.4326923076923077",
         "0.028846153846153848",
         "0.06962119614871037",
         "0.0",
         "37.55555555555556"
        ],
        [
         "5",
         "ADQ",
         "0.2794759825327511",
         "0.03384279475982533",
         "0.2599735775674132",
         "0.32142857142857145",
         "30.49609375"
        ],
        [
         "6",
         "AGS",
         "0.6060606060606061",
         "0.030303030303030304",
         "0.3493387371387563",
         "0.0",
         "46.2"
        ],
        [
         "7",
         "AKN",
         "0.5695652173913044",
         "0.021739130434782608",
         "0.03217260829419086",
         "0.4",
         "43.76335877862596"
        ],
        [
         "8",
         "ALB",
         "0.33816139521135086",
         "0.02882057345551286",
         "0.2209714864334739",
         "0.29118773946360155",
         "46.41083916083916"
        ],
        [
         "9",
         "AMA",
         "0.2779211205307777",
         "0.037596756358274974",
         "0.18936602384386902",
         "0.3274336283185841",
         "44.80106100795756"
        ],
        [
         "10",
         "ANC",
         "0.38058804240900646",
         "0.02142310635042081",
         "0.34230482570055104",
         "0.3858858858858859",
         "29.921165996553704"
        ],
        [
         "11",
         "ATL",
         "0.3590668050340034",
         "0.015598420900600186",
         "0.5111767319846791",
         "0.3629380700912146",
         "34.31208596939029"
        ],
        [
         "12",
         "ATW",
         "0.4439608269858542",
         "0.018498367791077257",
         "0.302258344677208",
         "0.5238095238095238",
         "54.81617647058823"
        ],
        [
         "13",
         "AUS",
         "0.383801879255906",
         "0.026895423593411193",
         "0.3248407384903536",
         "0.3705166173083251",
         "41.4993887732514"
        ],
        [
         "14",
         "AVL",
         "0.34169508037019",
         "0.009498295177788602",
         "0.26611596729712167",
         "0.3391812865497076",
         "41.281539558089804"
        ],
        [
         "15",
         "AVP",
         "0.1968019680196802",
         "0.020910209102091022",
         "0.2622726915811944",
         "0.2",
         "102.8"
        ],
        [
         "16",
         "AZA",
         "0.41912512716174977",
         "0.018311291963377416",
         "0.3611312936510607",
         "0.36363636363636365",
         "47.93689320388349"
        ],
        [
         "17",
         "BDL",
         "0.36188369152970923",
         "0.02607458912768647",
         "0.2740801666869421",
         "0.28653295128939826",
         "47.543668122270745"
        ],
        [
         "18",
         "BET",
         "0.6067415730337079",
         "0.02247191011235955",
         "0.08930582088227251",
         "0.5454545454545454",
         "25.930555555555557"
        ],
        [
         "19",
         "BFL",
         "0.35772357723577236",
         "0.02710027100271003",
         "0.3118216094894831",
         "0.5882352941176471",
         "71.57575757575758"
        ],
        [
         "20",
         "BGR",
         "0.34",
         "0.032",
         "0.21037902128760538",
         "0.125",
         "45.247058823529414"
        ],
        [
         "21",
         "BHM",
         "0.3384418901660281",
         "0.02681992337164751",
         "0.26594946562011407",
         "0.31716417910447764",
         "42.42557651991614"
        ],
        [
         "22",
         "BIL",
         "0.3316739265712508",
         "0.01431238332296204",
         "0.18213021674420493",
         "0.3235294117647059",
         "52.67542213883677"
        ],
        [
         "23",
         "BIS",
         "0.4517241379310345",
         "0.03103448275862069",
         "0.21433344782205324",
         "0.45454545454545453",
         "53.3206106870229"
        ],
        [
         "24",
         "BKG",
         "0.425531914893617",
         "0.0",
         "0.10653729699972474",
         "0.0",
         "52.25"
        ],
        [
         "25",
         "BLI",
         "0.3261729790842284",
         "0.015262860373092142",
         "0.3244305255216859",
         "0.3194444444444444",
         "31.545927209705372"
        ],
        [
         "26",
         "BLV",
         "0.6206896551724138",
         "0.01567398119122257",
         "0.1535402794565583",
         "0.47058823529411764",
         "53.02020202020202"
        ],
        [
         "27",
         "BMI",
         "0.30708661417322836",
         "0.015748031496062992",
         "0.17567798066844637",
         "0.2222222222222222",
         "59.23076923076923"
        ],
        [
         "28",
         "BNA",
         "0.35181216683185557",
         "0.026854356968739116",
         "0.28611269799917544",
         "0.32696316886726895",
         "37.57558914226977"
        ],
        [
         "29",
         "BOI",
         "0.3718364698247891",
         "0.02030221562992491",
         "0.2347111282801419",
         "0.38443935926773454",
         "35.830964846671655"
        ],
        [
         "30",
         "BOS",
         "0.36922246124700114",
         "0.024805460388282474",
         "0.3921777215223174",
         "0.3732630570196454",
         "46.411369794039366"
        ],
        [
         "31",
         "BQN",
         "0.4960222752585521",
         "0.030230708035003977",
         "0.19070071972708022",
         "0.6106194690265486",
         "54.287089013632716"
        ],
        [
         "32",
         "BRW",
         "0.6225895316804407",
         "0.09090909090909091",
         "0.06874022437475197",
         "0.45454545454545453",
         "31.81858407079646"
        ],
        [
         "33",
         "BTR",
         "0.20378151260504201",
         "0.0010504201680672268",
         "0.4339026326882603",
         "0.23529411764705882",
         "48.86082474226804"
        ],
        [
         "34",
         "BTV",
         "0.37338403041825097",
         "0.03231939163498099",
         "0.31508228952144496",
         "0.25263157894736843",
         "52.687372708757636"
        ],
        [
         "35",
         "BUF",
         "0.3504117775672327",
         "0.04409299613730778",
         "0.24461547700989147",
         "0.2465753424657534",
         "43.897878535773714"
        ],
        [
         "36",
         "BUR",
         "0.40257643174967706",
         "0.03756997272857758",
         "0.2041210206281384",
         "0.4081447963800905",
         "30.617969515999643"
        ],
        [
         "37",
         "BWI",
         "0.4521630954180279",
         "0.028391717338479963",
         "0.4768721619327866",
         "0.34876637222053003",
         "35.29207271605256"
        ],
        [
         "38",
         "BZN",
         "0.36835124021753546",
         "0.023610558429499932",
         "0.18579979628809315",
         "0.4117647058823529",
         "45.86604249189773"
        ],
        [
         "39",
         "CAE",
         "0.1954132823698041",
         "0.01098901098901099",
         "0.3214564739853463",
         "0.18181818181818182",
         "54.04156479217604"
        ],
        [
         "40",
         "CAK",
         "0.4197860962566845",
         "0.06951871657754011",
         "0.17638567830506663",
         "0.4444444444444444",
         "84.06369426751593"
        ],
        [
         "41",
         "CDV",
         "0.3628808864265928",
         "0.0443213296398892",
         "0.12544666232559015",
         "0.18181818181818182",
         "27.862595419847327"
        ],
        [
         "42",
         "CHA",
         "0.20891364902506965",
         "0.006963788300835654",
         "0.38512262505856487",
         "0.20833333333333334",
         "39.986666666666665"
        ],
        [
         "43",
         "CHO",
         "0.31868131868131866",
         "0.0",
         "0.4796727192560526",
         "0.5",
         "44.94827586206897"
        ],
        [
         "44",
         "CHS",
         "0.38283226451726776",
         "0.02988762722833441",
         "0.2591821467196686",
         "0.4312210200927357",
         "44.54510527124635"
        ],
        [
         "45",
         "CID",
         "0.4119496855345912",
         "0.022461814914645103",
         "0.2615000510235089",
         "0.43434343434343436",
         "47.12540894220284"
        ],
        [
         "46",
         "CKB",
         "0.6363636363636364",
         "0.0",
         "0.2437221535260751",
         "0.0",
         "30.5"
        ],
        [
         "47",
         "CLE",
         "0.3143413963086094",
         "0.025449959876189386",
         "0.29814068833691143",
         "0.27300613496932513",
         "42.0279601264284"
        ],
        [
         "48",
         "CLT",
         "0.42126183015859026",
         "0.02143652784344523",
         "0.32843643126689576",
         "0.4208887043189369",
         "40.28661923603713"
        ],
        [
         "49",
         "CMH",
         "0.35656784767413835",
         "0.02930826705230176",
         "0.2964253144914948",
         "0.28963795255930086",
         "41.43815060159524"
        ]
       ],
       "shape": {
        "columns": 6,
        "rows": 234
       }
      },
      "text/html": [
       "<div>\n",
       "<style scoped>\n",
       "    .dataframe tbody tr th:only-of-type {\n",
       "        vertical-align: middle;\n",
       "    }\n",
       "\n",
       "    .dataframe tbody tr th {\n",
       "        vertical-align: top;\n",
       "    }\n",
       "\n",
       "    .dataframe thead th {\n",
       "        text-align: right;\n",
       "    }\n",
       "</style>\n",
       "<table border=\"1\" class=\"dataframe\">\n",
       "  <thead>\n",
       "    <tr style=\"text-align: right;\">\n",
       "      <th></th>\n",
       "      <th>Origin</th>\n",
       "      <th>percent_delayed</th>\n",
       "      <th>percent_diverted_cancelled</th>\n",
       "      <th>PercentAirlineFault</th>\n",
       "      <th>HolidayPercentDelayed</th>\n",
       "      <th>HowExtremeDelay</th>\n",
       "    </tr>\n",
       "  </thead>\n",
       "  <tbody>\n",
       "    <tr>\n",
       "      <th>0</th>\n",
       "      <td>ABE</td>\n",
       "      <td>0.386694</td>\n",
       "      <td>0.029106</td>\n",
       "      <td>0.308392</td>\n",
       "      <td>0.450000</td>\n",
       "      <td>43.365591</td>\n",
       "    </tr>\n",
       "    <tr>\n",
       "      <th>1</th>\n",
       "      <td>ABQ</td>\n",
       "      <td>0.358389</td>\n",
       "      <td>0.021467</td>\n",
       "      <td>0.255210</td>\n",
       "      <td>0.342020</td>\n",
       "      <td>40.937511</td>\n",
       "    </tr>\n",
       "    <tr>\n",
       "      <th>2</th>\n",
       "      <td>ACK</td>\n",
       "      <td>0.350123</td>\n",
       "      <td>0.041769</td>\n",
       "      <td>0.135145</td>\n",
       "      <td>0.250000</td>\n",
       "      <td>61.807018</td>\n",
       "    </tr>\n",
       "    <tr>\n",
       "      <th>3</th>\n",
       "      <td>ACY</td>\n",
       "      <td>0.267287</td>\n",
       "      <td>0.032868</td>\n",
       "      <td>0.236166</td>\n",
       "      <td>0.237705</td>\n",
       "      <td>48.984919</td>\n",
       "    </tr>\n",
       "    <tr>\n",
       "      <th>4</th>\n",
       "      <td>ADK</td>\n",
       "      <td>0.432692</td>\n",
       "      <td>0.028846</td>\n",
       "      <td>0.069621</td>\n",
       "      <td>0.000000</td>\n",
       "      <td>37.555556</td>\n",
       "    </tr>\n",
       "    <tr>\n",
       "      <th>...</th>\n",
       "      <td>...</td>\n",
       "      <td>...</td>\n",
       "      <td>...</td>\n",
       "      <td>...</td>\n",
       "      <td>...</td>\n",
       "      <td>...</td>\n",
       "    </tr>\n",
       "    <tr>\n",
       "      <th>229</th>\n",
       "      <td>TVC</td>\n",
       "      <td>0.393728</td>\n",
       "      <td>0.013937</td>\n",
       "      <td>0.415341</td>\n",
       "      <td>0.473684</td>\n",
       "      <td>39.951327</td>\n",
       "    </tr>\n",
       "    <tr>\n",
       "      <th>230</th>\n",
       "      <td>TYS</td>\n",
       "      <td>0.300554</td>\n",
       "      <td>0.014500</td>\n",
       "      <td>0.194414</td>\n",
       "      <td>0.318750</td>\n",
       "      <td>51.291228</td>\n",
       "    </tr>\n",
       "    <tr>\n",
       "      <th>231</th>\n",
       "      <td>USA</td>\n",
       "      <td>0.605042</td>\n",
       "      <td>0.029412</td>\n",
       "      <td>0.166805</td>\n",
       "      <td>0.357143</td>\n",
       "      <td>60.118056</td>\n",
       "    </tr>\n",
       "    <tr>\n",
       "      <th>232</th>\n",
       "      <td>VPS</td>\n",
       "      <td>0.326290</td>\n",
       "      <td>0.016149</td>\n",
       "      <td>0.279890</td>\n",
       "      <td>0.313043</td>\n",
       "      <td>47.070768</td>\n",
       "    </tr>\n",
       "    <tr>\n",
       "      <th>233</th>\n",
       "      <td>XNA</td>\n",
       "      <td>0.437614</td>\n",
       "      <td>0.017651</td>\n",
       "      <td>0.231783</td>\n",
       "      <td>0.339623</td>\n",
       "      <td>57.852573</td>\n",
       "    </tr>\n",
       "  </tbody>\n",
       "</table>\n",
       "<p>234 rows × 6 columns</p>\n",
       "</div>"
      ],
      "text/plain": [
       "    Origin  percent_delayed  percent_diverted_cancelled  PercentAirlineFault  \\\n",
       "0      ABE         0.386694                    0.029106             0.308392   \n",
       "1      ABQ         0.358389                    0.021467             0.255210   \n",
       "2      ACK         0.350123                    0.041769             0.135145   \n",
       "3      ACY         0.267287                    0.032868             0.236166   \n",
       "4      ADK         0.432692                    0.028846             0.069621   \n",
       "..     ...              ...                         ...                  ...   \n",
       "229    TVC         0.393728                    0.013937             0.415341   \n",
       "230    TYS         0.300554                    0.014500             0.194414   \n",
       "231    USA         0.605042                    0.029412             0.166805   \n",
       "232    VPS         0.326290                    0.016149             0.279890   \n",
       "233    XNA         0.437614                    0.017651             0.231783   \n",
       "\n",
       "     HolidayPercentDelayed  HowExtremeDelay  \n",
       "0                 0.450000        43.365591  \n",
       "1                 0.342020        40.937511  \n",
       "2                 0.250000        61.807018  \n",
       "3                 0.237705        48.984919  \n",
       "4                 0.000000        37.555556  \n",
       "..                     ...              ...  \n",
       "229               0.473684        39.951327  \n",
       "230               0.318750        51.291228  \n",
       "231               0.357143        60.118056  \n",
       "232               0.313043        47.070768  \n",
       "233               0.339623        57.852573  \n",
       "\n",
       "[234 rows x 6 columns]"
      ]
     },
     "execution_count": 11,
     "metadata": {},
     "output_type": "execute_result"
    }
   ],
   "source": [
    "#merging all of the dataframes together\n",
    "\n",
    "merge2t = pd.merge(airport_stats_df_total, fault_at_airports_total, on=\"Origin\", how=\"left\")\n",
    "\n",
    "merge3t = pd.merge(merge2t, holiday_performance_df_total, on=\"Origin\", how=\"left\")\n",
    "\n",
    "merge4t = pd.merge(merge3t, how_extreme_delays_total, on=\"Origin\", how=\"left\")\n",
    "\n",
    "Final_merget = merge4t[[\"Origin\", \"percent_delayed\", \"percent_diverted_cancelled\", \"PercentAirlineFault\"]]\n",
    "Final_merget[\"HolidayPercentDelayed\"] = merge4t[\"Delayed\"]\n",
    "Final_merget[\"HowExtremeDelay\"] = merge4t[\"ArrDelayMinutes\"]\n",
    "Final_merget[\"HolidayPercentDelayed\"] = Final_merget[\"HolidayPercentDelayed\"].fillna(0)\n",
    "Final_merget"
   ]
  },
  {
   "cell_type": "markdown",
   "id": "0bc007f2",
   "metadata": {},
   "source": [
    "#### Alaska airlines analysis"
   ]
  },
  {
   "cell_type": "code",
   "execution_count": 12,
   "id": "dcb83c4b",
   "metadata": {},
   "outputs": [
    {
     "data": {
      "text/plain": [
       "(227699, 42)"
      ]
     },
     "execution_count": 12,
     "metadata": {},
     "output_type": "execute_result"
    }
   ],
   "source": [
    "df_alaska = df_2[df_2[\"Operating_Airline\"] == \"AS\"]\n",
    "df_alaska.shape"
   ]
  },
  {
   "cell_type": "code",
   "execution_count": 13,
   "id": "2c822c64",
   "metadata": {},
   "outputs": [
    {
     "data": {
      "application/vnd.microsoft.datawrangler.viewer.v0+json": {
       "columns": [
        {
         "name": "Region",
         "rawType": "object",
         "type": "string"
        },
        {
         "name": "Flights",
         "rawType": "float64",
         "type": "float"
        }
       ],
       "ref": "7bef165f-04e3-4778-8470-c7c51fe507ab",
       "rows": [
        [
         "Midwest",
         "3.14098876147897"
        ],
        [
         "Northeast",
         "4.895058827662836"
        ],
        [
         "South",
         "8.307019354498703"
        ],
        [
         "West",
         "83.65693305635949"
        ]
       ],
       "shape": {
        "columns": 1,
        "rows": 4
       }
      },
      "text/plain": [
       "Region\n",
       "Midwest       3.140989\n",
       "Northeast     4.895059\n",
       "South         8.307019\n",
       "West         83.656933\n",
       "Name: Flights, dtype: float64"
      ]
     },
     "execution_count": 13,
     "metadata": {},
     "output_type": "execute_result"
    }
   ],
   "source": [
    "#where alaska is flying - regions\n",
    "alaska_percent_regions = df_alaska.groupby(\"Region\")[\"Flights\"].sum() / len(df_alaska[\"Flights\"])\n",
    "alaska_percent_regions * 100"
   ]
  },
  {
   "cell_type": "code",
   "execution_count": 14,
   "id": "16f53f4e",
   "metadata": {},
   "outputs": [
    {
     "data": {
      "application/vnd.microsoft.datawrangler.viewer.v0+json": {
       "columns": [
        {
         "name": "index",
         "rawType": "int64",
         "type": "integer"
        },
        {
         "name": "Origin",
         "rawType": "object",
         "type": "string"
        },
        {
         "name": "Percentage_airline_flights",
         "rawType": "float64",
         "type": "float"
        }
       ],
       "ref": "a71200ab-d6b2-438b-96e8-c177c0f7aaf8",
       "rows": [
        [
         "0",
         "ABQ",
         "0.0030259245758655065"
        ],
        [
         "1",
         "ADK",
         "0.0004567433322061142"
        ],
        [
         "2",
         "ADQ",
         "0.004022854733661544"
        ],
        [
         "3",
         "AKN",
         "0.0010101054462250602"
        ],
        [
         "4",
         "ANC",
         "0.06332921971550161"
        ],
        [
         "5",
         "ATL",
         "0.004251226399764602"
        ],
        [
         "6",
         "AUS",
         "0.0131796801918322"
        ],
        [
         "7",
         "BET",
         "0.0031269351204880128"
        ],
        [
         "8",
         "BNA",
         "0.003056666915533226"
        ],
        [
         "9",
         "BOI",
         "0.006684262996324094"
        ],
        [
         "10",
         "BOS",
         "0.01038212728206975"
        ],
        [
         "11",
         "BRW",
         "0.0015942098999117255"
        ],
        [
         "12",
         "BUR",
         "0.0077207190194072"
        ],
        [
         "13",
         "BWI",
         "0.0020685202833565365"
        ],
        [
         "14",
         "BZN",
         "0.00300835752462681"
        ],
        [
         "15",
         "CDV",
         "0.0015854263742923773"
        ],
        [
         "16",
         "CHS",
         "0.001550292271814984"
        ],
        [
         "17",
         "CLE",
         "0.0012692194519958366"
        ],
        [
         "18",
         "CMH",
         "0.0015371169833859613"
        ],
        [
         "19",
         "CVG",
         "0.0015942098999117255"
        ],
        [
         "20",
         "DAL",
         "0.0031928115626331252"
        ],
        [
         "21",
         "DCA",
         "0.007993008313606999"
        ],
        [
         "22",
         "DEN",
         "0.008115977672277876"
        ],
        [
         "23",
         "DFW",
         "0.008379483440858326"
        ],
        [
         "24",
         "DLG",
         "0.00048309390906415927"
        ],
        [
         "25",
         "DTW",
         "0.0020377779436888174"
        ],
        [
         "26",
         "ELP",
         "0.001532725220576287"
        ],
        [
         "27",
         "EUG",
         "0.00011857759586120273"
        ],
        [
         "28",
         "EWR",
         "0.01599040839002367"
        ],
        [
         "29",
         "FAI",
         "0.011642563208446238"
        ],
        [
         "30",
         "FAT",
         "0.0014668487784311745"
        ],
        [
         "31",
         "FLL",
         "0.003961370054326106"
        ],
        [
         "32",
         "GEG",
         "0.0101186215134893"
        ],
        [
         "33",
         "HNL",
         "0.014571869002498914"
        ],
        [
         "34",
         "IAD",
         "0.006201169087259936"
        ],
        [
         "35",
         "IAH",
         "0.0031225433576783385"
        ],
        [
         "36",
         "IND",
         "0.0020377779436888174"
        ],
        [
         "37",
         "JAC",
         "0.0005928879793060136"
        ],
        [
         "38",
         "JFK",
         "0.018388310884105773"
        ],
        [
         "39",
         "JNU",
         "0.011993904233220172"
        ],
        [
         "40",
         "KOA",
         "0.008063276518561785"
        ],
        [
         "41",
         "KTN",
         "0.0057224669410054505"
        ],
        [
         "42",
         "LAS",
         "0.024672923464749516"
        ],
        [
         "43",
         "LAX",
         "0.04079069297625374"
        ],
        [
         "44",
         "LIH",
         "0.006218736138498632"
        ],
        [
         "45",
         "MCI",
         "0.0027975529097624494"
        ],
        [
         "46",
         "MCO",
         "0.010285508500256918"
        ],
        [
         "47",
         "MIA",
         "0.0012692194519958366"
        ],
        [
         "48",
         "MKE",
         "0.0015151581693375903"
        ],
        [
         "49",
         "MSP",
         "0.00375495720227142"
        ]
       ],
       "shape": {
        "columns": 2,
        "rows": 84
       }
      },
      "text/html": [
       "<div>\n",
       "<style scoped>\n",
       "    .dataframe tbody tr th:only-of-type {\n",
       "        vertical-align: middle;\n",
       "    }\n",
       "\n",
       "    .dataframe tbody tr th {\n",
       "        vertical-align: top;\n",
       "    }\n",
       "\n",
       "    .dataframe thead th {\n",
       "        text-align: right;\n",
       "    }\n",
       "</style>\n",
       "<table border=\"1\" class=\"dataframe\">\n",
       "  <thead>\n",
       "    <tr style=\"text-align: right;\">\n",
       "      <th></th>\n",
       "      <th>Origin</th>\n",
       "      <th>Percentage_airline_flights</th>\n",
       "    </tr>\n",
       "  </thead>\n",
       "  <tbody>\n",
       "    <tr>\n",
       "      <th>0</th>\n",
       "      <td>ABQ</td>\n",
       "      <td>0.003026</td>\n",
       "    </tr>\n",
       "    <tr>\n",
       "      <th>1</th>\n",
       "      <td>ADK</td>\n",
       "      <td>0.000457</td>\n",
       "    </tr>\n",
       "    <tr>\n",
       "      <th>2</th>\n",
       "      <td>ADQ</td>\n",
       "      <td>0.004023</td>\n",
       "    </tr>\n",
       "    <tr>\n",
       "      <th>3</th>\n",
       "      <td>AKN</td>\n",
       "      <td>0.001010</td>\n",
       "    </tr>\n",
       "    <tr>\n",
       "      <th>4</th>\n",
       "      <td>ANC</td>\n",
       "      <td>0.063329</td>\n",
       "    </tr>\n",
       "    <tr>\n",
       "      <th>...</th>\n",
       "      <td>...</td>\n",
       "      <td>...</td>\n",
       "    </tr>\n",
       "    <tr>\n",
       "      <th>79</th>\n",
       "      <td>SNA</td>\n",
       "      <td>0.015472</td>\n",
       "    </tr>\n",
       "    <tr>\n",
       "      <th>80</th>\n",
       "      <td>STL</td>\n",
       "      <td>0.002398</td>\n",
       "    </tr>\n",
       "    <tr>\n",
       "      <th>81</th>\n",
       "      <td>STS</td>\n",
       "      <td>0.000843</td>\n",
       "    </tr>\n",
       "    <tr>\n",
       "      <th>82</th>\n",
       "      <td>TPA</td>\n",
       "      <td>0.003606</td>\n",
       "    </tr>\n",
       "    <tr>\n",
       "      <th>83</th>\n",
       "      <td>TUS</td>\n",
       "      <td>0.001809</td>\n",
       "    </tr>\n",
       "  </tbody>\n",
       "</table>\n",
       "<p>84 rows × 2 columns</p>\n",
       "</div>"
      ],
      "text/plain": [
       "   Origin  Percentage_airline_flights\n",
       "0     ABQ                    0.003026\n",
       "1     ADK                    0.000457\n",
       "2     ADQ                    0.004023\n",
       "3     AKN                    0.001010\n",
       "4     ANC                    0.063329\n",
       "..    ...                         ...\n",
       "79    SNA                    0.015472\n",
       "80    STL                    0.002398\n",
       "81    STS                    0.000843\n",
       "82    TPA                    0.003606\n",
       "83    TUS                    0.001809\n",
       "\n",
       "[84 rows x 2 columns]"
      ]
     },
     "execution_count": 14,
     "metadata": {},
     "output_type": "execute_result"
    }
   ],
   "source": [
    "#Where alaska is flying - airports\n",
    "alaska_percent_airports = (pd.DataFrame(df_alaska.groupby(\"Origin\")[\"Flights\"].sum() / len(df_alaska[\"Flights\"]))).reset_index()\n",
    "alaska_percent_airports.rename(columns={\"Flights\" : \"Percentage_airline_flights\"}, inplace=True)\n",
    "alaska_percent_airports\n"
   ]
  },
  {
   "cell_type": "code",
   "execution_count": 15,
   "id": "e9f2e1ab",
   "metadata": {},
   "outputs": [
    {
     "data": {
      "application/vnd.microsoft.datawrangler.viewer.v0+json": {
       "columns": [
        {
         "name": "index",
         "rawType": "int64",
         "type": "integer"
        },
        {
         "name": "Origin",
         "rawType": "object",
         "type": "string"
        },
        {
         "name": "PercentAirlineFault",
         "rawType": "float64",
         "type": "float"
        }
       ],
       "ref": "0c4e63c7-d58b-4a8f-ac1c-26994f415feb",
       "rows": [
        [
         "0",
         "ABQ",
         "0.25380144098888785"
        ],
        [
         "1",
         "ADK",
         "0.06962119614871037"
        ],
        [
         "2",
         "ADQ",
         "0.2599735775674132"
        ],
        [
         "3",
         "AKN",
         "0.03217260829419086"
        ],
        [
         "4",
         "ANC",
         "0.32511373051210446"
        ],
        [
         "5",
         "ATL",
         "0.29855899050590806"
        ],
        [
         "6",
         "AUS",
         "0.2051762865545004"
        ],
        [
         "7",
         "BET",
         "0.08930582088227251"
        ],
        [
         "8",
         "BNA",
         "0.34287535403106717"
        ],
        [
         "9",
         "BOI",
         "0.25405793718604264"
        ],
        [
         "10",
         "BOS",
         "0.13703300364783638"
        ],
        [
         "11",
         "BRW",
         "0.06874022437475197"
        ],
        [
         "12",
         "BUR",
         "0.2034047801884484"
        ],
        [
         "13",
         "BWI",
         "0.2751123683546298"
        ],
        [
         "14",
         "BZN",
         "0.2422518311880459"
        ],
        [
         "15",
         "CDV",
         "0.12544666232559015"
        ],
        [
         "16",
         "CHS",
         "0.3530418645549548"
        ],
        [
         "17",
         "CLE",
         "0.31513933031621183"
        ],
        [
         "18",
         "CMH",
         "0.266137150534201"
        ],
        [
         "19",
         "CVG",
         "0.17598198602361717"
        ],
        [
         "20",
         "DAL",
         "0.08550218775703172"
        ],
        [
         "21",
         "DCA",
         "0.21013774884619013"
        ],
        [
         "22",
         "DEN",
         "0.2900758243256695"
        ],
        [
         "23",
         "DFW",
         "0.2338161579732992"
        ],
        [
         "24",
         "DLG",
         "0.20240672884743505"
        ],
        [
         "25",
         "DTW",
         "0.21945574697809248"
        ],
        [
         "26",
         "ELP",
         "0.2949916732999947"
        ],
        [
         "27",
         "EUG",
         "0.045454545454545456"
        ],
        [
         "28",
         "EWR",
         "0.11053837544936353"
        ],
        [
         "29",
         "FAI",
         "0.19764741887344023"
        ],
        [
         "30",
         "FAT",
         "0.11695858332052429"
        ],
        [
         "31",
         "FLL",
         "0.22430201681797923"
        ],
        [
         "32",
         "GEG",
         "0.31558524949947725"
        ],
        [
         "33",
         "HNL",
         "0.22837460872821086"
        ],
        [
         "34",
         "IAD",
         "0.24936689524568384"
        ],
        [
         "35",
         "IAH",
         "0.19446358072705058"
        ],
        [
         "36",
         "IND",
         "0.23394986782691526"
        ],
        [
         "37",
         "JAC",
         "0.32641124006092087"
        ],
        [
         "38",
         "JFK",
         "0.2049637071209446"
        ],
        [
         "39",
         "JNU",
         "0.24569300904394417"
        ],
        [
         "40",
         "KOA",
         "0.2074607791338016"
        ],
        [
         "41",
         "KTN",
         "0.11929355814835792"
        ],
        [
         "42",
         "LAS",
         "0.1905399140107869"
        ],
        [
         "43",
         "LAX",
         "0.24696301054974631"
        ],
        [
         "44",
         "LIH",
         "0.0810535980212304"
        ],
        [
         "45",
         "MCI",
         "0.2363996343190531"
        ],
        [
         "46",
         "MCO",
         "0.1994464288209258"
        ],
        [
         "47",
         "MIA",
         "0.17501802388394425"
        ],
        [
         "48",
         "MKE",
         "0.12285200772032426"
        ],
        [
         "49",
         "MSP",
         "0.3710870828626306"
        ]
       ],
       "shape": {
        "columns": 2,
        "rows": 84
       }
      },
      "text/html": [
       "<div>\n",
       "<style scoped>\n",
       "    .dataframe tbody tr th:only-of-type {\n",
       "        vertical-align: middle;\n",
       "    }\n",
       "\n",
       "    .dataframe tbody tr th {\n",
       "        vertical-align: top;\n",
       "    }\n",
       "\n",
       "    .dataframe thead th {\n",
       "        text-align: right;\n",
       "    }\n",
       "</style>\n",
       "<table border=\"1\" class=\"dataframe\">\n",
       "  <thead>\n",
       "    <tr style=\"text-align: right;\">\n",
       "      <th></th>\n",
       "      <th>Origin</th>\n",
       "      <th>PercentAirlineFault</th>\n",
       "    </tr>\n",
       "  </thead>\n",
       "  <tbody>\n",
       "    <tr>\n",
       "      <th>0</th>\n",
       "      <td>ABQ</td>\n",
       "      <td>0.253801</td>\n",
       "    </tr>\n",
       "    <tr>\n",
       "      <th>1</th>\n",
       "      <td>ADK</td>\n",
       "      <td>0.069621</td>\n",
       "    </tr>\n",
       "    <tr>\n",
       "      <th>2</th>\n",
       "      <td>ADQ</td>\n",
       "      <td>0.259974</td>\n",
       "    </tr>\n",
       "    <tr>\n",
       "      <th>3</th>\n",
       "      <td>AKN</td>\n",
       "      <td>0.032173</td>\n",
       "    </tr>\n",
       "    <tr>\n",
       "      <th>4</th>\n",
       "      <td>ANC</td>\n",
       "      <td>0.325114</td>\n",
       "    </tr>\n",
       "    <tr>\n",
       "      <th>...</th>\n",
       "      <td>...</td>\n",
       "      <td>...</td>\n",
       "    </tr>\n",
       "    <tr>\n",
       "      <th>79</th>\n",
       "      <td>SNA</td>\n",
       "      <td>0.184864</td>\n",
       "    </tr>\n",
       "    <tr>\n",
       "      <th>80</th>\n",
       "      <td>STL</td>\n",
       "      <td>0.394896</td>\n",
       "    </tr>\n",
       "    <tr>\n",
       "      <th>81</th>\n",
       "      <td>STS</td>\n",
       "      <td>0.156903</td>\n",
       "    </tr>\n",
       "    <tr>\n",
       "      <th>82</th>\n",
       "      <td>TPA</td>\n",
       "      <td>0.187796</td>\n",
       "    </tr>\n",
       "    <tr>\n",
       "      <th>83</th>\n",
       "      <td>TUS</td>\n",
       "      <td>0.139297</td>\n",
       "    </tr>\n",
       "  </tbody>\n",
       "</table>\n",
       "<p>84 rows × 2 columns</p>\n",
       "</div>"
      ],
      "text/plain": [
       "   Origin  PercentAirlineFault\n",
       "0     ABQ             0.253801\n",
       "1     ADK             0.069621\n",
       "2     ADQ             0.259974\n",
       "3     AKN             0.032173\n",
       "4     ANC             0.325114\n",
       "..    ...                  ...\n",
       "79    SNA             0.184864\n",
       "80    STL             0.394896\n",
       "81    STS             0.156903\n",
       "82    TPA             0.187796\n",
       "83    TUS             0.139297\n",
       "\n",
       "[84 rows x 2 columns]"
      ]
     },
     "execution_count": 15,
     "metadata": {},
     "output_type": "execute_result"
    }
   ],
   "source": [
    "#what percent of delays are the airlines fault\n",
    "when_delayed_df = df_alaska[df_alaska[\"TotalDelay\"] != 0][[\"NASDelay\", \"SecurityDelay\", \"CarrierDelay\", \n",
    "                                                                   \"WeatherDelay\", \"LateAircraftDelay\", \"Origin\", \"TotalDelay\"]]\n",
    "\n",
    "when_delayed_df = when_delayed_df.reset_index()\n",
    "\n",
    "when_delayed_df[\"PercentAirlineFault\"] = ((when_delayed_df[\"CarrierDelay\"]) / when_delayed_df[\"TotalDelay\"])\n",
    "\n",
    "fault_at_airports = when_delayed_df.groupby(\"Origin\")[\"PercentAirlineFault\"].mean().reset_index()\n",
    "fault_at_airports"
   ]
  },
  {
   "cell_type": "code",
   "execution_count": 16,
   "id": "fd460a18",
   "metadata": {},
   "outputs": [
    {
     "data": {
      "application/vnd.microsoft.datawrangler.viewer.v0+json": {
       "columns": [
        {
         "name": "index",
         "rawType": "int64",
         "type": "integer"
        },
        {
         "name": "Origin",
         "rawType": "object",
         "type": "string"
        },
        {
         "name": "percent_delayed",
         "rawType": "float64",
         "type": "float"
        },
        {
         "name": "percent_diverted_cancelled",
         "rawType": "float64",
         "type": "float"
        }
       ],
       "ref": "8a8eb142-7abe-4e09-8645-112839e90689",
       "rows": [
        [
         "0",
         "ABQ",
         "0.3381712626995646",
         "0.027576197387518143"
        ],
        [
         "1",
         "ADK",
         "0.4326923076923077",
         "0.028846153846153848"
        ],
        [
         "2",
         "ADQ",
         "0.2794759825327511",
         "0.03384279475982533"
        ],
        [
         "3",
         "AKN",
         "0.5695652173913044",
         "0.021739130434782608"
        ],
        [
         "4",
         "ANC",
         "0.3852981969486824",
         "0.023994452149791956"
        ],
        [
         "5",
         "ATL",
         "0.36363636363636365",
         "0.027892561983471075"
        ],
        [
         "6",
         "AUS",
         "0.3795401532822393",
         "0.029656781072975674"
        ],
        [
         "7",
         "BET",
         "0.6067415730337079",
         "0.02247191011235955"
        ],
        [
         "8",
         "BNA",
         "0.5014367816091954",
         "0.02586206896551724"
        ],
        [
         "9",
         "BOI",
         "0.3876478318002628",
         "0.020367936925098553"
        ],
        [
         "10",
         "BOS",
         "0.3422165820642978",
         "0.02284263959390863"
        ],
        [
         "11",
         "BRW",
         "0.6225895316804407",
         "0.09090909090909091"
        ],
        [
         "12",
         "BUR",
         "0.29465301478953354",
         "0.030147895335608646"
        ],
        [
         "13",
         "BWI",
         "0.3205944798301486",
         "0.055201698513800426"
        ],
        [
         "14",
         "BZN",
         "0.39416058394160586",
         "0.02335766423357664"
        ],
        [
         "15",
         "CDV",
         "0.3628808864265928",
         "0.0443213296398892"
        ],
        [
         "16",
         "CHS",
         "0.42209631728045327",
         "0.042492917847025496"
        ],
        [
         "17",
         "CLE",
         "0.370242214532872",
         "0.02422145328719723"
        ],
        [
         "18",
         "CMH",
         "0.34285714285714286",
         "0.04857142857142857"
        ],
        [
         "19",
         "CVG",
         "0.2727272727272727",
         "0.027548209366391185"
        ],
        [
         "20",
         "DAL",
         "0.3658872077028886",
         "0.037138927097661624"
        ],
        [
         "21",
         "DCA",
         "0.41098901098901097",
         "0.03021978021978022"
        ],
        [
         "22",
         "DEN",
         "0.41179653679653677",
         "0.024891774891774892"
        ],
        [
         "23",
         "DFW",
         "0.379979035639413",
         "0.031446540880503145"
        ],
        [
         "24",
         "DLG",
         "0.36363636363636365",
         "0.0"
        ],
        [
         "25",
         "DTW",
         "0.3620689655172414",
         "0.028017241379310345"
        ],
        [
         "26",
         "ELP",
         "0.30659025787965616",
         "0.017191977077363897"
        ],
        [
         "27",
         "EUG",
         "0.2962962962962963",
         "0.0"
        ],
        [
         "28",
         "EWR",
         "0.4636088986542159",
         "0.03048613018401538"
        ],
        [
         "29",
         "FAI",
         "0.3824971708789136",
         "0.01886080724254998"
        ],
        [
         "30",
         "FAT",
         "0.3383233532934132",
         "0.03293413173652695"
        ],
        [
         "31",
         "FLL",
         "0.4878048780487805",
         "0.0598669623059867"
        ],
        [
         "32",
         "GEG",
         "0.3893229166666667",
         "0.019965277777777776"
        ],
        [
         "33",
         "HNL",
         "0.43037974683544306",
         "0.018685955394816153"
        ],
        [
         "34",
         "IAD",
         "0.43626062322946174",
         "0.02762039660056657"
        ],
        [
         "35",
         "IAH",
         "0.36146272855133615",
         "0.02390998593530239"
        ],
        [
         "36",
         "IND",
         "0.33189655172413796",
         "0.01939655172413793"
        ],
        [
         "37",
         "JAC",
         "0.5185185185185185",
         "0.037037037037037035"
        ],
        [
         "38",
         "JFK",
         "0.28827322665392885",
         "0.022211607356102222"
        ],
        [
         "39",
         "JNU",
         "0.32954961552544854",
         "0.02856096667887221"
        ],
        [
         "40",
         "KOA",
         "0.4395424836601307",
         "0.02287581699346405"
        ],
        [
         "41",
         "KTN",
         "0.30237912509593246",
         "0.02532617037605526"
        ],
        [
         "42",
         "LAS",
         "0.4318262726949092",
         "0.026699893200427198"
        ],
        [
         "43",
         "LAX",
         "0.3775839793281654",
         "0.027777777777777776"
        ],
        [
         "44",
         "LIH",
         "0.4244350282485876",
         "0.026129943502824857"
        ],
        [
         "45",
         "MCI",
         "0.28414442700156983",
         "0.02511773940345369"
        ],
        [
         "46",
         "MCO",
         "0.43509820666097354",
         "0.035439795046968404"
        ],
        [
         "47",
         "MIA",
         "0.3737024221453287",
         "0.03460207612456748"
        ],
        [
         "48",
         "MKE",
         "0.33043478260869563",
         "0.03768115942028986"
        ],
        [
         "49",
         "MSP",
         "0.4128654970760234",
         "0.022222222222222223"
        ]
       ],
       "shape": {
        "columns": 3,
        "rows": 84
       }
      },
      "text/html": [
       "<div>\n",
       "<style scoped>\n",
       "    .dataframe tbody tr th:only-of-type {\n",
       "        vertical-align: middle;\n",
       "    }\n",
       "\n",
       "    .dataframe tbody tr th {\n",
       "        vertical-align: top;\n",
       "    }\n",
       "\n",
       "    .dataframe thead th {\n",
       "        text-align: right;\n",
       "    }\n",
       "</style>\n",
       "<table border=\"1\" class=\"dataframe\">\n",
       "  <thead>\n",
       "    <tr style=\"text-align: right;\">\n",
       "      <th></th>\n",
       "      <th>Origin</th>\n",
       "      <th>percent_delayed</th>\n",
       "      <th>percent_diverted_cancelled</th>\n",
       "    </tr>\n",
       "  </thead>\n",
       "  <tbody>\n",
       "    <tr>\n",
       "      <th>0</th>\n",
       "      <td>ABQ</td>\n",
       "      <td>0.338171</td>\n",
       "      <td>0.027576</td>\n",
       "    </tr>\n",
       "    <tr>\n",
       "      <th>1</th>\n",
       "      <td>ADK</td>\n",
       "      <td>0.432692</td>\n",
       "      <td>0.028846</td>\n",
       "    </tr>\n",
       "    <tr>\n",
       "      <th>2</th>\n",
       "      <td>ADQ</td>\n",
       "      <td>0.279476</td>\n",
       "      <td>0.033843</td>\n",
       "    </tr>\n",
       "    <tr>\n",
       "      <th>3</th>\n",
       "      <td>AKN</td>\n",
       "      <td>0.569565</td>\n",
       "      <td>0.021739</td>\n",
       "    </tr>\n",
       "    <tr>\n",
       "      <th>4</th>\n",
       "      <td>ANC</td>\n",
       "      <td>0.385298</td>\n",
       "      <td>0.023994</td>\n",
       "    </tr>\n",
       "    <tr>\n",
       "      <th>...</th>\n",
       "      <td>...</td>\n",
       "      <td>...</td>\n",
       "      <td>...</td>\n",
       "    </tr>\n",
       "    <tr>\n",
       "      <th>79</th>\n",
       "      <td>SNA</td>\n",
       "      <td>0.314789</td>\n",
       "      <td>0.034346</td>\n",
       "    </tr>\n",
       "    <tr>\n",
       "      <th>80</th>\n",
       "      <td>STL</td>\n",
       "      <td>0.358974</td>\n",
       "      <td>0.025641</td>\n",
       "    </tr>\n",
       "    <tr>\n",
       "      <th>81</th>\n",
       "      <td>STS</td>\n",
       "      <td>0.489583</td>\n",
       "      <td>0.015625</td>\n",
       "    </tr>\n",
       "    <tr>\n",
       "      <th>82</th>\n",
       "      <td>TPA</td>\n",
       "      <td>0.337393</td>\n",
       "      <td>0.035323</td>\n",
       "    </tr>\n",
       "    <tr>\n",
       "      <th>83</th>\n",
       "      <td>TUS</td>\n",
       "      <td>0.364078</td>\n",
       "      <td>0.007282</td>\n",
       "    </tr>\n",
       "  </tbody>\n",
       "</table>\n",
       "<p>84 rows × 3 columns</p>\n",
       "</div>"
      ],
      "text/plain": [
       "   Origin  percent_delayed  percent_diverted_cancelled\n",
       "0     ABQ         0.338171                    0.027576\n",
       "1     ADK         0.432692                    0.028846\n",
       "2     ADQ         0.279476                    0.033843\n",
       "3     AKN         0.569565                    0.021739\n",
       "4     ANC         0.385298                    0.023994\n",
       "..    ...              ...                         ...\n",
       "79    SNA         0.314789                    0.034346\n",
       "80    STL         0.358974                    0.025641\n",
       "81    STS         0.489583                    0.015625\n",
       "82    TPA         0.337393                    0.035323\n",
       "83    TUS         0.364078                    0.007282\n",
       "\n",
       "[84 rows x 3 columns]"
      ]
     },
     "execution_count": 16,
     "metadata": {},
     "output_type": "execute_result"
    }
   ],
   "source": [
    "#percent of flights delayed and flights delayed/cancelled\n",
    "airport_stats_df = df_alaska.groupby(\"Origin\").agg(\n",
    "    percent_delayed = (\"Delayed\", \"mean\"),\n",
    "    percent_diverted_cancelled = (\"CancOrDiv\", \"mean\")).reset_index() \n",
    "\n",
    "airport_stats_df"
   ]
  },
  {
   "cell_type": "code",
   "execution_count": 17,
   "id": "46e5df53",
   "metadata": {},
   "outputs": [
    {
     "data": {
      "application/vnd.microsoft.datawrangler.viewer.v0+json": {
       "columns": [
        {
         "name": "index",
         "rawType": "int64",
         "type": "integer"
        },
        {
         "name": "Origin",
         "rawType": "object",
         "type": "string"
        },
        {
         "name": "Delayed",
         "rawType": "float64",
         "type": "float"
        }
       ],
       "ref": "109c62bd-504b-4a59-a11a-14dacacaf437",
       "rows": [
        [
         "0",
         "ABQ",
         "0.39285714285714285"
        ],
        [
         "1",
         "ADQ",
         "0.32142857142857145"
        ],
        [
         "2",
         "AKN",
         "0.4"
        ],
        [
         "3",
         "ANC",
         "0.3699421965317919"
        ],
        [
         "4",
         "ATL",
         "0.34210526315789475"
        ],
        [
         "5",
         "AUS",
         "0.3828125"
        ],
        [
         "6",
         "BET",
         "0.5454545454545454"
        ],
        [
         "7",
         "BNA",
         "0.5555555555555556"
        ],
        [
         "8",
         "BOI",
         "0.46875"
        ],
        [
         "9",
         "BOS",
         "0.3258426966292135"
        ]
       ],
       "shape": {
        "columns": 2,
        "rows": 10
       }
      },
      "text/html": [
       "<div>\n",
       "<style scoped>\n",
       "    .dataframe tbody tr th:only-of-type {\n",
       "        vertical-align: middle;\n",
       "    }\n",
       "\n",
       "    .dataframe tbody tr th {\n",
       "        vertical-align: top;\n",
       "    }\n",
       "\n",
       "    .dataframe thead th {\n",
       "        text-align: right;\n",
       "    }\n",
       "</style>\n",
       "<table border=\"1\" class=\"dataframe\">\n",
       "  <thead>\n",
       "    <tr style=\"text-align: right;\">\n",
       "      <th></th>\n",
       "      <th>Origin</th>\n",
       "      <th>Delayed</th>\n",
       "    </tr>\n",
       "  </thead>\n",
       "  <tbody>\n",
       "    <tr>\n",
       "      <th>0</th>\n",
       "      <td>ABQ</td>\n",
       "      <td>0.392857</td>\n",
       "    </tr>\n",
       "    <tr>\n",
       "      <th>1</th>\n",
       "      <td>ADQ</td>\n",
       "      <td>0.321429</td>\n",
       "    </tr>\n",
       "    <tr>\n",
       "      <th>2</th>\n",
       "      <td>AKN</td>\n",
       "      <td>0.400000</td>\n",
       "    </tr>\n",
       "    <tr>\n",
       "      <th>3</th>\n",
       "      <td>ANC</td>\n",
       "      <td>0.369942</td>\n",
       "    </tr>\n",
       "    <tr>\n",
       "      <th>4</th>\n",
       "      <td>ATL</td>\n",
       "      <td>0.342105</td>\n",
       "    </tr>\n",
       "    <tr>\n",
       "      <th>5</th>\n",
       "      <td>AUS</td>\n",
       "      <td>0.382812</td>\n",
       "    </tr>\n",
       "    <tr>\n",
       "      <th>6</th>\n",
       "      <td>BET</td>\n",
       "      <td>0.545455</td>\n",
       "    </tr>\n",
       "    <tr>\n",
       "      <th>7</th>\n",
       "      <td>BNA</td>\n",
       "      <td>0.555556</td>\n",
       "    </tr>\n",
       "    <tr>\n",
       "      <th>8</th>\n",
       "      <td>BOI</td>\n",
       "      <td>0.468750</td>\n",
       "    </tr>\n",
       "    <tr>\n",
       "      <th>9</th>\n",
       "      <td>BOS</td>\n",
       "      <td>0.325843</td>\n",
       "    </tr>\n",
       "  </tbody>\n",
       "</table>\n",
       "</div>"
      ],
      "text/plain": [
       "  Origin   Delayed\n",
       "0    ABQ  0.392857\n",
       "1    ADQ  0.321429\n",
       "2    AKN  0.400000\n",
       "3    ANC  0.369942\n",
       "4    ATL  0.342105\n",
       "5    AUS  0.382812\n",
       "6    BET  0.545455\n",
       "7    BNA  0.555556\n",
       "8    BOI  0.468750\n",
       "9    BOS  0.325843"
      ]
     },
     "execution_count": 17,
     "metadata": {},
     "output_type": "execute_result"
    }
   ],
   "source": [
    "#holiday performance at each airport\n",
    "holiday_df = df_alaska[df_alaska[\"Is_Holiday\"] == 1]\n",
    "\n",
    "holiday_performance_df = holiday_df.groupby(\"Origin\")[\"Delayed\"].mean().reset_index()\n",
    "holiday_performance_df.head(10)"
   ]
  },
  {
   "cell_type": "code",
   "execution_count": 18,
   "id": "850e2441",
   "metadata": {},
   "outputs": [],
   "source": [
    "#how extreme is the average delay\n",
    "only_delayed_flights = df_alaska[df_alaska[\"Delayed\"] == 1]\n",
    "how_extreme_delays = only_delayed_flights.groupby(\"Origin\")[\"ArrDelayMinutes\"].mean().reset_index()"
   ]
  },
  {
   "cell_type": "code",
   "execution_count": 19,
   "id": "efedfaed",
   "metadata": {},
   "outputs": [
    {
     "name": "stderr",
     "output_type": "stream",
     "text": [
      "C:\\Users\\bmhawley\\AppData\\Local\\Temp\\4\\ipykernel_35304\\560487492.py:11: SettingWithCopyWarning: \n",
      "A value is trying to be set on a copy of a slice from a DataFrame.\n",
      "Try using .loc[row_indexer,col_indexer] = value instead\n",
      "\n",
      "See the caveats in the documentation: https://pandas.pydata.org/pandas-docs/stable/user_guide/indexing.html#returning-a-view-versus-a-copy\n",
      "  Final_merge[\"HolidayPercentDelayed\"] = merge4[\"Delayed\"]\n"
     ]
    },
    {
     "data": {
      "application/vnd.microsoft.datawrangler.viewer.v0+json": {
       "columns": [
        {
         "name": "index",
         "rawType": "int64",
         "type": "integer"
        },
        {
         "name": "Origin",
         "rawType": "object",
         "type": "string"
        },
        {
         "name": "Percentage_airline_flights",
         "rawType": "float64",
         "type": "float"
        },
        {
         "name": "percent_delayed",
         "rawType": "float64",
         "type": "float"
        },
        {
         "name": "percent_diverted_cancelled",
         "rawType": "float64",
         "type": "float"
        },
        {
         "name": "PercentAirlineFault",
         "rawType": "float64",
         "type": "float"
        },
        {
         "name": "HolidayPercentDelayed",
         "rawType": "float64",
         "type": "float"
        },
        {
         "name": "HowExtremeDelay",
         "rawType": "float64",
         "type": "float"
        }
       ],
       "ref": "8eef4357-c5da-4328-a36b-13679d068804",
       "rows": [
        [
         "0",
         "ABQ",
         "0.0030259245758655065",
         "0.3381712626995646",
         "0.027576197387518143",
         "0.25380144098888785",
         "0.39285714285714285",
         "32.45922746781116"
        ],
        [
         "1",
         "ADK",
         "0.0004567433322061142",
         "0.4326923076923077",
         "0.028846153846153848",
         "0.06962119614871037",
         "0.0",
         "37.55555555555556"
        ],
        [
         "2",
         "ADQ",
         "0.004022854733661544",
         "0.2794759825327511",
         "0.03384279475982533",
         "0.2599735775674132",
         "0.32142857142857145",
         "30.49609375"
        ],
        [
         "3",
         "AKN",
         "0.0010101054462250602",
         "0.5695652173913044",
         "0.021739130434782608",
         "0.03217260829419086",
         "0.4",
         "43.76335877862596"
        ],
        [
         "4",
         "ANC",
         "0.06332921971550161",
         "0.3852981969486824",
         "0.023994452149791956",
         "0.32511373051210446",
         "0.3699421965317919",
         "23.277177825773936"
        ],
        [
         "5",
         "ATL",
         "0.004251226399764602",
         "0.36363636363636365",
         "0.027892561983471075",
         "0.29855899050590806",
         "0.34210526315789475",
         "26.599431818181817"
        ],
        [
         "6",
         "AUS",
         "0.0131796801918322",
         "0.3795401532822393",
         "0.029656781072975674",
         "0.2051762865545004",
         "0.3828125",
         "27.287093942054433"
        ],
        [
         "7",
         "BET",
         "0.0031269351204880128",
         "0.6067415730337079",
         "0.02247191011235955",
         "0.08930582088227251",
         "0.5454545454545454",
         "25.930555555555557"
        ],
        [
         "8",
         "BNA",
         "0.003056666915533226",
         "0.5014367816091954",
         "0.02586206896551724",
         "0.34287535403106717",
         "0.5555555555555556",
         "30.320916905444125"
        ],
        [
         "9",
         "BOI",
         "0.006684262996324094",
         "0.3876478318002628",
         "0.020367936925098553",
         "0.25405793718604264",
         "0.46875",
         "25.33050847457627"
        ],
        [
         "10",
         "BOS",
         "0.01038212728206975",
         "0.3422165820642978",
         "0.02284263959390863",
         "0.13703300364783638",
         "0.3258426966292135",
         "33.72682323856613"
        ],
        [
         "11",
         "BRW",
         "0.0015942098999117255",
         "0.6225895316804407",
         "0.09090909090909091",
         "0.06874022437475197",
         "0.45454545454545453",
         "31.81858407079646"
        ],
        [
         "12",
         "BUR",
         "0.0077207190194072",
         "0.29465301478953354",
         "0.030147895335608646",
         "0.2034047801884484",
         "0.36231884057971014",
         "35.55019305019305"
        ],
        [
         "13",
         "BWI",
         "0.0020685202833565365",
         "0.3205944798301486",
         "0.055201698513800426",
         "0.2751123683546298",
         "0.35294117647058826",
         "32.52317880794702"
        ],
        [
         "14",
         "BZN",
         "0.00300835752462681",
         "0.39416058394160586",
         "0.02335766423357664",
         "0.2422518311880459",
         "0.52",
         "29.996296296296297"
        ],
        [
         "15",
         "CDV",
         "0.0015854263742923773",
         "0.3628808864265928",
         "0.0443213296398892",
         "0.12544666232559015",
         "0.18181818181818182",
         "27.862595419847327"
        ],
        [
         "16",
         "CHS",
         "0.001550292271814984",
         "0.42209631728045327",
         "0.042492917847025496",
         "0.3530418645549548",
         "0.4166666666666667",
         "28.778523489932887"
        ],
        [
         "17",
         "CLE",
         "0.0012692194519958366",
         "0.370242214532872",
         "0.02422145328719723",
         "0.31513933031621183",
         "0.3076923076923077",
         "29.626168224299064"
        ],
        [
         "18",
         "CMH",
         "0.0015371169833859613",
         "0.34285714285714286",
         "0.04857142857142857",
         "0.266137150534201",
         "0.21428571428571427",
         "34.40833333333333"
        ],
        [
         "19",
         "CVG",
         "0.0015942098999117255",
         "0.2727272727272727",
         "0.027548209366391185",
         "0.17598198602361717",
         "0.23076923076923078",
         "37.464646464646464"
        ],
        [
         "20",
         "DAL",
         "0.0031928115626331252",
         "0.3658872077028886",
         "0.037138927097661624",
         "0.08550218775703172",
         "0.5185185185185185",
         "35.526315789473685"
        ],
        [
         "21",
         "DCA",
         "0.007993008313606999",
         "0.41098901098901097",
         "0.03021978021978022",
         "0.21013774884619013",
         "0.32857142857142857",
         "41.57620320855615"
        ],
        [
         "22",
         "DEN",
         "0.008115977672277876",
         "0.41179653679653677",
         "0.024891774891774892",
         "0.2900758243256695",
         "0.3125",
         "35.92904073587385"
        ],
        [
         "23",
         "DFW",
         "0.008379483440858326",
         "0.379979035639413",
         "0.031446540880503145",
         "0.2338161579732992",
         "0.4166666666666667",
         "35.19862068965517"
        ],
        [
         "24",
         "DLG",
         "0.00048309390906415927",
         "0.36363636363636365",
         "0.0",
         "0.20240672884743505",
         "0.2",
         "24.475"
        ],
        [
         "25",
         "DTW",
         "0.0020377779436888174",
         "0.3620689655172414",
         "0.028017241379310345",
         "0.21945574697809248",
         "0.5",
         "32.404761904761905"
        ],
        [
         "26",
         "ELP",
         "0.001532725220576287",
         "0.30659025787965616",
         "0.017191977077363897",
         "0.2949916732999947",
         "0.3076923076923077",
         "35.52336448598131"
        ],
        [
         "27",
         "EUG",
         "0.00011857759586120273",
         "0.2962962962962963",
         "0.0",
         "0.045454545454545456",
         "0.0",
         "12.75"
        ],
        [
         "28",
         "EWR",
         "0.01599040839002367",
         "0.4636088986542159",
         "0.03048613018401538",
         "0.11053837544936353",
         "0.30597014925373134",
         "45.747037914691944"
        ],
        [
         "29",
         "FAI",
         "0.011642563208446238",
         "0.3824971708789136",
         "0.01886080724254998",
         "0.19764741887344023",
         "0.3761467889908257",
         "22.669625246548325"
        ],
        [
         "30",
         "FAT",
         "0.0014668487784311745",
         "0.3383233532934132",
         "0.03293413173652695",
         "0.11695858332052429",
         "0.26666666666666666",
         "28.63716814159292"
        ],
        [
         "31",
         "FLL",
         "0.003961370054326106",
         "0.4878048780487805",
         "0.0598669623059867",
         "0.22430201681797923",
         "0.45",
         "42.268181818181816"
        ],
        [
         "32",
         "GEG",
         "0.0101186215134893",
         "0.3893229166666667",
         "0.019965277777777776",
         "0.31558524949947725",
         "0.4375",
         "29.150501672240804"
        ],
        [
         "33",
         "HNL",
         "0.014571869002498914",
         "0.43037974683544306",
         "0.018685955394816153",
         "0.22837460872821086",
         "0.43548387096774194",
         "36.22408963585434"
        ],
        [
         "34",
         "IAD",
         "0.006201169087259936",
         "0.43626062322946174",
         "0.02762039660056657",
         "0.24936689524568384",
         "0.25",
         "39.67857142857143"
        ],
        [
         "35",
         "IAH",
         "0.0031225433576783385",
         "0.36146272855133615",
         "0.02390998593530239",
         "0.19446358072705058",
         "0.4444444444444444",
         "32.96887159533074"
        ],
        [
         "36",
         "IND",
         "0.0020377779436888174",
         "0.33189655172413796",
         "0.01939655172413793",
         "0.23394986782691526",
         "0.3333333333333333",
         "35.188311688311686"
        ],
        [
         "37",
         "JAC",
         "0.0005928879793060136",
         "0.5185185185185185",
         "0.037037037037037035",
         "0.32641124006092087",
         "0.625",
         "38.957142857142856"
        ],
        [
         "38",
         "JFK",
         "0.018388310884105773",
         "0.28827322665392885",
         "0.022211607356102222",
         "0.2049637071209446",
         "0.17834394904458598",
         "37.784589892294946"
        ],
        [
         "39",
         "JNU",
         "0.011993904233220172",
         "0.32954961552544854",
         "0.02856096667887221",
         "0.24569300904394417",
         "0.3118279569892473",
         "32.46"
        ],
        [
         "40",
         "KOA",
         "0.008063276518561785",
         "0.4395424836601307",
         "0.02287581699346405",
         "0.2074607791338016",
         "0.4666666666666667",
         "36.06567534076828"
        ],
        [
         "41",
         "KTN",
         "0.0057224669410054505",
         "0.30237912509593246",
         "0.02532617037605526",
         "0.11929355814835792",
         "0.27906976744186046",
         "34.78934010152284"
        ],
        [
         "42",
         "LAS",
         "0.024672923464749516",
         "0.4318262726949092",
         "0.026699893200427198",
         "0.1905399140107869",
         "0.42272727272727273",
         "31.985572959604287"
        ],
        [
         "43",
         "LAX",
         "0.04079069297625374",
         "0.3775839793281654",
         "0.027777777777777776",
         "0.24696301054974631",
         "0.4376657824933687",
         "32.59252922725977"
        ],
        [
         "44",
         "LIH",
         "0.006218736138498632",
         "0.4244350282485876",
         "0.026129943502824857",
         "0.0810535980212304",
         "0.41818181818181815",
         "33.0765391014975"
        ],
        [
         "45",
         "MCI",
         "0.0027975529097624494",
         "0.28414442700156983",
         "0.02511773940345369",
         "0.2363996343190531",
         "0.32",
         "22.85082872928177"
        ],
        [
         "46",
         "MCO",
         "0.010285508500256918",
         "0.43509820666097354",
         "0.035439795046968404",
         "0.1994464288209258",
         "0.3010752688172043",
         "38.933267909715404"
        ],
        [
         "47",
         "MIA",
         "0.0012692194519958366",
         "0.3737024221453287",
         "0.03460207612456748",
         "0.17501802388394425",
         "0.07692307692307693",
         "32.19444444444444"
        ],
        [
         "48",
         "MKE",
         "0.0015151581693375903",
         "0.33043478260869563",
         "0.03768115942028986",
         "0.12285200772032426",
         "0.23076923076923078",
         "32.271929824561404"
        ],
        [
         "49",
         "MSP",
         "0.00375495720227142",
         "0.4128654970760234",
         "0.022222222222222223",
         "0.3710870828626306",
         "0.42857142857142855",
         "35.62889518413598"
        ]
       ],
       "shape": {
        "columns": 7,
        "rows": 84
       }
      },
      "text/html": [
       "<div>\n",
       "<style scoped>\n",
       "    .dataframe tbody tr th:only-of-type {\n",
       "        vertical-align: middle;\n",
       "    }\n",
       "\n",
       "    .dataframe tbody tr th {\n",
       "        vertical-align: top;\n",
       "    }\n",
       "\n",
       "    .dataframe thead th {\n",
       "        text-align: right;\n",
       "    }\n",
       "</style>\n",
       "<table border=\"1\" class=\"dataframe\">\n",
       "  <thead>\n",
       "    <tr style=\"text-align: right;\">\n",
       "      <th></th>\n",
       "      <th>Origin</th>\n",
       "      <th>Percentage_airline_flights</th>\n",
       "      <th>percent_delayed</th>\n",
       "      <th>percent_diverted_cancelled</th>\n",
       "      <th>PercentAirlineFault</th>\n",
       "      <th>HolidayPercentDelayed</th>\n",
       "      <th>HowExtremeDelay</th>\n",
       "    </tr>\n",
       "  </thead>\n",
       "  <tbody>\n",
       "    <tr>\n",
       "      <th>0</th>\n",
       "      <td>ABQ</td>\n",
       "      <td>0.003026</td>\n",
       "      <td>0.338171</td>\n",
       "      <td>0.027576</td>\n",
       "      <td>0.253801</td>\n",
       "      <td>0.392857</td>\n",
       "      <td>32.459227</td>\n",
       "    </tr>\n",
       "    <tr>\n",
       "      <th>1</th>\n",
       "      <td>ADK</td>\n",
       "      <td>0.000457</td>\n",
       "      <td>0.432692</td>\n",
       "      <td>0.028846</td>\n",
       "      <td>0.069621</td>\n",
       "      <td>0.000000</td>\n",
       "      <td>37.555556</td>\n",
       "    </tr>\n",
       "    <tr>\n",
       "      <th>2</th>\n",
       "      <td>ADQ</td>\n",
       "      <td>0.004023</td>\n",
       "      <td>0.279476</td>\n",
       "      <td>0.033843</td>\n",
       "      <td>0.259974</td>\n",
       "      <td>0.321429</td>\n",
       "      <td>30.496094</td>\n",
       "    </tr>\n",
       "    <tr>\n",
       "      <th>3</th>\n",
       "      <td>AKN</td>\n",
       "      <td>0.001010</td>\n",
       "      <td>0.569565</td>\n",
       "      <td>0.021739</td>\n",
       "      <td>0.032173</td>\n",
       "      <td>0.400000</td>\n",
       "      <td>43.763359</td>\n",
       "    </tr>\n",
       "    <tr>\n",
       "      <th>4</th>\n",
       "      <td>ANC</td>\n",
       "      <td>0.063329</td>\n",
       "      <td>0.385298</td>\n",
       "      <td>0.023994</td>\n",
       "      <td>0.325114</td>\n",
       "      <td>0.369942</td>\n",
       "      <td>23.277178</td>\n",
       "    </tr>\n",
       "    <tr>\n",
       "      <th>...</th>\n",
       "      <td>...</td>\n",
       "      <td>...</td>\n",
       "      <td>...</td>\n",
       "      <td>...</td>\n",
       "      <td>...</td>\n",
       "      <td>...</td>\n",
       "      <td>...</td>\n",
       "    </tr>\n",
       "    <tr>\n",
       "      <th>79</th>\n",
       "      <td>SNA</td>\n",
       "      <td>0.015472</td>\n",
       "      <td>0.314789</td>\n",
       "      <td>0.034346</td>\n",
       "      <td>0.184864</td>\n",
       "      <td>0.360294</td>\n",
       "      <td>25.578900</td>\n",
       "    </tr>\n",
       "    <tr>\n",
       "      <th>80</th>\n",
       "      <td>STL</td>\n",
       "      <td>0.002398</td>\n",
       "      <td>0.358974</td>\n",
       "      <td>0.025641</td>\n",
       "      <td>0.394896</td>\n",
       "      <td>0.562500</td>\n",
       "      <td>35.244898</td>\n",
       "    </tr>\n",
       "    <tr>\n",
       "      <th>81</th>\n",
       "      <td>STS</td>\n",
       "      <td>0.000843</td>\n",
       "      <td>0.489583</td>\n",
       "      <td>0.015625</td>\n",
       "      <td>0.156903</td>\n",
       "      <td>0.625000</td>\n",
       "      <td>27.595745</td>\n",
       "    </tr>\n",
       "    <tr>\n",
       "      <th>82</th>\n",
       "      <td>TPA</td>\n",
       "      <td>0.003606</td>\n",
       "      <td>0.337393</td>\n",
       "      <td>0.035323</td>\n",
       "      <td>0.187796</td>\n",
       "      <td>0.300000</td>\n",
       "      <td>39.079422</td>\n",
       "    </tr>\n",
       "    <tr>\n",
       "      <th>83</th>\n",
       "      <td>TUS</td>\n",
       "      <td>0.001809</td>\n",
       "      <td>0.364078</td>\n",
       "      <td>0.007282</td>\n",
       "      <td>0.139297</td>\n",
       "      <td>0.384615</td>\n",
       "      <td>31.773333</td>\n",
       "    </tr>\n",
       "  </tbody>\n",
       "</table>\n",
       "<p>84 rows × 7 columns</p>\n",
       "</div>"
      ],
      "text/plain": [
       "   Origin  Percentage_airline_flights  percent_delayed  \\\n",
       "0     ABQ                    0.003026         0.338171   \n",
       "1     ADK                    0.000457         0.432692   \n",
       "2     ADQ                    0.004023         0.279476   \n",
       "3     AKN                    0.001010         0.569565   \n",
       "4     ANC                    0.063329         0.385298   \n",
       "..    ...                         ...              ...   \n",
       "79    SNA                    0.015472         0.314789   \n",
       "80    STL                    0.002398         0.358974   \n",
       "81    STS                    0.000843         0.489583   \n",
       "82    TPA                    0.003606         0.337393   \n",
       "83    TUS                    0.001809         0.364078   \n",
       "\n",
       "    percent_diverted_cancelled  PercentAirlineFault  HolidayPercentDelayed  \\\n",
       "0                     0.027576             0.253801               0.392857   \n",
       "1                     0.028846             0.069621               0.000000   \n",
       "2                     0.033843             0.259974               0.321429   \n",
       "3                     0.021739             0.032173               0.400000   \n",
       "4                     0.023994             0.325114               0.369942   \n",
       "..                         ...                  ...                    ...   \n",
       "79                    0.034346             0.184864               0.360294   \n",
       "80                    0.025641             0.394896               0.562500   \n",
       "81                    0.015625             0.156903               0.625000   \n",
       "82                    0.035323             0.187796               0.300000   \n",
       "83                    0.007282             0.139297               0.384615   \n",
       "\n",
       "    HowExtremeDelay  \n",
       "0         32.459227  \n",
       "1         37.555556  \n",
       "2         30.496094  \n",
       "3         43.763359  \n",
       "4         23.277178  \n",
       "..              ...  \n",
       "79        25.578900  \n",
       "80        35.244898  \n",
       "81        27.595745  \n",
       "82        39.079422  \n",
       "83        31.773333  \n",
       "\n",
       "[84 rows x 7 columns]"
      ]
     },
     "execution_count": 19,
     "metadata": {},
     "output_type": "execute_result"
    }
   ],
   "source": [
    "#merging all of the dataframes together\n",
    "merge1 = pd.merge(alaska_percent_airports[[\"Origin\", \"Percentage_airline_flights\"]], airport_stats_df, how=\"left\", on=\"Origin\")\n",
    "\n",
    "merge2 = pd.merge(merge1, fault_at_airports, on=\"Origin\", how=\"left\")\n",
    "\n",
    "merge3 = pd.merge(merge2, holiday_performance_df, on=\"Origin\", how=\"left\")\n",
    "\n",
    "merge4 = pd.merge(merge3, how_extreme_delays, on=\"Origin\", how=\"left\")\n",
    "\n",
    "Final_merge = merge4[[\"Origin\", \"Percentage_airline_flights\", \"percent_delayed\", \"percent_diverted_cancelled\", \"PercentAirlineFault\"]]\n",
    "Final_merge[\"HolidayPercentDelayed\"] = merge4[\"Delayed\"]\n",
    "Final_merge[\"HowExtremeDelay\"] = merge4[\"ArrDelayMinutes\"]\n",
    "Final_merge[\"HolidayPercentDelayed\"] = Final_merge[\"HolidayPercentDelayed\"].fillna(0)\n",
    "Final_merge"
   ]
  },
  {
   "cell_type": "code",
   "execution_count": 20,
   "id": "cc7fb9e2",
   "metadata": {},
   "outputs": [
    {
     "name": "stderr",
     "output_type": "stream",
     "text": [
      "C:\\Users\\bmhawley\\AppData\\Local\\Temp\\4\\ipykernel_35304\\775840358.py:24: FutureWarning: ChainedAssignmentError: behaviour will change in pandas 3.0!\n",
      "You are setting values through chained assignment. Currently this works in certain cases, but when using Copy-on-Write (which will become the default behaviour in pandas 3.0) this will never work to update the original DataFrame or Series, because the intermediate object on which we are setting values will behave as a copy.\n",
      "A typical example is when you are setting values in a column of a DataFrame, like:\n",
      "\n",
      "df[\"col\"][row_indexer] = value\n",
      "\n",
      "Use `df.loc[row_indexer, \"col\"] = values` instead, to perform the assignment in a single step and ensure this keeps updating the original `df`.\n",
      "\n",
      "See the caveats in the documentation: https://pandas.pydata.org/pandas-docs/stable/user_guide/indexing.html#returning-a-view-versus-a-copy\n",
      "\n",
      "  Final_merge[(\"ScoreFrom_\" + column)][i] = points\n",
      "C:\\Users\\bmhawley\\AppData\\Local\\Temp\\4\\ipykernel_35304\\775840358.py:24: SettingWithCopyWarning: \n",
      "A value is trying to be set on a copy of a slice from a DataFrame\n",
      "\n",
      "See the caveats in the documentation: https://pandas.pydata.org/pandas-docs/stable/user_guide/indexing.html#returning-a-view-versus-a-copy\n",
      "  Final_merge[(\"ScoreFrom_\" + column)][i] = points\n",
      "C:\\Users\\bmhawley\\AppData\\Local\\Temp\\4\\ipykernel_35304\\775840358.py:24: FutureWarning: Setting an item of incompatible dtype is deprecated and will raise an error in a future version of pandas. Value '0.5' has dtype incompatible with int64, please explicitly cast to a compatible dtype first.\n",
      "  Final_merge[(\"ScoreFrom_\" + column)][i] = points\n",
      "C:\\Users\\bmhawley\\AppData\\Local\\Temp\\4\\ipykernel_35304\\775840358.py:24: FutureWarning: ChainedAssignmentError: behaviour will change in pandas 3.0!\n",
      "You are setting values through chained assignment. Currently this works in certain cases, but when using Copy-on-Write (which will become the default behaviour in pandas 3.0) this will never work to update the original DataFrame or Series, because the intermediate object on which we are setting values will behave as a copy.\n",
      "A typical example is when you are setting values in a column of a DataFrame, like:\n",
      "\n",
      "df[\"col\"][row_indexer] = value\n",
      "\n",
      "Use `df.loc[row_indexer, \"col\"] = values` instead, to perform the assignment in a single step and ensure this keeps updating the original `df`.\n",
      "\n",
      "See the caveats in the documentation: https://pandas.pydata.org/pandas-docs/stable/user_guide/indexing.html#returning-a-view-versus-a-copy\n",
      "\n",
      "  Final_merge[(\"ScoreFrom_\" + column)][i] = points\n",
      "C:\\Users\\bmhawley\\AppData\\Local\\Temp\\4\\ipykernel_35304\\775840358.py:24: SettingWithCopyWarning: \n",
      "A value is trying to be set on a copy of a slice from a DataFrame\n",
      "\n",
      "See the caveats in the documentation: https://pandas.pydata.org/pandas-docs/stable/user_guide/indexing.html#returning-a-view-versus-a-copy\n",
      "  Final_merge[(\"ScoreFrom_\" + column)][i] = points\n",
      "C:\\Users\\bmhawley\\AppData\\Local\\Temp\\4\\ipykernel_35304\\775840358.py:24: FutureWarning: Setting an item of incompatible dtype is deprecated and will raise an error in a future version of pandas. Value '0.5' has dtype incompatible with int64, please explicitly cast to a compatible dtype first.\n",
      "  Final_merge[(\"ScoreFrom_\" + column)][i] = points\n",
      "C:\\Users\\bmhawley\\AppData\\Local\\Temp\\4\\ipykernel_35304\\775840358.py:24: FutureWarning: ChainedAssignmentError: behaviour will change in pandas 3.0!\n",
      "You are setting values through chained assignment. Currently this works in certain cases, but when using Copy-on-Write (which will become the default behaviour in pandas 3.0) this will never work to update the original DataFrame or Series, because the intermediate object on which we are setting values will behave as a copy.\n",
      "A typical example is when you are setting values in a column of a DataFrame, like:\n",
      "\n",
      "df[\"col\"][row_indexer] = value\n",
      "\n",
      "Use `df.loc[row_indexer, \"col\"] = values` instead, to perform the assignment in a single step and ensure this keeps updating the original `df`.\n",
      "\n",
      "See the caveats in the documentation: https://pandas.pydata.org/pandas-docs/stable/user_guide/indexing.html#returning-a-view-versus-a-copy\n",
      "\n",
      "  Final_merge[(\"ScoreFrom_\" + column)][i] = points\n",
      "C:\\Users\\bmhawley\\AppData\\Local\\Temp\\4\\ipykernel_35304\\775840358.py:24: SettingWithCopyWarning: \n",
      "A value is trying to be set on a copy of a slice from a DataFrame\n",
      "\n",
      "See the caveats in the documentation: https://pandas.pydata.org/pandas-docs/stable/user_guide/indexing.html#returning-a-view-versus-a-copy\n",
      "  Final_merge[(\"ScoreFrom_\" + column)][i] = points\n",
      "C:\\Users\\bmhawley\\AppData\\Local\\Temp\\4\\ipykernel_35304\\775840358.py:24: FutureWarning: Setting an item of incompatible dtype is deprecated and will raise an error in a future version of pandas. Value '0.5' has dtype incompatible with int64, please explicitly cast to a compatible dtype first.\n",
      "  Final_merge[(\"ScoreFrom_\" + column)][i] = points\n",
      "C:\\Users\\bmhawley\\AppData\\Local\\Temp\\4\\ipykernel_35304\\775840358.py:24: FutureWarning: ChainedAssignmentError: behaviour will change in pandas 3.0!\n",
      "You are setting values through chained assignment. Currently this works in certain cases, but when using Copy-on-Write (which will become the default behaviour in pandas 3.0) this will never work to update the original DataFrame or Series, because the intermediate object on which we are setting values will behave as a copy.\n",
      "A typical example is when you are setting values in a column of a DataFrame, like:\n",
      "\n",
      "df[\"col\"][row_indexer] = value\n",
      "\n",
      "Use `df.loc[row_indexer, \"col\"] = values` instead, to perform the assignment in a single step and ensure this keeps updating the original `df`.\n",
      "\n",
      "See the caveats in the documentation: https://pandas.pydata.org/pandas-docs/stable/user_guide/indexing.html#returning-a-view-versus-a-copy\n",
      "\n",
      "  Final_merge[(\"ScoreFrom_\" + column)][i] = points\n",
      "C:\\Users\\bmhawley\\AppData\\Local\\Temp\\4\\ipykernel_35304\\775840358.py:24: SettingWithCopyWarning: \n",
      "A value is trying to be set on a copy of a slice from a DataFrame\n",
      "\n",
      "See the caveats in the documentation: https://pandas.pydata.org/pandas-docs/stable/user_guide/indexing.html#returning-a-view-versus-a-copy\n",
      "  Final_merge[(\"ScoreFrom_\" + column)][i] = points\n",
      "C:\\Users\\bmhawley\\AppData\\Local\\Temp\\4\\ipykernel_35304\\775840358.py:24: FutureWarning: Setting an item of incompatible dtype is deprecated and will raise an error in a future version of pandas. Value '0.5' has dtype incompatible with int64, please explicitly cast to a compatible dtype first.\n",
      "  Final_merge[(\"ScoreFrom_\" + column)][i] = points\n",
      "C:\\Users\\bmhawley\\AppData\\Local\\Temp\\4\\ipykernel_35304\\775840358.py:24: FutureWarning: ChainedAssignmentError: behaviour will change in pandas 3.0!\n",
      "You are setting values through chained assignment. Currently this works in certain cases, but when using Copy-on-Write (which will become the default behaviour in pandas 3.0) this will never work to update the original DataFrame or Series, because the intermediate object on which we are setting values will behave as a copy.\n",
      "A typical example is when you are setting values in a column of a DataFrame, like:\n",
      "\n",
      "df[\"col\"][row_indexer] = value\n",
      "\n",
      "Use `df.loc[row_indexer, \"col\"] = values` instead, to perform the assignment in a single step and ensure this keeps updating the original `df`.\n",
      "\n",
      "See the caveats in the documentation: https://pandas.pydata.org/pandas-docs/stable/user_guide/indexing.html#returning-a-view-versus-a-copy\n",
      "\n",
      "  Final_merge[(\"ScoreFrom_\" + column)][i] = points\n",
      "C:\\Users\\bmhawley\\AppData\\Local\\Temp\\4\\ipykernel_35304\\775840358.py:24: SettingWithCopyWarning: \n",
      "A value is trying to be set on a copy of a slice from a DataFrame\n",
      "\n",
      "See the caveats in the documentation: https://pandas.pydata.org/pandas-docs/stable/user_guide/indexing.html#returning-a-view-versus-a-copy\n",
      "  Final_merge[(\"ScoreFrom_\" + column)][i] = points\n",
      "C:\\Users\\bmhawley\\AppData\\Local\\Temp\\4\\ipykernel_35304\\775840358.py:24: FutureWarning: ChainedAssignmentError: behaviour will change in pandas 3.0!\n",
      "You are setting values through chained assignment. Currently this works in certain cases, but when using Copy-on-Write (which will become the default behaviour in pandas 3.0) this will never work to update the original DataFrame or Series, because the intermediate object on which we are setting values will behave as a copy.\n",
      "A typical example is when you are setting values in a column of a DataFrame, like:\n",
      "\n",
      "df[\"col\"][row_indexer] = value\n",
      "\n",
      "Use `df.loc[row_indexer, \"col\"] = values` instead, to perform the assignment in a single step and ensure this keeps updating the original `df`.\n",
      "\n",
      "See the caveats in the documentation: https://pandas.pydata.org/pandas-docs/stable/user_guide/indexing.html#returning-a-view-versus-a-copy\n",
      "\n",
      "  Final_merge[(\"ScoreFrom_\" + column)][i] = points\n",
      "C:\\Users\\bmhawley\\AppData\\Local\\Temp\\4\\ipykernel_35304\\775840358.py:24: SettingWithCopyWarning: \n",
      "A value is trying to be set on a copy of a slice from a DataFrame\n",
      "\n",
      "See the caveats in the documentation: https://pandas.pydata.org/pandas-docs/stable/user_guide/indexing.html#returning-a-view-versus-a-copy\n",
      "  Final_merge[(\"ScoreFrom_\" + column)][i] = points\n",
      "C:\\Users\\bmhawley\\AppData\\Local\\Temp\\4\\ipykernel_35304\\775840358.py:24: FutureWarning: ChainedAssignmentError: behaviour will change in pandas 3.0!\n",
      "You are setting values through chained assignment. Currently this works in certain cases, but when using Copy-on-Write (which will become the default behaviour in pandas 3.0) this will never work to update the original DataFrame or Series, because the intermediate object on which we are setting values will behave as a copy.\n",
      "A typical example is when you are setting values in a column of a DataFrame, like:\n",
      "\n",
      "df[\"col\"][row_indexer] = value\n",
      "\n",
      "Use `df.loc[row_indexer, \"col\"] = values` instead, to perform the assignment in a single step and ensure this keeps updating the original `df`.\n",
      "\n",
      "See the caveats in the documentation: https://pandas.pydata.org/pandas-docs/stable/user_guide/indexing.html#returning-a-view-versus-a-copy\n",
      "\n",
      "  Final_merge[(\"ScoreFrom_\" + column)][i] = points\n",
      "C:\\Users\\bmhawley\\AppData\\Local\\Temp\\4\\ipykernel_35304\\775840358.py:24: SettingWithCopyWarning: \n",
      "A value is trying to be set on a copy of a slice from a DataFrame\n",
      "\n",
      "See the caveats in the documentation: https://pandas.pydata.org/pandas-docs/stable/user_guide/indexing.html#returning-a-view-versus-a-copy\n",
      "  Final_merge[(\"ScoreFrom_\" + column)][i] = points\n",
      "C:\\Users\\bmhawley\\AppData\\Local\\Temp\\4\\ipykernel_35304\\775840358.py:24: FutureWarning: ChainedAssignmentError: behaviour will change in pandas 3.0!\n",
      "You are setting values through chained assignment. Currently this works in certain cases, but when using Copy-on-Write (which will become the default behaviour in pandas 3.0) this will never work to update the original DataFrame or Series, because the intermediate object on which we are setting values will behave as a copy.\n",
      "A typical example is when you are setting values in a column of a DataFrame, like:\n",
      "\n",
      "df[\"col\"][row_indexer] = value\n",
      "\n",
      "Use `df.loc[row_indexer, \"col\"] = values` instead, to perform the assignment in a single step and ensure this keeps updating the original `df`.\n",
      "\n",
      "See the caveats in the documentation: https://pandas.pydata.org/pandas-docs/stable/user_guide/indexing.html#returning-a-view-versus-a-copy\n",
      "\n",
      "  Final_merge[(\"ScoreFrom_\" + column)][i] = points\n",
      "C:\\Users\\bmhawley\\AppData\\Local\\Temp\\4\\ipykernel_35304\\775840358.py:24: SettingWithCopyWarning: \n",
      "A value is trying to be set on a copy of a slice from a DataFrame\n",
      "\n",
      "See the caveats in the documentation: https://pandas.pydata.org/pandas-docs/stable/user_guide/indexing.html#returning-a-view-versus-a-copy\n",
      "  Final_merge[(\"ScoreFrom_\" + column)][i] = points\n",
      "C:\\Users\\bmhawley\\AppData\\Local\\Temp\\4\\ipykernel_35304\\775840358.py:24: FutureWarning: Setting an item of incompatible dtype is deprecated and will raise an error in a future version of pandas. Value '0.5' has dtype incompatible with int64, please explicitly cast to a compatible dtype first.\n",
      "  Final_merge[(\"ScoreFrom_\" + column)][i] = points\n",
      "C:\\Users\\bmhawley\\AppData\\Local\\Temp\\4\\ipykernel_35304\\775840358.py:44: FutureWarning: ChainedAssignmentError: behaviour will change in pandas 3.0!\n",
      "You are setting values through chained assignment. Currently this works in certain cases, but when using Copy-on-Write (which will become the default behaviour in pandas 3.0) this will never work to update the original DataFrame or Series, because the intermediate object on which we are setting values will behave as a copy.\n",
      "A typical example is when you are setting values in a column of a DataFrame, like:\n",
      "\n",
      "df[\"col\"][row_indexer] = value\n",
      "\n",
      "Use `df.loc[row_indexer, \"col\"] = values` instead, to perform the assignment in a single step and ensure this keeps updating the original `df`.\n",
      "\n",
      "See the caveats in the documentation: https://pandas.pydata.org/pandas-docs/stable/user_guide/indexing.html#returning-a-view-versus-a-copy\n",
      "\n",
      "  Final_merge[\"ScoreFrom_Size\"][i] = points\n",
      "C:\\Users\\bmhawley\\AppData\\Local\\Temp\\4\\ipykernel_35304\\775840358.py:44: SettingWithCopyWarning: \n",
      "A value is trying to be set on a copy of a slice from a DataFrame\n",
      "\n",
      "See the caveats in the documentation: https://pandas.pydata.org/pandas-docs/stable/user_guide/indexing.html#returning-a-view-versus-a-copy\n",
      "  Final_merge[\"ScoreFrom_Size\"][i] = points\n",
      "C:\\Users\\bmhawley\\AppData\\Local\\Temp\\4\\ipykernel_35304\\775840358.py:44: FutureWarning: Setting an item of incompatible dtype is deprecated and will raise an error in a future version of pandas. Value '0.25' has dtype incompatible with int64, please explicitly cast to a compatible dtype first.\n",
      "  Final_merge[\"ScoreFrom_Size\"][i] = points\n"
     ]
    }
   ],
   "source": [
    "#Create a total score for each airport\n",
    "\n",
    "#Scoring for all columns with for loop\n",
    "columns_of_interest = [\"percent_delayed\", \"percent_diverted_cancelled\", \"PercentAirlineFault\", \"HolidayPercentDelayed\", \"HowExtremeDelay\"]\n",
    "\n",
    "for column in columns_of_interest:\n",
    "\n",
    "    quantiles = Final_merget[[column]].quantile([0.25, 0.75])\n",
    "    twenty_fifth = quantiles.loc[0.25][column]\n",
    "    seventy_fifth = quantiles.loc[0.75][column]\n",
    "\n",
    "    Final_merge[(\"ScoreFrom_\" + column)] = 0\n",
    "\n",
    "    for i in range(len(Final_merge[\"Origin\"])):\n",
    "        value = Final_merge[column][i]\n",
    "\n",
    "        if value <= twenty_fifth:\n",
    "            points = 1\n",
    "        elif value > twenty_fifth and value <= seventy_fifth:\n",
    "            points = 0.5\n",
    "        elif value > seventy_fifth:\n",
    "            points = 0.25\n",
    "\n",
    "        Final_merge[(\"ScoreFrom_\" + column)][i] = points\n",
    "\n",
    "#Adding a modifer for the size of the airport\n",
    "\n",
    "percent_flights_quantiles = Final_merge[[\"Percentage_airline_flights\"]].quantile([0.25, 0.75])\n",
    "twenty_fifth = percent_flights_quantiles.loc[0.25][\"Percentage_airline_flights\"]\n",
    "seventy_fifth = percent_flights_quantiles.loc[0.75][\"Percentage_airline_flights\"]\n",
    "\n",
    "Final_merge[\"ScoreFrom_Size\"] = 0\n",
    "\n",
    "for i in range(len(Final_merge[\"Origin\"])):\n",
    "    value = Final_merge[\"Percentage_airline_flights\"][i]\n",
    "\n",
    "    if value >= seventy_fifth:\n",
    "            points = .5\n",
    "    elif value < seventy_fifth and value > twenty_fifth:\n",
    "            points = 0.25\n",
    "    elif value <= twenty_fifth:\n",
    "            points = 0\n",
    "\n",
    "    Final_merge[\"ScoreFrom_Size\"][i] = points\n",
    "\n",
    "Final_merge[\"TotalScore\"] = Final_merge[[\"ScoreFrom_percent_delayed\", \"ScoreFrom_percent_diverted_cancelled\",\"ScoreFrom_PercentAirlineFault\",\n",
    "                                         \"ScoreFrom_HolidayPercentDelayed\", \"ScoreFrom_HowExtremeDelay\", \"ScoreFrom_Size\"]].sum(axis=1)"
   ]
  },
  {
   "cell_type": "code",
   "execution_count": 21,
   "id": "8d63787f",
   "metadata": {},
   "outputs": [
    {
     "name": "stdout",
     "output_type": "stream",
     "text": [
      "   IATA                                         Name       State  Latitude  \\\n",
      "0   ABQ    Albuquerque International Sunport Airport  New Mexico  35.03893   \n",
      "1   ADK                                 Adak Airport      Alaska  51.88358   \n",
      "2   ADQ                               Kodiak Airport      Alaska  57.74979   \n",
      "3   AKN                          King Salmon Airport      Alaska  58.67649   \n",
      "4   ANC  Ted Stevens Anchorage International Airport      Alaska  61.17408   \n",
      "..  ...                                          ...         ...       ...   \n",
      "79  SNA             John Wayne/Orange County Airport  California  33.67566   \n",
      "80  STL       St Louis Lambert International Airport    Missouri  38.74870   \n",
      "81  STS     Charles M Schulz - Sonoma County Airport  California  38.50969   \n",
      "82  TPA                  Tampa International Airport     Florida  27.97547   \n",
      "83  TUS                 Tucson International Airport     Arizona  32.11607   \n",
      "\n",
      "    Longitude  \n",
      "0  -106.60826  \n",
      "1  -176.64248  \n",
      "2  -152.49394  \n",
      "3  -156.64869  \n",
      "4  -149.99814  \n",
      "..        ...  \n",
      "79 -117.86823  \n",
      "80  -90.37003  \n",
      "81 -122.81289  \n",
      "82  -82.53325  \n",
      "83 -110.94101  \n",
      "\n",
      "[84 rows x 5 columns]\n"
     ]
    }
   ],
   "source": [
    "#Bringing in latitude and longitude for the airports\n",
    "from airportsdata import load\n",
    "\n",
    "airports = load('IATA')\n",
    "\n",
    "iata_codes = list(Final_merge[\"Origin\"])\n",
    "\n",
    "data = []\n",
    "\n",
    "for code in iata_codes:\n",
    "    info = airports.get(code)\n",
    "    if info:\n",
    "        data.append({\n",
    "            \"IATA\" : code,\n",
    "            \"Name\" : info[\"name\"],\n",
    "            \"State\" : info[\"subd\"],\n",
    "            \"Latitude\" : info[\"lat\"],\n",
    "            \"Longitude\" : info[\"lon\"]\n",
    "        })\n",
    "\n",
    "    else:\n",
    "        data.append({\n",
    "            \"IATA\" : code,\n",
    "            \"Name\" : \"Not found\",\n",
    "            \"State\" : \"\",\n",
    "            \"Latitude\" : None,\n",
    "            \"Longitude\" : None\n",
    "        })\n",
    "\n",
    "airports_geog_info_df = pd.DataFrame(data)\n",
    "\n",
    "print(airports_geog_info_df)"
   ]
  },
  {
   "cell_type": "code",
   "execution_count": 22,
   "id": "2b98f802",
   "metadata": {},
   "outputs": [],
   "source": [
    "#Merge airport geographic information with airport information\n",
    "\n",
    "merge_locations = pd.merge(Final_merge, airports_geog_info_df, how=\"left\", left_on=\"Origin\", right_on=\"IATA\")\n",
    "\n",
    "merge_locations.to_csv(\"Alaska_AirportScores_Locations.csv\", index=False)\n"
   ]
  },
  {
   "cell_type": "code",
   "execution_count": 23,
   "id": "0cad38e1",
   "metadata": {},
   "outputs": [
    {
     "data": {
      "application/vnd.microsoft.datawrangler.viewer.v0+json": {
       "columns": [
        {
         "name": "index",
         "rawType": "int64",
         "type": "integer"
        },
        {
         "name": "Origin",
         "rawType": "object",
         "type": "string"
        },
        {
         "name": "Percentage_airline_flights",
         "rawType": "float64",
         "type": "float"
        },
        {
         "name": "percent_delayed",
         "rawType": "float64",
         "type": "float"
        },
        {
         "name": "percent_diverted_cancelled",
         "rawType": "float64",
         "type": "float"
        },
        {
         "name": "PercentAirlineFault",
         "rawType": "float64",
         "type": "float"
        },
        {
         "name": "HolidayPercentDelayed",
         "rawType": "float64",
         "type": "float"
        },
        {
         "name": "HowExtremeDelay",
         "rawType": "float64",
         "type": "float"
        },
        {
         "name": "ScoreFrom_percent_delayed",
         "rawType": "float64",
         "type": "float"
        },
        {
         "name": "ScoreFrom_percent_diverted_cancelled",
         "rawType": "float64",
         "type": "float"
        },
        {
         "name": "ScoreFrom_PercentAirlineFault",
         "rawType": "float64",
         "type": "float"
        },
        {
         "name": "ScoreFrom_HolidayPercentDelayed",
         "rawType": "float64",
         "type": "float"
        },
        {
         "name": "ScoreFrom_HowExtremeDelay",
         "rawType": "float64",
         "type": "float"
        },
        {
         "name": "ScoreFrom_Size",
         "rawType": "float64",
         "type": "float"
        },
        {
         "name": "TotalScore",
         "rawType": "float64",
         "type": "float"
        },
        {
         "name": "IATA",
         "rawType": "object",
         "type": "string"
        },
        {
         "name": "Name",
         "rawType": "object",
         "type": "string"
        },
        {
         "name": "State",
         "rawType": "object",
         "type": "string"
        },
        {
         "name": "Latitude",
         "rawType": "float64",
         "type": "float"
        },
        {
         "name": "Longitude",
         "rawType": "float64",
         "type": "float"
        }
       ],
       "ref": "a3bb3fcc-340e-4106-9d53-6c4ce569d85f",
       "rows": [
        [
         "31",
         "FLL",
         "0.003961370054326106",
         "0.4878048780487805",
         "0.0598669623059867",
         "0.22430201681797923",
         "0.45",
         "42.268181818181816",
         "0.25",
         "0.25",
         "0.5",
         "0.25",
         "0.5",
         "0.25",
         "2.0",
         "FLL",
         "Fort Lauderdale/Hollywood International Airport",
         "Florida",
         "26.07167",
         "-80.14969"
        ],
        [
         "21",
         "DCA",
         "0.007993008313606999",
         "0.41098901098901097",
         "0.03021978021978022",
         "0.21013774884619013",
         "0.32857142857142857",
         "41.57620320855615",
         "0.5",
         "0.25",
         "0.5",
         "0.5",
         "0.5",
         "0.25",
         "2.5",
         "DCA",
         "Ronald Reagan Washington Ntl Airport",
         "Dist. Of Columbia",
         "38.85144",
         "-77.03772"
        ],
        [
         "52",
         "OGG",
         "0.012806380353009895",
         "0.5006858710562414",
         "0.02263374485596708",
         "0.22415094487435944",
         "0.43103448275862066",
         "39.75205479452055",
         "0.25",
         "0.5",
         "0.5",
         "0.5",
         "0.5",
         "0.5",
         "2.75",
         "OGG",
         "Kahului Airport",
         "Hawaii",
         "20.89865",
         "-156.43046"
        ],
        [
         "9",
         "BOI",
         "0.006684262996324094",
         "0.3876478318002628",
         "0.020367936925098553",
         "0.25405793718604264",
         "0.46875",
         "25.33050847457627",
         "0.5",
         "0.5",
         "0.5",
         "0.25",
         "1.0",
         "0.25",
         "3.0",
         "BOI",
         "Boise Air Trml/Gowen Field",
         "Idaho",
         "43.56436",
         "-116.22286"
        ],
        [
         "23",
         "DFW",
         "0.008379483440858326",
         "0.379979035639413",
         "0.031446540880503145",
         "0.2338161579732992",
         "0.4166666666666667",
         "35.19862068965517",
         "0.5",
         "0.25",
         "0.5",
         "0.5",
         "1.0",
         "0.25",
         "3.0",
         "DFW",
         "Dallas-Fort Worth International Airport",
         "Texas",
         "32.89723",
         "-97.03769"
        ]
       ],
       "shape": {
        "columns": 19,
        "rows": 5
       }
      },
      "text/html": [
       "<div>\n",
       "<style scoped>\n",
       "    .dataframe tbody tr th:only-of-type {\n",
       "        vertical-align: middle;\n",
       "    }\n",
       "\n",
       "    .dataframe tbody tr th {\n",
       "        vertical-align: top;\n",
       "    }\n",
       "\n",
       "    .dataframe thead th {\n",
       "        text-align: right;\n",
       "    }\n",
       "</style>\n",
       "<table border=\"1\" class=\"dataframe\">\n",
       "  <thead>\n",
       "    <tr style=\"text-align: right;\">\n",
       "      <th></th>\n",
       "      <th>Origin</th>\n",
       "      <th>Percentage_airline_flights</th>\n",
       "      <th>percent_delayed</th>\n",
       "      <th>percent_diverted_cancelled</th>\n",
       "      <th>PercentAirlineFault</th>\n",
       "      <th>HolidayPercentDelayed</th>\n",
       "      <th>HowExtremeDelay</th>\n",
       "      <th>ScoreFrom_percent_delayed</th>\n",
       "      <th>ScoreFrom_percent_diverted_cancelled</th>\n",
       "      <th>ScoreFrom_PercentAirlineFault</th>\n",
       "      <th>ScoreFrom_HolidayPercentDelayed</th>\n",
       "      <th>ScoreFrom_HowExtremeDelay</th>\n",
       "      <th>ScoreFrom_Size</th>\n",
       "      <th>TotalScore</th>\n",
       "      <th>IATA</th>\n",
       "      <th>Name</th>\n",
       "      <th>State</th>\n",
       "      <th>Latitude</th>\n",
       "      <th>Longitude</th>\n",
       "    </tr>\n",
       "  </thead>\n",
       "  <tbody>\n",
       "    <tr>\n",
       "      <th>31</th>\n",
       "      <td>FLL</td>\n",
       "      <td>0.003961</td>\n",
       "      <td>0.487805</td>\n",
       "      <td>0.059867</td>\n",
       "      <td>0.224302</td>\n",
       "      <td>0.450000</td>\n",
       "      <td>42.268182</td>\n",
       "      <td>0.25</td>\n",
       "      <td>0.25</td>\n",
       "      <td>0.5</td>\n",
       "      <td>0.25</td>\n",
       "      <td>0.5</td>\n",
       "      <td>0.25</td>\n",
       "      <td>2.00</td>\n",
       "      <td>FLL</td>\n",
       "      <td>Fort Lauderdale/Hollywood International Airport</td>\n",
       "      <td>Florida</td>\n",
       "      <td>26.07167</td>\n",
       "      <td>-80.14969</td>\n",
       "    </tr>\n",
       "    <tr>\n",
       "      <th>21</th>\n",
       "      <td>DCA</td>\n",
       "      <td>0.007993</td>\n",
       "      <td>0.410989</td>\n",
       "      <td>0.030220</td>\n",
       "      <td>0.210138</td>\n",
       "      <td>0.328571</td>\n",
       "      <td>41.576203</td>\n",
       "      <td>0.50</td>\n",
       "      <td>0.25</td>\n",
       "      <td>0.5</td>\n",
       "      <td>0.50</td>\n",
       "      <td>0.5</td>\n",
       "      <td>0.25</td>\n",
       "      <td>2.50</td>\n",
       "      <td>DCA</td>\n",
       "      <td>Ronald Reagan Washington Ntl Airport</td>\n",
       "      <td>Dist. Of Columbia</td>\n",
       "      <td>38.85144</td>\n",
       "      <td>-77.03772</td>\n",
       "    </tr>\n",
       "    <tr>\n",
       "      <th>52</th>\n",
       "      <td>OGG</td>\n",
       "      <td>0.012806</td>\n",
       "      <td>0.500686</td>\n",
       "      <td>0.022634</td>\n",
       "      <td>0.224151</td>\n",
       "      <td>0.431034</td>\n",
       "      <td>39.752055</td>\n",
       "      <td>0.25</td>\n",
       "      <td>0.50</td>\n",
       "      <td>0.5</td>\n",
       "      <td>0.50</td>\n",
       "      <td>0.5</td>\n",
       "      <td>0.50</td>\n",
       "      <td>2.75</td>\n",
       "      <td>OGG</td>\n",
       "      <td>Kahului Airport</td>\n",
       "      <td>Hawaii</td>\n",
       "      <td>20.89865</td>\n",
       "      <td>-156.43046</td>\n",
       "    </tr>\n",
       "    <tr>\n",
       "      <th>9</th>\n",
       "      <td>BOI</td>\n",
       "      <td>0.006684</td>\n",
       "      <td>0.387648</td>\n",
       "      <td>0.020368</td>\n",
       "      <td>0.254058</td>\n",
       "      <td>0.468750</td>\n",
       "      <td>25.330508</td>\n",
       "      <td>0.50</td>\n",
       "      <td>0.50</td>\n",
       "      <td>0.5</td>\n",
       "      <td>0.25</td>\n",
       "      <td>1.0</td>\n",
       "      <td>0.25</td>\n",
       "      <td>3.00</td>\n",
       "      <td>BOI</td>\n",
       "      <td>Boise Air Trml/Gowen Field</td>\n",
       "      <td>Idaho</td>\n",
       "      <td>43.56436</td>\n",
       "      <td>-116.22286</td>\n",
       "    </tr>\n",
       "    <tr>\n",
       "      <th>23</th>\n",
       "      <td>DFW</td>\n",
       "      <td>0.008379</td>\n",
       "      <td>0.379979</td>\n",
       "      <td>0.031447</td>\n",
       "      <td>0.233816</td>\n",
       "      <td>0.416667</td>\n",
       "      <td>35.198621</td>\n",
       "      <td>0.50</td>\n",
       "      <td>0.25</td>\n",
       "      <td>0.5</td>\n",
       "      <td>0.50</td>\n",
       "      <td>1.0</td>\n",
       "      <td>0.25</td>\n",
       "      <td>3.00</td>\n",
       "      <td>DFW</td>\n",
       "      <td>Dallas-Fort Worth International Airport</td>\n",
       "      <td>Texas</td>\n",
       "      <td>32.89723</td>\n",
       "      <td>-97.03769</td>\n",
       "    </tr>\n",
       "  </tbody>\n",
       "</table>\n",
       "</div>"
      ],
      "text/plain": [
       "   Origin  Percentage_airline_flights  percent_delayed  \\\n",
       "31    FLL                    0.003961         0.487805   \n",
       "21    DCA                    0.007993         0.410989   \n",
       "52    OGG                    0.012806         0.500686   \n",
       "9     BOI                    0.006684         0.387648   \n",
       "23    DFW                    0.008379         0.379979   \n",
       "\n",
       "    percent_diverted_cancelled  PercentAirlineFault  HolidayPercentDelayed  \\\n",
       "31                    0.059867             0.224302               0.450000   \n",
       "21                    0.030220             0.210138               0.328571   \n",
       "52                    0.022634             0.224151               0.431034   \n",
       "9                     0.020368             0.254058               0.468750   \n",
       "23                    0.031447             0.233816               0.416667   \n",
       "\n",
       "    HowExtremeDelay  ScoreFrom_percent_delayed  \\\n",
       "31        42.268182                       0.25   \n",
       "21        41.576203                       0.50   \n",
       "52        39.752055                       0.25   \n",
       "9         25.330508                       0.50   \n",
       "23        35.198621                       0.50   \n",
       "\n",
       "    ScoreFrom_percent_diverted_cancelled  ScoreFrom_PercentAirlineFault  \\\n",
       "31                                  0.25                            0.5   \n",
       "21                                  0.25                            0.5   \n",
       "52                                  0.50                            0.5   \n",
       "9                                   0.50                            0.5   \n",
       "23                                  0.25                            0.5   \n",
       "\n",
       "    ScoreFrom_HolidayPercentDelayed  ScoreFrom_HowExtremeDelay  \\\n",
       "31                             0.25                        0.5   \n",
       "21                             0.50                        0.5   \n",
       "52                             0.50                        0.5   \n",
       "9                              0.25                        1.0   \n",
       "23                             0.50                        1.0   \n",
       "\n",
       "    ScoreFrom_Size  TotalScore IATA  \\\n",
       "31            0.25        2.00  FLL   \n",
       "21            0.25        2.50  DCA   \n",
       "52            0.50        2.75  OGG   \n",
       "9             0.25        3.00  BOI   \n",
       "23            0.25        3.00  DFW   \n",
       "\n",
       "                                               Name              State  \\\n",
       "31  Fort Lauderdale/Hollywood International Airport            Florida   \n",
       "21             Ronald Reagan Washington Ntl Airport  Dist. Of Columbia   \n",
       "52                                  Kahului Airport             Hawaii   \n",
       "9                        Boise Air Trml/Gowen Field              Idaho   \n",
       "23          Dallas-Fort Worth International Airport              Texas   \n",
       "\n",
       "    Latitude  Longitude  \n",
       "31  26.07167  -80.14969  \n",
       "21  38.85144  -77.03772  \n",
       "52  20.89865 -156.43046  \n",
       "9   43.56436 -116.22286  \n",
       "23  32.89723  -97.03769  "
      ]
     },
     "execution_count": 23,
     "metadata": {},
     "output_type": "execute_result"
    }
   ],
   "source": [
    "#Find the 5 airports above the fiftieth percentile with the worst score\n",
    "fifty = merge_locations[\"Percentage_airline_flights\"].median()\n",
    "merge_locations[merge_locations[\"Percentage_airline_flights\"] > fifty].sort_values(\"TotalScore\", ascending=True).head(5)\n"
   ]
  },
  {
   "cell_type": "markdown",
   "id": "cfc670df",
   "metadata": {},
   "source": [
    "#### Jet Blue Analysis"
   ]
  },
  {
   "cell_type": "code",
   "execution_count": 24,
   "id": "a6341756",
   "metadata": {},
   "outputs": [
    {
     "data": {
      "text/plain": [
       "(279120, 42)"
      ]
     },
     "execution_count": 24,
     "metadata": {},
     "output_type": "execute_result"
    }
   ],
   "source": [
    "df_jetblue = df_2[df_2[\"Operating_Airline\"] == \"B6\"]\n",
    "df_jetblue.shape"
   ]
  },
  {
   "cell_type": "code",
   "execution_count": 25,
   "id": "50131c8a",
   "metadata": {},
   "outputs": [
    {
     "data": {
      "application/vnd.microsoft.datawrangler.viewer.v0+json": {
       "columns": [
        {
         "name": "Region",
         "rawType": "object",
         "type": "string"
        },
        {
         "name": "Flights",
         "rawType": "float64",
         "type": "float"
        }
       ],
       "ref": "65238a4d-5c88-4cc8-9431-0d466d3313c1",
       "rows": [
        [
         "Midwest",
         "2.2868300372599597"
        ],
        [
         "Northeast",
         "49.62381771281169"
        ],
        [
         "South",
         "32.97649756377186"
        ],
        [
         "West",
         "10.963384924047006"
        ]
       ],
       "shape": {
        "columns": 1,
        "rows": 4
       }
      },
      "text/plain": [
       "Region\n",
       "Midwest       2.286830\n",
       "Northeast    49.623818\n",
       "South        32.976498\n",
       "West         10.963385\n",
       "Name: Flights, dtype: float64"
      ]
     },
     "execution_count": 25,
     "metadata": {},
     "output_type": "execute_result"
    }
   ],
   "source": [
    "#where jetblue is flying - regions\n",
    "jetblue_percent_regions = df_jetblue.groupby(\"Region\")[\"Flights\"].sum() / len(df_jetblue[\"Flights\"])\n",
    "jetblue_percent_regions * 100"
   ]
  },
  {
   "cell_type": "code",
   "execution_count": 26,
   "id": "e281e2f7",
   "metadata": {},
   "outputs": [
    {
     "data": {
      "application/vnd.microsoft.datawrangler.viewer.v0+json": {
       "columns": [
        {
         "name": "index",
         "rawType": "int64",
         "type": "integer"
        },
        {
         "name": "Origin",
         "rawType": "object",
         "type": "string"
        },
        {
         "name": "Percentage_airline_flights",
         "rawType": "float64",
         "type": "float"
        }
       ],
       "ref": "28377c26-61d7-48e6-bcd5-5071f297e2ff",
       "rows": [
        [
         "0",
         "ABQ",
         "0.0007810260819719118"
        ],
        [
         "1",
         "ACK",
         "0.0029163083978217255"
        ],
        [
         "2",
         "ALB",
         "0.0024290627687016337"
        ],
        [
         "3",
         "ATL",
         "0.008297506448839208"
        ],
        [
         "4",
         "AUS",
         "0.004438950988822012"
        ],
        [
         "5",
         "AVL",
         "0.0002543708799082832"
        ],
        [
         "6",
         "BDL",
         "0.011317712811693895"
        ],
        [
         "7",
         "BNA",
         "0.008910146173688736"
        ],
        [
         "8",
         "BOS",
         "0.1639975637718544"
        ],
        [
         "9",
         "BQN",
         "0.003940957294353683"
        ],
        [
         "10",
         "BTV",
         "0.0032172542275723704"
        ],
        [
         "11",
         "BUF",
         "0.01004585841215248"
        ],
        [
         "12",
         "BUR",
         "0.001590713671539123"
        ],
        [
         "13",
         "BWI",
         "0.0027120951562052166"
        ],
        [
         "14",
         "BZN",
         "0.0005194898251648037"
        ],
        [
         "15",
         "CHS",
         "0.009970621954714818"
        ],
        [
         "16",
         "CLE",
         "0.0033892232731441672"
        ],
        [
         "17",
         "CLT",
         "0.002586701060475781"
        ],
        [
         "18",
         "DCA",
         "0.03737102321582115"
        ],
        [
         "19",
         "DEN",
         "0.006724706219547148"
        ],
        [
         "20",
         "DFW",
         "0.002586701060475781"
        ],
        [
         "21",
         "DTW",
         "0.006391516193751791"
        ],
        [
         "22",
         "EWR",
         "0.028328317569504154"
        ],
        [
         "23",
         "EYW",
         "0.0006627973631413012"
        ],
        [
         "24",
         "FLL",
         "0.06562052163943824"
        ],
        [
         "25",
         "HDN",
         "0.00018629979936944684"
        ],
        [
         "26",
         "HPN",
         "0.017573086844368015"
        ],
        [
         "27",
         "HYA",
         "0.00044425336772714244"
        ],
        [
         "28",
         "IAH",
         "0.0029198910862711378"
        ],
        [
         "29",
         "JAX",
         "0.011342791630839783"
        ],
        [
         "30",
         "JFK",
         "0.17100171969045572"
        ],
        [
         "31",
         "LAS",
         "0.011840785325308112"
        ],
        [
         "32",
         "LAX",
         "0.04016193751791344"
        ],
        [
         "33",
         "LGA",
         "0.05755588993981083"
        ],
        [
         "34",
         "MCI",
         "0.0026117798796216683"
        ],
        [
         "35",
         "MCO",
         "0.06135712238463743"
        ],
        [
         "36",
         "MIA",
         "0.011335626253940956"
        ],
        [
         "37",
         "MKE",
         "0.0026117798796216683"
        ],
        [
         "38",
         "MSP",
         "0.003564775007165377"
        ],
        [
         "39",
         "MSY",
         "0.006513327601031814"
        ],
        [
         "40",
         "MVY",
         "0.0016659501289767841"
        ],
        [
         "41",
         "ONT",
         "0.0013076812840355403"
        ],
        [
         "42",
         "ORD",
         "0.004299226139294927"
        ],
        [
         "43",
         "ORH",
         "0.003912295786758384"
        ],
        [
         "44",
         "PBI",
         "0.029148753224419604"
        ],
        [
         "45",
         "PDX",
         "0.001110633419317856"
        ],
        [
         "46",
         "PHL",
         "0.004593006592146747"
        ],
        [
         "47",
         "PHX",
         "0.004130839782172542"
        ],
        [
         "48",
         "PIT",
         "0.004675408426483233"
        ],
        [
         "49",
         "PSE",
         "0.0024183147033533963"
        ]
       ],
       "shape": {
        "columns": 2,
        "rows": 71
       }
      },
      "text/html": [
       "<div>\n",
       "<style scoped>\n",
       "    .dataframe tbody tr th:only-of-type {\n",
       "        vertical-align: middle;\n",
       "    }\n",
       "\n",
       "    .dataframe tbody tr th {\n",
       "        vertical-align: top;\n",
       "    }\n",
       "\n",
       "    .dataframe thead th {\n",
       "        text-align: right;\n",
       "    }\n",
       "</style>\n",
       "<table border=\"1\" class=\"dataframe\">\n",
       "  <thead>\n",
       "    <tr style=\"text-align: right;\">\n",
       "      <th></th>\n",
       "      <th>Origin</th>\n",
       "      <th>Percentage_airline_flights</th>\n",
       "    </tr>\n",
       "  </thead>\n",
       "  <tbody>\n",
       "    <tr>\n",
       "      <th>0</th>\n",
       "      <td>ABQ</td>\n",
       "      <td>0.000781</td>\n",
       "    </tr>\n",
       "    <tr>\n",
       "      <th>1</th>\n",
       "      <td>ACK</td>\n",
       "      <td>0.002916</td>\n",
       "    </tr>\n",
       "    <tr>\n",
       "      <th>2</th>\n",
       "      <td>ALB</td>\n",
       "      <td>0.002429</td>\n",
       "    </tr>\n",
       "    <tr>\n",
       "      <th>3</th>\n",
       "      <td>ATL</td>\n",
       "      <td>0.008298</td>\n",
       "    </tr>\n",
       "    <tr>\n",
       "      <th>4</th>\n",
       "      <td>AUS</td>\n",
       "      <td>0.004439</td>\n",
       "    </tr>\n",
       "    <tr>\n",
       "      <th>...</th>\n",
       "      <td>...</td>\n",
       "      <td>...</td>\n",
       "    </tr>\n",
       "    <tr>\n",
       "      <th>66</th>\n",
       "      <td>SMF</td>\n",
       "      <td>0.001652</td>\n",
       "    </tr>\n",
       "    <tr>\n",
       "      <th>67</th>\n",
       "      <td>SRQ</td>\n",
       "      <td>0.003343</td>\n",
       "    </tr>\n",
       "    <tr>\n",
       "      <th>68</th>\n",
       "      <td>STT</td>\n",
       "      <td>0.002949</td>\n",
       "    </tr>\n",
       "    <tr>\n",
       "      <th>69</th>\n",
       "      <td>SYR</td>\n",
       "      <td>0.003816</td>\n",
       "    </tr>\n",
       "    <tr>\n",
       "      <th>70</th>\n",
       "      <td>TPA</td>\n",
       "      <td>0.018311</td>\n",
       "    </tr>\n",
       "  </tbody>\n",
       "</table>\n",
       "<p>71 rows × 2 columns</p>\n",
       "</div>"
      ],
      "text/plain": [
       "   Origin  Percentage_airline_flights\n",
       "0     ABQ                    0.000781\n",
       "1     ACK                    0.002916\n",
       "2     ALB                    0.002429\n",
       "3     ATL                    0.008298\n",
       "4     AUS                    0.004439\n",
       "..    ...                         ...\n",
       "66    SMF                    0.001652\n",
       "67    SRQ                    0.003343\n",
       "68    STT                    0.002949\n",
       "69    SYR                    0.003816\n",
       "70    TPA                    0.018311\n",
       "\n",
       "[71 rows x 2 columns]"
      ]
     },
     "execution_count": 26,
     "metadata": {},
     "output_type": "execute_result"
    }
   ],
   "source": [
    "#Where jetblue is flying - airports\n",
    "jetblue_percent_airports = (pd.DataFrame(df_jetblue.groupby(\"Origin\")[\"Flights\"].sum() / len(df_jetblue[\"Flights\"]))).reset_index()\n",
    "jetblue_percent_airports.rename(columns={\"Flights\" : \"Percentage_airline_flights\"}, inplace=True)\n",
    "jetblue_percent_airports"
   ]
  },
  {
   "cell_type": "code",
   "execution_count": 27,
   "id": "175e29c3",
   "metadata": {},
   "outputs": [
    {
     "data": {
      "application/vnd.microsoft.datawrangler.viewer.v0+json": {
       "columns": [
        {
         "name": "index",
         "rawType": "int64",
         "type": "integer"
        },
        {
         "name": "Origin",
         "rawType": "object",
         "type": "string"
        },
        {
         "name": "PercentAirlineFault",
         "rawType": "float64",
         "type": "float"
        }
       ],
       "ref": "ffe11f11-0980-4d33-97d9-7c6a0f72dab3",
       "rows": [
        [
         "0",
         "ABQ",
         "0.17055007004743947"
        ],
        [
         "1",
         "ACK",
         "0.13514503234967762"
        ],
        [
         "2",
         "ALB",
         "0.2391626444551841"
        ],
        [
         "3",
         "ATL",
         "0.42910824813589593"
        ],
        [
         "4",
         "AUS",
         "0.360459735831173"
        ],
        [
         "5",
         "AVL",
         "0.30177902328454936"
        ],
        [
         "6",
         "BDL",
         "0.37293546346875905"
        ],
        [
         "7",
         "BNA",
         "0.3178891004796118"
        ],
        [
         "8",
         "BOS",
         "0.48857623515178533"
        ],
        [
         "9",
         "BQN",
         "0.22404062753997064"
        ],
        [
         "10",
         "BTV",
         "0.3195624198871732"
        ],
        [
         "11",
         "BUF",
         "0.2699352795245593"
        ],
        [
         "12",
         "BUR",
         "0.2882747385841398"
        ],
        [
         "13",
         "BWI",
         "0.18572695234800857"
        ],
        [
         "14",
         "BZN",
         "0.1696547014017413"
        ],
        [
         "15",
         "CHS",
         "0.303063393438113"
        ],
        [
         "16",
         "CLE",
         "0.4413774664852848"
        ],
        [
         "17",
         "CLT",
         "0.2770412237702765"
        ],
        [
         "18",
         "DCA",
         "0.37061652790327887"
        ],
        [
         "19",
         "DEN",
         "0.23116087273839234"
        ],
        [
         "20",
         "DFW",
         "0.4099246381539011"
        ],
        [
         "21",
         "DTW",
         "0.4138978953596082"
        ],
        [
         "22",
         "EWR",
         "0.3992212515061452"
        ],
        [
         "23",
         "EYW",
         "0.4772096504394964"
        ],
        [
         "24",
         "FLL",
         "0.46031073655245563"
        ],
        [
         "25",
         "HDN",
         "0.461441156153521"
        ],
        [
         "26",
         "HPN",
         "0.3717117163004283"
        ],
        [
         "27",
         "HYA",
         "0.08718173234810422"
        ],
        [
         "28",
         "IAH",
         "0.2692749614297252"
        ],
        [
         "29",
         "JAX",
         "0.355893223943375"
        ],
        [
         "30",
         "JFK",
         "0.5223027593776776"
        ],
        [
         "31",
         "LAS",
         "0.2960540312322265"
        ],
        [
         "32",
         "LAX",
         "0.42253264528885737"
        ],
        [
         "33",
         "LGA",
         "0.3428431258342296"
        ],
        [
         "34",
         "MCI",
         "0.30422802770609886"
        ],
        [
         "35",
         "MCO",
         "0.42119679124192677"
        ],
        [
         "36",
         "MIA",
         "0.3010227504552831"
        ],
        [
         "37",
         "MKE",
         "0.2100694079756168"
        ],
        [
         "38",
         "MSP",
         "0.33684475401420305"
        ],
        [
         "39",
         "MSY",
         "0.3114039493006949"
        ],
        [
         "40",
         "MVY",
         "0.1754457497944715"
        ],
        [
         "41",
         "ONT",
         "0.41942982513558197"
        ],
        [
         "42",
         "ORD",
         "0.2816698002161038"
        ],
        [
         "43",
         "ORH",
         "0.2754768375059093"
        ],
        [
         "44",
         "PBI",
         "0.2925532972713898"
        ],
        [
         "45",
         "PDX",
         "0.23702752507587527"
        ],
        [
         "46",
         "PHL",
         "0.2883690680385563"
        ],
        [
         "47",
         "PHX",
         "0.2919487217606841"
        ],
        [
         "48",
         "PIT",
         "0.23345555688602757"
        ],
        [
         "49",
         "PSE",
         "0.13991027680093734"
        ]
       ],
       "shape": {
        "columns": 2,
        "rows": 71
       }
      },
      "text/html": [
       "<div>\n",
       "<style scoped>\n",
       "    .dataframe tbody tr th:only-of-type {\n",
       "        vertical-align: middle;\n",
       "    }\n",
       "\n",
       "    .dataframe tbody tr th {\n",
       "        vertical-align: top;\n",
       "    }\n",
       "\n",
       "    .dataframe thead th {\n",
       "        text-align: right;\n",
       "    }\n",
       "</style>\n",
       "<table border=\"1\" class=\"dataframe\">\n",
       "  <thead>\n",
       "    <tr style=\"text-align: right;\">\n",
       "      <th></th>\n",
       "      <th>Origin</th>\n",
       "      <th>PercentAirlineFault</th>\n",
       "    </tr>\n",
       "  </thead>\n",
       "  <tbody>\n",
       "    <tr>\n",
       "      <th>0</th>\n",
       "      <td>ABQ</td>\n",
       "      <td>0.170550</td>\n",
       "    </tr>\n",
       "    <tr>\n",
       "      <th>1</th>\n",
       "      <td>ACK</td>\n",
       "      <td>0.135145</td>\n",
       "    </tr>\n",
       "    <tr>\n",
       "      <th>2</th>\n",
       "      <td>ALB</td>\n",
       "      <td>0.239163</td>\n",
       "    </tr>\n",
       "    <tr>\n",
       "      <th>3</th>\n",
       "      <td>ATL</td>\n",
       "      <td>0.429108</td>\n",
       "    </tr>\n",
       "    <tr>\n",
       "      <th>4</th>\n",
       "      <td>AUS</td>\n",
       "      <td>0.360460</td>\n",
       "    </tr>\n",
       "    <tr>\n",
       "      <th>...</th>\n",
       "      <td>...</td>\n",
       "      <td>...</td>\n",
       "    </tr>\n",
       "    <tr>\n",
       "      <th>66</th>\n",
       "      <td>SMF</td>\n",
       "      <td>0.305418</td>\n",
       "    </tr>\n",
       "    <tr>\n",
       "      <th>67</th>\n",
       "      <td>SRQ</td>\n",
       "      <td>0.274008</td>\n",
       "    </tr>\n",
       "    <tr>\n",
       "      <th>68</th>\n",
       "      <td>STT</td>\n",
       "      <td>0.223779</td>\n",
       "    </tr>\n",
       "    <tr>\n",
       "      <th>69</th>\n",
       "      <td>SYR</td>\n",
       "      <td>0.331678</td>\n",
       "    </tr>\n",
       "    <tr>\n",
       "      <th>70</th>\n",
       "      <td>TPA</td>\n",
       "      <td>0.343818</td>\n",
       "    </tr>\n",
       "  </tbody>\n",
       "</table>\n",
       "<p>71 rows × 2 columns</p>\n",
       "</div>"
      ],
      "text/plain": [
       "   Origin  PercentAirlineFault\n",
       "0     ABQ             0.170550\n",
       "1     ACK             0.135145\n",
       "2     ALB             0.239163\n",
       "3     ATL             0.429108\n",
       "4     AUS             0.360460\n",
       "..    ...                  ...\n",
       "66    SMF             0.305418\n",
       "67    SRQ             0.274008\n",
       "68    STT             0.223779\n",
       "69    SYR             0.331678\n",
       "70    TPA             0.343818\n",
       "\n",
       "[71 rows x 2 columns]"
      ]
     },
     "execution_count": 27,
     "metadata": {},
     "output_type": "execute_result"
    }
   ],
   "source": [
    "#what percent of delays are the airlines fault\n",
    "when_delayed_df = df_jetblue[df_jetblue[\"TotalDelay\"] != 0][[\"NASDelay\", \"SecurityDelay\", \"CarrierDelay\", \n",
    "                                                                   \"WeatherDelay\", \"LateAircraftDelay\", \"Origin\", \"TotalDelay\"]]\n",
    "\n",
    "when_delayed_df = when_delayed_df.reset_index()\n",
    "\n",
    "when_delayed_df[\"PercentAirlineFault\"] = ((when_delayed_df[\"CarrierDelay\"]) / when_delayed_df[\"TotalDelay\"])\n",
    "\n",
    "fault_at_airports = when_delayed_df.groupby(\"Origin\")[\"PercentAirlineFault\"].mean().reset_index()\n",
    "fault_at_airports"
   ]
  },
  {
   "cell_type": "code",
   "execution_count": 28,
   "id": "99389071",
   "metadata": {},
   "outputs": [
    {
     "data": {
      "application/vnd.microsoft.datawrangler.viewer.v0+json": {
       "columns": [
        {
         "name": "index",
         "rawType": "int64",
         "type": "integer"
        },
        {
         "name": "Origin",
         "rawType": "object",
         "type": "string"
        },
        {
         "name": "percent_delayed",
         "rawType": "float64",
         "type": "float"
        },
        {
         "name": "percent_diverted_cancelled",
         "rawType": "float64",
         "type": "float"
        }
       ],
       "ref": "6976e009-b378-4d0d-8cc2-f7b0b117c291",
       "rows": [
        [
         "0",
         "ABQ",
         "0.6605504587155964",
         "0.01834862385321101"
        ],
        [
         "1",
         "ACK",
         "0.3501228501228501",
         "0.04176904176904177"
        ],
        [
         "2",
         "ALB",
         "0.4528023598820059",
         "0.028023598820058997"
        ],
        [
         "3",
         "ATL",
         "0.5526770293609672",
         "0.018998272884283247"
        ],
        [
         "4",
         "AUS",
         "0.4891041162227603",
         "0.025020177562550445"
        ],
        [
         "5",
         "AVL",
         "0.5492957746478874",
         "0.014084507042253521"
        ],
        [
         "6",
         "BDL",
         "0.45900601456157014",
         "0.030705919594808485"
        ],
        [
         "7",
         "BNA",
         "0.4796944109368717",
         "0.04141535987133092"
        ],
        [
         "8",
         "BOS",
         "0.410202075368651",
         "0.02667394866193337"
        ],
        [
         "9",
         "BQN",
         "0.5163636363636364",
         "0.022727272727272728"
        ],
        [
         "10",
         "BTV",
         "0.3418708240534521",
         "0.045657015590200446"
        ],
        [
         "11",
         "BUF",
         "0.3434379457917261",
         "0.052781740370898715"
        ],
        [
         "12",
         "BUR",
         "0.4954954954954955",
         "0.09234234234234234"
        ],
        [
         "13",
         "BWI",
         "0.3157199471598415",
         "0.015852047556142668"
        ],
        [
         "14",
         "BZN",
         "0.5310344827586206",
         "0.027586206896551724"
        ],
        [
         "15",
         "CHS",
         "0.4728710025152713",
         "0.03880704275961193"
        ],
        [
         "16",
         "CLE",
         "0.35412262156448204",
         "0.02854122621564482"
        ],
        [
         "17",
         "CLT",
         "0.34349030470914127",
         "0.023545706371191136"
        ],
        [
         "18",
         "DCA",
         "0.396702137858307",
         "0.030006710765986003"
        ],
        [
         "19",
         "DEN",
         "0.5316995205114544",
         "0.022376132125732553"
        ],
        [
         "20",
         "DFW",
         "0.3670360110803324",
         "0.019390581717451522"
        ],
        [
         "21",
         "DTW",
         "0.45964125560538116",
         "0.026905829596412557"
        ],
        [
         "22",
         "EWR",
         "0.4063488048564563",
         "0.031617554066017454"
        ],
        [
         "23",
         "EYW",
         "0.5351351351351351",
         "0.13513513513513514"
        ],
        [
         "24",
         "FLL",
         "0.4944856955667176",
         "0.026861760209652762"
        ],
        [
         "25",
         "HDN",
         "0.3269230769230769",
         "0.0"
        ],
        [
         "26",
         "HPN",
         "0.36636085626911313",
         "0.04159021406727829"
        ],
        [
         "27",
         "HYA",
         "0.5483870967741935",
         "0.04838709677419355"
        ],
        [
         "28",
         "IAH",
         "0.49447852760736194",
         "0.025766871165644172"
        ],
        [
         "29",
         "JAX",
         "0.46146557169930513",
         "0.04042956411876184"
        ],
        [
         "30",
         "JFK",
         "0.49578881206788183",
         "0.02763461135554159"
        ],
        [
         "31",
         "LAS",
         "0.5664145234493192",
         "0.019364599092284416"
        ],
        [
         "32",
         "LAX",
         "0.40811775200713646",
         "0.009812667261373774"
        ],
        [
         "33",
         "LGA",
         "0.43629007158418925",
         "0.04263927793339558"
        ],
        [
         "34",
         "MCI",
         "0.39231824417009603",
         "0.0205761316872428"
        ],
        [
         "35",
         "MCO",
         "0.5418661683989257",
         "0.03707812682471097"
        ],
        [
         "36",
         "MIA",
         "0.4608091024020228",
         "0.029393173198482933"
        ],
        [
         "37",
         "MKE",
         "0.3662551440329218",
         "0.023319615912208505"
        ],
        [
         "38",
         "MSP",
         "0.47738693467336685",
         "0.034170854271356785"
        ],
        [
         "39",
         "MSY",
         "0.5077007700770076",
         "0.02695269526952695"
        ],
        [
         "40",
         "MVY",
         "0.46236559139784944",
         "0.030107526881720432"
        ],
        [
         "41",
         "ONT",
         "0.5506849315068493",
         "0.01643835616438356"
        ],
        [
         "42",
         "ORD",
         "0.35833333333333334",
         "0.030833333333333334"
        ],
        [
         "43",
         "ORH",
         "0.35714285714285715",
         "0.06318681318681318"
        ],
        [
         "44",
         "PBI",
         "0.4358407079646018",
         "0.036135693215339236"
        ],
        [
         "45",
         "PDX",
         "0.535483870967742",
         "0.016129032258064516"
        ],
        [
         "46",
         "PHL",
         "0.26521060842433697",
         "0.02418096723868955"
        ],
        [
         "47",
         "PHX",
         "0.603642671292281",
         "0.02168256721595837"
        ],
        [
         "48",
         "PIT",
         "0.2835249042145594",
         "0.026053639846743294"
        ],
        [
         "49",
         "PSE",
         "0.4237037037037037",
         "0.035555555555555556"
        ]
       ],
       "shape": {
        "columns": 3,
        "rows": 71
       }
      },
      "text/html": [
       "<div>\n",
       "<style scoped>\n",
       "    .dataframe tbody tr th:only-of-type {\n",
       "        vertical-align: middle;\n",
       "    }\n",
       "\n",
       "    .dataframe tbody tr th {\n",
       "        vertical-align: top;\n",
       "    }\n",
       "\n",
       "    .dataframe thead th {\n",
       "        text-align: right;\n",
       "    }\n",
       "</style>\n",
       "<table border=\"1\" class=\"dataframe\">\n",
       "  <thead>\n",
       "    <tr style=\"text-align: right;\">\n",
       "      <th></th>\n",
       "      <th>Origin</th>\n",
       "      <th>percent_delayed</th>\n",
       "      <th>percent_diverted_cancelled</th>\n",
       "    </tr>\n",
       "  </thead>\n",
       "  <tbody>\n",
       "    <tr>\n",
       "      <th>0</th>\n",
       "      <td>ABQ</td>\n",
       "      <td>0.660550</td>\n",
       "      <td>0.018349</td>\n",
       "    </tr>\n",
       "    <tr>\n",
       "      <th>1</th>\n",
       "      <td>ACK</td>\n",
       "      <td>0.350123</td>\n",
       "      <td>0.041769</td>\n",
       "    </tr>\n",
       "    <tr>\n",
       "      <th>2</th>\n",
       "      <td>ALB</td>\n",
       "      <td>0.452802</td>\n",
       "      <td>0.028024</td>\n",
       "    </tr>\n",
       "    <tr>\n",
       "      <th>3</th>\n",
       "      <td>ATL</td>\n",
       "      <td>0.552677</td>\n",
       "      <td>0.018998</td>\n",
       "    </tr>\n",
       "    <tr>\n",
       "      <th>4</th>\n",
       "      <td>AUS</td>\n",
       "      <td>0.489104</td>\n",
       "      <td>0.025020</td>\n",
       "    </tr>\n",
       "    <tr>\n",
       "      <th>...</th>\n",
       "      <td>...</td>\n",
       "      <td>...</td>\n",
       "      <td>...</td>\n",
       "    </tr>\n",
       "    <tr>\n",
       "      <th>66</th>\n",
       "      <td>SMF</td>\n",
       "      <td>0.572668</td>\n",
       "      <td>0.021692</td>\n",
       "    </tr>\n",
       "    <tr>\n",
       "      <th>67</th>\n",
       "      <td>SRQ</td>\n",
       "      <td>0.535906</td>\n",
       "      <td>0.041801</td>\n",
       "    </tr>\n",
       "    <tr>\n",
       "      <th>68</th>\n",
       "      <td>STT</td>\n",
       "      <td>0.425273</td>\n",
       "      <td>0.029162</td>\n",
       "    </tr>\n",
       "    <tr>\n",
       "      <th>69</th>\n",
       "      <td>SYR</td>\n",
       "      <td>0.445070</td>\n",
       "      <td>0.046948</td>\n",
       "    </tr>\n",
       "    <tr>\n",
       "      <th>70</th>\n",
       "      <td>TPA</td>\n",
       "      <td>0.425161</td>\n",
       "      <td>0.027588</td>\n",
       "    </tr>\n",
       "  </tbody>\n",
       "</table>\n",
       "<p>71 rows × 3 columns</p>\n",
       "</div>"
      ],
      "text/plain": [
       "   Origin  percent_delayed  percent_diverted_cancelled\n",
       "0     ABQ         0.660550                    0.018349\n",
       "1     ACK         0.350123                    0.041769\n",
       "2     ALB         0.452802                    0.028024\n",
       "3     ATL         0.552677                    0.018998\n",
       "4     AUS         0.489104                    0.025020\n",
       "..    ...              ...                         ...\n",
       "66    SMF         0.572668                    0.021692\n",
       "67    SRQ         0.535906                    0.041801\n",
       "68    STT         0.425273                    0.029162\n",
       "69    SYR         0.445070                    0.046948\n",
       "70    TPA         0.425161                    0.027588\n",
       "\n",
       "[71 rows x 3 columns]"
      ]
     },
     "execution_count": 28,
     "metadata": {},
     "output_type": "execute_result"
    }
   ],
   "source": [
    "#percent of flights delayed and flights delayed/cancelled\n",
    "airport_stats_df = df_jetblue.groupby(\"Origin\").agg(\n",
    "    percent_delayed = (\"Delayed\", \"mean\"),\n",
    "    percent_diverted_cancelled = (\"CancOrDiv\", \"mean\")).reset_index() \n",
    "\n",
    "airport_stats_df"
   ]
  },
  {
   "cell_type": "code",
   "execution_count": 29,
   "id": "734a56c6",
   "metadata": {},
   "outputs": [
    {
     "data": {
      "application/vnd.microsoft.datawrangler.viewer.v0+json": {
       "columns": [
        {
         "name": "index",
         "rawType": "int64",
         "type": "integer"
        },
        {
         "name": "Origin",
         "rawType": "object",
         "type": "string"
        },
        {
         "name": "Delayed",
         "rawType": "float64",
         "type": "float"
        }
       ],
       "ref": "0faebb07-92c7-47b8-8b51-a694084252af",
       "rows": [
        [
         "0",
         "ABQ",
         "0.3333333333333333"
        ],
        [
         "1",
         "ACK",
         "0.25"
        ],
        [
         "2",
         "ALB",
         "0.5555555555555556"
        ],
        [
         "3",
         "ATL",
         "0.5263157894736842"
        ],
        [
         "4",
         "AUS",
         "0.5111111111111111"
        ],
        [
         "5",
         "AVL",
         "0.25"
        ],
        [
         "6",
         "BDL",
         "0.40336134453781514"
        ],
        [
         "7",
         "BNA",
         "0.5930232558139535"
        ],
        [
         "8",
         "BOS",
         "0.45240893066980026"
        ],
        [
         "9",
         "BQN",
         "0.6730769230769231"
        ]
       ],
       "shape": {
        "columns": 2,
        "rows": 10
       }
      },
      "text/html": [
       "<div>\n",
       "<style scoped>\n",
       "    .dataframe tbody tr th:only-of-type {\n",
       "        vertical-align: middle;\n",
       "    }\n",
       "\n",
       "    .dataframe tbody tr th {\n",
       "        vertical-align: top;\n",
       "    }\n",
       "\n",
       "    .dataframe thead th {\n",
       "        text-align: right;\n",
       "    }\n",
       "</style>\n",
       "<table border=\"1\" class=\"dataframe\">\n",
       "  <thead>\n",
       "    <tr style=\"text-align: right;\">\n",
       "      <th></th>\n",
       "      <th>Origin</th>\n",
       "      <th>Delayed</th>\n",
       "    </tr>\n",
       "  </thead>\n",
       "  <tbody>\n",
       "    <tr>\n",
       "      <th>0</th>\n",
       "      <td>ABQ</td>\n",
       "      <td>0.333333</td>\n",
       "    </tr>\n",
       "    <tr>\n",
       "      <th>1</th>\n",
       "      <td>ACK</td>\n",
       "      <td>0.250000</td>\n",
       "    </tr>\n",
       "    <tr>\n",
       "      <th>2</th>\n",
       "      <td>ALB</td>\n",
       "      <td>0.555556</td>\n",
       "    </tr>\n",
       "    <tr>\n",
       "      <th>3</th>\n",
       "      <td>ATL</td>\n",
       "      <td>0.526316</td>\n",
       "    </tr>\n",
       "    <tr>\n",
       "      <th>4</th>\n",
       "      <td>AUS</td>\n",
       "      <td>0.511111</td>\n",
       "    </tr>\n",
       "    <tr>\n",
       "      <th>5</th>\n",
       "      <td>AVL</td>\n",
       "      <td>0.250000</td>\n",
       "    </tr>\n",
       "    <tr>\n",
       "      <th>6</th>\n",
       "      <td>BDL</td>\n",
       "      <td>0.403361</td>\n",
       "    </tr>\n",
       "    <tr>\n",
       "      <th>7</th>\n",
       "      <td>BNA</td>\n",
       "      <td>0.593023</td>\n",
       "    </tr>\n",
       "    <tr>\n",
       "      <th>8</th>\n",
       "      <td>BOS</td>\n",
       "      <td>0.452409</td>\n",
       "    </tr>\n",
       "    <tr>\n",
       "      <th>9</th>\n",
       "      <td>BQN</td>\n",
       "      <td>0.673077</td>\n",
       "    </tr>\n",
       "  </tbody>\n",
       "</table>\n",
       "</div>"
      ],
      "text/plain": [
       "  Origin   Delayed\n",
       "0    ABQ  0.333333\n",
       "1    ACK  0.250000\n",
       "2    ALB  0.555556\n",
       "3    ATL  0.526316\n",
       "4    AUS  0.511111\n",
       "5    AVL  0.250000\n",
       "6    BDL  0.403361\n",
       "7    BNA  0.593023\n",
       "8    BOS  0.452409\n",
       "9    BQN  0.673077"
      ]
     },
     "execution_count": 29,
     "metadata": {},
     "output_type": "execute_result"
    }
   ],
   "source": [
    "#holiday performance at each airport\n",
    "holiday_df = df_jetblue[df_jetblue[\"Is_Holiday\"] == 1]\n",
    "\n",
    "holiday_performance_df = holiday_df.groupby(\"Origin\")[\"Delayed\"].mean().reset_index()\n",
    "holiday_performance_df.head(10)"
   ]
  },
  {
   "cell_type": "code",
   "execution_count": 30,
   "id": "87060819",
   "metadata": {},
   "outputs": [],
   "source": [
    "#how extreme is the average delay\n",
    "only_delayed_flights = df_jetblue[df_jetblue[\"Delayed\"] == 1]\n",
    "how_extreme_delays = only_delayed_flights.groupby(\"Origin\")[\"ArrDelayMinutes\"].mean().reset_index()"
   ]
  },
  {
   "cell_type": "code",
   "execution_count": 31,
   "id": "97f5f4e1",
   "metadata": {},
   "outputs": [
    {
     "name": "stderr",
     "output_type": "stream",
     "text": [
      "C:\\Users\\bmhawley\\AppData\\Local\\Temp\\4\\ipykernel_35304\\12531754.py:11: SettingWithCopyWarning: \n",
      "A value is trying to be set on a copy of a slice from a DataFrame.\n",
      "Try using .loc[row_indexer,col_indexer] = value instead\n",
      "\n",
      "See the caveats in the documentation: https://pandas.pydata.org/pandas-docs/stable/user_guide/indexing.html#returning-a-view-versus-a-copy\n",
      "  Final_merge[\"HolidayPercentDelayed\"] = merge4[\"Delayed\"]\n"
     ]
    },
    {
     "data": {
      "application/vnd.microsoft.datawrangler.viewer.v0+json": {
       "columns": [
        {
         "name": "index",
         "rawType": "int64",
         "type": "integer"
        },
        {
         "name": "Origin",
         "rawType": "object",
         "type": "string"
        },
        {
         "name": "Percentage_airline_flights",
         "rawType": "float64",
         "type": "float"
        },
        {
         "name": "percent_delayed",
         "rawType": "float64",
         "type": "float"
        },
        {
         "name": "percent_diverted_cancelled",
         "rawType": "float64",
         "type": "float"
        },
        {
         "name": "PercentAirlineFault",
         "rawType": "float64",
         "type": "float"
        },
        {
         "name": "HolidayPercentDelayed",
         "rawType": "float64",
         "type": "float"
        },
        {
         "name": "HowExtremeDelay",
         "rawType": "float64",
         "type": "float"
        }
       ],
       "ref": "34ca1d38-5958-47ef-83b2-b79964805b79",
       "rows": [
        [
         "0",
         "ABQ",
         "0.0007810260819719118",
         "0.6605504587155964",
         "0.01834862385321101",
         "0.17055007004743947",
         "0.3333333333333333",
         "48.013888888888886"
        ],
        [
         "1",
         "ACK",
         "0.0029163083978217255",
         "0.3501228501228501",
         "0.04176904176904177",
         "0.13514503234967762",
         "0.25",
         "61.80701754385965"
        ],
        [
         "2",
         "ALB",
         "0.0024290627687016337",
         "0.4528023598820059",
         "0.028023598820058997",
         "0.2391626444551841",
         "0.5555555555555556",
         "67.27687296416939"
        ],
        [
         "3",
         "ATL",
         "0.008297506448839208",
         "0.5526770293609672",
         "0.018998272884283247",
         "0.42910824813589593",
         "0.5263157894736842",
         "56.48515625"
        ],
        [
         "4",
         "AUS",
         "0.004438950988822012",
         "0.4891041162227603",
         "0.025020177562550445",
         "0.360459735831173",
         "0.5111111111111111",
         "51.886138613861384"
        ],
        [
         "5",
         "AVL",
         "0.0002543708799082832",
         "0.5492957746478874",
         "0.014084507042253521",
         "0.30177902328454936",
         "0.25",
         "64.1025641025641"
        ],
        [
         "6",
         "BDL",
         "0.011317712811693895",
         "0.45900601456157014",
         "0.030705919594808485",
         "0.37293546346875905",
         "0.40336134453781514",
         "55.677241379310345"
        ],
        [
         "7",
         "BNA",
         "0.008910146173688736",
         "0.4796944109368717",
         "0.04141535987133092",
         "0.3178891004796118",
         "0.5930232558139535",
         "59.46102263202012"
        ],
        [
         "8",
         "BOS",
         "0.1639975637718544",
         "0.410202075368651",
         "0.02667394866193337",
         "0.48857623515178533",
         "0.45240893066980026",
         "48.47829791766523"
        ],
        [
         "9",
         "BQN",
         "0.003940957294353683",
         "0.5163636363636364",
         "0.022727272727272728",
         "0.22404062753997064",
         "0.6730769230769231",
         "50.33098591549296"
        ],
        [
         "10",
         "BTV",
         "0.0032172542275723704",
         "0.3418708240534521",
         "0.045657015590200446",
         "0.3195624198871732",
         "0.26666666666666666",
         "46.79804560260586"
        ],
        [
         "11",
         "BUF",
         "0.01004585841215248",
         "0.3434379457917261",
         "0.052781740370898715",
         "0.2699352795245593",
         "0.2653061224489796",
         "55.23364485981308"
        ],
        [
         "12",
         "BUR",
         "0.001590713671539123",
         "0.4954954954954955",
         "0.09234234234234234",
         "0.2882747385841398",
         "0.5625",
         "56.722727272727276"
        ],
        [
         "13",
         "BWI",
         "0.0027120951562052166",
         "0.3157199471598415",
         "0.015852047556142668",
         "0.18572695234800857",
         "0.4",
         "45.42259414225941"
        ],
        [
         "14",
         "BZN",
         "0.0005194898251648037",
         "0.5310344827586206",
         "0.027586206896551724",
         "0.1696547014017413",
         "0.5",
         "53.0"
        ],
        [
         "15",
         "CHS",
         "0.009970621954714818",
         "0.4728710025152713",
         "0.03880704275961193",
         "0.303063393438113",
         "0.5535714285714286",
         "58.047872340425535"
        ],
        [
         "16",
         "CLE",
         "0.0033892232731441672",
         "0.35412262156448204",
         "0.02854122621564482",
         "0.4413774664852848",
         "0.5151515151515151",
         "42.474626865671645"
        ],
        [
         "17",
         "CLT",
         "0.002586701060475781",
         "0.34349030470914127",
         "0.023545706371191136",
         "0.2770412237702765",
         "0.41379310344827586",
         "50.63709677419355"
        ],
        [
         "18",
         "DCA",
         "0.03737102321582115",
         "0.396702137858307",
         "0.030006710765986003",
         "0.37061652790327887",
         "0.4498567335243553",
         "50.13943934267762"
        ],
        [
         "19",
         "DEN",
         "0.006724706219547148",
         "0.5316995205114544",
         "0.022376132125732553",
         "0.23116087273839234",
         "0.6301369863013698",
         "74.11723446893788"
        ],
        [
         "20",
         "DFW",
         "0.002586701060475781",
         "0.3670360110803324",
         "0.019390581717451522",
         "0.4099246381539011",
         "0.37037037037037035",
         "70.5433962264151"
        ],
        [
         "21",
         "DTW",
         "0.006391516193751791",
         "0.45964125560538116",
         "0.026905829596412557",
         "0.4138978953596082",
         "0.43636363636363634",
         "52.67926829268293"
        ],
        [
         "22",
         "EWR",
         "0.028328317569504154",
         "0.4063488048564563",
         "0.031617554066017454",
         "0.3992212515061452",
         "0.41721854304635764",
         "51.6171802054155"
        ],
        [
         "23",
         "EYW",
         "0.0006627973631413012",
         "0.5351351351351351",
         "0.13513513513513514",
         "0.4772096504394964",
         "0.875",
         "51.19191919191919"
        ],
        [
         "24",
         "FLL",
         "0.06562052163943824",
         "0.4944856955667176",
         "0.026861760209652762",
         "0.46031073655245563",
         "0.5763411279229711",
         "52.092304295020426"
        ],
        [
         "25",
         "HDN",
         "0.00018629979936944684",
         "0.3269230769230769",
         "0.0",
         "0.461441156153521",
         "0.0",
         "233.76470588235293"
        ],
        [
         "26",
         "HPN",
         "0.017573086844368015",
         "0.36636085626911313",
         "0.04159021406727829",
         "0.3717117163004283",
         "0.3388888888888889",
         "53.26711185308848"
        ],
        [
         "27",
         "HYA",
         "0.00044425336772714244",
         "0.5483870967741935",
         "0.04838709677419355",
         "0.08718173234810422",
         "0.3333333333333333",
         "43.73529411764706"
        ],
        [
         "28",
         "IAH",
         "0.0029198910862711378",
         "0.49447852760736194",
         "0.025766871165644172",
         "0.2692749614297252",
         "0.6",
         "69.05210918114143"
        ],
        [
         "29",
         "JAX",
         "0.011342791630839783",
         "0.46146557169930513",
         "0.04042956411876184",
         "0.355893223943375",
         "0.48091603053435117",
         "61.12594113620808"
        ],
        [
         "30",
         "JFK",
         "0.17100171969045572",
         "0.49578881206788183",
         "0.02763461135554159",
         "0.5223027593776776",
         "0.4666283084004603",
         "52.64177653820149"
        ],
        [
         "31",
         "LAS",
         "0.011840785325308112",
         "0.5664145234493192",
         "0.019364599092284416",
         "0.2960540312322265",
         "0.6440677966101694",
         "61.0625"
        ],
        [
         "32",
         "LAX",
         "0.04016193751791344",
         "0.40811775200713646",
         "0.009812667261373774",
         "0.42253264528885737",
         "0.45255474452554745",
         "41.4751912568306"
        ],
        [
         "33",
         "LGA",
         "0.05755588993981083",
         "0.43629007158418925",
         "0.04263927793339558",
         "0.3428431258342296",
         "0.4095744680851064",
         "54.91054358681695"
        ],
        [
         "34",
         "MCI",
         "0.0026117798796216683",
         "0.39231824417009603",
         "0.0205761316872428",
         "0.30422802770609886",
         "0.3333333333333333",
         "56.39510489510489"
        ],
        [
         "35",
         "MCO",
         "0.06135712238463743",
         "0.5418661683989257",
         "0.03707812682471097",
         "0.42119679124192677",
         "0.5912408759124088",
         "55.656788793103445"
        ],
        [
         "36",
         "MIA",
         "0.011335626253940956",
         "0.4608091024020228",
         "0.029393173198482933",
         "0.3010227504552831",
         "0.5121951219512195",
         "54.53429355281207"
        ],
        [
         "37",
         "MKE",
         "0.0026117798796216683",
         "0.3662551440329218",
         "0.023319615912208505",
         "0.2100694079756168",
         "0.25925925925925924",
         "60.13857677902622"
        ],
        [
         "38",
         "MSP",
         "0.003564775007165377",
         "0.47738693467336685",
         "0.034170854271356785",
         "0.33684475401420305",
         "0.43243243243243246",
         "62.20421052631579"
        ],
        [
         "39",
         "MSY",
         "0.006513327601031814",
         "0.5077007700770076",
         "0.02695269526952695",
         "0.3114039493006949",
         "0.5571428571428572",
         "54.06933911159263"
        ],
        [
         "40",
         "MVY",
         "0.0016659501289767841",
         "0.46236559139784944",
         "0.030107526881720432",
         "0.1754457497944715",
         "0.35294117647058826",
         "57.93023255813954"
        ],
        [
         "41",
         "ONT",
         "0.0013076812840355403",
         "0.5506849315068493",
         "0.01643835616438356",
         "0.41942982513558197",
         "0.6428571428571429",
         "64.71144278606965"
        ],
        [
         "42",
         "ORD",
         "0.004299226139294927",
         "0.35833333333333334",
         "0.030833333333333334",
         "0.2816698002161038",
         "0.35",
         "80.45581395348837"
        ],
        [
         "43",
         "ORH",
         "0.003912295786758384",
         "0.35714285714285715",
         "0.06318681318681318",
         "0.2754768375059093",
         "0.38461538461538464",
         "56.853846153846156"
        ],
        [
         "44",
         "PBI",
         "0.029148753224419604",
         "0.4358407079646018",
         "0.036135693215339236",
         "0.2925532972713898",
         "0.5090361445783133",
         "54.9478285391991"
        ],
        [
         "45",
         "PDX",
         "0.001110633419317856",
         "0.535483870967742",
         "0.016129032258064516",
         "0.23702752507587527",
         "0.6666666666666666",
         "69.42771084337349"
        ],
        [
         "46",
         "PHL",
         "0.004593006592146747",
         "0.26521060842433697",
         "0.02418096723868955",
         "0.2883690680385563",
         "0.40816326530612246",
         "46.970588235294116"
        ],
        [
         "47",
         "PHX",
         "0.004130839782172542",
         "0.603642671292281",
         "0.02168256721595837",
         "0.2919487217606841",
         "0.5531914893617021",
         "68.80316091954023"
        ],
        [
         "48",
         "PIT",
         "0.004675408426483233",
         "0.2835249042145594",
         "0.026053639846743294",
         "0.23345555688602757",
         "0.32653061224489793",
         "42.86486486486486"
        ],
        [
         "49",
         "PSE",
         "0.0024183147033533963",
         "0.4237037037037037",
         "0.035555555555555556",
         "0.13991027680093734",
         "0.4666666666666667",
         "61.03146853146853"
        ]
       ],
       "shape": {
        "columns": 7,
        "rows": 71
       }
      },
      "text/html": [
       "<div>\n",
       "<style scoped>\n",
       "    .dataframe tbody tr th:only-of-type {\n",
       "        vertical-align: middle;\n",
       "    }\n",
       "\n",
       "    .dataframe tbody tr th {\n",
       "        vertical-align: top;\n",
       "    }\n",
       "\n",
       "    .dataframe thead th {\n",
       "        text-align: right;\n",
       "    }\n",
       "</style>\n",
       "<table border=\"1\" class=\"dataframe\">\n",
       "  <thead>\n",
       "    <tr style=\"text-align: right;\">\n",
       "      <th></th>\n",
       "      <th>Origin</th>\n",
       "      <th>Percentage_airline_flights</th>\n",
       "      <th>percent_delayed</th>\n",
       "      <th>percent_diverted_cancelled</th>\n",
       "      <th>PercentAirlineFault</th>\n",
       "      <th>HolidayPercentDelayed</th>\n",
       "      <th>HowExtremeDelay</th>\n",
       "    </tr>\n",
       "  </thead>\n",
       "  <tbody>\n",
       "    <tr>\n",
       "      <th>0</th>\n",
       "      <td>ABQ</td>\n",
       "      <td>0.000781</td>\n",
       "      <td>0.660550</td>\n",
       "      <td>0.018349</td>\n",
       "      <td>0.170550</td>\n",
       "      <td>0.333333</td>\n",
       "      <td>48.013889</td>\n",
       "    </tr>\n",
       "    <tr>\n",
       "      <th>1</th>\n",
       "      <td>ACK</td>\n",
       "      <td>0.002916</td>\n",
       "      <td>0.350123</td>\n",
       "      <td>0.041769</td>\n",
       "      <td>0.135145</td>\n",
       "      <td>0.250000</td>\n",
       "      <td>61.807018</td>\n",
       "    </tr>\n",
       "    <tr>\n",
       "      <th>2</th>\n",
       "      <td>ALB</td>\n",
       "      <td>0.002429</td>\n",
       "      <td>0.452802</td>\n",
       "      <td>0.028024</td>\n",
       "      <td>0.239163</td>\n",
       "      <td>0.555556</td>\n",
       "      <td>67.276873</td>\n",
       "    </tr>\n",
       "    <tr>\n",
       "      <th>3</th>\n",
       "      <td>ATL</td>\n",
       "      <td>0.008298</td>\n",
       "      <td>0.552677</td>\n",
       "      <td>0.018998</td>\n",
       "      <td>0.429108</td>\n",
       "      <td>0.526316</td>\n",
       "      <td>56.485156</td>\n",
       "    </tr>\n",
       "    <tr>\n",
       "      <th>4</th>\n",
       "      <td>AUS</td>\n",
       "      <td>0.004439</td>\n",
       "      <td>0.489104</td>\n",
       "      <td>0.025020</td>\n",
       "      <td>0.360460</td>\n",
       "      <td>0.511111</td>\n",
       "      <td>51.886139</td>\n",
       "    </tr>\n",
       "    <tr>\n",
       "      <th>...</th>\n",
       "      <td>...</td>\n",
       "      <td>...</td>\n",
       "      <td>...</td>\n",
       "      <td>...</td>\n",
       "      <td>...</td>\n",
       "      <td>...</td>\n",
       "      <td>...</td>\n",
       "    </tr>\n",
       "    <tr>\n",
       "      <th>66</th>\n",
       "      <td>SMF</td>\n",
       "      <td>0.001652</td>\n",
       "      <td>0.572668</td>\n",
       "      <td>0.021692</td>\n",
       "      <td>0.305418</td>\n",
       "      <td>0.578947</td>\n",
       "      <td>55.295455</td>\n",
       "    </tr>\n",
       "    <tr>\n",
       "      <th>67</th>\n",
       "      <td>SRQ</td>\n",
       "      <td>0.003343</td>\n",
       "      <td>0.535906</td>\n",
       "      <td>0.041801</td>\n",
       "      <td>0.274008</td>\n",
       "      <td>0.694444</td>\n",
       "      <td>67.626000</td>\n",
       "    </tr>\n",
       "    <tr>\n",
       "      <th>68</th>\n",
       "      <td>STT</td>\n",
       "      <td>0.002949</td>\n",
       "      <td>0.425273</td>\n",
       "      <td>0.029162</td>\n",
       "      <td>0.223779</td>\n",
       "      <td>0.588235</td>\n",
       "      <td>58.102857</td>\n",
       "    </tr>\n",
       "    <tr>\n",
       "      <th>69</th>\n",
       "      <td>SYR</td>\n",
       "      <td>0.003816</td>\n",
       "      <td>0.445070</td>\n",
       "      <td>0.046948</td>\n",
       "      <td>0.331678</td>\n",
       "      <td>0.425000</td>\n",
       "      <td>59.559072</td>\n",
       "    </tr>\n",
       "    <tr>\n",
       "      <th>70</th>\n",
       "      <td>TPA</td>\n",
       "      <td>0.018311</td>\n",
       "      <td>0.425161</td>\n",
       "      <td>0.027588</td>\n",
       "      <td>0.343818</td>\n",
       "      <td>0.553299</td>\n",
       "      <td>50.982513</td>\n",
       "    </tr>\n",
       "  </tbody>\n",
       "</table>\n",
       "<p>71 rows × 7 columns</p>\n",
       "</div>"
      ],
      "text/plain": [
       "   Origin  Percentage_airline_flights  percent_delayed  \\\n",
       "0     ABQ                    0.000781         0.660550   \n",
       "1     ACK                    0.002916         0.350123   \n",
       "2     ALB                    0.002429         0.452802   \n",
       "3     ATL                    0.008298         0.552677   \n",
       "4     AUS                    0.004439         0.489104   \n",
       "..    ...                         ...              ...   \n",
       "66    SMF                    0.001652         0.572668   \n",
       "67    SRQ                    0.003343         0.535906   \n",
       "68    STT                    0.002949         0.425273   \n",
       "69    SYR                    0.003816         0.445070   \n",
       "70    TPA                    0.018311         0.425161   \n",
       "\n",
       "    percent_diverted_cancelled  PercentAirlineFault  HolidayPercentDelayed  \\\n",
       "0                     0.018349             0.170550               0.333333   \n",
       "1                     0.041769             0.135145               0.250000   \n",
       "2                     0.028024             0.239163               0.555556   \n",
       "3                     0.018998             0.429108               0.526316   \n",
       "4                     0.025020             0.360460               0.511111   \n",
       "..                         ...                  ...                    ...   \n",
       "66                    0.021692             0.305418               0.578947   \n",
       "67                    0.041801             0.274008               0.694444   \n",
       "68                    0.029162             0.223779               0.588235   \n",
       "69                    0.046948             0.331678               0.425000   \n",
       "70                    0.027588             0.343818               0.553299   \n",
       "\n",
       "    HowExtremeDelay  \n",
       "0         48.013889  \n",
       "1         61.807018  \n",
       "2         67.276873  \n",
       "3         56.485156  \n",
       "4         51.886139  \n",
       "..              ...  \n",
       "66        55.295455  \n",
       "67        67.626000  \n",
       "68        58.102857  \n",
       "69        59.559072  \n",
       "70        50.982513  \n",
       "\n",
       "[71 rows x 7 columns]"
      ]
     },
     "execution_count": 31,
     "metadata": {},
     "output_type": "execute_result"
    }
   ],
   "source": [
    "#merging all of the dataframes together\n",
    "merge1 = pd.merge(jetblue_percent_airports[[\"Origin\", \"Percentage_airline_flights\"]], airport_stats_df, how=\"left\", on=\"Origin\")\n",
    "\n",
    "merge2 = pd.merge(merge1, fault_at_airports, on=\"Origin\", how=\"left\")\n",
    "\n",
    "merge3 = pd.merge(merge2, holiday_performance_df, on=\"Origin\", how=\"left\")\n",
    "\n",
    "merge4 = pd.merge(merge3, how_extreme_delays, on=\"Origin\", how=\"left\")\n",
    "\n",
    "Final_merge = merge4[[\"Origin\", \"Percentage_airline_flights\", \"percent_delayed\", \"percent_diverted_cancelled\", \"PercentAirlineFault\"]]\n",
    "Final_merge[\"HolidayPercentDelayed\"] = merge4[\"Delayed\"]\n",
    "Final_merge[\"HowExtremeDelay\"] = merge4[\"ArrDelayMinutes\"]\n",
    "Final_merge[\"HolidayPercentDelayed\"] = Final_merge[\"HolidayPercentDelayed\"].fillna(0)\n",
    "Final_merge"
   ]
  },
  {
   "cell_type": "code",
   "execution_count": 32,
   "id": "ebfd9288",
   "metadata": {},
   "outputs": [
    {
     "name": "stderr",
     "output_type": "stream",
     "text": [
      "C:\\Users\\bmhawley\\AppData\\Local\\Temp\\4\\ipykernel_35304\\775840358.py:24: FutureWarning: ChainedAssignmentError: behaviour will change in pandas 3.0!\n",
      "You are setting values through chained assignment. Currently this works in certain cases, but when using Copy-on-Write (which will become the default behaviour in pandas 3.0) this will never work to update the original DataFrame or Series, because the intermediate object on which we are setting values will behave as a copy.\n",
      "A typical example is when you are setting values in a column of a DataFrame, like:\n",
      "\n",
      "df[\"col\"][row_indexer] = value\n",
      "\n",
      "Use `df.loc[row_indexer, \"col\"] = values` instead, to perform the assignment in a single step and ensure this keeps updating the original `df`.\n",
      "\n",
      "See the caveats in the documentation: https://pandas.pydata.org/pandas-docs/stable/user_guide/indexing.html#returning-a-view-versus-a-copy\n",
      "\n",
      "  Final_merge[(\"ScoreFrom_\" + column)][i] = points\n",
      "C:\\Users\\bmhawley\\AppData\\Local\\Temp\\4\\ipykernel_35304\\775840358.py:24: SettingWithCopyWarning: \n",
      "A value is trying to be set on a copy of a slice from a DataFrame\n",
      "\n",
      "See the caveats in the documentation: https://pandas.pydata.org/pandas-docs/stable/user_guide/indexing.html#returning-a-view-versus-a-copy\n",
      "  Final_merge[(\"ScoreFrom_\" + column)][i] = points\n",
      "C:\\Users\\bmhawley\\AppData\\Local\\Temp\\4\\ipykernel_35304\\775840358.py:24: FutureWarning: Setting an item of incompatible dtype is deprecated and will raise an error in a future version of pandas. Value '0.25' has dtype incompatible with int64, please explicitly cast to a compatible dtype first.\n",
      "  Final_merge[(\"ScoreFrom_\" + column)][i] = points\n",
      "C:\\Users\\bmhawley\\AppData\\Local\\Temp\\4\\ipykernel_35304\\775840358.py:24: FutureWarning: ChainedAssignmentError: behaviour will change in pandas 3.0!\n",
      "You are setting values through chained assignment. Currently this works in certain cases, but when using Copy-on-Write (which will become the default behaviour in pandas 3.0) this will never work to update the original DataFrame or Series, because the intermediate object on which we are setting values will behave as a copy.\n",
      "A typical example is when you are setting values in a column of a DataFrame, like:\n",
      "\n",
      "df[\"col\"][row_indexer] = value\n",
      "\n",
      "Use `df.loc[row_indexer, \"col\"] = values` instead, to perform the assignment in a single step and ensure this keeps updating the original `df`.\n",
      "\n",
      "See the caveats in the documentation: https://pandas.pydata.org/pandas-docs/stable/user_guide/indexing.html#returning-a-view-versus-a-copy\n",
      "\n",
      "  Final_merge[(\"ScoreFrom_\" + column)][i] = points\n",
      "C:\\Users\\bmhawley\\AppData\\Local\\Temp\\4\\ipykernel_35304\\775840358.py:24: SettingWithCopyWarning: \n",
      "A value is trying to be set on a copy of a slice from a DataFrame\n",
      "\n",
      "See the caveats in the documentation: https://pandas.pydata.org/pandas-docs/stable/user_guide/indexing.html#returning-a-view-versus-a-copy\n",
      "  Final_merge[(\"ScoreFrom_\" + column)][i] = points\n",
      "C:\\Users\\bmhawley\\AppData\\Local\\Temp\\4\\ipykernel_35304\\775840358.py:24: FutureWarning: Setting an item of incompatible dtype is deprecated and will raise an error in a future version of pandas. Value '0.5' has dtype incompatible with int64, please explicitly cast to a compatible dtype first.\n",
      "  Final_merge[(\"ScoreFrom_\" + column)][i] = points\n",
      "C:\\Users\\bmhawley\\AppData\\Local\\Temp\\4\\ipykernel_35304\\775840358.py:24: FutureWarning: ChainedAssignmentError: behaviour will change in pandas 3.0!\n",
      "You are setting values through chained assignment. Currently this works in certain cases, but when using Copy-on-Write (which will become the default behaviour in pandas 3.0) this will never work to update the original DataFrame or Series, because the intermediate object on which we are setting values will behave as a copy.\n",
      "A typical example is when you are setting values in a column of a DataFrame, like:\n",
      "\n",
      "df[\"col\"][row_indexer] = value\n",
      "\n",
      "Use `df.loc[row_indexer, \"col\"] = values` instead, to perform the assignment in a single step and ensure this keeps updating the original `df`.\n",
      "\n",
      "See the caveats in the documentation: https://pandas.pydata.org/pandas-docs/stable/user_guide/indexing.html#returning-a-view-versus-a-copy\n",
      "\n",
      "  Final_merge[(\"ScoreFrom_\" + column)][i] = points\n",
      "C:\\Users\\bmhawley\\AppData\\Local\\Temp\\4\\ipykernel_35304\\775840358.py:24: SettingWithCopyWarning: \n",
      "A value is trying to be set on a copy of a slice from a DataFrame\n",
      "\n",
      "See the caveats in the documentation: https://pandas.pydata.org/pandas-docs/stable/user_guide/indexing.html#returning-a-view-versus-a-copy\n",
      "  Final_merge[(\"ScoreFrom_\" + column)][i] = points\n",
      "C:\\Users\\bmhawley\\AppData\\Local\\Temp\\4\\ipykernel_35304\\775840358.py:24: FutureWarning: ChainedAssignmentError: behaviour will change in pandas 3.0!\n",
      "You are setting values through chained assignment. Currently this works in certain cases, but when using Copy-on-Write (which will become the default behaviour in pandas 3.0) this will never work to update the original DataFrame or Series, because the intermediate object on which we are setting values will behave as a copy.\n",
      "A typical example is when you are setting values in a column of a DataFrame, like:\n",
      "\n",
      "df[\"col\"][row_indexer] = value\n",
      "\n",
      "Use `df.loc[row_indexer, \"col\"] = values` instead, to perform the assignment in a single step and ensure this keeps updating the original `df`.\n",
      "\n",
      "See the caveats in the documentation: https://pandas.pydata.org/pandas-docs/stable/user_guide/indexing.html#returning-a-view-versus-a-copy\n",
      "\n",
      "  Final_merge[(\"ScoreFrom_\" + column)][i] = points\n",
      "C:\\Users\\bmhawley\\AppData\\Local\\Temp\\4\\ipykernel_35304\\775840358.py:24: SettingWithCopyWarning: \n",
      "A value is trying to be set on a copy of a slice from a DataFrame\n",
      "\n",
      "See the caveats in the documentation: https://pandas.pydata.org/pandas-docs/stable/user_guide/indexing.html#returning-a-view-versus-a-copy\n",
      "  Final_merge[(\"ScoreFrom_\" + column)][i] = points\n",
      "C:\\Users\\bmhawley\\AppData\\Local\\Temp\\4\\ipykernel_35304\\775840358.py:24: FutureWarning: ChainedAssignmentError: behaviour will change in pandas 3.0!\n",
      "You are setting values through chained assignment. Currently this works in certain cases, but when using Copy-on-Write (which will become the default behaviour in pandas 3.0) this will never work to update the original DataFrame or Series, because the intermediate object on which we are setting values will behave as a copy.\n",
      "A typical example is when you are setting values in a column of a DataFrame, like:\n",
      "\n",
      "df[\"col\"][row_indexer] = value\n",
      "\n",
      "Use `df.loc[row_indexer, \"col\"] = values` instead, to perform the assignment in a single step and ensure this keeps updating the original `df`.\n",
      "\n",
      "See the caveats in the documentation: https://pandas.pydata.org/pandas-docs/stable/user_guide/indexing.html#returning-a-view-versus-a-copy\n",
      "\n",
      "  Final_merge[(\"ScoreFrom_\" + column)][i] = points\n",
      "C:\\Users\\bmhawley\\AppData\\Local\\Temp\\4\\ipykernel_35304\\775840358.py:24: SettingWithCopyWarning: \n",
      "A value is trying to be set on a copy of a slice from a DataFrame\n",
      "\n",
      "See the caveats in the documentation: https://pandas.pydata.org/pandas-docs/stable/user_guide/indexing.html#returning-a-view-versus-a-copy\n",
      "  Final_merge[(\"ScoreFrom_\" + column)][i] = points\n",
      "C:\\Users\\bmhawley\\AppData\\Local\\Temp\\4\\ipykernel_35304\\775840358.py:24: FutureWarning: Setting an item of incompatible dtype is deprecated and will raise an error in a future version of pandas. Value '0.5' has dtype incompatible with int64, please explicitly cast to a compatible dtype first.\n",
      "  Final_merge[(\"ScoreFrom_\" + column)][i] = points\n",
      "C:\\Users\\bmhawley\\AppData\\Local\\Temp\\4\\ipykernel_35304\\775840358.py:24: FutureWarning: ChainedAssignmentError: behaviour will change in pandas 3.0!\n",
      "You are setting values through chained assignment. Currently this works in certain cases, but when using Copy-on-Write (which will become the default behaviour in pandas 3.0) this will never work to update the original DataFrame or Series, because the intermediate object on which we are setting values will behave as a copy.\n",
      "A typical example is when you are setting values in a column of a DataFrame, like:\n",
      "\n",
      "df[\"col\"][row_indexer] = value\n",
      "\n",
      "Use `df.loc[row_indexer, \"col\"] = values` instead, to perform the assignment in a single step and ensure this keeps updating the original `df`.\n",
      "\n",
      "See the caveats in the documentation: https://pandas.pydata.org/pandas-docs/stable/user_guide/indexing.html#returning-a-view-versus-a-copy\n",
      "\n",
      "  Final_merge[(\"ScoreFrom_\" + column)][i] = points\n",
      "C:\\Users\\bmhawley\\AppData\\Local\\Temp\\4\\ipykernel_35304\\775840358.py:24: SettingWithCopyWarning: \n",
      "A value is trying to be set on a copy of a slice from a DataFrame\n",
      "\n",
      "See the caveats in the documentation: https://pandas.pydata.org/pandas-docs/stable/user_guide/indexing.html#returning-a-view-versus-a-copy\n",
      "  Final_merge[(\"ScoreFrom_\" + column)][i] = points\n",
      "C:\\Users\\bmhawley\\AppData\\Local\\Temp\\4\\ipykernel_35304\\775840358.py:24: FutureWarning: Setting an item of incompatible dtype is deprecated and will raise an error in a future version of pandas. Value '0.5' has dtype incompatible with int64, please explicitly cast to a compatible dtype first.\n",
      "  Final_merge[(\"ScoreFrom_\" + column)][i] = points\n",
      "C:\\Users\\bmhawley\\AppData\\Local\\Temp\\4\\ipykernel_35304\\775840358.py:24: FutureWarning: ChainedAssignmentError: behaviour will change in pandas 3.0!\n",
      "You are setting values through chained assignment. Currently this works in certain cases, but when using Copy-on-Write (which will become the default behaviour in pandas 3.0) this will never work to update the original DataFrame or Series, because the intermediate object on which we are setting values will behave as a copy.\n",
      "A typical example is when you are setting values in a column of a DataFrame, like:\n",
      "\n",
      "df[\"col\"][row_indexer] = value\n",
      "\n",
      "Use `df.loc[row_indexer, \"col\"] = values` instead, to perform the assignment in a single step and ensure this keeps updating the original `df`.\n",
      "\n",
      "See the caveats in the documentation: https://pandas.pydata.org/pandas-docs/stable/user_guide/indexing.html#returning-a-view-versus-a-copy\n",
      "\n",
      "  Final_merge[(\"ScoreFrom_\" + column)][i] = points\n",
      "C:\\Users\\bmhawley\\AppData\\Local\\Temp\\4\\ipykernel_35304\\775840358.py:24: SettingWithCopyWarning: \n",
      "A value is trying to be set on a copy of a slice from a DataFrame\n",
      "\n",
      "See the caveats in the documentation: https://pandas.pydata.org/pandas-docs/stable/user_guide/indexing.html#returning-a-view-versus-a-copy\n",
      "  Final_merge[(\"ScoreFrom_\" + column)][i] = points\n",
      "C:\\Users\\bmhawley\\AppData\\Local\\Temp\\4\\ipykernel_35304\\775840358.py:24: FutureWarning: Setting an item of incompatible dtype is deprecated and will raise an error in a future version of pandas. Value '0.5' has dtype incompatible with int64, please explicitly cast to a compatible dtype first.\n",
      "  Final_merge[(\"ScoreFrom_\" + column)][i] = points\n",
      "C:\\Users\\bmhawley\\AppData\\Local\\Temp\\4\\ipykernel_35304\\775840358.py:44: FutureWarning: ChainedAssignmentError: behaviour will change in pandas 3.0!\n",
      "You are setting values through chained assignment. Currently this works in certain cases, but when using Copy-on-Write (which will become the default behaviour in pandas 3.0) this will never work to update the original DataFrame or Series, because the intermediate object on which we are setting values will behave as a copy.\n",
      "A typical example is when you are setting values in a column of a DataFrame, like:\n",
      "\n",
      "df[\"col\"][row_indexer] = value\n",
      "\n",
      "Use `df.loc[row_indexer, \"col\"] = values` instead, to perform the assignment in a single step and ensure this keeps updating the original `df`.\n",
      "\n",
      "See the caveats in the documentation: https://pandas.pydata.org/pandas-docs/stable/user_guide/indexing.html#returning-a-view-versus-a-copy\n",
      "\n",
      "  Final_merge[\"ScoreFrom_Size\"][i] = points\n",
      "C:\\Users\\bmhawley\\AppData\\Local\\Temp\\4\\ipykernel_35304\\775840358.py:44: SettingWithCopyWarning: \n",
      "A value is trying to be set on a copy of a slice from a DataFrame\n",
      "\n",
      "See the caveats in the documentation: https://pandas.pydata.org/pandas-docs/stable/user_guide/indexing.html#returning-a-view-versus-a-copy\n",
      "  Final_merge[\"ScoreFrom_Size\"][i] = points\n",
      "C:\\Users\\bmhawley\\AppData\\Local\\Temp\\4\\ipykernel_35304\\775840358.py:44: FutureWarning: ChainedAssignmentError: behaviour will change in pandas 3.0!\n",
      "You are setting values through chained assignment. Currently this works in certain cases, but when using Copy-on-Write (which will become the default behaviour in pandas 3.0) this will never work to update the original DataFrame or Series, because the intermediate object on which we are setting values will behave as a copy.\n",
      "A typical example is when you are setting values in a column of a DataFrame, like:\n",
      "\n",
      "df[\"col\"][row_indexer] = value\n",
      "\n",
      "Use `df.loc[row_indexer, \"col\"] = values` instead, to perform the assignment in a single step and ensure this keeps updating the original `df`.\n",
      "\n",
      "See the caveats in the documentation: https://pandas.pydata.org/pandas-docs/stable/user_guide/indexing.html#returning-a-view-versus-a-copy\n",
      "\n",
      "  Final_merge[\"ScoreFrom_Size\"][i] = points\n",
      "C:\\Users\\bmhawley\\AppData\\Local\\Temp\\4\\ipykernel_35304\\775840358.py:44: SettingWithCopyWarning: \n",
      "A value is trying to be set on a copy of a slice from a DataFrame\n",
      "\n",
      "See the caveats in the documentation: https://pandas.pydata.org/pandas-docs/stable/user_guide/indexing.html#returning-a-view-versus-a-copy\n",
      "  Final_merge[\"ScoreFrom_Size\"][i] = points\n",
      "C:\\Users\\bmhawley\\AppData\\Local\\Temp\\4\\ipykernel_35304\\775840358.py:44: FutureWarning: Setting an item of incompatible dtype is deprecated and will raise an error in a future version of pandas. Value '0.25' has dtype incompatible with int64, please explicitly cast to a compatible dtype first.\n",
      "  Final_merge[\"ScoreFrom_Size\"][i] = points\n"
     ]
    }
   ],
   "source": [
    "#Create a total score for each airport\n",
    "\n",
    "#Scoring for all columns with for loop\n",
    "columns_of_interest = [\"percent_delayed\", \"percent_diverted_cancelled\", \"PercentAirlineFault\", \"HolidayPercentDelayed\", \"HowExtremeDelay\"]\n",
    "\n",
    "for column in columns_of_interest:\n",
    "\n",
    "    quantiles = Final_merget[[column]].quantile([0.25, 0.75])\n",
    "    twenty_fifth = quantiles.loc[0.25][column]\n",
    "    seventy_fifth = quantiles.loc[0.75][column]\n",
    "\n",
    "    Final_merge[(\"ScoreFrom_\" + column)] = 0\n",
    "\n",
    "    for i in range(len(Final_merge[\"Origin\"])):\n",
    "        value = Final_merge[column][i]\n",
    "\n",
    "        if value <= twenty_fifth:\n",
    "            points = 1\n",
    "        elif value > twenty_fifth and value <= seventy_fifth:\n",
    "            points = 0.5\n",
    "        elif value > seventy_fifth:\n",
    "            points = 0.25\n",
    "\n",
    "        Final_merge[(\"ScoreFrom_\" + column)][i] = points\n",
    "\n",
    "#Adding a modifer for the size of the airport\n",
    "\n",
    "percent_flights_quantiles = Final_merge[[\"Percentage_airline_flights\"]].quantile([0.25, 0.75])\n",
    "twenty_fifth = percent_flights_quantiles.loc[0.25][\"Percentage_airline_flights\"]\n",
    "seventy_fifth = percent_flights_quantiles.loc[0.75][\"Percentage_airline_flights\"]\n",
    "\n",
    "Final_merge[\"ScoreFrom_Size\"] = 0\n",
    "\n",
    "for i in range(len(Final_merge[\"Origin\"])):\n",
    "    value = Final_merge[\"Percentage_airline_flights\"][i]\n",
    "\n",
    "    if value >= seventy_fifth:\n",
    "            points = .5\n",
    "    elif value < seventy_fifth and value > twenty_fifth:\n",
    "            points = 0.25\n",
    "    elif value <= twenty_fifth:\n",
    "            points = 0\n",
    "\n",
    "    Final_merge[\"ScoreFrom_Size\"][i] = points\n",
    "\n",
    "Final_merge[\"TotalScore\"] = Final_merge[[\"ScoreFrom_percent_delayed\", \"ScoreFrom_percent_diverted_cancelled\",\"ScoreFrom_PercentAirlineFault\",\n",
    "                                         \"ScoreFrom_HolidayPercentDelayed\", \"ScoreFrom_HowExtremeDelay\", \"ScoreFrom_Size\"]].sum(axis=1)"
   ]
  },
  {
   "cell_type": "code",
   "execution_count": 33,
   "id": "ffccc2e0",
   "metadata": {},
   "outputs": [
    {
     "name": "stdout",
     "output_type": "stream",
     "text": [
      "   IATA                                               Name           State  \\\n",
      "0   ABQ          Albuquerque International Sunport Airport      New Mexico   \n",
      "1   ACK                         Nantucket Memorial Airport   Massachusetts   \n",
      "2   ALB                       Albany International Airport        New York   \n",
      "3   ATL  Hartsfield - Jackson Atlanta International Air...         Georgia   \n",
      "4   AUS             Austin-Bergstrom International Airport           Texas   \n",
      "..  ...                                                ...             ...   \n",
      "66  SMF                   Sacramento International Airport      California   \n",
      "67  SRQ           Sarasota/Bradenton International Airport         Florida   \n",
      "68  STT                               Cyril E King Airport  Virgin Islands   \n",
      "69  SYR             Syracuse Hancock International Airport        New York   \n",
      "70  TPA                        Tampa International Airport         Florida   \n",
      "\n",
      "    Latitude  Longitude  \n",
      "0   35.03893 -106.60826  \n",
      "1   41.30000  -70.10000  \n",
      "2   42.74912  -73.80198  \n",
      "3   33.63670  -84.42786  \n",
      "4   30.19453  -97.66988  \n",
      "..       ...        ...  \n",
      "66  38.69544 -121.59078  \n",
      "67  27.39544  -82.55439  \n",
      "68  18.33731  -64.97333  \n",
      "69  43.11119  -76.10631  \n",
      "70  27.97547  -82.53325  \n",
      "\n",
      "[71 rows x 5 columns]\n"
     ]
    }
   ],
   "source": [
    "#Bringing in latitude and longitude for the airports\n",
    "from airportsdata import load\n",
    "\n",
    "airports = load('IATA')\n",
    "\n",
    "iata_codes = list(Final_merge[\"Origin\"])\n",
    "\n",
    "data = []\n",
    "\n",
    "for code in iata_codes:\n",
    "    info = airports.get(code)\n",
    "    if info:\n",
    "        data.append({\n",
    "            \"IATA\" : code,\n",
    "            \"Name\" : info[\"name\"],\n",
    "            \"State\" : info[\"subd\"],\n",
    "            \"Latitude\" : info[\"lat\"],\n",
    "            \"Longitude\" : info[\"lon\"]\n",
    "        })\n",
    "\n",
    "    else:\n",
    "        data.append({\n",
    "            \"IATA\" : code,\n",
    "            \"Name\" : \"Not found\",\n",
    "            \"State\" : \"\",\n",
    "            \"Latitude\" : None,\n",
    "            \"Longitude\" : None\n",
    "        })\n",
    "\n",
    "airports_geog_info_df = pd.DataFrame(data)\n",
    "\n",
    "print(airports_geog_info_df)"
   ]
  },
  {
   "cell_type": "code",
   "execution_count": 34,
   "id": "2c871119",
   "metadata": {},
   "outputs": [],
   "source": [
    "#Merge airport geographic information with airport information\n",
    "\n",
    "merge_locations = pd.merge(Final_merge, airports_geog_info_df, how=\"left\", left_on=\"Origin\", right_on=\"IATA\")\n",
    "\n",
    "merge_locations.to_csv(\"Jetblue_AirportScores_Locations.csv\", index=False)"
   ]
  },
  {
   "cell_type": "code",
   "execution_count": 35,
   "id": "02539a10",
   "metadata": {},
   "outputs": [],
   "source": [
    "#Find the 5 airports above the fiftieth percentile with the worst score\n",
    "#creating a region column in merge_locations\n",
    "def state_to_region(state):\n",
    "    West = [\"Washington\", \"Montana\", \"Idaho\", \"Wyoming\", \"Oregon\", \"California\", \"Nevada\", \"Utah\", \"Colorado\", \"Arizona\", \"New Mexico\", \"Alaska\", \"Hawaii\"]\n",
    "    South = [\"Texas\", \"Oklahoma\", \"Arkansas\", \"Louisiana\", \"Mississippi\", \"Alabama\", \"Tennessee\", \"Kentucky\", \"Florida\", \"Georgia\", \"South Carolina\", \"North Carolina\", \"Virginia\", \"Maryland\", \"Delaware\"]\n",
    "    Northeast = [\"Pennsylvania\", \"New Jersey\", \"New York\", \"Connecticut\", \"Massachusetts\", \"Rhode Island\", \"Maine\", \"New Hampshire\", \"Vermont\"]\n",
    "    Midwest = [\"North Dakota\", \"South Dakota\", \"Nebraska\", \"Kansas\", \"Missouri\", \"Iowa\", \"Minnesota\", \"Wisconsin\", \"Illinois\", \"Indiana\", \"Ohio\", \"Michigan\"]\n",
    "\n",
    "    if state in West:\n",
    "        return \"West\"\n",
    "    elif state in South:\n",
    "        return \"South\"\n",
    "    elif state in Northeast:\n",
    "        return \"Northeast\"\n",
    "    elif state in Midwest:\n",
    "        return \"Midwest\"\n",
    "    \n",
    "merge_locations[\"Region\"] = merge_locations[\"State\"].map(state_to_region)\n",
    "\n",
    "fifty = merge_locations[\"Percentage_airline_flights\"].median()\n",
    "five_worst_jetblue = merge_locations[(merge_locations[\"Percentage_airline_flights\"] > fifty) & (merge_locations[\"Region\"] == \"South\")].sort_values(\"TotalScore\", ascending=True).head(5)\n",
    "five_worst_jetblue.to_csv(\"FiveWorstJetblue.csv\", index=False)"
   ]
  },
  {
   "cell_type": "markdown",
   "id": "6039683b",
   "metadata": {},
   "source": [
    "#### Allegiant Analysis"
   ]
  },
  {
   "cell_type": "code",
   "execution_count": 36,
   "id": "113c5c94",
   "metadata": {},
   "outputs": [
    {
     "data": {
      "text/plain": [
       "(68701, 42)"
      ]
     },
     "execution_count": 36,
     "metadata": {},
     "output_type": "execute_result"
    }
   ],
   "source": [
    "df_allegiant = df_2[df_2[\"Operating_Airline\"] == \"G4\"]\n",
    "df_allegiant.shape"
   ]
  },
  {
   "cell_type": "code",
   "execution_count": 37,
   "id": "5df94447",
   "metadata": {},
   "outputs": [
    {
     "data": {
      "application/vnd.microsoft.datawrangler.viewer.v0+json": {
       "columns": [
        {
         "name": "Region",
         "rawType": "object",
         "type": "string"
        },
        {
         "name": "Flights",
         "rawType": "float64",
         "type": "float"
        }
       ],
       "ref": "889bbed6-4415-4fb2-bd20-9e35fbdb5a8d",
       "rows": [
        [
         "Midwest",
         "16.908050828954455"
        ],
        [
         "Northeast",
         "6.307040654430067"
        ],
        [
         "South",
         "47.72710732012634"
        ],
        [
         "West",
         "28.973377388975415"
        ]
       ],
       "shape": {
        "columns": 1,
        "rows": 4
       }
      },
      "text/plain": [
       "Region\n",
       "Midwest      16.908051\n",
       "Northeast     6.307041\n",
       "South        47.727107\n",
       "West         28.973377\n",
       "Name: Flights, dtype: float64"
      ]
     },
     "execution_count": 37,
     "metadata": {},
     "output_type": "execute_result"
    }
   ],
   "source": [
    "#where allegiant is flying - regions\n",
    "allegiant_percent_regions = df_allegiant.groupby(\"Region\")[\"Flights\"].sum() / len(df_allegiant[\"Flights\"])\n",
    "allegiant_percent_regions * 100"
   ]
  },
  {
   "cell_type": "code",
   "execution_count": 38,
   "id": "c55755d8",
   "metadata": {},
   "outputs": [
    {
     "data": {
      "application/vnd.microsoft.datawrangler.viewer.v0+json": {
       "columns": [
        {
         "name": "index",
         "rawType": "int64",
         "type": "integer"
        },
        {
         "name": "Origin",
         "rawType": "object",
         "type": "string"
        },
        {
         "name": "Percentage_airline_flights",
         "rawType": "float64",
         "type": "float"
        }
       ],
       "ref": "aafa4b73-6b16-4973-b7c0-8098f235e921",
       "rows": [
        [
         "0",
         "ABE",
         "0.007001353692085996"
        ],
        [
         "1",
         "ABQ",
         "0.00017466994658010802"
        ],
        [
         "2",
         "ALB",
         "0.0027656074875183766"
        ],
        [
         "3",
         "AMA",
         "0.00045123069533194567"
        ],
        [
         "4",
         "ATW",
         "0.007976594227158266"
        ],
        [
         "5",
         "AUS",
         "0.020756611985269503"
        ],
        [
         "6",
         "AVL",
         "0.024439236692333444"
        ],
        [
         "7",
         "AZA",
         "0.01430837979068718"
        ],
        [
         "8",
         "BGR",
         "0.0003202282353968647"
        ],
        [
         "9",
         "BIL",
         "0.0017030319791560531"
        ],
        [
         "10",
         "BIS",
         "0.002096039358961296"
        ],
        [
         "11",
         "BLI",
         "0.009985298612829508"
        ],
        [
         "12",
         "BLV",
         "0.004643309413254538"
        ],
        [
         "13",
         "BNA",
         "0.04547240942635478"
        ],
        [
         "14",
         "BOI",
         "0.005079984279704808"
        ],
        [
         "15",
         "BOS",
         "0.008558827382425293"
        ],
        [
         "16",
         "BWI",
         "0.004337637006739349"
        ],
        [
         "17",
         "BZN",
         "0.004017408771342484"
        ],
        [
         "18",
         "CAK",
         "0.004104743744632538"
        ],
        [
         "19",
         "CHS",
         "0.0035225105893655112"
        ],
        [
         "20",
         "CID",
         "0.004861646846479673"
        ],
        [
         "21",
         "CKB",
         "0.0003202282353968647"
        ],
        [
         "22",
         "CVG",
         "0.050683396165994675"
        ],
        [
         "23",
         "DEN",
         "0.00655012299675405"
        ],
        [
         "24",
         "DSM",
         "0.015909520967671505"
        ],
        [
         "25",
         "ELP",
         "0.0016011411769843234"
        ],
        [
         "26",
         "EUG",
         "0.005400212515101673"
        ],
        [
         "27",
         "EWR",
         "0.010421973479279778"
        ],
        [
         "28",
         "EYW",
         "0.005036316793059781"
        ],
        [
         "29",
         "FAR",
         "0.004323081177857673"
        ],
        [
         "30",
         "FAT",
         "0.009490400430852535"
        ],
        [
         "31",
         "FCA",
         "0.002110595187842972"
        ],
        [
         "32",
         "FLL",
         "0.043667486645027"
        ],
        [
         "33",
         "FNT",
         "0.007729145136169779"
        ],
        [
         "34",
         "FSD",
         "0.008209487489265076"
        ],
        [
         "35",
         "FWA",
         "0.003318728985022052"
        ],
        [
         "36",
         "GEG",
         "0.004293969520094322"
        ],
        [
         "37",
         "GFK",
         "0.0015138062036942693"
        ],
        [
         "38",
         "GJT",
         "0.001790366952446107"
        ],
        [
         "39",
         "GRI",
         "0.0015865853481026478"
        ],
        [
         "40",
         "GRR",
         "0.029781225891908413"
        ],
        [
         "41",
         "GSP",
         "0.0011935779682974046"
        ],
        [
         "42",
         "GTF",
         "0.0016302528347476746"
        ],
        [
         "43",
         "HGR",
         "0.00043667486645027"
        ],
        [
         "44",
         "HOU",
         "0.006535567167872375"
        ],
        [
         "45",
         "HTS",
         "0.000524009839740324"
        ],
        [
         "46",
         "IAD",
         "0.006055224814777077"
        ],
        [
         "47",
         "ICT",
         "0.002096039358961296"
        ],
        [
         "48",
         "IDA",
         "0.004293969520094322"
        ],
        [
         "49",
         "IND",
         "0.022576090595478958"
        ]
       ],
       "shape": {
        "columns": 2,
        "rows": 114
       }
      },
      "text/html": [
       "<div>\n",
       "<style scoped>\n",
       "    .dataframe tbody tr th:only-of-type {\n",
       "        vertical-align: middle;\n",
       "    }\n",
       "\n",
       "    .dataframe tbody tr th {\n",
       "        vertical-align: top;\n",
       "    }\n",
       "\n",
       "    .dataframe thead th {\n",
       "        text-align: right;\n",
       "    }\n",
       "</style>\n",
       "<table border=\"1\" class=\"dataframe\">\n",
       "  <thead>\n",
       "    <tr style=\"text-align: right;\">\n",
       "      <th></th>\n",
       "      <th>Origin</th>\n",
       "      <th>Percentage_airline_flights</th>\n",
       "    </tr>\n",
       "  </thead>\n",
       "  <tbody>\n",
       "    <tr>\n",
       "      <th>0</th>\n",
       "      <td>ABE</td>\n",
       "      <td>0.007001</td>\n",
       "    </tr>\n",
       "    <tr>\n",
       "      <th>1</th>\n",
       "      <td>ABQ</td>\n",
       "      <td>0.000175</td>\n",
       "    </tr>\n",
       "    <tr>\n",
       "      <th>2</th>\n",
       "      <td>ALB</td>\n",
       "      <td>0.002766</td>\n",
       "    </tr>\n",
       "    <tr>\n",
       "      <th>3</th>\n",
       "      <td>AMA</td>\n",
       "      <td>0.000451</td>\n",
       "    </tr>\n",
       "    <tr>\n",
       "      <th>4</th>\n",
       "      <td>ATW</td>\n",
       "      <td>0.007977</td>\n",
       "    </tr>\n",
       "    <tr>\n",
       "      <th>...</th>\n",
       "      <td>...</td>\n",
       "      <td>...</td>\n",
       "    </tr>\n",
       "    <tr>\n",
       "      <th>109</th>\n",
       "      <td>TUL</td>\n",
       "      <td>0.003624</td>\n",
       "    </tr>\n",
       "    <tr>\n",
       "      <th>110</th>\n",
       "      <td>TYS</td>\n",
       "      <td>0.018049</td>\n",
       "    </tr>\n",
       "    <tr>\n",
       "      <th>111</th>\n",
       "      <td>USA</td>\n",
       "      <td>0.003464</td>\n",
       "    </tr>\n",
       "    <tr>\n",
       "      <th>112</th>\n",
       "      <td>VPS</td>\n",
       "      <td>0.018588</td>\n",
       "    </tr>\n",
       "    <tr>\n",
       "      <th>113</th>\n",
       "      <td>XNA</td>\n",
       "      <td>0.004803</td>\n",
       "    </tr>\n",
       "  </tbody>\n",
       "</table>\n",
       "<p>114 rows × 2 columns</p>\n",
       "</div>"
      ],
      "text/plain": [
       "    Origin  Percentage_airline_flights\n",
       "0      ABE                    0.007001\n",
       "1      ABQ                    0.000175\n",
       "2      ALB                    0.002766\n",
       "3      AMA                    0.000451\n",
       "4      ATW                    0.007977\n",
       "..     ...                         ...\n",
       "109    TUL                    0.003624\n",
       "110    TYS                    0.018049\n",
       "111    USA                    0.003464\n",
       "112    VPS                    0.018588\n",
       "113    XNA                    0.004803\n",
       "\n",
       "[114 rows x 2 columns]"
      ]
     },
     "execution_count": 38,
     "metadata": {},
     "output_type": "execute_result"
    }
   ],
   "source": [
    "#Where frontier is flying - airports\n",
    "allegiant_percent_airports = (pd.DataFrame(df_allegiant.groupby(\"Origin\")[\"Flights\"].sum() / len(df_allegiant[\"Flights\"]))).reset_index()\n",
    "allegiant_percent_airports.rename(columns={\"Flights\" : \"Percentage_airline_flights\"}, inplace=True)\n",
    "allegiant_percent_airports"
   ]
  },
  {
   "cell_type": "code",
   "execution_count": 39,
   "id": "19a0ba1b",
   "metadata": {},
   "outputs": [
    {
     "data": {
      "application/vnd.microsoft.datawrangler.viewer.v0+json": {
       "columns": [
        {
         "name": "index",
         "rawType": "int64",
         "type": "integer"
        },
        {
         "name": "Origin",
         "rawType": "object",
         "type": "string"
        },
        {
         "name": "PercentAirlineFault",
         "rawType": "float64",
         "type": "float"
        }
       ],
       "ref": "77f2caaa-4b30-4c24-aeb0-d515bb9fbe0c",
       "rows": [
        [
         "0",
         "ABE",
         "0.3083921198868206"
        ],
        [
         "1",
         "ABQ",
         "0.08652684163943355"
        ],
        [
         "2",
         "ALB",
         "0.13563717777185527"
        ],
        [
         "3",
         "AMA",
         "0.677326563222447"
        ],
        [
         "4",
         "ATW",
         "0.22211078705361897"
        ],
        [
         "5",
         "AUS",
         "0.38123402035931164"
        ],
        [
         "6",
         "AVL",
         "0.2586485944267161"
        ],
        [
         "7",
         "AZA",
         "0.3611312936510607"
        ],
        [
         "8",
         "BGR",
         "0.03701328722703552"
        ],
        [
         "9",
         "BIL",
         "0.14963975634484633"
        ],
        [
         "10",
         "BIS",
         "0.18300776559544682"
        ],
        [
         "11",
         "BLI",
         "0.28533278713518606"
        ],
        [
         "12",
         "BLV",
         "0.1535402794565583"
        ],
        [
         "13",
         "BNA",
         "0.24020790298748923"
        ],
        [
         "14",
         "BOI",
         "0.14592121266554284"
        ],
        [
         "15",
         "BOS",
         "0.2978086216143722"
        ],
        [
         "16",
         "BWI",
         "0.15900243697578148"
        ],
        [
         "17",
         "BZN",
         "0.11775923524253055"
        ],
        [
         "18",
         "CAK",
         "0.14427995047976624"
        ],
        [
         "19",
         "CHS",
         "0.14011690908776656"
        ],
        [
         "20",
         "CID",
         "0.051754017917406636"
        ],
        [
         "21",
         "CKB",
         "0.2437221535260751"
        ],
        [
         "22",
         "CVG",
         "0.2563318272405886"
        ],
        [
         "23",
         "DEN",
         "0.2706707278727353"
        ],
        [
         "24",
         "DSM",
         "0.26324637830694597"
        ],
        [
         "25",
         "ELP",
         "0.18471269879693913"
        ],
        [
         "26",
         "EUG",
         "0.1867661246667478"
        ],
        [
         "27",
         "EWR",
         "0.23849604317746198"
        ],
        [
         "28",
         "EYW",
         "0.34617629774538283"
        ],
        [
         "29",
         "FAR",
         "0.18278569768942066"
        ],
        [
         "30",
         "FAT",
         "0.12381553194593414"
        ],
        [
         "31",
         "FCA",
         "0.1420830772325195"
        ],
        [
         "32",
         "FLL",
         "0.1888257583613124"
        ],
        [
         "33",
         "FNT",
         "0.3226107918702115"
        ],
        [
         "34",
         "FSD",
         "0.15038473536802918"
        ],
        [
         "35",
         "FWA",
         "0.14114662013003976"
        ],
        [
         "36",
         "GEG",
         "0.2519297084015368"
        ],
        [
         "37",
         "GFK",
         "0.10957896020096988"
        ],
        [
         "38",
         "GJT",
         "0.25550839433014244"
        ],
        [
         "39",
         "GRI",
         "0.2797503996180283"
        ],
        [
         "40",
         "GRR",
         "0.2968367563489592"
        ],
        [
         "41",
         "GSP",
         "0.12858536748745988"
        ],
        [
         "42",
         "GTF",
         "0.17109777475037896"
        ],
        [
         "43",
         "HGR",
         "0.0"
        ],
        [
         "44",
         "HOU",
         "0.20239302183091595"
        ],
        [
         "45",
         "HTS",
         "0.40692110177404295"
        ],
        [
         "46",
         "IAD",
         "0.22125504331408669"
        ],
        [
         "47",
         "ICT",
         "0.19080131581918158"
        ],
        [
         "48",
         "IDA",
         "0.2055112749733251"
        ],
        [
         "49",
         "IND",
         "0.2258640031557087"
        ]
       ],
       "shape": {
        "columns": 2,
        "rows": 114
       }
      },
      "text/html": [
       "<div>\n",
       "<style scoped>\n",
       "    .dataframe tbody tr th:only-of-type {\n",
       "        vertical-align: middle;\n",
       "    }\n",
       "\n",
       "    .dataframe tbody tr th {\n",
       "        vertical-align: top;\n",
       "    }\n",
       "\n",
       "    .dataframe thead th {\n",
       "        text-align: right;\n",
       "    }\n",
       "</style>\n",
       "<table border=\"1\" class=\"dataframe\">\n",
       "  <thead>\n",
       "    <tr style=\"text-align: right;\">\n",
       "      <th></th>\n",
       "      <th>Origin</th>\n",
       "      <th>PercentAirlineFault</th>\n",
       "    </tr>\n",
       "  </thead>\n",
       "  <tbody>\n",
       "    <tr>\n",
       "      <th>0</th>\n",
       "      <td>ABE</td>\n",
       "      <td>0.308392</td>\n",
       "    </tr>\n",
       "    <tr>\n",
       "      <th>1</th>\n",
       "      <td>ABQ</td>\n",
       "      <td>0.086527</td>\n",
       "    </tr>\n",
       "    <tr>\n",
       "      <th>2</th>\n",
       "      <td>ALB</td>\n",
       "      <td>0.135637</td>\n",
       "    </tr>\n",
       "    <tr>\n",
       "      <th>3</th>\n",
       "      <td>AMA</td>\n",
       "      <td>0.677327</td>\n",
       "    </tr>\n",
       "    <tr>\n",
       "      <th>4</th>\n",
       "      <td>ATW</td>\n",
       "      <td>0.222111</td>\n",
       "    </tr>\n",
       "    <tr>\n",
       "      <th>...</th>\n",
       "      <td>...</td>\n",
       "      <td>...</td>\n",
       "    </tr>\n",
       "    <tr>\n",
       "      <th>109</th>\n",
       "      <td>TUL</td>\n",
       "      <td>0.103735</td>\n",
       "    </tr>\n",
       "    <tr>\n",
       "      <th>110</th>\n",
       "      <td>TYS</td>\n",
       "      <td>0.201801</td>\n",
       "    </tr>\n",
       "    <tr>\n",
       "      <th>111</th>\n",
       "      <td>USA</td>\n",
       "      <td>0.166805</td>\n",
       "    </tr>\n",
       "    <tr>\n",
       "      <th>112</th>\n",
       "      <td>VPS</td>\n",
       "      <td>0.239689</td>\n",
       "    </tr>\n",
       "    <tr>\n",
       "      <th>113</th>\n",
       "      <td>XNA</td>\n",
       "      <td>0.226802</td>\n",
       "    </tr>\n",
       "  </tbody>\n",
       "</table>\n",
       "<p>114 rows × 2 columns</p>\n",
       "</div>"
      ],
      "text/plain": [
       "    Origin  PercentAirlineFault\n",
       "0      ABE             0.308392\n",
       "1      ABQ             0.086527\n",
       "2      ALB             0.135637\n",
       "3      AMA             0.677327\n",
       "4      ATW             0.222111\n",
       "..     ...                  ...\n",
       "109    TUL             0.103735\n",
       "110    TYS             0.201801\n",
       "111    USA             0.166805\n",
       "112    VPS             0.239689\n",
       "113    XNA             0.226802\n",
       "\n",
       "[114 rows x 2 columns]"
      ]
     },
     "execution_count": 39,
     "metadata": {},
     "output_type": "execute_result"
    }
   ],
   "source": [
    "#what percent of delays are the airlines fault\n",
    "when_delayed_df = df_allegiant[df_allegiant[\"TotalDelay\"] != 0][[\"NASDelay\", \"SecurityDelay\", \"CarrierDelay\", \n",
    "                                                                   \"WeatherDelay\", \"LateAircraftDelay\", \"Origin\", \"TotalDelay\"]]\n",
    "\n",
    "when_delayed_df = when_delayed_df.reset_index()\n",
    "\n",
    "when_delayed_df[\"PercentAirlineFault\"] = ((when_delayed_df[\"CarrierDelay\"]) / when_delayed_df[\"TotalDelay\"])\n",
    "\n",
    "fault_at_airports = when_delayed_df.groupby(\"Origin\")[\"PercentAirlineFault\"].mean().reset_index()\n",
    "fault_at_airports"
   ]
  },
  {
   "cell_type": "code",
   "execution_count": 40,
   "id": "ec376a71",
   "metadata": {},
   "outputs": [
    {
     "data": {
      "application/vnd.microsoft.datawrangler.viewer.v0+json": {
       "columns": [
        {
         "name": "index",
         "rawType": "int64",
         "type": "integer"
        },
        {
         "name": "Origin",
         "rawType": "object",
         "type": "string"
        },
        {
         "name": "percent_delayed",
         "rawType": "float64",
         "type": "float"
        },
        {
         "name": "percent_diverted_cancelled",
         "rawType": "float64",
         "type": "float"
        }
       ],
       "ref": "aed6a8b6-935a-46c3-964e-d855c89219a7",
       "rows": [
        [
         "0",
         "ABE",
         "0.3866943866943867",
         "0.029106029106029108"
        ],
        [
         "1",
         "ABQ",
         "0.6666666666666666",
         "0.16666666666666666"
        ],
        [
         "2",
         "ALB",
         "0.5105263157894737",
         "0.03684210526315789"
        ],
        [
         "3",
         "AMA",
         "0.6129032258064516",
         "0.06451612903225806"
        ],
        [
         "4",
         "ATW",
         "0.5364963503649635",
         "0.023722627737226276"
        ],
        [
         "5",
         "AUS",
         "0.47685834502103785",
         "0.021739130434782608"
        ],
        [
         "6",
         "AVL",
         "0.4508636092912448",
         "0.01786777843954735"
        ],
        [
         "7",
         "AZA",
         "0.41912512716174977",
         "0.018311291963377416"
        ],
        [
         "8",
         "BGR",
         "0.5909090909090909",
         "0.0"
        ],
        [
         "9",
         "BIL",
         "0.7863247863247863",
         "0.0"
        ],
        [
         "10",
         "BIS",
         "0.5833333333333334",
         "0.05555555555555555"
        ],
        [
         "11",
         "BLI",
         "0.26384839650145775",
         "0.004373177842565598"
        ],
        [
         "12",
         "BLV",
         "0.6206896551724138",
         "0.01567398119122257"
        ],
        [
         "13",
         "BNA",
         "0.4881562099871959",
         "0.023687580025608196"
        ],
        [
         "14",
         "BOI",
         "0.6160458452722063",
         "0.02865329512893983"
        ],
        [
         "15",
         "BOS",
         "0.5612244897959183",
         "0.025510204081632654"
        ],
        [
         "16",
         "BWI",
         "0.5536912751677853",
         "0.02348993288590604"
        ],
        [
         "17",
         "BZN",
         "0.6340579710144928",
         "0.028985507246376812"
        ],
        [
         "18",
         "CAK",
         "0.3971631205673759",
         "0.03546099290780142"
        ],
        [
         "19",
         "CHS",
         "0.6942148760330579",
         "0.024793388429752067"
        ],
        [
         "20",
         "CID",
         "0.5299401197604791",
         "0.023952095808383235"
        ],
        [
         "21",
         "CKB",
         "0.6363636363636364",
         "0.0"
        ],
        [
         "22",
         "CVG",
         "0.4928202182653647",
         "0.030442274554853533"
        ],
        [
         "23",
         "DEN",
         "0.5577777777777778",
         "0.028888888888888888"
        ],
        [
         "24",
         "DSM",
         "0.5416285452881976",
         "0.018298261665141813"
        ],
        [
         "25",
         "ELP",
         "0.6636363636363637",
         "0.00909090909090909"
        ],
        [
         "26",
         "EUG",
         "0.5363881401617251",
         "0.026954177897574125"
        ],
        [
         "27",
         "EWR",
         "0.4259776536312849",
         "0.03212290502793296"
        ],
        [
         "28",
         "EYW",
         "0.4393063583815029",
         "0.057803468208092484"
        ],
        [
         "29",
         "FAR",
         "0.5185185185185185",
         "0.003367003367003367"
        ],
        [
         "30",
         "FAT",
         "0.5904907975460123",
         "0.019938650306748466"
        ],
        [
         "31",
         "FCA",
         "0.6344827586206897",
         "0.04827586206896552"
        ],
        [
         "32",
         "FLL",
         "0.5603333333333333",
         "0.021666666666666667"
        ],
        [
         "33",
         "FNT",
         "0.6139359698681732",
         "0.02071563088512241"
        ],
        [
         "34",
         "FSD",
         "0.5673758865248227",
         "0.03368794326241135"
        ],
        [
         "35",
         "FWA",
         "0.5964912280701754",
         "0.03070175438596491"
        ],
        [
         "36",
         "GEG",
         "0.6711864406779661",
         "0.013559322033898305"
        ],
        [
         "37",
         "GFK",
         "0.5769230769230769",
         "0.009615384615384616"
        ],
        [
         "38",
         "GJT",
         "0.6422764227642277",
         "0.008130081300813009"
        ],
        [
         "39",
         "GRI",
         "0.6238532110091743",
         "0.027522935779816515"
        ],
        [
         "40",
         "GRR",
         "0.4731182795698925",
         "0.030791788856304986"
        ],
        [
         "41",
         "GSP",
         "0.6219512195121951",
         "0.024390243902439025"
        ],
        [
         "42",
         "GTF",
         "0.6428571428571429",
         "0.026785714285714284"
        ],
        [
         "43",
         "HGR",
         "0.3",
         "0.03333333333333333"
        ],
        [
         "44",
         "HOU",
         "0.6525612472160356",
         "0.015590200445434299"
        ],
        [
         "45",
         "HTS",
         "0.7222222222222222",
         "0.0"
        ],
        [
         "46",
         "IAD",
         "0.46875",
         "0.016826923076923076"
        ],
        [
         "47",
         "ICT",
         "0.6388888888888888",
         "0.0"
        ],
        [
         "48",
         "IDA",
         "0.6983050847457627",
         "0.02711864406779661"
        ],
        [
         "49",
         "IND",
         "0.4480980012894907",
         "0.026434558349451968"
        ]
       ],
       "shape": {
        "columns": 3,
        "rows": 114
       }
      },
      "text/html": [
       "<div>\n",
       "<style scoped>\n",
       "    .dataframe tbody tr th:only-of-type {\n",
       "        vertical-align: middle;\n",
       "    }\n",
       "\n",
       "    .dataframe tbody tr th {\n",
       "        vertical-align: top;\n",
       "    }\n",
       "\n",
       "    .dataframe thead th {\n",
       "        text-align: right;\n",
       "    }\n",
       "</style>\n",
       "<table border=\"1\" class=\"dataframe\">\n",
       "  <thead>\n",
       "    <tr style=\"text-align: right;\">\n",
       "      <th></th>\n",
       "      <th>Origin</th>\n",
       "      <th>percent_delayed</th>\n",
       "      <th>percent_diverted_cancelled</th>\n",
       "    </tr>\n",
       "  </thead>\n",
       "  <tbody>\n",
       "    <tr>\n",
       "      <th>0</th>\n",
       "      <td>ABE</td>\n",
       "      <td>0.386694</td>\n",
       "      <td>0.029106</td>\n",
       "    </tr>\n",
       "    <tr>\n",
       "      <th>1</th>\n",
       "      <td>ABQ</td>\n",
       "      <td>0.666667</td>\n",
       "      <td>0.166667</td>\n",
       "    </tr>\n",
       "    <tr>\n",
       "      <th>2</th>\n",
       "      <td>ALB</td>\n",
       "      <td>0.510526</td>\n",
       "      <td>0.036842</td>\n",
       "    </tr>\n",
       "    <tr>\n",
       "      <th>3</th>\n",
       "      <td>AMA</td>\n",
       "      <td>0.612903</td>\n",
       "      <td>0.064516</td>\n",
       "    </tr>\n",
       "    <tr>\n",
       "      <th>4</th>\n",
       "      <td>ATW</td>\n",
       "      <td>0.536496</td>\n",
       "      <td>0.023723</td>\n",
       "    </tr>\n",
       "    <tr>\n",
       "      <th>...</th>\n",
       "      <td>...</td>\n",
       "      <td>...</td>\n",
       "      <td>...</td>\n",
       "    </tr>\n",
       "    <tr>\n",
       "      <th>109</th>\n",
       "      <td>TUL</td>\n",
       "      <td>0.481928</td>\n",
       "      <td>0.016064</td>\n",
       "    </tr>\n",
       "    <tr>\n",
       "      <th>110</th>\n",
       "      <td>TYS</td>\n",
       "      <td>0.400000</td>\n",
       "      <td>0.013710</td>\n",
       "    </tr>\n",
       "    <tr>\n",
       "      <th>111</th>\n",
       "      <td>USA</td>\n",
       "      <td>0.605042</td>\n",
       "      <td>0.029412</td>\n",
       "    </tr>\n",
       "    <tr>\n",
       "      <th>112</th>\n",
       "      <td>VPS</td>\n",
       "      <td>0.454973</td>\n",
       "      <td>0.024276</td>\n",
       "    </tr>\n",
       "    <tr>\n",
       "      <th>113</th>\n",
       "      <td>XNA</td>\n",
       "      <td>0.669697</td>\n",
       "      <td>0.015152</td>\n",
       "    </tr>\n",
       "  </tbody>\n",
       "</table>\n",
       "<p>114 rows × 3 columns</p>\n",
       "</div>"
      ],
      "text/plain": [
       "    Origin  percent_delayed  percent_diverted_cancelled\n",
       "0      ABE         0.386694                    0.029106\n",
       "1      ABQ         0.666667                    0.166667\n",
       "2      ALB         0.510526                    0.036842\n",
       "3      AMA         0.612903                    0.064516\n",
       "4      ATW         0.536496                    0.023723\n",
       "..     ...              ...                         ...\n",
       "109    TUL         0.481928                    0.016064\n",
       "110    TYS         0.400000                    0.013710\n",
       "111    USA         0.605042                    0.029412\n",
       "112    VPS         0.454973                    0.024276\n",
       "113    XNA         0.669697                    0.015152\n",
       "\n",
       "[114 rows x 3 columns]"
      ]
     },
     "execution_count": 40,
     "metadata": {},
     "output_type": "execute_result"
    }
   ],
   "source": [
    "#percent of flights delayed and flights delayed/cancelled\n",
    "airport_stats_df = df_allegiant.groupby(\"Origin\").agg(\n",
    "    percent_delayed = (\"Delayed\", \"mean\"),\n",
    "    percent_diverted_cancelled = (\"CancOrDiv\", \"mean\")).reset_index() \n",
    "\n",
    "airport_stats_df"
   ]
  },
  {
   "cell_type": "code",
   "execution_count": 41,
   "id": "f371cb3e",
   "metadata": {},
   "outputs": [
    {
     "data": {
      "application/vnd.microsoft.datawrangler.viewer.v0+json": {
       "columns": [
        {
         "name": "index",
         "rawType": "int64",
         "type": "integer"
        },
        {
         "name": "Origin",
         "rawType": "object",
         "type": "string"
        },
        {
         "name": "Delayed",
         "rawType": "float64",
         "type": "float"
        }
       ],
       "ref": "8a0297ae-d38d-4832-93f9-74432d820fe0",
       "rows": [
        [
         "0",
         "ABE",
         "0.45"
        ],
        [
         "1",
         "ALB",
         "0.3333333333333333"
        ],
        [
         "2",
         "AMA",
         "0.0"
        ],
        [
         "3",
         "ATW",
         "0.6071428571428571"
        ],
        [
         "4",
         "AUS",
         "0.421875"
        ],
        [
         "5",
         "AVL",
         "0.37333333333333335"
        ],
        [
         "6",
         "AZA",
         "0.36363636363636365"
        ],
        [
         "7",
         "BIL",
         "0.6"
        ],
        [
         "8",
         "BIS",
         "0.5714285714285714"
        ],
        [
         "9",
         "BLI",
         "0.13333333333333333"
        ]
       ],
       "shape": {
        "columns": 2,
        "rows": 10
       }
      },
      "text/html": [
       "<div>\n",
       "<style scoped>\n",
       "    .dataframe tbody tr th:only-of-type {\n",
       "        vertical-align: middle;\n",
       "    }\n",
       "\n",
       "    .dataframe tbody tr th {\n",
       "        vertical-align: top;\n",
       "    }\n",
       "\n",
       "    .dataframe thead th {\n",
       "        text-align: right;\n",
       "    }\n",
       "</style>\n",
       "<table border=\"1\" class=\"dataframe\">\n",
       "  <thead>\n",
       "    <tr style=\"text-align: right;\">\n",
       "      <th></th>\n",
       "      <th>Origin</th>\n",
       "      <th>Delayed</th>\n",
       "    </tr>\n",
       "  </thead>\n",
       "  <tbody>\n",
       "    <tr>\n",
       "      <th>0</th>\n",
       "      <td>ABE</td>\n",
       "      <td>0.450000</td>\n",
       "    </tr>\n",
       "    <tr>\n",
       "      <th>1</th>\n",
       "      <td>ALB</td>\n",
       "      <td>0.333333</td>\n",
       "    </tr>\n",
       "    <tr>\n",
       "      <th>2</th>\n",
       "      <td>AMA</td>\n",
       "      <td>0.000000</td>\n",
       "    </tr>\n",
       "    <tr>\n",
       "      <th>3</th>\n",
       "      <td>ATW</td>\n",
       "      <td>0.607143</td>\n",
       "    </tr>\n",
       "    <tr>\n",
       "      <th>4</th>\n",
       "      <td>AUS</td>\n",
       "      <td>0.421875</td>\n",
       "    </tr>\n",
       "    <tr>\n",
       "      <th>5</th>\n",
       "      <td>AVL</td>\n",
       "      <td>0.373333</td>\n",
       "    </tr>\n",
       "    <tr>\n",
       "      <th>6</th>\n",
       "      <td>AZA</td>\n",
       "      <td>0.363636</td>\n",
       "    </tr>\n",
       "    <tr>\n",
       "      <th>7</th>\n",
       "      <td>BIL</td>\n",
       "      <td>0.600000</td>\n",
       "    </tr>\n",
       "    <tr>\n",
       "      <th>8</th>\n",
       "      <td>BIS</td>\n",
       "      <td>0.571429</td>\n",
       "    </tr>\n",
       "    <tr>\n",
       "      <th>9</th>\n",
       "      <td>BLI</td>\n",
       "      <td>0.133333</td>\n",
       "    </tr>\n",
       "  </tbody>\n",
       "</table>\n",
       "</div>"
      ],
      "text/plain": [
       "  Origin   Delayed\n",
       "0    ABE  0.450000\n",
       "1    ALB  0.333333\n",
       "2    AMA  0.000000\n",
       "3    ATW  0.607143\n",
       "4    AUS  0.421875\n",
       "5    AVL  0.373333\n",
       "6    AZA  0.363636\n",
       "7    BIL  0.600000\n",
       "8    BIS  0.571429\n",
       "9    BLI  0.133333"
      ]
     },
     "execution_count": 41,
     "metadata": {},
     "output_type": "execute_result"
    }
   ],
   "source": [
    "#holiday performance at each airport\n",
    "holiday_df = df_allegiant[df_allegiant[\"Is_Holiday\"] == 1]\n",
    "\n",
    "holiday_performance_df = holiday_df.groupby(\"Origin\")[\"Delayed\"].mean().reset_index()\n",
    "holiday_performance_df.head(10)"
   ]
  },
  {
   "cell_type": "code",
   "execution_count": 42,
   "id": "7e03f5da",
   "metadata": {},
   "outputs": [],
   "source": [
    "#how extreme is the average delay\n",
    "only_delayed_flights = df_allegiant[df_allegiant[\"Delayed\"] == 1]\n",
    "how_extreme_delays = only_delayed_flights.groupby(\"Origin\")[\"ArrDelayMinutes\"].mean().reset_index()"
   ]
  },
  {
   "cell_type": "code",
   "execution_count": 43,
   "id": "3e0cdae1",
   "metadata": {},
   "outputs": [
    {
     "name": "stderr",
     "output_type": "stream",
     "text": [
      "C:\\Users\\bmhawley\\AppData\\Local\\Temp\\4\\ipykernel_35304\\707327275.py:11: SettingWithCopyWarning: \n",
      "A value is trying to be set on a copy of a slice from a DataFrame.\n",
      "Try using .loc[row_indexer,col_indexer] = value instead\n",
      "\n",
      "See the caveats in the documentation: https://pandas.pydata.org/pandas-docs/stable/user_guide/indexing.html#returning-a-view-versus-a-copy\n",
      "  Final_merge[\"HolidayPercentDelayed\"] = merge4[\"Delayed\"]\n"
     ]
    },
    {
     "data": {
      "application/vnd.microsoft.datawrangler.viewer.v0+json": {
       "columns": [
        {
         "name": "index",
         "rawType": "int64",
         "type": "integer"
        },
        {
         "name": "Origin",
         "rawType": "object",
         "type": "string"
        },
        {
         "name": "Percentage_airline_flights",
         "rawType": "float64",
         "type": "float"
        },
        {
         "name": "percent_delayed",
         "rawType": "float64",
         "type": "float"
        },
        {
         "name": "percent_diverted_cancelled",
         "rawType": "float64",
         "type": "float"
        },
        {
         "name": "PercentAirlineFault",
         "rawType": "float64",
         "type": "float"
        },
        {
         "name": "HolidayPercentDelayed",
         "rawType": "float64",
         "type": "float"
        },
        {
         "name": "HowExtremeDelay",
         "rawType": "float64",
         "type": "float"
        }
       ],
       "ref": "f6f72f6f-e50f-4a17-98ed-80867b656874",
       "rows": [
        [
         "0",
         "ABE",
         "0.007001353692085996",
         "0.3866943866943867",
         "0.029106029106029108",
         "0.3083921198868206",
         "0.45",
         "43.365591397849464"
        ],
        [
         "1",
         "ABQ",
         "0.00017466994658010802",
         "0.6666666666666666",
         "0.16666666666666666",
         "0.08652684163943355",
         "0.0",
         "61.25"
        ],
        [
         "2",
         "ALB",
         "0.0027656074875183766",
         "0.5105263157894737",
         "0.03684210526315789",
         "0.13563717777185527",
         "0.3333333333333333",
         "41.08247422680412"
        ],
        [
         "3",
         "AMA",
         "0.00045123069533194567",
         "0.6129032258064516",
         "0.06451612903225806",
         "0.677326563222447",
         "0.0",
         "57.526315789473685"
        ],
        [
         "4",
         "ATW",
         "0.007976594227158266",
         "0.5364963503649635",
         "0.023722627737226276",
         "0.22211078705361897",
         "0.6071428571428571",
         "45.357142857142854"
        ],
        [
         "5",
         "AUS",
         "0.020756611985269503",
         "0.47685834502103785",
         "0.021739130434782608",
         "0.38123402035931164",
         "0.421875",
         "44.78235294117647"
        ],
        [
         "6",
         "AVL",
         "0.024439236692333444",
         "0.4508636092912448",
         "0.01786777843954735",
         "0.2586485944267161",
         "0.37333333333333335",
         "42.22853368560106"
        ],
        [
         "7",
         "AZA",
         "0.01430837979068718",
         "0.41912512716174977",
         "0.018311291963377416",
         "0.3611312936510607",
         "0.36363636363636365",
         "47.93689320388349"
        ],
        [
         "8",
         "BGR",
         "0.0003202282353968647",
         "0.5909090909090909",
         "0.0",
         "0.03701328722703552",
         "0.0",
         "45.15384615384615"
        ],
        [
         "9",
         "BIL",
         "0.0017030319791560531",
         "0.7863247863247863",
         "0.0",
         "0.14963975634484633",
         "0.6",
         "74.3695652173913"
        ],
        [
         "10",
         "BIS",
         "0.002096039358961296",
         "0.5833333333333334",
         "0.05555555555555555",
         "0.18300776559544682",
         "0.5714285714285714",
         "57.0"
        ],
        [
         "11",
         "BLI",
         "0.009985298612829508",
         "0.26384839650145775",
         "0.004373177842565598",
         "0.28533278713518606",
         "0.13333333333333333",
         "30.513812154696133"
        ],
        [
         "12",
         "BLV",
         "0.004643309413254538",
         "0.6206896551724138",
         "0.01567398119122257",
         "0.1535402794565583",
         "0.47058823529411764",
         "53.02020202020202"
        ],
        [
         "13",
         "BNA",
         "0.04547240942635478",
         "0.4881562099871959",
         "0.023687580025608196",
         "0.24020790298748923",
         "0.5263157894736842",
         "42.5672131147541"
        ],
        [
         "14",
         "BOI",
         "0.005079984279704808",
         "0.6160458452722063",
         "0.02865329512893983",
         "0.14592121266554284",
         "0.6153846153846154",
         "60.948837209302326"
        ],
        [
         "15",
         "BOS",
         "0.008558827382425293",
         "0.5612244897959183",
         "0.025510204081632654",
         "0.2978086216143722",
         "0.4857142857142857",
         "42.56060606060606"
        ],
        [
         "16",
         "BWI",
         "0.004337637006739349",
         "0.5536912751677853",
         "0.02348993288590604",
         "0.15900243697578148",
         "0.36363636363636365",
         "52.8969696969697"
        ],
        [
         "17",
         "BZN",
         "0.004017408771342484",
         "0.6340579710144928",
         "0.028985507246376812",
         "0.11775923524253055",
         "0.6153846153846154",
         "45.82857142857143"
        ],
        [
         "18",
         "CAK",
         "0.004104743744632538",
         "0.3971631205673759",
         "0.03546099290780142",
         "0.14427995047976624",
         "0.5",
         "88.24107142857143"
        ],
        [
         "19",
         "CHS",
         "0.0035225105893655112",
         "0.6942148760330579",
         "0.024793388429752067",
         "0.14011690908776656",
         "0.625",
         "45.482142857142854"
        ],
        [
         "20",
         "CID",
         "0.004861646846479673",
         "0.5299401197604791",
         "0.023952095808383235",
         "0.051754017917406636",
         "0.4",
         "44.728813559322035"
        ],
        [
         "21",
         "CKB",
         "0.0003202282353968647",
         "0.6363636363636364",
         "0.0",
         "0.2437221535260751",
         "0.0",
         "30.5"
        ],
        [
         "22",
         "CVG",
         "0.050683396165994675",
         "0.4928202182653647",
         "0.030442274554853533",
         "0.2563318272405886",
         "0.4186046511627907",
         "45.514568764568764"
        ],
        [
         "23",
         "DEN",
         "0.00655012299675405",
         "0.5577777777777778",
         "0.028888888888888888",
         "0.2706707278727353",
         "0.68",
         "45.601593625498005"
        ],
        [
         "24",
         "DSM",
         "0.015909520967671505",
         "0.5416285452881976",
         "0.018298261665141813",
         "0.26324637830694597",
         "0.5853658536585366",
         "37.929054054054056"
        ],
        [
         "25",
         "ELP",
         "0.0016011411769843234",
         "0.6636363636363637",
         "0.00909090909090909",
         "0.18471269879693913",
         "0.75",
         "62.36986301369863"
        ],
        [
         "26",
         "EUG",
         "0.005400212515101673",
         "0.5363881401617251",
         "0.026954177897574125",
         "0.1867661246667478",
         "0.38461538461538464",
         "55.301507537688444"
        ],
        [
         "27",
         "EWR",
         "0.010421973479279778",
         "0.4259776536312849",
         "0.03212290502793296",
         "0.23849604317746198",
         "0.38461538461538464",
         "40.16393442622951"
        ],
        [
         "28",
         "EYW",
         "0.005036316793059781",
         "0.4393063583815029",
         "0.057803468208092484",
         "0.34617629774538283",
         "0.7692307692307693",
         "40.88157894736842"
        ],
        [
         "29",
         "FAR",
         "0.004323081177857673",
         "0.5185185185185185",
         "0.003367003367003367",
         "0.18278569768942066",
         "0.6153846153846154",
         "45.23376623376623"
        ],
        [
         "30",
         "FAT",
         "0.009490400430852535",
         "0.5904907975460123",
         "0.019938650306748466",
         "0.12381553194593414",
         "0.3793103448275862",
         "49.605194805194806"
        ],
        [
         "31",
         "FCA",
         "0.002110595187842972",
         "0.6344827586206897",
         "0.04827586206896552",
         "0.1420830772325195",
         "0.6",
         "40.48913043478261"
        ],
        [
         "32",
         "FLL",
         "0.043667486645027",
         "0.5603333333333333",
         "0.021666666666666667",
         "0.1888257583613124",
         "0.5434782608695652",
         "54.85960737656157"
        ],
        [
         "33",
         "FNT",
         "0.007729145136169779",
         "0.6139359698681732",
         "0.02071563088512241",
         "0.3226107918702115",
         "0.6086956521739131",
         "48.38650306748466"
        ],
        [
         "34",
         "FSD",
         "0.008209487489265076",
         "0.5673758865248227",
         "0.03368794326241135",
         "0.15038473536802918",
         "0.6086956521739131",
         "43.996875"
        ],
        [
         "35",
         "FWA",
         "0.003318728985022052",
         "0.5964912280701754",
         "0.03070175438596491",
         "0.14114662013003976",
         "0.46153846153846156",
         "47.5"
        ],
        [
         "36",
         "GEG",
         "0.004293969520094322",
         "0.6711864406779661",
         "0.013559322033898305",
         "0.2519297084015368",
         "0.5625",
         "45.06565656565657"
        ],
        [
         "37",
         "GFK",
         "0.0015138062036942693",
         "0.5769230769230769",
         "0.009615384615384616",
         "0.10957896020096988",
         "1.0",
         "28.1"
        ],
        [
         "38",
         "GJT",
         "0.001790366952446107",
         "0.6422764227642277",
         "0.008130081300813009",
         "0.25550839433014244",
         "0.625",
         "44.67088607594937"
        ],
        [
         "39",
         "GRI",
         "0.0015865853481026478",
         "0.6238532110091743",
         "0.027522935779816515",
         "0.2797503996180283",
         "0.6666666666666666",
         "48.98529411764706"
        ],
        [
         "40",
         "GRR",
         "0.029781225891908413",
         "0.4731182795698925",
         "0.030791788856304986",
         "0.2968367563489592",
         "0.5",
         "57.18801652892562"
        ],
        [
         "41",
         "GSP",
         "0.0011935779682974046",
         "0.6219512195121951",
         "0.024390243902439025",
         "0.12858536748745988",
         "0.4",
         "68.58823529411765"
        ],
        [
         "42",
         "GTF",
         "0.0016302528347476746",
         "0.6428571428571429",
         "0.026785714285714284",
         "0.17109777475037896",
         "0.75",
         "41.986111111111114"
        ],
        [
         "43",
         "HGR",
         "0.00043667486645027",
         "0.3",
         "0.03333333333333333",
         "0.0",
         "0.0",
         "8.222222222222221"
        ],
        [
         "44",
         "HOU",
         "0.006535567167872375",
         "0.6525612472160356",
         "0.015590200445434299",
         "0.20239302183091595",
         "0.6",
         "43.382252559726965"
        ],
        [
         "45",
         "HTS",
         "0.000524009839740324",
         "0.7222222222222222",
         "0.0",
         "0.40692110177404295",
         "0.6666666666666666",
         "13.307692307692308"
        ],
        [
         "46",
         "IAD",
         "0.006055224814777077",
         "0.46875",
         "0.016826923076923076",
         "0.22125504331408669",
         "0.4117647058823529",
         "61.40512820512821"
        ],
        [
         "47",
         "ICT",
         "0.002096039358961296",
         "0.6388888888888888",
         "0.0",
         "0.19080131581918158",
         "0.3333333333333333",
         "60.53260869565217"
        ],
        [
         "48",
         "IDA",
         "0.004293969520094322",
         "0.6983050847457627",
         "0.02711864406779661",
         "0.2055112749733251",
         "0.5789473684210527",
         "63.45145631067961"
        ],
        [
         "49",
         "IND",
         "0.022576090595478958",
         "0.4480980012894907",
         "0.026434558349451968",
         "0.2258640031557087",
         "0.44",
         "42.070503597122304"
        ]
       ],
       "shape": {
        "columns": 7,
        "rows": 114
       }
      },
      "text/html": [
       "<div>\n",
       "<style scoped>\n",
       "    .dataframe tbody tr th:only-of-type {\n",
       "        vertical-align: middle;\n",
       "    }\n",
       "\n",
       "    .dataframe tbody tr th {\n",
       "        vertical-align: top;\n",
       "    }\n",
       "\n",
       "    .dataframe thead th {\n",
       "        text-align: right;\n",
       "    }\n",
       "</style>\n",
       "<table border=\"1\" class=\"dataframe\">\n",
       "  <thead>\n",
       "    <tr style=\"text-align: right;\">\n",
       "      <th></th>\n",
       "      <th>Origin</th>\n",
       "      <th>Percentage_airline_flights</th>\n",
       "      <th>percent_delayed</th>\n",
       "      <th>percent_diverted_cancelled</th>\n",
       "      <th>PercentAirlineFault</th>\n",
       "      <th>HolidayPercentDelayed</th>\n",
       "      <th>HowExtremeDelay</th>\n",
       "    </tr>\n",
       "  </thead>\n",
       "  <tbody>\n",
       "    <tr>\n",
       "      <th>0</th>\n",
       "      <td>ABE</td>\n",
       "      <td>0.007001</td>\n",
       "      <td>0.386694</td>\n",
       "      <td>0.029106</td>\n",
       "      <td>0.308392</td>\n",
       "      <td>0.450000</td>\n",
       "      <td>43.365591</td>\n",
       "    </tr>\n",
       "    <tr>\n",
       "      <th>1</th>\n",
       "      <td>ABQ</td>\n",
       "      <td>0.000175</td>\n",
       "      <td>0.666667</td>\n",
       "      <td>0.166667</td>\n",
       "      <td>0.086527</td>\n",
       "      <td>0.000000</td>\n",
       "      <td>61.250000</td>\n",
       "    </tr>\n",
       "    <tr>\n",
       "      <th>2</th>\n",
       "      <td>ALB</td>\n",
       "      <td>0.002766</td>\n",
       "      <td>0.510526</td>\n",
       "      <td>0.036842</td>\n",
       "      <td>0.135637</td>\n",
       "      <td>0.333333</td>\n",
       "      <td>41.082474</td>\n",
       "    </tr>\n",
       "    <tr>\n",
       "      <th>3</th>\n",
       "      <td>AMA</td>\n",
       "      <td>0.000451</td>\n",
       "      <td>0.612903</td>\n",
       "      <td>0.064516</td>\n",
       "      <td>0.677327</td>\n",
       "      <td>0.000000</td>\n",
       "      <td>57.526316</td>\n",
       "    </tr>\n",
       "    <tr>\n",
       "      <th>4</th>\n",
       "      <td>ATW</td>\n",
       "      <td>0.007977</td>\n",
       "      <td>0.536496</td>\n",
       "      <td>0.023723</td>\n",
       "      <td>0.222111</td>\n",
       "      <td>0.607143</td>\n",
       "      <td>45.357143</td>\n",
       "    </tr>\n",
       "    <tr>\n",
       "      <th>...</th>\n",
       "      <td>...</td>\n",
       "      <td>...</td>\n",
       "      <td>...</td>\n",
       "      <td>...</td>\n",
       "      <td>...</td>\n",
       "      <td>...</td>\n",
       "      <td>...</td>\n",
       "    </tr>\n",
       "    <tr>\n",
       "      <th>109</th>\n",
       "      <td>TUL</td>\n",
       "      <td>0.003624</td>\n",
       "      <td>0.481928</td>\n",
       "      <td>0.016064</td>\n",
       "      <td>0.103735</td>\n",
       "      <td>0.428571</td>\n",
       "      <td>49.258333</td>\n",
       "    </tr>\n",
       "    <tr>\n",
       "      <th>110</th>\n",
       "      <td>TYS</td>\n",
       "      <td>0.018049</td>\n",
       "      <td>0.400000</td>\n",
       "      <td>0.013710</td>\n",
       "      <td>0.201801</td>\n",
       "      <td>0.323077</td>\n",
       "      <td>40.512097</td>\n",
       "    </tr>\n",
       "    <tr>\n",
       "      <th>111</th>\n",
       "      <td>USA</td>\n",
       "      <td>0.003464</td>\n",
       "      <td>0.605042</td>\n",
       "      <td>0.029412</td>\n",
       "      <td>0.166805</td>\n",
       "      <td>0.357143</td>\n",
       "      <td>60.118056</td>\n",
       "    </tr>\n",
       "    <tr>\n",
       "      <th>112</th>\n",
       "      <td>VPS</td>\n",
       "      <td>0.018588</td>\n",
       "      <td>0.454973</td>\n",
       "      <td>0.024276</td>\n",
       "      <td>0.239689</td>\n",
       "      <td>0.280702</td>\n",
       "      <td>46.729776</td>\n",
       "    </tr>\n",
       "    <tr>\n",
       "      <th>113</th>\n",
       "      <td>XNA</td>\n",
       "      <td>0.004803</td>\n",
       "      <td>0.669697</td>\n",
       "      <td>0.015152</td>\n",
       "      <td>0.226802</td>\n",
       "      <td>0.500000</td>\n",
       "      <td>48.832579</td>\n",
       "    </tr>\n",
       "  </tbody>\n",
       "</table>\n",
       "<p>114 rows × 7 columns</p>\n",
       "</div>"
      ],
      "text/plain": [
       "    Origin  Percentage_airline_flights  percent_delayed  \\\n",
       "0      ABE                    0.007001         0.386694   \n",
       "1      ABQ                    0.000175         0.666667   \n",
       "2      ALB                    0.002766         0.510526   \n",
       "3      AMA                    0.000451         0.612903   \n",
       "4      ATW                    0.007977         0.536496   \n",
       "..     ...                         ...              ...   \n",
       "109    TUL                    0.003624         0.481928   \n",
       "110    TYS                    0.018049         0.400000   \n",
       "111    USA                    0.003464         0.605042   \n",
       "112    VPS                    0.018588         0.454973   \n",
       "113    XNA                    0.004803         0.669697   \n",
       "\n",
       "     percent_diverted_cancelled  PercentAirlineFault  HolidayPercentDelayed  \\\n",
       "0                      0.029106             0.308392               0.450000   \n",
       "1                      0.166667             0.086527               0.000000   \n",
       "2                      0.036842             0.135637               0.333333   \n",
       "3                      0.064516             0.677327               0.000000   \n",
       "4                      0.023723             0.222111               0.607143   \n",
       "..                          ...                  ...                    ...   \n",
       "109                    0.016064             0.103735               0.428571   \n",
       "110                    0.013710             0.201801               0.323077   \n",
       "111                    0.029412             0.166805               0.357143   \n",
       "112                    0.024276             0.239689               0.280702   \n",
       "113                    0.015152             0.226802               0.500000   \n",
       "\n",
       "     HowExtremeDelay  \n",
       "0          43.365591  \n",
       "1          61.250000  \n",
       "2          41.082474  \n",
       "3          57.526316  \n",
       "4          45.357143  \n",
       "..               ...  \n",
       "109        49.258333  \n",
       "110        40.512097  \n",
       "111        60.118056  \n",
       "112        46.729776  \n",
       "113        48.832579  \n",
       "\n",
       "[114 rows x 7 columns]"
      ]
     },
     "execution_count": 43,
     "metadata": {},
     "output_type": "execute_result"
    }
   ],
   "source": [
    "#merging all of the dataframes together\n",
    "merge1 = pd.merge(allegiant_percent_airports[[\"Origin\", \"Percentage_airline_flights\"]], airport_stats_df, how=\"left\", on=\"Origin\")\n",
    "\n",
    "merge2 = pd.merge(merge1, fault_at_airports, on=\"Origin\", how=\"left\")\n",
    "\n",
    "merge3 = pd.merge(merge2, holiday_performance_df, on=\"Origin\", how=\"left\")\n",
    "\n",
    "merge4 = pd.merge(merge3, how_extreme_delays, on=\"Origin\", how=\"left\")\n",
    "\n",
    "Final_merge = merge4[[\"Origin\", \"Percentage_airline_flights\", \"percent_delayed\", \"percent_diverted_cancelled\", \"PercentAirlineFault\"]]\n",
    "Final_merge[\"HolidayPercentDelayed\"] = merge4[\"Delayed\"]\n",
    "Final_merge[\"HowExtremeDelay\"] = merge4[\"ArrDelayMinutes\"]\n",
    "Final_merge[\"HolidayPercentDelayed\"] = Final_merge[\"HolidayPercentDelayed\"].fillna(0)\n",
    "Final_merge"
   ]
  },
  {
   "cell_type": "code",
   "execution_count": 44,
   "id": "2dffafda",
   "metadata": {},
   "outputs": [
    {
     "name": "stderr",
     "output_type": "stream",
     "text": [
      "C:\\Users\\bmhawley\\AppData\\Local\\Temp\\4\\ipykernel_35304\\775840358.py:24: FutureWarning: ChainedAssignmentError: behaviour will change in pandas 3.0!\n",
      "You are setting values through chained assignment. Currently this works in certain cases, but when using Copy-on-Write (which will become the default behaviour in pandas 3.0) this will never work to update the original DataFrame or Series, because the intermediate object on which we are setting values will behave as a copy.\n",
      "A typical example is when you are setting values in a column of a DataFrame, like:\n",
      "\n",
      "df[\"col\"][row_indexer] = value\n",
      "\n",
      "Use `df.loc[row_indexer, \"col\"] = values` instead, to perform the assignment in a single step and ensure this keeps updating the original `df`.\n",
      "\n",
      "See the caveats in the documentation: https://pandas.pydata.org/pandas-docs/stable/user_guide/indexing.html#returning-a-view-versus-a-copy\n",
      "\n",
      "  Final_merge[(\"ScoreFrom_\" + column)][i] = points\n",
      "C:\\Users\\bmhawley\\AppData\\Local\\Temp\\4\\ipykernel_35304\\775840358.py:24: SettingWithCopyWarning: \n",
      "A value is trying to be set on a copy of a slice from a DataFrame\n",
      "\n",
      "See the caveats in the documentation: https://pandas.pydata.org/pandas-docs/stable/user_guide/indexing.html#returning-a-view-versus-a-copy\n",
      "  Final_merge[(\"ScoreFrom_\" + column)][i] = points\n",
      "C:\\Users\\bmhawley\\AppData\\Local\\Temp\\4\\ipykernel_35304\\775840358.py:24: FutureWarning: Setting an item of incompatible dtype is deprecated and will raise an error in a future version of pandas. Value '0.5' has dtype incompatible with int64, please explicitly cast to a compatible dtype first.\n",
      "  Final_merge[(\"ScoreFrom_\" + column)][i] = points\n",
      "C:\\Users\\bmhawley\\AppData\\Local\\Temp\\4\\ipykernel_35304\\775840358.py:24: FutureWarning: ChainedAssignmentError: behaviour will change in pandas 3.0!\n",
      "You are setting values through chained assignment. Currently this works in certain cases, but when using Copy-on-Write (which will become the default behaviour in pandas 3.0) this will never work to update the original DataFrame or Series, because the intermediate object on which we are setting values will behave as a copy.\n",
      "A typical example is when you are setting values in a column of a DataFrame, like:\n",
      "\n",
      "df[\"col\"][row_indexer] = value\n",
      "\n",
      "Use `df.loc[row_indexer, \"col\"] = values` instead, to perform the assignment in a single step and ensure this keeps updating the original `df`.\n",
      "\n",
      "See the caveats in the documentation: https://pandas.pydata.org/pandas-docs/stable/user_guide/indexing.html#returning-a-view-versus-a-copy\n",
      "\n",
      "  Final_merge[(\"ScoreFrom_\" + column)][i] = points\n",
      "C:\\Users\\bmhawley\\AppData\\Local\\Temp\\4\\ipykernel_35304\\775840358.py:24: SettingWithCopyWarning: \n",
      "A value is trying to be set on a copy of a slice from a DataFrame\n",
      "\n",
      "See the caveats in the documentation: https://pandas.pydata.org/pandas-docs/stable/user_guide/indexing.html#returning-a-view-versus-a-copy\n",
      "  Final_merge[(\"ScoreFrom_\" + column)][i] = points\n",
      "C:\\Users\\bmhawley\\AppData\\Local\\Temp\\4\\ipykernel_35304\\775840358.py:24: FutureWarning: Setting an item of incompatible dtype is deprecated and will raise an error in a future version of pandas. Value '0.5' has dtype incompatible with int64, please explicitly cast to a compatible dtype first.\n",
      "  Final_merge[(\"ScoreFrom_\" + column)][i] = points\n",
      "C:\\Users\\bmhawley\\AppData\\Local\\Temp\\4\\ipykernel_35304\\775840358.py:24: FutureWarning: ChainedAssignmentError: behaviour will change in pandas 3.0!\n",
      "You are setting values through chained assignment. Currently this works in certain cases, but when using Copy-on-Write (which will become the default behaviour in pandas 3.0) this will never work to update the original DataFrame or Series, because the intermediate object on which we are setting values will behave as a copy.\n",
      "A typical example is when you are setting values in a column of a DataFrame, like:\n",
      "\n",
      "df[\"col\"][row_indexer] = value\n",
      "\n",
      "Use `df.loc[row_indexer, \"col\"] = values` instead, to perform the assignment in a single step and ensure this keeps updating the original `df`.\n",
      "\n",
      "See the caveats in the documentation: https://pandas.pydata.org/pandas-docs/stable/user_guide/indexing.html#returning-a-view-versus-a-copy\n",
      "\n",
      "  Final_merge[(\"ScoreFrom_\" + column)][i] = points\n",
      "C:\\Users\\bmhawley\\AppData\\Local\\Temp\\4\\ipykernel_35304\\775840358.py:24: SettingWithCopyWarning: \n",
      "A value is trying to be set on a copy of a slice from a DataFrame\n",
      "\n",
      "See the caveats in the documentation: https://pandas.pydata.org/pandas-docs/stable/user_guide/indexing.html#returning-a-view-versus-a-copy\n",
      "  Final_merge[(\"ScoreFrom_\" + column)][i] = points\n",
      "C:\\Users\\bmhawley\\AppData\\Local\\Temp\\4\\ipykernel_35304\\775840358.py:24: FutureWarning: Setting an item of incompatible dtype is deprecated and will raise an error in a future version of pandas. Value '0.5' has dtype incompatible with int64, please explicitly cast to a compatible dtype first.\n",
      "  Final_merge[(\"ScoreFrom_\" + column)][i] = points\n",
      "C:\\Users\\bmhawley\\AppData\\Local\\Temp\\4\\ipykernel_35304\\775840358.py:24: FutureWarning: ChainedAssignmentError: behaviour will change in pandas 3.0!\n",
      "You are setting values through chained assignment. Currently this works in certain cases, but when using Copy-on-Write (which will become the default behaviour in pandas 3.0) this will never work to update the original DataFrame or Series, because the intermediate object on which we are setting values will behave as a copy.\n",
      "A typical example is when you are setting values in a column of a DataFrame, like:\n",
      "\n",
      "df[\"col\"][row_indexer] = value\n",
      "\n",
      "Use `df.loc[row_indexer, \"col\"] = values` instead, to perform the assignment in a single step and ensure this keeps updating the original `df`.\n",
      "\n",
      "See the caveats in the documentation: https://pandas.pydata.org/pandas-docs/stable/user_guide/indexing.html#returning-a-view-versus-a-copy\n",
      "\n",
      "  Final_merge[(\"ScoreFrom_\" + column)][i] = points\n",
      "C:\\Users\\bmhawley\\AppData\\Local\\Temp\\4\\ipykernel_35304\\775840358.py:24: SettingWithCopyWarning: \n",
      "A value is trying to be set on a copy of a slice from a DataFrame\n",
      "\n",
      "See the caveats in the documentation: https://pandas.pydata.org/pandas-docs/stable/user_guide/indexing.html#returning-a-view-versus-a-copy\n",
      "  Final_merge[(\"ScoreFrom_\" + column)][i] = points\n",
      "C:\\Users\\bmhawley\\AppData\\Local\\Temp\\4\\ipykernel_35304\\775840358.py:24: FutureWarning: Setting an item of incompatible dtype is deprecated and will raise an error in a future version of pandas. Value '0.25' has dtype incompatible with int64, please explicitly cast to a compatible dtype first.\n",
      "  Final_merge[(\"ScoreFrom_\" + column)][i] = points\n",
      "C:\\Users\\bmhawley\\AppData\\Local\\Temp\\4\\ipykernel_35304\\775840358.py:24: FutureWarning: ChainedAssignmentError: behaviour will change in pandas 3.0!\n",
      "You are setting values through chained assignment. Currently this works in certain cases, but when using Copy-on-Write (which will become the default behaviour in pandas 3.0) this will never work to update the original DataFrame or Series, because the intermediate object on which we are setting values will behave as a copy.\n",
      "A typical example is when you are setting values in a column of a DataFrame, like:\n",
      "\n",
      "df[\"col\"][row_indexer] = value\n",
      "\n",
      "Use `df.loc[row_indexer, \"col\"] = values` instead, to perform the assignment in a single step and ensure this keeps updating the original `df`.\n",
      "\n",
      "See the caveats in the documentation: https://pandas.pydata.org/pandas-docs/stable/user_guide/indexing.html#returning-a-view-versus-a-copy\n",
      "\n",
      "  Final_merge[(\"ScoreFrom_\" + column)][i] = points\n",
      "C:\\Users\\bmhawley\\AppData\\Local\\Temp\\4\\ipykernel_35304\\775840358.py:24: SettingWithCopyWarning: \n",
      "A value is trying to be set on a copy of a slice from a DataFrame\n",
      "\n",
      "See the caveats in the documentation: https://pandas.pydata.org/pandas-docs/stable/user_guide/indexing.html#returning-a-view-versus-a-copy\n",
      "  Final_merge[(\"ScoreFrom_\" + column)][i] = points\n",
      "C:\\Users\\bmhawley\\AppData\\Local\\Temp\\4\\ipykernel_35304\\775840358.py:24: FutureWarning: Setting an item of incompatible dtype is deprecated and will raise an error in a future version of pandas. Value '0.5' has dtype incompatible with int64, please explicitly cast to a compatible dtype first.\n",
      "  Final_merge[(\"ScoreFrom_\" + column)][i] = points\n",
      "C:\\Users\\bmhawley\\AppData\\Local\\Temp\\4\\ipykernel_35304\\775840358.py:44: FutureWarning: ChainedAssignmentError: behaviour will change in pandas 3.0!\n",
      "You are setting values through chained assignment. Currently this works in certain cases, but when using Copy-on-Write (which will become the default behaviour in pandas 3.0) this will never work to update the original DataFrame or Series, because the intermediate object on which we are setting values will behave as a copy.\n",
      "A typical example is when you are setting values in a column of a DataFrame, like:\n",
      "\n",
      "df[\"col\"][row_indexer] = value\n",
      "\n",
      "Use `df.loc[row_indexer, \"col\"] = values` instead, to perform the assignment in a single step and ensure this keeps updating the original `df`.\n",
      "\n",
      "See the caveats in the documentation: https://pandas.pydata.org/pandas-docs/stable/user_guide/indexing.html#returning-a-view-versus-a-copy\n",
      "\n",
      "  Final_merge[\"ScoreFrom_Size\"][i] = points\n",
      "C:\\Users\\bmhawley\\AppData\\Local\\Temp\\4\\ipykernel_35304\\775840358.py:44: SettingWithCopyWarning: \n",
      "A value is trying to be set on a copy of a slice from a DataFrame\n",
      "\n",
      "See the caveats in the documentation: https://pandas.pydata.org/pandas-docs/stable/user_guide/indexing.html#returning-a-view-versus-a-copy\n",
      "  Final_merge[\"ScoreFrom_Size\"][i] = points\n",
      "C:\\Users\\bmhawley\\AppData\\Local\\Temp\\4\\ipykernel_35304\\775840358.py:44: FutureWarning: Setting an item of incompatible dtype is deprecated and will raise an error in a future version of pandas. Value '0.25' has dtype incompatible with int64, please explicitly cast to a compatible dtype first.\n",
      "  Final_merge[\"ScoreFrom_Size\"][i] = points\n"
     ]
    }
   ],
   "source": [
    "#Create a total score for each airport\n",
    "\n",
    "#Scoring for all columns with for loop\n",
    "columns_of_interest = [\"percent_delayed\", \"percent_diverted_cancelled\", \"PercentAirlineFault\", \"HolidayPercentDelayed\", \"HowExtremeDelay\"]\n",
    "\n",
    "for column in columns_of_interest:\n",
    "\n",
    "    quantiles = Final_merget[[column]].quantile([0.25, 0.75])\n",
    "    twenty_fifth = quantiles.loc[0.25][column]\n",
    "    seventy_fifth = quantiles.loc[0.75][column]\n",
    "\n",
    "    Final_merge[(\"ScoreFrom_\" + column)] = 0\n",
    "\n",
    "    for i in range(len(Final_merge[\"Origin\"])):\n",
    "        value = Final_merge[column][i]\n",
    "\n",
    "        if value <= twenty_fifth:\n",
    "            points = 1\n",
    "        elif value > twenty_fifth and value <= seventy_fifth:\n",
    "            points = 0.5\n",
    "        elif value > seventy_fifth:\n",
    "            points = 0.25\n",
    "\n",
    "        Final_merge[(\"ScoreFrom_\" + column)][i] = points\n",
    "\n",
    "#Adding a modifer for the size of the airport\n",
    "\n",
    "percent_flights_quantiles = Final_merge[[\"Percentage_airline_flights\"]].quantile([0.25, 0.75])\n",
    "twenty_fifth = percent_flights_quantiles.loc[0.25][\"Percentage_airline_flights\"]\n",
    "seventy_fifth = percent_flights_quantiles.loc[0.75][\"Percentage_airline_flights\"]\n",
    "\n",
    "Final_merge[\"ScoreFrom_Size\"] = 0\n",
    "\n",
    "for i in range(len(Final_merge[\"Origin\"])):\n",
    "    value = Final_merge[\"Percentage_airline_flights\"][i]\n",
    "\n",
    "    if value >= seventy_fifth:\n",
    "            points = .5\n",
    "    elif value < seventy_fifth and value > twenty_fifth:\n",
    "            points = 0.25\n",
    "    elif value <= twenty_fifth:\n",
    "            points = 0\n",
    "\n",
    "    Final_merge[\"ScoreFrom_Size\"][i] = points\n",
    "\n",
    "Final_merge[\"TotalScore\"] = Final_merge[[\"ScoreFrom_percent_delayed\", \"ScoreFrom_percent_diverted_cancelled\",\"ScoreFrom_PercentAirlineFault\",\n",
    "                                         \"ScoreFrom_HolidayPercentDelayed\", \"ScoreFrom_HowExtremeDelay\", \"ScoreFrom_Size\"]].sum(axis=1)"
   ]
  },
  {
   "cell_type": "code",
   "execution_count": 45,
   "id": "f408da74",
   "metadata": {},
   "outputs": [
    {
     "name": "stdout",
     "output_type": "stream",
     "text": [
      "    IATA                                         Name           State  \\\n",
      "0    ABE          Lehigh Valley International Airport    Pennsylvania   \n",
      "1    ABQ    Albuquerque International Sunport Airport      New Mexico   \n",
      "2    ALB                 Albany International Airport        New York   \n",
      "3    AMA  Rick Husband Amarillo International Airport           Texas   \n",
      "4    ATW               Appleton International Airport       Wisconsin   \n",
      "..   ...                                          ...             ...   \n",
      "109  TUL                  Tulsa International Airport        Oklahoma   \n",
      "110  TYS                        Mc Ghee Tyson Airport       Tennessee   \n",
      "111  USA             Concord-Padgett Regional Airport  North Carolina   \n",
      "112  VPS     Eglin Afb/Destin-Ft Walton Beach Airport         Florida   \n",
      "113  XNA               Northwest Arkansas Ntl Airport        Arkansas   \n",
      "\n",
      "     Latitude  Longitude  \n",
      "0    40.65236  -75.44041  \n",
      "1    35.03893 -106.60826  \n",
      "2    42.74912  -73.80198  \n",
      "3    35.21936 -101.70592  \n",
      "4    44.25809  -88.51907  \n",
      "..        ...        ...  \n",
      "109  36.19839  -95.88811  \n",
      "110  35.81109  -83.99407  \n",
      "111  35.38777  -80.70913  \n",
      "112  30.48322  -86.52604  \n",
      "113  36.28158  -94.30777  \n",
      "\n",
      "[114 rows x 5 columns]\n"
     ]
    }
   ],
   "source": [
    "#Bringing in latitude and longitude for the airports\n",
    "from airportsdata import load\n",
    "\n",
    "airports = load('IATA')\n",
    "\n",
    "iata_codes = list(Final_merge[\"Origin\"])\n",
    "\n",
    "data = []\n",
    "\n",
    "for code in iata_codes:\n",
    "    info = airports.get(code)\n",
    "    if info:\n",
    "        data.append({\n",
    "            \"IATA\" : code,\n",
    "            \"Name\" : info[\"name\"],\n",
    "            \"State\" : info[\"subd\"],\n",
    "            \"Latitude\" : info[\"lat\"],\n",
    "            \"Longitude\" : info[\"lon\"]\n",
    "        })\n",
    "\n",
    "    else:\n",
    "        data.append({\n",
    "            \"IATA\" : code,\n",
    "            \"Name\" : \"Not found\",\n",
    "            \"State\" : \"\",\n",
    "            \"Latitude\" : None,\n",
    "            \"Longitude\" : None\n",
    "        })\n",
    "\n",
    "airports_geog_info_df = pd.DataFrame(data)\n",
    "\n",
    "print(airports_geog_info_df)"
   ]
  },
  {
   "cell_type": "code",
   "execution_count": 46,
   "id": "4f947824",
   "metadata": {},
   "outputs": [],
   "source": [
    "#Merge airport geographic information with airport information\n",
    "\n",
    "merge_locations = pd.merge(Final_merge, airports_geog_info_df, how=\"left\", left_on=\"Origin\", right_on=\"IATA\")\n",
    "\n",
    "merge_locations.to_csv(\"Allegiant_AirportScores_Locations.csv\", index=False)"
   ]
  },
  {
   "cell_type": "code",
   "execution_count": 47,
   "id": "35b9be8e",
   "metadata": {},
   "outputs": [],
   "source": [
    "#Find the 5 airports above the fiftieth percentile with the worst score\n",
    "#creating a region column in merge_locations\n",
    "def state_to_region(state):\n",
    "    West = [\"Washington\", \"Montana\", \"Idaho\", \"Wyoming\", \"Oregon\", \"California\", \"Nevada\", \"Utah\", \"Colorado\", \"Arizona\", \"New Mexico\", \"Alaska\", \"Hawaii\"]\n",
    "    South = [\"Texas\", \"Oklahoma\", \"Arkansas\", \"Louisiana\", \"Mississippi\", \"Alabama\", \"Tennessee\", \"Kentucky\", \"Florida\", \"Georgia\", \"South Carolina\", \"North Carolina\", \"Virginia\", \"Maryland\", \"Delaware\"]\n",
    "    Northeast = [\"Pennsylvania\", \"New Jersey\", \"New York\", \"Connecticut\", \"Massachusetts\", \"Rhode Island\", \"Maine\", \"New Hampshire\", \"Vermont\"]\n",
    "    Midwest = [\"North Dakota\", \"South Dakota\", \"Nebraska\", \"Kansas\", \"Missouri\", \"Iowa\", \"Minnesota\", \"Wisconsin\", \"Illinois\", \"Indiana\", \"Ohio\", \"Michigan\"]\n",
    "\n",
    "    if state in West:\n",
    "        return \"West\"\n",
    "    elif state in South:\n",
    "        return \"South\"\n",
    "    elif state in Northeast:\n",
    "        return \"Northeast\"\n",
    "    elif state in Midwest:\n",
    "        return \"Midwest\"\n",
    "    \n",
    "merge_locations[\"Region\"] = merge_locations[\"State\"].map(state_to_region)\n",
    "\n",
    "fifty = merge_locations[\"Percentage_airline_flights\"].median()\n",
    "five_worst_allegiant = merge_locations[(merge_locations[\"Percentage_airline_flights\"] > fifty) & (merge_locations[\"Region\"] == \"Midwest\")].sort_values(\"TotalScore\", ascending=True).head(5)\n",
    "five_worst_allegiant.to_csv(\"FiveWorstAllegiant.csv\", index=False)"
   ]
  },
  {
   "cell_type": "markdown",
   "id": "f5e65255",
   "metadata": {},
   "source": [
    "#### Frontier analysis"
   ]
  },
  {
   "cell_type": "code",
   "execution_count": 48,
   "id": "38d9d1e5",
   "metadata": {},
   "outputs": [
    {
     "data": {
      "text/plain": [
       "(159681, 42)"
      ]
     },
     "execution_count": 48,
     "metadata": {},
     "output_type": "execute_result"
    }
   ],
   "source": [
    "df_frontier = df_2[df_2[\"Operating_Airline\"] == \"F9\"]\n",
    "df_frontier.shape"
   ]
  },
  {
   "cell_type": "code",
   "execution_count": 49,
   "id": "4e28cffe",
   "metadata": {},
   "outputs": [
    {
     "data": {
      "application/vnd.microsoft.datawrangler.viewer.v0+json": {
       "columns": [
        {
         "name": "Region",
         "rawType": "object",
         "type": "string"
        },
        {
         "name": "Flights",
         "rawType": "float64",
         "type": "float"
        }
       ],
       "ref": "364d574c-7f1b-47da-b79d-6f83ef111a3f",
       "rows": [
        [
         "Midwest",
         "9.738165467400629"
        ],
        [
         "Northeast",
         "12.36339952780857"
        ],
        [
         "South",
         "39.9721945629098"
        ],
        [
         "West",
         "35.46320476449922"
        ]
       ],
       "shape": {
        "columns": 1,
        "rows": 4
       }
      },
      "text/plain": [
       "Region\n",
       "Midwest       9.738165\n",
       "Northeast    12.363400\n",
       "South        39.972195\n",
       "West         35.463205\n",
       "Name: Flights, dtype: float64"
      ]
     },
     "execution_count": 49,
     "metadata": {},
     "output_type": "execute_result"
    }
   ],
   "source": [
    "#where frontier is flying - regions\n",
    "frontier_percent_regions = df_frontier.groupby(\"Region\")[\"Flights\"].sum() / len(df_frontier[\"Flights\"])\n",
    "frontier_percent_regions * 100"
   ]
  },
  {
   "cell_type": "code",
   "execution_count": 50,
   "id": "8e9318e6",
   "metadata": {},
   "outputs": [
    {
     "data": {
      "application/vnd.microsoft.datawrangler.viewer.v0+json": {
       "columns": [
        {
         "name": "index",
         "rawType": "int64",
         "type": "integer"
        },
        {
         "name": "Origin",
         "rawType": "object",
         "type": "string"
        },
        {
         "name": "Percentage_airline_flights",
         "rawType": "float64",
         "type": "float"
        }
       ],
       "ref": "488d4386-41ba-4bda-bbde-2038e1bb0638",
       "rows": [
        [
         "0",
         "ABQ",
         "0.0004947363806589388"
        ],
        [
         "1",
         "ALB",
         "0.0013088595387052936"
        ],
        [
         "2",
         "ATL",
         "0.05356930379945015"
        ],
        [
         "3",
         "AUS",
         "0.0024110570449834357"
        ],
        [
         "4",
         "BDL",
         "0.008579605588642356"
        ],
        [
         "5",
         "BIS",
         "0.00038827412152980003"
        ],
        [
         "6",
         "BKG",
         "0.00029433683406291294"
        ],
        [
         "7",
         "BMI",
         "0.0007953357005529775"
        ],
        [
         "8",
         "BNA",
         "0.0066257100093311035"
        ],
        [
         "9",
         "BOS",
         "0.0038890037011291264"
        ],
        [
         "10",
         "BQN",
         "0.0016783462027417163"
        ],
        [
         "11",
         "BTV",
         "0.00038827412152980003"
        ],
        [
         "12",
         "BUF",
         "0.009111916884288048"
        ],
        [
         "13",
         "BUR",
         "0.0014027968261721808"
        ],
        [
         "14",
         "BWI",
         "0.011861148164152279"
        ],
        [
         "15",
         "CHS",
         "0.0005698862106324485"
        ],
        [
         "16",
         "CID",
         "0.0014466342269900615"
        ],
        [
         "17",
         "CLE",
         "0.022469799162079397"
        ],
        [
         "18",
         "CLT",
         "0.008905254851860897"
        ],
        [
         "19",
         "CMH",
         "0.0017910709477019808"
        ],
        [
         "20",
         "COS",
         "0.0017660210043774775"
        ],
        [
         "21",
         "CVG",
         "0.019006644497466824"
        ],
        [
         "22",
         "DCA",
         "0.0067947971267715"
        ],
        [
         "23",
         "DEN",
         "0.13636562897276444"
        ],
        [
         "24",
         "DFW",
         "0.027504837770304543"
        ],
        [
         "25",
         "DRO",
         "0.0003319117490496678"
        ],
        [
         "26",
         "DSM",
         "0.0019413706076490001"
        ],
        [
         "27",
         "DTW",
         "0.008241431353761562"
        ],
        [
         "28",
         "ELP",
         "0.002761756251526481"
        ],
        [
         "29",
         "FAR",
         "0.0013714843970165516"
        ],
        [
         "30",
         "FCA",
         "0.00011272474496026452"
        ],
        [
         "31",
         "FLL",
         "0.013664744083516511"
        ],
        [
         "32",
         "FSD",
         "0.0015029965994701937"
        ],
        [
         "33",
         "GEG",
         "0.0004571614656721839"
        ],
        [
         "34",
         "GJT",
         "0.0001816120891026484"
        ],
        [
         "35",
         "GRB",
         "0.0011460349070960226"
        ],
        [
         "36",
         "GRR",
         "0.003826378842817868"
        ],
        [
         "37",
         "HOU",
         "0.0037512290128443584"
        ],
        [
         "38",
         "HRL",
         "0.0004383740081788065"
        ],
        [
         "39",
         "HSV",
         "0.00028807434823178714"
        ],
        [
         "40",
         "IAH",
         "0.007865682203894013"
        ],
        [
         "41",
         "ILG",
         "0.00013777468828476776"
        ],
        [
         "42",
         "IND",
         "0.004314852737645681"
        ],
        [
         "43",
         "ISP",
         "0.010896725346158905"
        ],
        [
         "44",
         "JAX",
         "0.0038201163569867424"
        ],
        [
         "45",
         "LAS",
         "0.10556046116945661"
        ],
        [
         "46",
         "LGA",
         "0.0067947971267715"
        ],
        [
         "47",
         "LIT",
         "0.0015969338869370809"
        ],
        [
         "48",
         "MCI",
         "0.0027742812231887327"
        ],
        [
         "49",
         "MCO",
         "0.11672647340635392"
        ]
       ],
       "shape": {
        "columns": 2,
        "rows": 97
       }
      },
      "text/html": [
       "<div>\n",
       "<style scoped>\n",
       "    .dataframe tbody tr th:only-of-type {\n",
       "        vertical-align: middle;\n",
       "    }\n",
       "\n",
       "    .dataframe tbody tr th {\n",
       "        vertical-align: top;\n",
       "    }\n",
       "\n",
       "    .dataframe thead th {\n",
       "        text-align: right;\n",
       "    }\n",
       "</style>\n",
       "<table border=\"1\" class=\"dataframe\">\n",
       "  <thead>\n",
       "    <tr style=\"text-align: right;\">\n",
       "      <th></th>\n",
       "      <th>Origin</th>\n",
       "      <th>Percentage_airline_flights</th>\n",
       "    </tr>\n",
       "  </thead>\n",
       "  <tbody>\n",
       "    <tr>\n",
       "      <th>0</th>\n",
       "      <td>ABQ</td>\n",
       "      <td>0.000495</td>\n",
       "    </tr>\n",
       "    <tr>\n",
       "      <th>1</th>\n",
       "      <td>ALB</td>\n",
       "      <td>0.001309</td>\n",
       "    </tr>\n",
       "    <tr>\n",
       "      <th>2</th>\n",
       "      <td>ATL</td>\n",
       "      <td>0.053569</td>\n",
       "    </tr>\n",
       "    <tr>\n",
       "      <th>3</th>\n",
       "      <td>AUS</td>\n",
       "      <td>0.002411</td>\n",
       "    </tr>\n",
       "    <tr>\n",
       "      <th>4</th>\n",
       "      <td>BDL</td>\n",
       "      <td>0.008580</td>\n",
       "    </tr>\n",
       "    <tr>\n",
       "      <th>...</th>\n",
       "      <td>...</td>\n",
       "      <td>...</td>\n",
       "    </tr>\n",
       "    <tr>\n",
       "      <th>92</th>\n",
       "      <td>SYR</td>\n",
       "      <td>0.002749</td>\n",
       "    </tr>\n",
       "    <tr>\n",
       "      <th>93</th>\n",
       "      <td>TPA</td>\n",
       "      <td>0.031638</td>\n",
       "    </tr>\n",
       "    <tr>\n",
       "      <th>94</th>\n",
       "      <td>TTN</td>\n",
       "      <td>0.013038</td>\n",
       "    </tr>\n",
       "    <tr>\n",
       "      <th>95</th>\n",
       "      <td>TYS</td>\n",
       "      <td>0.001490</td>\n",
       "    </tr>\n",
       "    <tr>\n",
       "      <th>96</th>\n",
       "      <td>XNA</td>\n",
       "      <td>0.001647</td>\n",
       "    </tr>\n",
       "  </tbody>\n",
       "</table>\n",
       "<p>97 rows × 2 columns</p>\n",
       "</div>"
      ],
      "text/plain": [
       "   Origin  Percentage_airline_flights\n",
       "0     ABQ                    0.000495\n",
       "1     ALB                    0.001309\n",
       "2     ATL                    0.053569\n",
       "3     AUS                    0.002411\n",
       "4     BDL                    0.008580\n",
       "..    ...                         ...\n",
       "92    SYR                    0.002749\n",
       "93    TPA                    0.031638\n",
       "94    TTN                    0.013038\n",
       "95    TYS                    0.001490\n",
       "96    XNA                    0.001647\n",
       "\n",
       "[97 rows x 2 columns]"
      ]
     },
     "execution_count": 50,
     "metadata": {},
     "output_type": "execute_result"
    }
   ],
   "source": [
    "#Where frontier is flying - airports\n",
    "frontier_percent_airports = (pd.DataFrame(df_frontier.groupby(\"Origin\")[\"Flights\"].sum() / len(df_frontier[\"Flights\"]))).reset_index()\n",
    "frontier_percent_airports.rename(columns={\"Flights\" : \"Percentage_airline_flights\"}, inplace=True)\n",
    "frontier_percent_airports"
   ]
  },
  {
   "cell_type": "code",
   "execution_count": 51,
   "id": "3bcc56c4",
   "metadata": {},
   "outputs": [
    {
     "data": {
      "application/vnd.microsoft.datawrangler.viewer.v0+json": {
       "columns": [
        {
         "name": "index",
         "rawType": "int64",
         "type": "integer"
        },
        {
         "name": "Origin",
         "rawType": "object",
         "type": "string"
        },
        {
         "name": "PercentAirlineFault",
         "rawType": "float64",
         "type": "float"
        }
       ],
       "ref": "732e68ef-f56b-40e4-9588-604be8909803",
       "rows": [
        [
         "0",
         "ABQ",
         "0.17928115135268527"
        ],
        [
         "1",
         "ALB",
         "0.06440026306070086"
        ],
        [
         "2",
         "ATL",
         "0.4298772188603529"
        ],
        [
         "3",
         "AUS",
         "0.16668880583123036"
        ],
        [
         "4",
         "BDL",
         "0.22151998172988918"
        ],
        [
         "5",
         "BIS",
         "0.07492848970251717"
        ],
        [
         "6",
         "BKG",
         "0.10653729699972474"
        ],
        [
         "7",
         "BMI",
         "0.17567798066844637"
        ],
        [
         "8",
         "BNA",
         "0.24846142550479117"
        ],
        [
         "9",
         "BOS",
         "0.3346593172623739"
        ],
        [
         "10",
         "BQN",
         "0.2908340859213747"
        ],
        [
         "11",
         "BTV",
         "0.15724882770903917"
        ],
        [
         "12",
         "BUF",
         "0.24258726788585344"
        ],
        [
         "13",
         "BUR",
         "0.18485885219787512"
        ],
        [
         "14",
         "BWI",
         "0.23410644812926457"
        ],
        [
         "15",
         "CHS",
         "0.10303275872931154"
        ],
        [
         "16",
         "CID",
         "0.12237659171450448"
        ],
        [
         "17",
         "CLE",
         "0.31924274442272516"
        ],
        [
         "18",
         "CLT",
         "0.28630244988214354"
        ],
        [
         "19",
         "CMH",
         "0.2005984332749569"
        ],
        [
         "20",
         "COS",
         "0.19096782455577607"
        ],
        [
         "21",
         "CVG",
         "0.19595125440875524"
        ],
        [
         "22",
         "DCA",
         "0.19743422313900577"
        ],
        [
         "23",
         "DEN",
         "0.4108757390586079"
        ],
        [
         "24",
         "DFW",
         "0.29365999752104227"
        ],
        [
         "25",
         "DRO",
         "0.10059820493064504"
        ],
        [
         "26",
         "DSM",
         "0.13671501498920582"
        ],
        [
         "27",
         "DTW",
         "0.30108863377783995"
        ],
        [
         "28",
         "ELP",
         "0.2535671513306957"
        ],
        [
         "29",
         "FAR",
         "0.12340424116705868"
        ],
        [
         "30",
         "FCA",
         "0.1111111111111111"
        ],
        [
         "31",
         "FLL",
         "0.3096005597560633"
        ],
        [
         "32",
         "FSD",
         "0.0584050033365664"
        ],
        [
         "33",
         "GEG",
         "0.2002034065102184"
        ],
        [
         "34",
         "GJT",
         "0.125"
        ],
        [
         "35",
         "GRB",
         "0.10391771364355917"
        ],
        [
         "36",
         "GRR",
         "0.1444246647617368"
        ],
        [
         "37",
         "HOU",
         "0.19634660176501417"
        ],
        [
         "38",
         "HRL",
         "0.1606516290726817"
        ],
        [
         "39",
         "HSV",
         "0.4084939668174962"
        ],
        [
         "40",
         "IAH",
         "0.1782949265695993"
        ],
        [
         "41",
         "ILG",
         "0.0011627906976744186"
        ],
        [
         "42",
         "IND",
         "0.17494907350587222"
        ],
        [
         "43",
         "ISP",
         "0.21114627538885386"
        ],
        [
         "44",
         "JAX",
         "0.15032116653744576"
        ],
        [
         "45",
         "LAS",
         "0.43911338139578393"
        ],
        [
         "46",
         "LGA",
         "0.16606668629569674"
        ],
        [
         "47",
         "LIT",
         "0.13332984779875084"
        ],
        [
         "48",
         "MCI",
         "0.14256856969565457"
        ],
        [
         "49",
         "MCO",
         "0.41070785753779904"
        ]
       ],
       "shape": {
        "columns": 2,
        "rows": 97
       }
      },
      "text/html": [
       "<div>\n",
       "<style scoped>\n",
       "    .dataframe tbody tr th:only-of-type {\n",
       "        vertical-align: middle;\n",
       "    }\n",
       "\n",
       "    .dataframe tbody tr th {\n",
       "        vertical-align: top;\n",
       "    }\n",
       "\n",
       "    .dataframe thead th {\n",
       "        text-align: right;\n",
       "    }\n",
       "</style>\n",
       "<table border=\"1\" class=\"dataframe\">\n",
       "  <thead>\n",
       "    <tr style=\"text-align: right;\">\n",
       "      <th></th>\n",
       "      <th>Origin</th>\n",
       "      <th>PercentAirlineFault</th>\n",
       "    </tr>\n",
       "  </thead>\n",
       "  <tbody>\n",
       "    <tr>\n",
       "      <th>0</th>\n",
       "      <td>ABQ</td>\n",
       "      <td>0.179281</td>\n",
       "    </tr>\n",
       "    <tr>\n",
       "      <th>1</th>\n",
       "      <td>ALB</td>\n",
       "      <td>0.064400</td>\n",
       "    </tr>\n",
       "    <tr>\n",
       "      <th>2</th>\n",
       "      <td>ATL</td>\n",
       "      <td>0.429877</td>\n",
       "    </tr>\n",
       "    <tr>\n",
       "      <th>3</th>\n",
       "      <td>AUS</td>\n",
       "      <td>0.166689</td>\n",
       "    </tr>\n",
       "    <tr>\n",
       "      <th>4</th>\n",
       "      <td>BDL</td>\n",
       "      <td>0.221520</td>\n",
       "    </tr>\n",
       "    <tr>\n",
       "      <th>...</th>\n",
       "      <td>...</td>\n",
       "      <td>...</td>\n",
       "    </tr>\n",
       "    <tr>\n",
       "      <th>92</th>\n",
       "      <td>SYR</td>\n",
       "      <td>0.150750</td>\n",
       "    </tr>\n",
       "    <tr>\n",
       "      <th>93</th>\n",
       "      <td>TPA</td>\n",
       "      <td>0.343447</td>\n",
       "    </tr>\n",
       "    <tr>\n",
       "      <th>94</th>\n",
       "      <td>TTN</td>\n",
       "      <td>0.149729</td>\n",
       "    </tr>\n",
       "    <tr>\n",
       "      <th>95</th>\n",
       "      <td>TYS</td>\n",
       "      <td>0.117750</td>\n",
       "    </tr>\n",
       "    <tr>\n",
       "      <th>96</th>\n",
       "      <td>XNA</td>\n",
       "      <td>0.150680</td>\n",
       "    </tr>\n",
       "  </tbody>\n",
       "</table>\n",
       "<p>97 rows × 2 columns</p>\n",
       "</div>"
      ],
      "text/plain": [
       "   Origin  PercentAirlineFault\n",
       "0     ABQ             0.179281\n",
       "1     ALB             0.064400\n",
       "2     ATL             0.429877\n",
       "3     AUS             0.166689\n",
       "4     BDL             0.221520\n",
       "..    ...                  ...\n",
       "92    SYR             0.150750\n",
       "93    TPA             0.343447\n",
       "94    TTN             0.149729\n",
       "95    TYS             0.117750\n",
       "96    XNA             0.150680\n",
       "\n",
       "[97 rows x 2 columns]"
      ]
     },
     "execution_count": 51,
     "metadata": {},
     "output_type": "execute_result"
    }
   ],
   "source": [
    "#what percent of delays are the airlines fault\n",
    "when_delayed_df = df_frontier[df_frontier[\"TotalDelay\"] != 0][[\"NASDelay\", \"SecurityDelay\", \"CarrierDelay\", \n",
    "                                                                   \"WeatherDelay\", \"LateAircraftDelay\", \"Origin\", \"TotalDelay\"]]\n",
    "\n",
    "when_delayed_df = when_delayed_df.reset_index()\n",
    "\n",
    "when_delayed_df[\"PercentAirlineFault\"] = ((when_delayed_df[\"CarrierDelay\"]) / when_delayed_df[\"TotalDelay\"])\n",
    "\n",
    "fault_at_airports = when_delayed_df.groupby(\"Origin\")[\"PercentAirlineFault\"].mean().reset_index()\n",
    "fault_at_airports"
   ]
  },
  {
   "cell_type": "code",
   "execution_count": 52,
   "id": "c001dd0e",
   "metadata": {},
   "outputs": [
    {
     "data": {
      "application/vnd.microsoft.datawrangler.viewer.v0+json": {
       "columns": [
        {
         "name": "index",
         "rawType": "int64",
         "type": "integer"
        },
        {
         "name": "Origin",
         "rawType": "object",
         "type": "string"
        },
        {
         "name": "percent_delayed",
         "rawType": "float64",
         "type": "float"
        },
        {
         "name": "percent_diverted_cancelled",
         "rawType": "float64",
         "type": "float"
        }
       ],
       "ref": "4aeb870b-a091-4a93-92d7-d3467dcfd87e",
       "rows": [
        [
         "0",
         "ABQ",
         "0.6582278481012658",
         "0.02531645569620253"
        ],
        [
         "1",
         "ALB",
         "0.3875598086124402",
         "0.05263157894736842"
        ],
        [
         "2",
         "ATL",
         "0.5507364975450082",
         "0.024900631283610006"
        ],
        [
         "3",
         "AUS",
         "0.44935064935064933",
         "0.01818181818181818"
        ],
        [
         "4",
         "BDL",
         "0.583941605839416",
         "0.020437956204379562"
        ],
        [
         "5",
         "BIS",
         "0.3870967741935484",
         "0.0"
        ],
        [
         "6",
         "BKG",
         "0.425531914893617",
         "0.0"
        ],
        [
         "7",
         "BMI",
         "0.30708661417322836",
         "0.015748031496062992"
        ],
        [
         "8",
         "BNA",
         "0.4914933837429111",
         "0.02551984877126654"
        ],
        [
         "9",
         "BOS",
         "0.5571658615136876",
         "0.02576489533011272"
        ],
        [
         "10",
         "BQN",
         "0.6716417910447762",
         "0.03731343283582089"
        ],
        [
         "11",
         "BTV",
         "0.532258064516129",
         "0.016129032258064516"
        ],
        [
         "12",
         "BUF",
         "0.4845360824742268",
         "0.052920962199312714"
        ],
        [
         "13",
         "BUR",
         "0.45089285714285715",
         "0.013392857142857142"
        ],
        [
         "14",
         "BWI",
         "0.44561774023231254",
         "0.027455121436114043"
        ],
        [
         "15",
         "CHS",
         "0.4835164835164835",
         "0.03296703296703297"
        ],
        [
         "16",
         "CID",
         "0.38095238095238093",
         "0.008658008658008658"
        ],
        [
         "17",
         "CLE",
         "0.4673913043478261",
         "0.03260869565217391"
        ],
        [
         "18",
         "CLT",
         "0.4338959212376934",
         "0.02812939521800281"
        ],
        [
         "19",
         "CMH",
         "0.4405594405594406",
         "0.038461538461538464"
        ],
        [
         "20",
         "COS",
         "0.475177304964539",
         "0.031914893617021274"
        ],
        [
         "21",
         "CVG",
         "0.4438220757825371",
         "0.02471169686985173"
        ],
        [
         "22",
         "DCA",
         "0.2921658986175115",
         "0.02304147465437788"
        ],
        [
         "23",
         "DEN",
         "0.4609414466130884",
         "0.014374282433983927"
        ],
        [
         "24",
         "DFW",
         "0.4931693989071038",
         "0.025500910746812388"
        ],
        [
         "25",
         "DRO",
         "0.39622641509433965",
         "0.0"
        ],
        [
         "26",
         "DSM",
         "0.46774193548387094",
         "0.016129032258064516"
        ],
        [
         "27",
         "DTW",
         "0.49012158054711247",
         "0.028875379939209727"
        ],
        [
         "28",
         "ELP",
         "0.5396825396825397",
         "0.013605442176870748"
        ],
        [
         "29",
         "FAR",
         "0.3881278538812785",
         "0.045662100456621"
        ],
        [
         "30",
         "FCA",
         "0.5555555555555556",
         "0.0"
        ],
        [
         "31",
         "FLL",
         "0.5384967919340055",
         "0.038038496791934"
        ],
        [
         "32",
         "FSD",
         "0.4375",
         "0.020833333333333332"
        ],
        [
         "33",
         "GEG",
         "0.5753424657534246",
         "0.0410958904109589"
        ],
        [
         "34",
         "GJT",
         "0.3448275862068966",
         "0.034482758620689655"
        ],
        [
         "35",
         "GRB",
         "0.33879781420765026",
         "0.03825136612021858"
        ],
        [
         "36",
         "GRR",
         "0.4206219312602291",
         "0.04091653027823241"
        ],
        [
         "37",
         "HOU",
         "0.669449081803005",
         "0.025041736227045076"
        ],
        [
         "38",
         "HRL",
         "0.32857142857142857",
         "0.014285714285714285"
        ],
        [
         "39",
         "HSV",
         "0.43478260869565216",
         "0.043478260869565216"
        ],
        [
         "40",
         "IAH",
         "0.5660828025477707",
         "0.014331210191082803"
        ],
        [
         "41",
         "ILG",
         "0.6363636363636364",
         "0.13636363636363635"
        ],
        [
         "42",
         "IND",
         "0.49782293178519593",
         "0.033381712626995644"
        ],
        [
         "43",
         "ISP",
         "0.4517241379310345",
         "0.03620689655172414"
        ],
        [
         "44",
         "JAX",
         "0.38688524590163936",
         "0.014754098360655738"
        ],
        [
         "45",
         "LAS",
         "0.4923469387755102",
         "0.01477218794494542"
        ],
        [
         "46",
         "LGA",
         "0.584331797235023",
         "0.04516129032258064"
        ],
        [
         "47",
         "LIT",
         "0.41568627450980394",
         "0.023529411764705882"
        ],
        [
         "48",
         "MCI",
         "0.5033860045146726",
         "0.022573363431151242"
        ],
        [
         "49",
         "MCO",
         "0.5486882343473363",
         "0.0322442191104673"
        ]
       ],
       "shape": {
        "columns": 3,
        "rows": 97
       }
      },
      "text/html": [
       "<div>\n",
       "<style scoped>\n",
       "    .dataframe tbody tr th:only-of-type {\n",
       "        vertical-align: middle;\n",
       "    }\n",
       "\n",
       "    .dataframe tbody tr th {\n",
       "        vertical-align: top;\n",
       "    }\n",
       "\n",
       "    .dataframe thead th {\n",
       "        text-align: right;\n",
       "    }\n",
       "</style>\n",
       "<table border=\"1\" class=\"dataframe\">\n",
       "  <thead>\n",
       "    <tr style=\"text-align: right;\">\n",
       "      <th></th>\n",
       "      <th>Origin</th>\n",
       "      <th>percent_delayed</th>\n",
       "      <th>percent_diverted_cancelled</th>\n",
       "    </tr>\n",
       "  </thead>\n",
       "  <tbody>\n",
       "    <tr>\n",
       "      <th>0</th>\n",
       "      <td>ABQ</td>\n",
       "      <td>0.658228</td>\n",
       "      <td>0.025316</td>\n",
       "    </tr>\n",
       "    <tr>\n",
       "      <th>1</th>\n",
       "      <td>ALB</td>\n",
       "      <td>0.387560</td>\n",
       "      <td>0.052632</td>\n",
       "    </tr>\n",
       "    <tr>\n",
       "      <th>2</th>\n",
       "      <td>ATL</td>\n",
       "      <td>0.550736</td>\n",
       "      <td>0.024901</td>\n",
       "    </tr>\n",
       "    <tr>\n",
       "      <th>3</th>\n",
       "      <td>AUS</td>\n",
       "      <td>0.449351</td>\n",
       "      <td>0.018182</td>\n",
       "    </tr>\n",
       "    <tr>\n",
       "      <th>4</th>\n",
       "      <td>BDL</td>\n",
       "      <td>0.583942</td>\n",
       "      <td>0.020438</td>\n",
       "    </tr>\n",
       "    <tr>\n",
       "      <th>...</th>\n",
       "      <td>...</td>\n",
       "      <td>...</td>\n",
       "      <td>...</td>\n",
       "    </tr>\n",
       "    <tr>\n",
       "      <th>92</th>\n",
       "      <td>SYR</td>\n",
       "      <td>0.435080</td>\n",
       "      <td>0.036446</td>\n",
       "    </tr>\n",
       "    <tr>\n",
       "      <th>93</th>\n",
       "      <td>TPA</td>\n",
       "      <td>0.423793</td>\n",
       "      <td>0.029493</td>\n",
       "    </tr>\n",
       "    <tr>\n",
       "      <th>94</th>\n",
       "      <td>TTN</td>\n",
       "      <td>0.398655</td>\n",
       "      <td>0.048031</td>\n",
       "    </tr>\n",
       "    <tr>\n",
       "      <th>95</th>\n",
       "      <td>TYS</td>\n",
       "      <td>0.386555</td>\n",
       "      <td>0.012605</td>\n",
       "    </tr>\n",
       "    <tr>\n",
       "      <th>96</th>\n",
       "      <td>XNA</td>\n",
       "      <td>0.490494</td>\n",
       "      <td>0.022814</td>\n",
       "    </tr>\n",
       "  </tbody>\n",
       "</table>\n",
       "<p>97 rows × 3 columns</p>\n",
       "</div>"
      ],
      "text/plain": [
       "   Origin  percent_delayed  percent_diverted_cancelled\n",
       "0     ABQ         0.658228                    0.025316\n",
       "1     ALB         0.387560                    0.052632\n",
       "2     ATL         0.550736                    0.024901\n",
       "3     AUS         0.449351                    0.018182\n",
       "4     BDL         0.583942                    0.020438\n",
       "..    ...              ...                         ...\n",
       "92    SYR         0.435080                    0.036446\n",
       "93    TPA         0.423793                    0.029493\n",
       "94    TTN         0.398655                    0.048031\n",
       "95    TYS         0.386555                    0.012605\n",
       "96    XNA         0.490494                    0.022814\n",
       "\n",
       "[97 rows x 3 columns]"
      ]
     },
     "execution_count": 52,
     "metadata": {},
     "output_type": "execute_result"
    }
   ],
   "source": [
    "#percent of flights delayed and flights delayed/cancelled\n",
    "airport_stats_df = df_frontier.groupby(\"Origin\").agg(\n",
    "    percent_delayed = (\"Delayed\", \"mean\"),\n",
    "    percent_diverted_cancelled = (\"CancOrDiv\", \"mean\")).reset_index() \n",
    "\n",
    "airport_stats_df"
   ]
  },
  {
   "cell_type": "code",
   "execution_count": 53,
   "id": "7b15bd53",
   "metadata": {},
   "outputs": [
    {
     "data": {
      "application/vnd.microsoft.datawrangler.viewer.v0+json": {
       "columns": [
        {
         "name": "index",
         "rawType": "int64",
         "type": "integer"
        },
        {
         "name": "Origin",
         "rawType": "object",
         "type": "string"
        },
        {
         "name": "Delayed",
         "rawType": "float64",
         "type": "float"
        }
       ],
       "ref": "5660bded-9c0b-40c5-b49b-1a61fb38e0c9",
       "rows": [
        [
         "0",
         "ABQ",
         "0.75"
        ],
        [
         "1",
         "ALB",
         "0.3333333333333333"
        ],
        [
         "2",
         "ATL",
         "0.5472779369627507"
        ],
        [
         "3",
         "AUS",
         "0.6666666666666666"
        ],
        [
         "4",
         "BDL",
         "0.47368421052631576"
        ],
        [
         "5",
         "BIS",
         "0.0"
        ],
        [
         "6",
         "BKG",
         "0.0"
        ],
        [
         "7",
         "BMI",
         "0.2222222222222222"
        ],
        [
         "8",
         "BNA",
         "0.4418604651162791"
        ],
        [
         "9",
         "BOS",
         "0.5238095238095238"
        ]
       ],
       "shape": {
        "columns": 2,
        "rows": 10
       }
      },
      "text/html": [
       "<div>\n",
       "<style scoped>\n",
       "    .dataframe tbody tr th:only-of-type {\n",
       "        vertical-align: middle;\n",
       "    }\n",
       "\n",
       "    .dataframe tbody tr th {\n",
       "        vertical-align: top;\n",
       "    }\n",
       "\n",
       "    .dataframe thead th {\n",
       "        text-align: right;\n",
       "    }\n",
       "</style>\n",
       "<table border=\"1\" class=\"dataframe\">\n",
       "  <thead>\n",
       "    <tr style=\"text-align: right;\">\n",
       "      <th></th>\n",
       "      <th>Origin</th>\n",
       "      <th>Delayed</th>\n",
       "    </tr>\n",
       "  </thead>\n",
       "  <tbody>\n",
       "    <tr>\n",
       "      <th>0</th>\n",
       "      <td>ABQ</td>\n",
       "      <td>0.750000</td>\n",
       "    </tr>\n",
       "    <tr>\n",
       "      <th>1</th>\n",
       "      <td>ALB</td>\n",
       "      <td>0.333333</td>\n",
       "    </tr>\n",
       "    <tr>\n",
       "      <th>2</th>\n",
       "      <td>ATL</td>\n",
       "      <td>0.547278</td>\n",
       "    </tr>\n",
       "    <tr>\n",
       "      <th>3</th>\n",
       "      <td>AUS</td>\n",
       "      <td>0.666667</td>\n",
       "    </tr>\n",
       "    <tr>\n",
       "      <th>4</th>\n",
       "      <td>BDL</td>\n",
       "      <td>0.473684</td>\n",
       "    </tr>\n",
       "    <tr>\n",
       "      <th>5</th>\n",
       "      <td>BIS</td>\n",
       "      <td>0.000000</td>\n",
       "    </tr>\n",
       "    <tr>\n",
       "      <th>6</th>\n",
       "      <td>BKG</td>\n",
       "      <td>0.000000</td>\n",
       "    </tr>\n",
       "    <tr>\n",
       "      <th>7</th>\n",
       "      <td>BMI</td>\n",
       "      <td>0.222222</td>\n",
       "    </tr>\n",
       "    <tr>\n",
       "      <th>8</th>\n",
       "      <td>BNA</td>\n",
       "      <td>0.441860</td>\n",
       "    </tr>\n",
       "    <tr>\n",
       "      <th>9</th>\n",
       "      <td>BOS</td>\n",
       "      <td>0.523810</td>\n",
       "    </tr>\n",
       "  </tbody>\n",
       "</table>\n",
       "</div>"
      ],
      "text/plain": [
       "  Origin   Delayed\n",
       "0    ABQ  0.750000\n",
       "1    ALB  0.333333\n",
       "2    ATL  0.547278\n",
       "3    AUS  0.666667\n",
       "4    BDL  0.473684\n",
       "5    BIS  0.000000\n",
       "6    BKG  0.000000\n",
       "7    BMI  0.222222\n",
       "8    BNA  0.441860\n",
       "9    BOS  0.523810"
      ]
     },
     "execution_count": 53,
     "metadata": {},
     "output_type": "execute_result"
    }
   ],
   "source": [
    "#holiday performance at each airport\n",
    "holiday_df = df_frontier[df_frontier[\"Is_Holiday\"] == 1]\n",
    "\n",
    "holiday_performance_df = holiday_df.groupby(\"Origin\")[\"Delayed\"].mean().reset_index()\n",
    "holiday_performance_df.head(10)"
   ]
  },
  {
   "cell_type": "code",
   "execution_count": 54,
   "id": "bd78bbcd",
   "metadata": {},
   "outputs": [],
   "source": [
    "#how extreme is the average delay\n",
    "only_delayed_flights = df_frontier[df_frontier[\"Delayed\"] == 1]\n",
    "how_extreme_delays = only_delayed_flights.groupby(\"Origin\")[\"ArrDelayMinutes\"].mean().reset_index()"
   ]
  },
  {
   "cell_type": "code",
   "execution_count": 55,
   "id": "ca444927",
   "metadata": {},
   "outputs": [
    {
     "name": "stderr",
     "output_type": "stream",
     "text": [
      "C:\\Users\\bmhawley\\AppData\\Local\\Temp\\4\\ipykernel_35304\\3525232730.py:11: SettingWithCopyWarning: \n",
      "A value is trying to be set on a copy of a slice from a DataFrame.\n",
      "Try using .loc[row_indexer,col_indexer] = value instead\n",
      "\n",
      "See the caveats in the documentation: https://pandas.pydata.org/pandas-docs/stable/user_guide/indexing.html#returning-a-view-versus-a-copy\n",
      "  Final_merge[\"HolidayPercentDelayed\"] = merge4[\"Delayed\"]\n"
     ]
    },
    {
     "data": {
      "application/vnd.microsoft.datawrangler.viewer.v0+json": {
       "columns": [
        {
         "name": "index",
         "rawType": "int64",
         "type": "integer"
        },
        {
         "name": "Origin",
         "rawType": "object",
         "type": "string"
        },
        {
         "name": "Percentage_airline_flights",
         "rawType": "float64",
         "type": "float"
        },
        {
         "name": "percent_delayed",
         "rawType": "float64",
         "type": "float"
        },
        {
         "name": "percent_diverted_cancelled",
         "rawType": "float64",
         "type": "float"
        },
        {
         "name": "PercentAirlineFault",
         "rawType": "float64",
         "type": "float"
        },
        {
         "name": "HolidayPercentDelayed",
         "rawType": "float64",
         "type": "float"
        },
        {
         "name": "HowExtremeDelay",
         "rawType": "float64",
         "type": "float"
        }
       ],
       "ref": "08869262-3e1c-4001-b183-f2fd1d7ecceb",
       "rows": [
        [
         "0",
         "ABQ",
         "0.0004947363806589388",
         "0.6582278481012658",
         "0.02531645569620253",
         "0.17928115135268527",
         "0.75",
         "48.59615384615385"
        ],
        [
         "1",
         "ALB",
         "0.0013088595387052936",
         "0.3875598086124402",
         "0.05263157894736842",
         "0.06440026306070086",
         "0.3333333333333333",
         "62.95061728395062"
        ],
        [
         "2",
         "ATL",
         "0.05356930379945015",
         "0.5507364975450082",
         "0.024900631283610006",
         "0.4298772188603529",
         "0.5472779369627507",
         "55.981744852472936"
        ],
        [
         "3",
         "AUS",
         "0.0024110570449834357",
         "0.44935064935064933",
         "0.01818181818181818",
         "0.16668880583123036",
         "0.6666666666666666",
         "49.50867052023121"
        ],
        [
         "4",
         "BDL",
         "0.008579605588642356",
         "0.583941605839416",
         "0.020437956204379562",
         "0.22151998172988918",
         "0.47368421052631576",
         "68.86125"
        ],
        [
         "5",
         "BIS",
         "0.00038827412152980003",
         "0.3870967741935484",
         "0.0",
         "0.07492848970251717",
         "0.0",
         "33.291666666666664"
        ],
        [
         "6",
         "BKG",
         "0.00029433683406291294",
         "0.425531914893617",
         "0.0",
         "0.10653729699972474",
         "0.0",
         "52.25"
        ],
        [
         "7",
         "BMI",
         "0.0007953357005529775",
         "0.30708661417322836",
         "0.015748031496062992",
         "0.17567798066844637",
         "0.2222222222222222",
         "59.23076923076923"
        ],
        [
         "8",
         "BNA",
         "0.0066257100093311035",
         "0.4914933837429111",
         "0.02551984877126654",
         "0.24846142550479117",
         "0.4418604651162791",
         "38.87307692307692"
        ],
        [
         "9",
         "BOS",
         "0.0038890037011291264",
         "0.5571658615136876",
         "0.02576489533011272",
         "0.3346593172623739",
         "0.5238095238095238",
         "54.79479768786127"
        ],
        [
         "10",
         "BQN",
         "0.0016783462027417163",
         "0.6716417910447762",
         "0.03731343283582089",
         "0.2908340859213747",
         "0.7142857142857143",
         "66.91111111111111"
        ],
        [
         "11",
         "BTV",
         "0.00038827412152980003",
         "0.532258064516129",
         "0.016129032258064516",
         "0.15724882770903917",
         "0.25",
         "88.63636363636364"
        ],
        [
         "12",
         "BUF",
         "0.009111916884288048",
         "0.4845360824742268",
         "0.052920962199312714",
         "0.24258726788585344",
         "0.3548387096774194",
         "52.00709219858156"
        ],
        [
         "13",
         "BUR",
         "0.0014027968261721808",
         "0.45089285714285715",
         "0.013392857142857142",
         "0.18485885219787512",
         "0.46153846153846156",
         "33.21782178217822"
        ],
        [
         "14",
         "BWI",
         "0.011861148164152279",
         "0.44561774023231254",
         "0.027455121436114043",
         "0.23410644812926457",
         "0.41333333333333333",
         "57.10663507109005"
        ],
        [
         "15",
         "CHS",
         "0.0005698862106324485",
         "0.4835164835164835",
         "0.03296703296703297",
         "0.10303275872931154",
         "0.5",
         "58.25"
        ],
        [
         "16",
         "CID",
         "0.0014466342269900615",
         "0.38095238095238093",
         "0.008658008658008658",
         "0.12237659171450448",
         "0.3333333333333333",
         "39.0"
        ],
        [
         "17",
         "CLE",
         "0.022469799162079397",
         "0.4673913043478261",
         "0.03260869565217391",
         "0.31924274442272516",
         "0.4225352112676056",
         "52.865235539654144"
        ],
        [
         "18",
         "CLT",
         "0.008905254851860897",
         "0.4338959212376934",
         "0.02812939521800281",
         "0.28630244988214354",
         "0.41509433962264153",
         "46.49108589951378"
        ],
        [
         "19",
         "CMH",
         "0.0017910709477019808",
         "0.4405594405594406",
         "0.038461538461538464",
         "0.2005984332749569",
         "0.3",
         "49.06349206349206"
        ],
        [
         "20",
         "COS",
         "0.0017660210043774775",
         "0.475177304964539",
         "0.031914893617021274",
         "0.19096782455577607",
         "0.3333333333333333",
         "52.02985074626866"
        ],
        [
         "21",
         "CVG",
         "0.019006644497466824",
         "0.4438220757825371",
         "0.02471169686985173",
         "0.19595125440875524",
         "0.46153846153846156",
         "57.60653303637714"
        ],
        [
         "22",
         "DCA",
         "0.0067947971267715",
         "0.2921658986175115",
         "0.02304147465437788",
         "0.19743422313900577",
         "0.28205128205128205",
         "48.7192429022082"
        ],
        [
         "23",
         "DEN",
         "0.13636562897276444",
         "0.4609414466130884",
         "0.014374282433983927",
         "0.4108757390586079",
         "0.4901277584204414",
         "37.771445651090964"
        ],
        [
         "24",
         "DFW",
         "0.027504837770304543",
         "0.4931693989071038",
         "0.025500910746812388",
         "0.29365999752104227",
         "0.47530864197530864",
         "60.039704524469066"
        ],
        [
         "25",
         "DRO",
         "0.0003319117490496678",
         "0.39622641509433965",
         "0.0",
         "0.10059820493064504",
         "0.0",
         "115.52380952380952"
        ],
        [
         "26",
         "DSM",
         "0.0019413706076490001",
         "0.46774193548387094",
         "0.016129032258064516",
         "0.13671501498920582",
         "0.5",
         "33.01379310344828"
        ],
        [
         "27",
         "DTW",
         "0.008241431353761562",
         "0.49012158054711247",
         "0.028875379939209727",
         "0.30108863377783995",
         "0.39285714285714285",
         "53.78759689922481"
        ],
        [
         "28",
         "ELP",
         "0.002761756251526481",
         "0.5396825396825397",
         "0.013605442176870748",
         "0.2535671513306957",
         "0.43478260869565216",
         "46.26470588235294"
        ],
        [
         "29",
         "FAR",
         "0.0013714843970165516",
         "0.3881278538812785",
         "0.045662100456621",
         "0.12340424116705868",
         "0.2727272727272727",
         "80.72941176470589"
        ],
        [
         "30",
         "FCA",
         "0.00011272474496026452",
         "0.5555555555555556",
         "0.0",
         "0.1111111111111111",
         "0.0",
         "46.2"
        ],
        [
         "31",
         "FLL",
         "0.013664744083516511",
         "0.5384967919340055",
         "0.038038496791934",
         "0.3096005597560633",
         "0.5652173913043478",
         "58.38808510638298"
        ],
        [
         "32",
         "FSD",
         "0.0015029965994701937",
         "0.4375",
         "0.020833333333333332",
         "0.0584050033365664",
         "0.4",
         "43.21904761904762"
        ],
        [
         "33",
         "GEG",
         "0.0004571614656721839",
         "0.5753424657534246",
         "0.0410958904109589",
         "0.2002034065102184",
         "0.5",
         "47.595238095238095"
        ],
        [
         "34",
         "GJT",
         "0.0001816120891026484",
         "0.3448275862068966",
         "0.034482758620689655",
         "0.125",
         "0.0",
         "40.7"
        ],
        [
         "35",
         "GRB",
         "0.0011460349070960226",
         "0.33879781420765026",
         "0.03825136612021858",
         "0.10391771364355917",
         "0.3333333333333333",
         "43.75806451612903"
        ],
        [
         "36",
         "GRR",
         "0.003826378842817868",
         "0.4206219312602291",
         "0.04091653027823241",
         "0.1444246647617368",
         "0.5652173913043478",
         "51.75486381322957"
        ],
        [
         "37",
         "HOU",
         "0.0037512290128443584",
         "0.669449081803005",
         "0.025041736227045076",
         "0.19634660176501417",
         "0.5333333333333333",
         "48.78304239401496"
        ],
        [
         "38",
         "HRL",
         "0.0004383740081788065",
         "0.32857142857142857",
         "0.014285714285714285",
         "0.1606516290726817",
         "0.5",
         "46.47826086956522"
        ],
        [
         "39",
         "HSV",
         "0.00028807434823178714",
         "0.43478260869565216",
         "0.043478260869565216",
         "0.4084939668174962",
         "0.0",
         "45.15"
        ],
        [
         "40",
         "IAH",
         "0.007865682203894013",
         "0.5660828025477707",
         "0.014331210191082803",
         "0.1782949265695993",
         "0.5",
         "63.09985935302391"
        ],
        [
         "41",
         "ILG",
         "0.00013777468828476776",
         "0.6363636363636364",
         "0.13636363636363635",
         "0.0011627906976744186",
         "0.0",
         "46.357142857142854"
        ],
        [
         "42",
         "IND",
         "0.004314852737645681",
         "0.49782293178519593",
         "0.033381712626995644",
         "0.17494907350587222",
         "0.5714285714285714",
         "49.965014577259474"
        ],
        [
         "43",
         "ISP",
         "0.010896725346158905",
         "0.4517241379310345",
         "0.03620689655172414",
         "0.21114627538885386",
         "0.4262295081967213",
         "55.22773536895674"
        ],
        [
         "44",
         "JAX",
         "0.0038201163569867424",
         "0.38688524590163936",
         "0.014754098360655738",
         "0.15032116653744576",
         "0.4230769230769231",
         "48.20338983050848"
        ],
        [
         "45",
         "LAS",
         "0.10556046116945661",
         "0.4923469387755102",
         "0.01477218794494542",
         "0.43911338139578393",
         "0.5067466266866567",
         "41.553078684178814"
        ],
        [
         "46",
         "LGA",
         "0.0067947971267715",
         "0.584331797235023",
         "0.04516129032258064",
         "0.16606668629569674",
         "0.2894736842105263",
         "61.31230283911672"
        ],
        [
         "47",
         "LIT",
         "0.0015969338869370809",
         "0.41568627450980394",
         "0.023529411764705882",
         "0.13332984779875084",
         "0.625",
         "36.9622641509434"
        ],
        [
         "48",
         "MCI",
         "0.0027742812231887327",
         "0.5033860045146726",
         "0.022573363431151242",
         "0.14256856969565457",
         "0.4",
         "48.05829596412556"
        ],
        [
         "49",
         "MCO",
         "0.11672647340635392",
         "0.5486882343473363",
         "0.0322442191104673",
         "0.41070785753779904",
         "0.5128552097428958",
         "50.63391023760634"
        ]
       ],
       "shape": {
        "columns": 7,
        "rows": 97
       }
      },
      "text/html": [
       "<div>\n",
       "<style scoped>\n",
       "    .dataframe tbody tr th:only-of-type {\n",
       "        vertical-align: middle;\n",
       "    }\n",
       "\n",
       "    .dataframe tbody tr th {\n",
       "        vertical-align: top;\n",
       "    }\n",
       "\n",
       "    .dataframe thead th {\n",
       "        text-align: right;\n",
       "    }\n",
       "</style>\n",
       "<table border=\"1\" class=\"dataframe\">\n",
       "  <thead>\n",
       "    <tr style=\"text-align: right;\">\n",
       "      <th></th>\n",
       "      <th>Origin</th>\n",
       "      <th>Percentage_airline_flights</th>\n",
       "      <th>percent_delayed</th>\n",
       "      <th>percent_diverted_cancelled</th>\n",
       "      <th>PercentAirlineFault</th>\n",
       "      <th>HolidayPercentDelayed</th>\n",
       "      <th>HowExtremeDelay</th>\n",
       "    </tr>\n",
       "  </thead>\n",
       "  <tbody>\n",
       "    <tr>\n",
       "      <th>0</th>\n",
       "      <td>ABQ</td>\n",
       "      <td>0.000495</td>\n",
       "      <td>0.658228</td>\n",
       "      <td>0.025316</td>\n",
       "      <td>0.179281</td>\n",
       "      <td>0.750000</td>\n",
       "      <td>48.596154</td>\n",
       "    </tr>\n",
       "    <tr>\n",
       "      <th>1</th>\n",
       "      <td>ALB</td>\n",
       "      <td>0.001309</td>\n",
       "      <td>0.387560</td>\n",
       "      <td>0.052632</td>\n",
       "      <td>0.064400</td>\n",
       "      <td>0.333333</td>\n",
       "      <td>62.950617</td>\n",
       "    </tr>\n",
       "    <tr>\n",
       "      <th>2</th>\n",
       "      <td>ATL</td>\n",
       "      <td>0.053569</td>\n",
       "      <td>0.550736</td>\n",
       "      <td>0.024901</td>\n",
       "      <td>0.429877</td>\n",
       "      <td>0.547278</td>\n",
       "      <td>55.981745</td>\n",
       "    </tr>\n",
       "    <tr>\n",
       "      <th>3</th>\n",
       "      <td>AUS</td>\n",
       "      <td>0.002411</td>\n",
       "      <td>0.449351</td>\n",
       "      <td>0.018182</td>\n",
       "      <td>0.166689</td>\n",
       "      <td>0.666667</td>\n",
       "      <td>49.508671</td>\n",
       "    </tr>\n",
       "    <tr>\n",
       "      <th>4</th>\n",
       "      <td>BDL</td>\n",
       "      <td>0.008580</td>\n",
       "      <td>0.583942</td>\n",
       "      <td>0.020438</td>\n",
       "      <td>0.221520</td>\n",
       "      <td>0.473684</td>\n",
       "      <td>68.861250</td>\n",
       "    </tr>\n",
       "    <tr>\n",
       "      <th>...</th>\n",
       "      <td>...</td>\n",
       "      <td>...</td>\n",
       "      <td>...</td>\n",
       "      <td>...</td>\n",
       "      <td>...</td>\n",
       "      <td>...</td>\n",
       "      <td>...</td>\n",
       "    </tr>\n",
       "    <tr>\n",
       "      <th>92</th>\n",
       "      <td>SYR</td>\n",
       "      <td>0.002749</td>\n",
       "      <td>0.435080</td>\n",
       "      <td>0.036446</td>\n",
       "      <td>0.150750</td>\n",
       "      <td>0.571429</td>\n",
       "      <td>58.303665</td>\n",
       "    </tr>\n",
       "    <tr>\n",
       "      <th>93</th>\n",
       "      <td>TPA</td>\n",
       "      <td>0.031638</td>\n",
       "      <td>0.423793</td>\n",
       "      <td>0.029493</td>\n",
       "      <td>0.343447</td>\n",
       "      <td>0.445596</td>\n",
       "      <td>44.855208</td>\n",
       "    </tr>\n",
       "    <tr>\n",
       "      <th>94</th>\n",
       "      <td>TTN</td>\n",
       "      <td>0.013038</td>\n",
       "      <td>0.398655</td>\n",
       "      <td>0.048031</td>\n",
       "      <td>0.149729</td>\n",
       "      <td>0.369231</td>\n",
       "      <td>53.745783</td>\n",
       "    </tr>\n",
       "    <tr>\n",
       "      <th>95</th>\n",
       "      <td>TYS</td>\n",
       "      <td>0.001490</td>\n",
       "      <td>0.386555</td>\n",
       "      <td>0.012605</td>\n",
       "      <td>0.117750</td>\n",
       "      <td>0.538462</td>\n",
       "      <td>47.619565</td>\n",
       "    </tr>\n",
       "    <tr>\n",
       "      <th>96</th>\n",
       "      <td>XNA</td>\n",
       "      <td>0.001647</td>\n",
       "      <td>0.490494</td>\n",
       "      <td>0.022814</td>\n",
       "      <td>0.150680</td>\n",
       "      <td>0.272727</td>\n",
       "      <td>62.527132</td>\n",
       "    </tr>\n",
       "  </tbody>\n",
       "</table>\n",
       "<p>97 rows × 7 columns</p>\n",
       "</div>"
      ],
      "text/plain": [
       "   Origin  Percentage_airline_flights  percent_delayed  \\\n",
       "0     ABQ                    0.000495         0.658228   \n",
       "1     ALB                    0.001309         0.387560   \n",
       "2     ATL                    0.053569         0.550736   \n",
       "3     AUS                    0.002411         0.449351   \n",
       "4     BDL                    0.008580         0.583942   \n",
       "..    ...                         ...              ...   \n",
       "92    SYR                    0.002749         0.435080   \n",
       "93    TPA                    0.031638         0.423793   \n",
       "94    TTN                    0.013038         0.398655   \n",
       "95    TYS                    0.001490         0.386555   \n",
       "96    XNA                    0.001647         0.490494   \n",
       "\n",
       "    percent_diverted_cancelled  PercentAirlineFault  HolidayPercentDelayed  \\\n",
       "0                     0.025316             0.179281               0.750000   \n",
       "1                     0.052632             0.064400               0.333333   \n",
       "2                     0.024901             0.429877               0.547278   \n",
       "3                     0.018182             0.166689               0.666667   \n",
       "4                     0.020438             0.221520               0.473684   \n",
       "..                         ...                  ...                    ...   \n",
       "92                    0.036446             0.150750               0.571429   \n",
       "93                    0.029493             0.343447               0.445596   \n",
       "94                    0.048031             0.149729               0.369231   \n",
       "95                    0.012605             0.117750               0.538462   \n",
       "96                    0.022814             0.150680               0.272727   \n",
       "\n",
       "    HowExtremeDelay  \n",
       "0         48.596154  \n",
       "1         62.950617  \n",
       "2         55.981745  \n",
       "3         49.508671  \n",
       "4         68.861250  \n",
       "..              ...  \n",
       "92        58.303665  \n",
       "93        44.855208  \n",
       "94        53.745783  \n",
       "95        47.619565  \n",
       "96        62.527132  \n",
       "\n",
       "[97 rows x 7 columns]"
      ]
     },
     "execution_count": 55,
     "metadata": {},
     "output_type": "execute_result"
    }
   ],
   "source": [
    "#merging all of the dataframes together\n",
    "merge1 = pd.merge(frontier_percent_airports[[\"Origin\", \"Percentage_airline_flights\"]], airport_stats_df, how=\"left\", on=\"Origin\")\n",
    "\n",
    "merge2 = pd.merge(merge1, fault_at_airports, on=\"Origin\", how=\"left\")\n",
    "\n",
    "merge3 = pd.merge(merge2, holiday_performance_df, on=\"Origin\", how=\"left\")\n",
    "\n",
    "merge4 = pd.merge(merge3, how_extreme_delays, on=\"Origin\", how=\"left\")\n",
    "\n",
    "Final_merge = merge4[[\"Origin\", \"Percentage_airline_flights\", \"percent_delayed\", \"percent_diverted_cancelled\", \"PercentAirlineFault\"]]\n",
    "Final_merge[\"HolidayPercentDelayed\"] = merge4[\"Delayed\"]\n",
    "Final_merge[\"HowExtremeDelay\"] = merge4[\"ArrDelayMinutes\"]\n",
    "Final_merge[\"HolidayPercentDelayed\"] = Final_merge[\"HolidayPercentDelayed\"].fillna(0)\n",
    "Final_merge"
   ]
  },
  {
   "cell_type": "code",
   "execution_count": 56,
   "id": "9aa1f864",
   "metadata": {},
   "outputs": [
    {
     "name": "stderr",
     "output_type": "stream",
     "text": [
      "C:\\Users\\bmhawley\\AppData\\Local\\Temp\\4\\ipykernel_35304\\775840358.py:24: FutureWarning: ChainedAssignmentError: behaviour will change in pandas 3.0!\n",
      "You are setting values through chained assignment. Currently this works in certain cases, but when using Copy-on-Write (which will become the default behaviour in pandas 3.0) this will never work to update the original DataFrame or Series, because the intermediate object on which we are setting values will behave as a copy.\n",
      "A typical example is when you are setting values in a column of a DataFrame, like:\n",
      "\n",
      "df[\"col\"][row_indexer] = value\n",
      "\n",
      "Use `df.loc[row_indexer, \"col\"] = values` instead, to perform the assignment in a single step and ensure this keeps updating the original `df`.\n",
      "\n",
      "See the caveats in the documentation: https://pandas.pydata.org/pandas-docs/stable/user_guide/indexing.html#returning-a-view-versus-a-copy\n",
      "\n",
      "  Final_merge[(\"ScoreFrom_\" + column)][i] = points\n",
      "C:\\Users\\bmhawley\\AppData\\Local\\Temp\\4\\ipykernel_35304\\775840358.py:24: SettingWithCopyWarning: \n",
      "A value is trying to be set on a copy of a slice from a DataFrame\n",
      "\n",
      "See the caveats in the documentation: https://pandas.pydata.org/pandas-docs/stable/user_guide/indexing.html#returning-a-view-versus-a-copy\n",
      "  Final_merge[(\"ScoreFrom_\" + column)][i] = points\n",
      "C:\\Users\\bmhawley\\AppData\\Local\\Temp\\4\\ipykernel_35304\\775840358.py:24: FutureWarning: Setting an item of incompatible dtype is deprecated and will raise an error in a future version of pandas. Value '0.25' has dtype incompatible with int64, please explicitly cast to a compatible dtype first.\n",
      "  Final_merge[(\"ScoreFrom_\" + column)][i] = points\n",
      "C:\\Users\\bmhawley\\AppData\\Local\\Temp\\4\\ipykernel_35304\\775840358.py:24: FutureWarning: ChainedAssignmentError: behaviour will change in pandas 3.0!\n",
      "You are setting values through chained assignment. Currently this works in certain cases, but when using Copy-on-Write (which will become the default behaviour in pandas 3.0) this will never work to update the original DataFrame or Series, because the intermediate object on which we are setting values will behave as a copy.\n",
      "A typical example is when you are setting values in a column of a DataFrame, like:\n",
      "\n",
      "df[\"col\"][row_indexer] = value\n",
      "\n",
      "Use `df.loc[row_indexer, \"col\"] = values` instead, to perform the assignment in a single step and ensure this keeps updating the original `df`.\n",
      "\n",
      "See the caveats in the documentation: https://pandas.pydata.org/pandas-docs/stable/user_guide/indexing.html#returning-a-view-versus-a-copy\n",
      "\n",
      "  Final_merge[(\"ScoreFrom_\" + column)][i] = points\n",
      "C:\\Users\\bmhawley\\AppData\\Local\\Temp\\4\\ipykernel_35304\\775840358.py:24: SettingWithCopyWarning: \n",
      "A value is trying to be set on a copy of a slice from a DataFrame\n",
      "\n",
      "See the caveats in the documentation: https://pandas.pydata.org/pandas-docs/stable/user_guide/indexing.html#returning-a-view-versus-a-copy\n",
      "  Final_merge[(\"ScoreFrom_\" + column)][i] = points\n",
      "C:\\Users\\bmhawley\\AppData\\Local\\Temp\\4\\ipykernel_35304\\775840358.py:24: FutureWarning: Setting an item of incompatible dtype is deprecated and will raise an error in a future version of pandas. Value '0.5' has dtype incompatible with int64, please explicitly cast to a compatible dtype first.\n",
      "  Final_merge[(\"ScoreFrom_\" + column)][i] = points\n",
      "C:\\Users\\bmhawley\\AppData\\Local\\Temp\\4\\ipykernel_35304\\775840358.py:24: FutureWarning: ChainedAssignmentError: behaviour will change in pandas 3.0!\n",
      "You are setting values through chained assignment. Currently this works in certain cases, but when using Copy-on-Write (which will become the default behaviour in pandas 3.0) this will never work to update the original DataFrame or Series, because the intermediate object on which we are setting values will behave as a copy.\n",
      "A typical example is when you are setting values in a column of a DataFrame, like:\n",
      "\n",
      "df[\"col\"][row_indexer] = value\n",
      "\n",
      "Use `df.loc[row_indexer, \"col\"] = values` instead, to perform the assignment in a single step and ensure this keeps updating the original `df`.\n",
      "\n",
      "See the caveats in the documentation: https://pandas.pydata.org/pandas-docs/stable/user_guide/indexing.html#returning-a-view-versus-a-copy\n",
      "\n",
      "  Final_merge[(\"ScoreFrom_\" + column)][i] = points\n",
      "C:\\Users\\bmhawley\\AppData\\Local\\Temp\\4\\ipykernel_35304\\775840358.py:24: SettingWithCopyWarning: \n",
      "A value is trying to be set on a copy of a slice from a DataFrame\n",
      "\n",
      "See the caveats in the documentation: https://pandas.pydata.org/pandas-docs/stable/user_guide/indexing.html#returning-a-view-versus-a-copy\n",
      "  Final_merge[(\"ScoreFrom_\" + column)][i] = points\n",
      "C:\\Users\\bmhawley\\AppData\\Local\\Temp\\4\\ipykernel_35304\\775840358.py:24: FutureWarning: ChainedAssignmentError: behaviour will change in pandas 3.0!\n",
      "You are setting values through chained assignment. Currently this works in certain cases, but when using Copy-on-Write (which will become the default behaviour in pandas 3.0) this will never work to update the original DataFrame or Series, because the intermediate object on which we are setting values will behave as a copy.\n",
      "A typical example is when you are setting values in a column of a DataFrame, like:\n",
      "\n",
      "df[\"col\"][row_indexer] = value\n",
      "\n",
      "Use `df.loc[row_indexer, \"col\"] = values` instead, to perform the assignment in a single step and ensure this keeps updating the original `df`.\n",
      "\n",
      "See the caveats in the documentation: https://pandas.pydata.org/pandas-docs/stable/user_guide/indexing.html#returning-a-view-versus-a-copy\n",
      "\n",
      "  Final_merge[(\"ScoreFrom_\" + column)][i] = points\n",
      "C:\\Users\\bmhawley\\AppData\\Local\\Temp\\4\\ipykernel_35304\\775840358.py:24: SettingWithCopyWarning: \n",
      "A value is trying to be set on a copy of a slice from a DataFrame\n",
      "\n",
      "See the caveats in the documentation: https://pandas.pydata.org/pandas-docs/stable/user_guide/indexing.html#returning-a-view-versus-a-copy\n",
      "  Final_merge[(\"ScoreFrom_\" + column)][i] = points\n",
      "C:\\Users\\bmhawley\\AppData\\Local\\Temp\\4\\ipykernel_35304\\775840358.py:24: FutureWarning: ChainedAssignmentError: behaviour will change in pandas 3.0!\n",
      "You are setting values through chained assignment. Currently this works in certain cases, but when using Copy-on-Write (which will become the default behaviour in pandas 3.0) this will never work to update the original DataFrame or Series, because the intermediate object on which we are setting values will behave as a copy.\n",
      "A typical example is when you are setting values in a column of a DataFrame, like:\n",
      "\n",
      "df[\"col\"][row_indexer] = value\n",
      "\n",
      "Use `df.loc[row_indexer, \"col\"] = values` instead, to perform the assignment in a single step and ensure this keeps updating the original `df`.\n",
      "\n",
      "See the caveats in the documentation: https://pandas.pydata.org/pandas-docs/stable/user_guide/indexing.html#returning-a-view-versus-a-copy\n",
      "\n",
      "  Final_merge[(\"ScoreFrom_\" + column)][i] = points\n",
      "C:\\Users\\bmhawley\\AppData\\Local\\Temp\\4\\ipykernel_35304\\775840358.py:24: SettingWithCopyWarning: \n",
      "A value is trying to be set on a copy of a slice from a DataFrame\n",
      "\n",
      "See the caveats in the documentation: https://pandas.pydata.org/pandas-docs/stable/user_guide/indexing.html#returning-a-view-versus-a-copy\n",
      "  Final_merge[(\"ScoreFrom_\" + column)][i] = points\n",
      "C:\\Users\\bmhawley\\AppData\\Local\\Temp\\4\\ipykernel_35304\\775840358.py:24: FutureWarning: Setting an item of incompatible dtype is deprecated and will raise an error in a future version of pandas. Value '0.25' has dtype incompatible with int64, please explicitly cast to a compatible dtype first.\n",
      "  Final_merge[(\"ScoreFrom_\" + column)][i] = points\n",
      "C:\\Users\\bmhawley\\AppData\\Local\\Temp\\4\\ipykernel_35304\\775840358.py:24: FutureWarning: ChainedAssignmentError: behaviour will change in pandas 3.0!\n",
      "You are setting values through chained assignment. Currently this works in certain cases, but when using Copy-on-Write (which will become the default behaviour in pandas 3.0) this will never work to update the original DataFrame or Series, because the intermediate object on which we are setting values will behave as a copy.\n",
      "A typical example is when you are setting values in a column of a DataFrame, like:\n",
      "\n",
      "df[\"col\"][row_indexer] = value\n",
      "\n",
      "Use `df.loc[row_indexer, \"col\"] = values` instead, to perform the assignment in a single step and ensure this keeps updating the original `df`.\n",
      "\n",
      "See the caveats in the documentation: https://pandas.pydata.org/pandas-docs/stable/user_guide/indexing.html#returning-a-view-versus-a-copy\n",
      "\n",
      "  Final_merge[(\"ScoreFrom_\" + column)][i] = points\n",
      "C:\\Users\\bmhawley\\AppData\\Local\\Temp\\4\\ipykernel_35304\\775840358.py:24: SettingWithCopyWarning: \n",
      "A value is trying to be set on a copy of a slice from a DataFrame\n",
      "\n",
      "See the caveats in the documentation: https://pandas.pydata.org/pandas-docs/stable/user_guide/indexing.html#returning-a-view-versus-a-copy\n",
      "  Final_merge[(\"ScoreFrom_\" + column)][i] = points\n",
      "C:\\Users\\bmhawley\\AppData\\Local\\Temp\\4\\ipykernel_35304\\775840358.py:24: FutureWarning: Setting an item of incompatible dtype is deprecated and will raise an error in a future version of pandas. Value '0.25' has dtype incompatible with int64, please explicitly cast to a compatible dtype first.\n",
      "  Final_merge[(\"ScoreFrom_\" + column)][i] = points\n",
      "C:\\Users\\bmhawley\\AppData\\Local\\Temp\\4\\ipykernel_35304\\775840358.py:24: FutureWarning: ChainedAssignmentError: behaviour will change in pandas 3.0!\n",
      "You are setting values through chained assignment. Currently this works in certain cases, but when using Copy-on-Write (which will become the default behaviour in pandas 3.0) this will never work to update the original DataFrame or Series, because the intermediate object on which we are setting values will behave as a copy.\n",
      "A typical example is when you are setting values in a column of a DataFrame, like:\n",
      "\n",
      "df[\"col\"][row_indexer] = value\n",
      "\n",
      "Use `df.loc[row_indexer, \"col\"] = values` instead, to perform the assignment in a single step and ensure this keeps updating the original `df`.\n",
      "\n",
      "See the caveats in the documentation: https://pandas.pydata.org/pandas-docs/stable/user_guide/indexing.html#returning-a-view-versus-a-copy\n",
      "\n",
      "  Final_merge[(\"ScoreFrom_\" + column)][i] = points\n",
      "C:\\Users\\bmhawley\\AppData\\Local\\Temp\\4\\ipykernel_35304\\775840358.py:24: SettingWithCopyWarning: \n",
      "A value is trying to be set on a copy of a slice from a DataFrame\n",
      "\n",
      "See the caveats in the documentation: https://pandas.pydata.org/pandas-docs/stable/user_guide/indexing.html#returning-a-view-versus-a-copy\n",
      "  Final_merge[(\"ScoreFrom_\" + column)][i] = points\n",
      "C:\\Users\\bmhawley\\AppData\\Local\\Temp\\4\\ipykernel_35304\\775840358.py:24: FutureWarning: Setting an item of incompatible dtype is deprecated and will raise an error in a future version of pandas. Value '0.5' has dtype incompatible with int64, please explicitly cast to a compatible dtype first.\n",
      "  Final_merge[(\"ScoreFrom_\" + column)][i] = points\n",
      "C:\\Users\\bmhawley\\AppData\\Local\\Temp\\4\\ipykernel_35304\\775840358.py:44: FutureWarning: ChainedAssignmentError: behaviour will change in pandas 3.0!\n",
      "You are setting values through chained assignment. Currently this works in certain cases, but when using Copy-on-Write (which will become the default behaviour in pandas 3.0) this will never work to update the original DataFrame or Series, because the intermediate object on which we are setting values will behave as a copy.\n",
      "A typical example is when you are setting values in a column of a DataFrame, like:\n",
      "\n",
      "df[\"col\"][row_indexer] = value\n",
      "\n",
      "Use `df.loc[row_indexer, \"col\"] = values` instead, to perform the assignment in a single step and ensure this keeps updating the original `df`.\n",
      "\n",
      "See the caveats in the documentation: https://pandas.pydata.org/pandas-docs/stable/user_guide/indexing.html#returning-a-view-versus-a-copy\n",
      "\n",
      "  Final_merge[\"ScoreFrom_Size\"][i] = points\n",
      "C:\\Users\\bmhawley\\AppData\\Local\\Temp\\4\\ipykernel_35304\\775840358.py:44: SettingWithCopyWarning: \n",
      "A value is trying to be set on a copy of a slice from a DataFrame\n",
      "\n",
      "See the caveats in the documentation: https://pandas.pydata.org/pandas-docs/stable/user_guide/indexing.html#returning-a-view-versus-a-copy\n",
      "  Final_merge[\"ScoreFrom_Size\"][i] = points\n",
      "C:\\Users\\bmhawley\\AppData\\Local\\Temp\\4\\ipykernel_35304\\775840358.py:44: FutureWarning: ChainedAssignmentError: behaviour will change in pandas 3.0!\n",
      "You are setting values through chained assignment. Currently this works in certain cases, but when using Copy-on-Write (which will become the default behaviour in pandas 3.0) this will never work to update the original DataFrame or Series, because the intermediate object on which we are setting values will behave as a copy.\n",
      "A typical example is when you are setting values in a column of a DataFrame, like:\n",
      "\n",
      "df[\"col\"][row_indexer] = value\n",
      "\n",
      "Use `df.loc[row_indexer, \"col\"] = values` instead, to perform the assignment in a single step and ensure this keeps updating the original `df`.\n",
      "\n",
      "See the caveats in the documentation: https://pandas.pydata.org/pandas-docs/stable/user_guide/indexing.html#returning-a-view-versus-a-copy\n",
      "\n",
      "  Final_merge[\"ScoreFrom_Size\"][i] = points\n",
      "C:\\Users\\bmhawley\\AppData\\Local\\Temp\\4\\ipykernel_35304\\775840358.py:44: SettingWithCopyWarning: \n",
      "A value is trying to be set on a copy of a slice from a DataFrame\n",
      "\n",
      "See the caveats in the documentation: https://pandas.pydata.org/pandas-docs/stable/user_guide/indexing.html#returning-a-view-versus-a-copy\n",
      "  Final_merge[\"ScoreFrom_Size\"][i] = points\n",
      "C:\\Users\\bmhawley\\AppData\\Local\\Temp\\4\\ipykernel_35304\\775840358.py:44: FutureWarning: ChainedAssignmentError: behaviour will change in pandas 3.0!\n",
      "You are setting values through chained assignment. Currently this works in certain cases, but when using Copy-on-Write (which will become the default behaviour in pandas 3.0) this will never work to update the original DataFrame or Series, because the intermediate object on which we are setting values will behave as a copy.\n",
      "A typical example is when you are setting values in a column of a DataFrame, like:\n",
      "\n",
      "df[\"col\"][row_indexer] = value\n",
      "\n",
      "Use `df.loc[row_indexer, \"col\"] = values` instead, to perform the assignment in a single step and ensure this keeps updating the original `df`.\n",
      "\n",
      "See the caveats in the documentation: https://pandas.pydata.org/pandas-docs/stable/user_guide/indexing.html#returning-a-view-versus-a-copy\n",
      "\n",
      "  Final_merge[\"ScoreFrom_Size\"][i] = points\n",
      "C:\\Users\\bmhawley\\AppData\\Local\\Temp\\4\\ipykernel_35304\\775840358.py:44: SettingWithCopyWarning: \n",
      "A value is trying to be set on a copy of a slice from a DataFrame\n",
      "\n",
      "See the caveats in the documentation: https://pandas.pydata.org/pandas-docs/stable/user_guide/indexing.html#returning-a-view-versus-a-copy\n",
      "  Final_merge[\"ScoreFrom_Size\"][i] = points\n",
      "C:\\Users\\bmhawley\\AppData\\Local\\Temp\\4\\ipykernel_35304\\775840358.py:44: FutureWarning: Setting an item of incompatible dtype is deprecated and will raise an error in a future version of pandas. Value '0.5' has dtype incompatible with int64, please explicitly cast to a compatible dtype first.\n",
      "  Final_merge[\"ScoreFrom_Size\"][i] = points\n"
     ]
    }
   ],
   "source": [
    "#Create a total score for each airport\n",
    "\n",
    "#Scoring for all columns with for loop\n",
    "columns_of_interest = [\"percent_delayed\", \"percent_diverted_cancelled\", \"PercentAirlineFault\", \"HolidayPercentDelayed\", \"HowExtremeDelay\"]\n",
    "\n",
    "for column in columns_of_interest:\n",
    "\n",
    "    quantiles = Final_merget[[column]].quantile([0.25, 0.75])\n",
    "    twenty_fifth = quantiles.loc[0.25][column]\n",
    "    seventy_fifth = quantiles.loc[0.75][column]\n",
    "\n",
    "    Final_merge[(\"ScoreFrom_\" + column)] = 0\n",
    "\n",
    "    for i in range(len(Final_merge[\"Origin\"])):\n",
    "        value = Final_merge[column][i]\n",
    "\n",
    "        if value <= twenty_fifth:\n",
    "            points = 1\n",
    "        elif value > twenty_fifth and value <= seventy_fifth:\n",
    "            points = 0.5\n",
    "        elif value > seventy_fifth:\n",
    "            points = 0.25\n",
    "\n",
    "        Final_merge[(\"ScoreFrom_\" + column)][i] = points\n",
    "\n",
    "#Adding a modifer for the size of the airport\n",
    "\n",
    "percent_flights_quantiles = Final_merge[[\"Percentage_airline_flights\"]].quantile([0.25, 0.75])\n",
    "twenty_fifth = percent_flights_quantiles.loc[0.25][\"Percentage_airline_flights\"]\n",
    "seventy_fifth = percent_flights_quantiles.loc[0.75][\"Percentage_airline_flights\"]\n",
    "\n",
    "Final_merge[\"ScoreFrom_Size\"] = 0\n",
    "\n",
    "for i in range(len(Final_merge[\"Origin\"])):\n",
    "    value = Final_merge[\"Percentage_airline_flights\"][i]\n",
    "\n",
    "    if value >= seventy_fifth:\n",
    "            points = .5\n",
    "    elif value < seventy_fifth and value > twenty_fifth:\n",
    "            points = 0.25\n",
    "    elif value <= twenty_fifth:\n",
    "            points = 0\n",
    "\n",
    "    Final_merge[\"ScoreFrom_Size\"][i] = points\n",
    "\n",
    "Final_merge[\"TotalScore\"] = Final_merge[[\"ScoreFrom_percent_delayed\", \"ScoreFrom_percent_diverted_cancelled\",\"ScoreFrom_PercentAirlineFault\",\n",
    "                                         \"ScoreFrom_HolidayPercentDelayed\", \"ScoreFrom_HowExtremeDelay\", \"ScoreFrom_Size\"]].sum(axis=1)"
   ]
  },
  {
   "cell_type": "code",
   "execution_count": 57,
   "id": "6e2dfc70",
   "metadata": {},
   "outputs": [
    {
     "name": "stdout",
     "output_type": "stream",
     "text": [
      "   IATA                                               Name        State  \\\n",
      "0   ABQ          Albuquerque International Sunport Airport   New Mexico   \n",
      "1   ALB                       Albany International Airport     New York   \n",
      "2   ATL  Hartsfield - Jackson Atlanta International Air...      Georgia   \n",
      "3   AUS             Austin-Bergstrom International Airport        Texas   \n",
      "4   BDL                      Bradley International Airport  Connecticut   \n",
      "..  ...                                                ...          ...   \n",
      "92  SYR             Syracuse Hancock International Airport     New York   \n",
      "93  TPA                        Tampa International Airport      Florida   \n",
      "94  TTN                             Trenton Mercer Airport   New Jersey   \n",
      "95  TYS                              Mc Ghee Tyson Airport    Tennessee   \n",
      "96  XNA                     Northwest Arkansas Ntl Airport     Arkansas   \n",
      "\n",
      "    Latitude  Longitude  \n",
      "0   35.03893 -106.60826  \n",
      "1   42.74912  -73.80198  \n",
      "2   33.63670  -84.42786  \n",
      "3   30.19453  -97.66988  \n",
      "4   41.93903  -72.68432  \n",
      "..       ...        ...  \n",
      "92  43.11119  -76.10631  \n",
      "93  27.97547  -82.53325  \n",
      "94  40.27669  -74.81347  \n",
      "95  35.81109  -83.99407  \n",
      "96  36.28158  -94.30777  \n",
      "\n",
      "[97 rows x 5 columns]\n"
     ]
    }
   ],
   "source": [
    "#Bringing in latitude and longitude for the airports\n",
    "from airportsdata import load\n",
    "\n",
    "airports = load('IATA')\n",
    "\n",
    "iata_codes = list(Final_merge[\"Origin\"])\n",
    "\n",
    "data = []\n",
    "\n",
    "for code in iata_codes:\n",
    "    info = airports.get(code)\n",
    "    if info:\n",
    "        data.append({\n",
    "            \"IATA\" : code,\n",
    "            \"Name\" : info[\"name\"],\n",
    "            \"State\" : info[\"subd\"],\n",
    "            \"Latitude\" : info[\"lat\"],\n",
    "            \"Longitude\" : info[\"lon\"]\n",
    "        })\n",
    "\n",
    "    else:\n",
    "        data.append({\n",
    "            \"IATA\" : code,\n",
    "            \"Name\" : \"Not found\",\n",
    "            \"State\" : \"\",\n",
    "            \"Latitude\" : None,\n",
    "            \"Longitude\" : None\n",
    "        })\n",
    "\n",
    "airports_geog_info_df = pd.DataFrame(data)\n",
    "\n",
    "print(airports_geog_info_df)"
   ]
  },
  {
   "cell_type": "code",
   "execution_count": 58,
   "id": "b31710c4",
   "metadata": {},
   "outputs": [],
   "source": [
    "#Merge airport geographic information with airport information\n",
    "\n",
    "merge_locations = pd.merge(Final_merge, airports_geog_info_df, how=\"left\", left_on=\"Origin\", right_on=\"IATA\")\n",
    "\n",
    "merge_locations.to_csv(\"Frontier_AirportScores_Locations.csv\", index=False)"
   ]
  },
  {
   "cell_type": "code",
   "execution_count": 59,
   "id": "b14287f9",
   "metadata": {},
   "outputs": [],
   "source": [
    "#Find the 5 airports above the fiftieth percentile with the worst score\n",
    "#creating a region column in merge_locations\n",
    "def state_to_region(state):\n",
    "    West = [\"Washington\", \"Montana\", \"Idaho\", \"Wyoming\", \"Oregon\", \"California\", \"Nevada\", \"Utah\", \"Colorado\", \"Arizona\", \"New Mexico\", \"Alaska\", \"Hawaii\"]\n",
    "    South = [\"Texas\", \"Oklahoma\", \"Arkansas\", \"Louisiana\", \"Mississippi\", \"Alabama\", \"Tennessee\", \"Kentucky\", \"Florida\", \"Georgia\", \"South Carolina\", \"North Carolina\", \"Virginia\", \"Maryland\", \"Delaware\"]\n",
    "    Northeast = [\"Pennsylvania\", \"New Jersey\", \"New York\", \"Connecticut\", \"Massachusetts\", \"Rhode Island\", \"Maine\", \"New Hampshire\", \"Vermont\"]\n",
    "    Midwest = [\"North Dakota\", \"South Dakota\", \"Nebraska\", \"Kansas\", \"Missouri\", \"Iowa\", \"Minnesota\", \"Wisconsin\", \"Illinois\", \"Indiana\", \"Ohio\", \"Michigan\"]\n",
    "\n",
    "    if state in West:\n",
    "        return \"West\"\n",
    "    elif state in South:\n",
    "        return \"South\"\n",
    "    elif state in Northeast:\n",
    "        return \"Northeast\"\n",
    "    elif state in Midwest:\n",
    "        return \"Midwest\"\n",
    "    \n",
    "merge_locations[\"Region\"] = merge_locations[\"State\"].map(state_to_region)\n",
    "\n",
    "fifty = merge_locations[\"Percentage_airline_flights\"].median()\n",
    "five_worst_frontier = merge_locations[(merge_locations[\"Percentage_airline_flights\"] > fifty) & (merge_locations[\"Region\"] == \"South\")].sort_values(\"TotalScore\", ascending=True).head(5)\n",
    "five_worst_frontier.to_csv(\"FiveWorstFrontier.csv\", index=False)"
   ]
  }
 ],
 "metadata": {
  "kernelspec": {
   "display_name": "bens_env",
   "language": "python",
   "name": "python3"
  },
  "language_info": {
   "codemirror_mode": {
    "name": "ipython",
    "version": 3
   },
   "file_extension": ".py",
   "mimetype": "text/x-python",
   "name": "python",
   "nbconvert_exporter": "python",
   "pygments_lexer": "ipython3",
   "version": "3.12.11"
  }
 },
 "nbformat": 4,
 "nbformat_minor": 5
}
