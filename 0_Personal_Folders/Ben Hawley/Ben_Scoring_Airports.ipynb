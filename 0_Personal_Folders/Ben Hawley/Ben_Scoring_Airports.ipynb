{
 "cells": [
  {
   "cell_type": "markdown",
   "id": "3ef5bba0",
   "metadata": {},
   "source": [
    "#### Loading libraries, importing data"
   ]
  },
  {
   "cell_type": "code",
   "execution_count": 1,
   "id": "a412fffe",
   "metadata": {},
   "outputs": [],
   "source": [
    "import pandas as pd\n",
    "import numpy as np\n",
    "from datetime import date\n",
    "import holidays\n",
    "import seaborn as sns\n",
    "import matplotlib.pyplot as plt"
   ]
  },
  {
   "cell_type": "code",
   "execution_count": 2,
   "id": "73675358",
   "metadata": {},
   "outputs": [
    {
     "name": "stderr",
     "output_type": "stream",
     "text": [
      "C:\\Users\\bmhawley\\AppData\\Local\\Temp\\4\\ipykernel_8132\\2356045484.py:2: DtypeWarning: Columns (86,93) have mixed types. Specify dtype option on import or set low_memory=False.\n",
      "  train_df = pd.read_csv(r\"D:\\Summer Practicum\\1_Data\\training_airlines.csv\")\n"
     ]
    },
    {
     "data": {
      "text/plain": [
       "(3444864, 120)"
      ]
     },
     "execution_count": 2,
     "metadata": {},
     "output_type": "execute_result"
    }
   ],
   "source": [
    "#load in training data\n",
    "train_df = pd.read_csv(r\"D:\\Summer Practicum\\1_Data\\training_airlines.csv\")\n",
    "train_df.shape"
   ]
  },
  {
   "cell_type": "code",
   "execution_count": 53,
   "id": "735f2000",
   "metadata": {},
   "outputs": [
    {
     "data": {
      "application/vnd.microsoft.datawrangler.viewer.v0+json": {
       "columns": [
        {
         "name": "Operating_Airline ",
         "rawType": "object",
         "type": "string"
        },
        {
         "name": "Flights",
         "rawType": "float64",
         "type": "float"
        }
       ],
       "ref": "440a4ba0-1917-4b8b-806b-6197eec86d54",
       "rows": [
        [
         "AA",
         "0.1815903327388251"
        ],
        [
         "AS",
         "0.047701738007654294"
        ],
        [
         "B6",
         "0.05681414418682421"
        ],
        [
         "DL",
         "0.1855565270501245"
        ],
        [
         "F9",
         "0.03242624382268792"
        ],
        [
         "G4",
         "0.02347581791327611"
        ],
        [
         "HA",
         "0.015512368557945974"
        ],
        [
         "NK",
         "0.049486714134433174"
        ],
        [
         "UA",
         "0.1337417093969457"
        ],
        [
         "WN",
         "0.27369440419128305"
        ]
       ],
       "shape": {
        "columns": 1,
        "rows": 10
       }
      },
      "text/plain": [
       "Operating_Airline \n",
       "AA    0.181590\n",
       "AS    0.047702\n",
       "B6    0.056814\n",
       "DL    0.185557\n",
       "F9    0.032426\n",
       "G4    0.023476\n",
       "HA    0.015512\n",
       "NK    0.049487\n",
       "UA    0.133742\n",
       "WN    0.273694\n",
       "Name: Flights, dtype: float64"
      ]
     },
     "execution_count": 53,
     "metadata": {},
     "output_type": "execute_result"
    }
   ],
   "source": [
    "train_df.groupby(\"Operating_Airline \")[\"Flights\"].sum()/len(train_df[\"Flights\"])"
   ]
  },
  {
   "cell_type": "markdown",
   "id": "4c62a32f",
   "metadata": {},
   "source": [
    "#### Trimming and manipulating the trimmed dataframe"
   ]
  },
  {
   "cell_type": "code",
   "execution_count": 3,
   "id": "4853b6da",
   "metadata": {},
   "outputs": [],
   "source": [
    "#selecting specific columns from the training data\n",
    "train_df_trim = train_df[[\"OriginAirportID\", \"Flights\", \"FlightDate\", \"Month\", \"DayofMonth\", \"DayOfWeek\",\"Operating_Airline \",\"Origin\", \"OriginCityName\", \"OriginState\",\"Dest\",\"DestCityName\",\n",
    "\"DestState\",\"DepTime\",\"DepDelay\",\"DepDel15\",\"DepartureDelayGroups\",\"TaxiOut\",\"TaxiIn\",\"ArrTime\",\"ArrDelay\",\"ArrDel15\", \"ArrDelayMinutes\",\n",
    "\"ArrivalDelayGroups\",'Cancelled',\"Diverted\",\"ActualElapsedTime\",\"AirTime\",\"Distance\",\"DistanceGroup\",\n",
    "\"CarrierDelay\",\"WeatherDelay\",\"NASDelay\",\"SecurityDelay\",\"LateAircraftDelay\"]]"
   ]
  },
  {
   "cell_type": "code",
   "execution_count": 51,
   "id": "f142c3bc",
   "metadata": {},
   "outputs": [
    {
     "data": {
      "application/vnd.microsoft.datawrangler.viewer.v0+json": {
       "columns": [
        {
         "name": "Operating_Airline",
         "rawType": "object",
         "type": "string"
        },
        {
         "name": "Flights",
         "rawType": "float64",
         "type": "float"
        }
       ],
       "ref": "ca7a2fa1-d24e-483d-8640-7fb04568eea9",
       "rows": [
        [
         "AA",
         "0.1815903327388251"
        ],
        [
         "AS",
         "0.047701738007654294"
        ],
        [
         "B6",
         "0.05681414418682421"
        ],
        [
         "DL",
         "0.1855565270501245"
        ],
        [
         "F9",
         "0.03242624382268792"
        ],
        [
         "G4",
         "0.02347581791327611"
        ],
        [
         "HA",
         "0.015512368557945974"
        ],
        [
         "NK",
         "0.049486714134433174"
        ],
        [
         "UA",
         "0.1337417093969457"
        ],
        [
         "WN",
         "0.27369440419128305"
        ]
       ],
       "shape": {
        "columns": 1,
        "rows": 10
       }
      },
      "text/plain": [
       "Operating_Airline\n",
       "AA    0.181590\n",
       "AS    0.047702\n",
       "B6    0.056814\n",
       "DL    0.185557\n",
       "F9    0.032426\n",
       "G4    0.023476\n",
       "HA    0.015512\n",
       "NK    0.049487\n",
       "UA    0.133742\n",
       "WN    0.273694\n",
       "Name: Flights, dtype: float64"
      ]
     },
     "execution_count": 51,
     "metadata": {},
     "output_type": "execute_result"
    }
   ],
   "source": [
    "train_df_trim.groupby(\"Operating_Airline\")[\"Flights\"].sum()/len(train_df_trim[\"Flights\"])"
   ]
  },
  {
   "cell_type": "code",
   "execution_count": 4,
   "id": "6abf8ec7",
   "metadata": {},
   "outputs": [
    {
     "name": "stderr",
     "output_type": "stream",
     "text": [
      "C:\\Users\\bmhawley\\AppData\\Local\\Temp\\4\\ipykernel_8132\\2662193718.py:2: SettingWithCopyWarning: \n",
      "A value is trying to be set on a copy of a slice from a DataFrame.\n",
      "Try using .loc[row_indexer,col_indexer] = value instead\n",
      "\n",
      "See the caveats in the documentation: https://pandas.pydata.org/pandas-docs/stable/user_guide/indexing.html#returning-a-view-versus-a-copy\n",
      "  train_df_trim[[\"NASDelay\", \"SecurityDelay\", \"CarrierDelay\", \"WeatherDelay\", \"LateAircraftDelay\"]] = train_df_trim[[\"NASDelay\", \\\n",
      "C:\\Users\\bmhawley\\AppData\\Local\\Temp\\4\\ipykernel_8132\\2662193718.py:6: SettingWithCopyWarning: \n",
      "A value is trying to be set on a copy of a slice from a DataFrame.\n",
      "Try using .loc[row_indexer,col_indexer] = value instead\n",
      "\n",
      "See the caveats in the documentation: https://pandas.pydata.org/pandas-docs/stable/user_guide/indexing.html#returning-a-view-versus-a-copy\n",
      "  train_df_trim[\"TotalDelay\"] = train_df_trim[[\"NASDelay\", \"SecurityDelay\", \"CarrierDelay\", \"WeatherDelay\", \"LateAircraftDelay\"]].sum(axis=1)\n",
      "C:\\Users\\bmhawley\\AppData\\Local\\Temp\\4\\ipykernel_8132\\2662193718.py:9: SettingWithCopyWarning: \n",
      "A value is trying to be set on a copy of a slice from a DataFrame.\n",
      "Try using .loc[row_indexer,col_indexer] = value instead\n",
      "\n",
      "See the caveats in the documentation: https://pandas.pydata.org/pandas-docs/stable/user_guide/indexing.html#returning-a-view-versus-a-copy\n",
      "  train_df_trim[\"CancOrDiv\"] = train_df_trim[\"Cancelled\"] + train_df_trim[\"Diverted\"]\n",
      "C:\\Users\\bmhawley\\AppData\\Local\\Temp\\4\\ipykernel_8132\\2662193718.py:10: SettingWithCopyWarning: \n",
      "A value is trying to be set on a copy of a slice from a DataFrame.\n",
      "Try using .loc[row_indexer,col_indexer] = value instead\n",
      "\n",
      "See the caveats in the documentation: https://pandas.pydata.org/pandas-docs/stable/user_guide/indexing.html#returning-a-view-versus-a-copy\n",
      "  train_df_trim[\"CancOrDiv2\"] = np.where((train_df_trim[\"Cancelled\"] == 1) | train_df_trim[\"Diverted\"] == 1, 1, 0)\n",
      "C:\\Users\\bmhawley\\AppData\\Local\\Temp\\4\\ipykernel_8132\\2662193718.py:14: SettingWithCopyWarning: \n",
      "A value is trying to be set on a copy of a slice from a DataFrame.\n",
      "Try using .loc[row_indexer,col_indexer] = value instead\n",
      "\n",
      "See the caveats in the documentation: https://pandas.pydata.org/pandas-docs/stable/user_guide/indexing.html#returning-a-view-versus-a-copy\n",
      "  train_df_trim[\"Delayed\"] = np.where((train_df_trim[\"ArrDelayMinutes\"]) > 0, 1, 0)\n",
      "C:\\Users\\bmhawley\\AppData\\Local\\Temp\\4\\ipykernel_8132\\2662193718.py:31: SettingWithCopyWarning: \n",
      "A value is trying to be set on a copy of a slice from a DataFrame.\n",
      "Try using .loc[row_indexer,col_indexer] = value instead\n",
      "\n",
      "See the caveats in the documentation: https://pandas.pydata.org/pandas-docs/stable/user_guide/indexing.html#returning-a-view-versus-a-copy\n",
      "  train_df_trim[\"Region\"] = train_df_trim[\"OriginState\"].map(state_to_region)\n"
     ]
    }
   ],
   "source": [
    "#filling na values in delay fields\n",
    "train_df_trim[[\"NASDelay\", \"SecurityDelay\", \"CarrierDelay\", \"WeatherDelay\", \"LateAircraftDelay\"]] = train_df_trim[[\"NASDelay\", \\\n",
    "     \"SecurityDelay\", \"CarrierDelay\", \"WeatherDelay\", \"LateAircraftDelay\"]].fillna(0)\n",
    "\n",
    "#creating a total delay field\n",
    "train_df_trim[\"TotalDelay\"] = train_df_trim[[\"NASDelay\", \"SecurityDelay\", \"CarrierDelay\", \"WeatherDelay\", \"LateAircraftDelay\"]].sum(axis=1)\n",
    "\n",
    "#field for if flight was cancelled or diverted\n",
    "train_df_trim[\"CancOrDiv\"] = train_df_trim[\"Cancelled\"] + train_df_trim[\"Diverted\"]\n",
    "train_df_trim[\"CancOrDiv2\"] = np.where((train_df_trim[\"Cancelled\"] == 1) | train_df_trim[\"Diverted\"] == 1, 1, 0)\n",
    "train_df_trim[\"CancOrDiv2\"] == train_df_trim[\"CancOrDiv\"]\n",
    "\n",
    "#field for if a flight was delayed\n",
    "train_df_trim[\"Delayed\"] = np.where((train_df_trim[\"ArrDelayMinutes\"]) > 0, 1, 0)\n",
    "\n",
    "#creating a region column\n",
    "def state_to_region(state):\n",
    "    West = [\"WA\", \"MT\", \"ID\", \"WY\", \"OR\", \"CA\", \"NV\", \"UT\", \"CO\", \"AZ\", \"NM\", \"AK\", \"HI\"]\n",
    "    South = [\"TX\", \"OK\", \"AR\", \"LA\", \"MS\", \"AL\", \"TN\", \"KY\", \"FL\", \"GA\", \"SC\", \"NC\", \"VA\", \"MD\", \"DE\"]\n",
    "    Northeast = [\"PA\", \"NJ\", \"NY\", \"CT\", \"MA\", \"RI\", \"ME\", \"NH\", \"VT\"]\n",
    "    Midwest = [\"ND\", \"SD\", \"NE\", \"KS\", \"MO\", \"IA\", \"MN\", \"WI\", \"IL\", \"IN\", \"OH\", \"MI\"]\n",
    "    if state in West:\n",
    "        return \"West\"\n",
    "    elif state in South:\n",
    "        return \"South\"\n",
    "    elif state in Northeast:\n",
    "        return \"Northeast\"\n",
    "    elif state in Midwest:\n",
    "        return \"Midwest\"\n",
    "    \n",
    "train_df_trim[\"Region\"] = train_df_trim[\"OriginState\"].map(state_to_region)"
   ]
  },
  {
   "cell_type": "markdown",
   "id": "fdab0724",
   "metadata": {},
   "source": [
    "#### Creating the airports df that has only the top 64 airports (10000 flights +)"
   ]
  },
  {
   "cell_type": "code",
   "execution_count": 5,
   "id": "e90c934a",
   "metadata": {},
   "outputs": [
    {
     "data": {
      "application/vnd.microsoft.datawrangler.viewer.v0+json": {
       "columns": [
        {
         "name": "index",
         "rawType": "int64",
         "type": "integer"
        },
        {
         "name": "Origin",
         "rawType": "object",
         "type": "string"
        },
        {
         "name": "Flights",
         "rawType": "float64",
         "type": "float"
        },
        {
         "name": "Yearly_Flights",
         "rawType": "int64",
         "type": "integer"
        }
       ],
       "ref": "1f694c52-ea26-4354-a3cc-bbc1f9ee9e00",
       "rows": [
        [
         "11",
         "ATL",
         "1.0",
         "195905"
        ],
        [
         "58",
         "DEN",
         "1.0",
         "152264"
        ],
        [
         "59",
         "DFW",
         "1.0",
         "127001"
        ],
        [
         "122",
         "LAS",
         "1.0",
         "126041"
        ],
        [
         "165",
         "ORD",
         "1.0",
         "111266"
        ],
        [
         "123",
         "LAX",
         "1.0",
         "105832"
        ],
        [
         "136",
         "MCO",
         "1.0",
         "105561"
        ],
        [
         "176",
         "PHX",
         "1.0",
         "98783"
        ],
        [
         "210",
         "SEA",
         "1.0",
         "89563"
        ],
        [
         "48",
         "CLT",
         "1.0",
         "87669"
        ]
       ],
       "shape": {
        "columns": 3,
        "rows": 10
       }
      },
      "text/html": [
       "<div>\n",
       "<style scoped>\n",
       "    .dataframe tbody tr th:only-of-type {\n",
       "        vertical-align: middle;\n",
       "    }\n",
       "\n",
       "    .dataframe tbody tr th {\n",
       "        vertical-align: top;\n",
       "    }\n",
       "\n",
       "    .dataframe thead th {\n",
       "        text-align: right;\n",
       "    }\n",
       "</style>\n",
       "<table border=\"1\" class=\"dataframe\">\n",
       "  <thead>\n",
       "    <tr style=\"text-align: right;\">\n",
       "      <th></th>\n",
       "      <th>Origin</th>\n",
       "      <th>Flights</th>\n",
       "      <th>Yearly_Flights</th>\n",
       "    </tr>\n",
       "  </thead>\n",
       "  <tbody>\n",
       "    <tr>\n",
       "      <th>11</th>\n",
       "      <td>ATL</td>\n",
       "      <td>1.0</td>\n",
       "      <td>195905</td>\n",
       "    </tr>\n",
       "    <tr>\n",
       "      <th>58</th>\n",
       "      <td>DEN</td>\n",
       "      <td>1.0</td>\n",
       "      <td>152264</td>\n",
       "    </tr>\n",
       "    <tr>\n",
       "      <th>59</th>\n",
       "      <td>DFW</td>\n",
       "      <td>1.0</td>\n",
       "      <td>127001</td>\n",
       "    </tr>\n",
       "    <tr>\n",
       "      <th>122</th>\n",
       "      <td>LAS</td>\n",
       "      <td>1.0</td>\n",
       "      <td>126041</td>\n",
       "    </tr>\n",
       "    <tr>\n",
       "      <th>165</th>\n",
       "      <td>ORD</td>\n",
       "      <td>1.0</td>\n",
       "      <td>111266</td>\n",
       "    </tr>\n",
       "    <tr>\n",
       "      <th>123</th>\n",
       "      <td>LAX</td>\n",
       "      <td>1.0</td>\n",
       "      <td>105832</td>\n",
       "    </tr>\n",
       "    <tr>\n",
       "      <th>136</th>\n",
       "      <td>MCO</td>\n",
       "      <td>1.0</td>\n",
       "      <td>105561</td>\n",
       "    </tr>\n",
       "    <tr>\n",
       "      <th>176</th>\n",
       "      <td>PHX</td>\n",
       "      <td>1.0</td>\n",
       "      <td>98783</td>\n",
       "    </tr>\n",
       "    <tr>\n",
       "      <th>210</th>\n",
       "      <td>SEA</td>\n",
       "      <td>1.0</td>\n",
       "      <td>89563</td>\n",
       "    </tr>\n",
       "    <tr>\n",
       "      <th>48</th>\n",
       "      <td>CLT</td>\n",
       "      <td>1.0</td>\n",
       "      <td>87669</td>\n",
       "    </tr>\n",
       "  </tbody>\n",
       "</table>\n",
       "</div>"
      ],
      "text/plain": [
       "    Origin  Flights  Yearly_Flights\n",
       "11     ATL      1.0          195905\n",
       "58     DEN      1.0          152264\n",
       "59     DFW      1.0          127001\n",
       "122    LAS      1.0          126041\n",
       "165    ORD      1.0          111266\n",
       "123    LAX      1.0          105832\n",
       "136    MCO      1.0          105561\n",
       "176    PHX      1.0           98783\n",
       "210    SEA      1.0           89563\n",
       "48     CLT      1.0           87669"
      ]
     },
     "execution_count": 5,
     "metadata": {},
     "output_type": "execute_result"
    }
   ],
   "source": [
    "airports_df = train_df_trim.groupby(\"Origin\")[\"Flights\"].value_counts().reset_index(name=\"Yearly_Flights\")\n",
    "airports_df_trim = airports_df[airports_df[\"Yearly_Flights\"] >= 10000]\n",
    "airports_df_trim = airports_df_trim.sort_values(\"Yearly_Flights\", ascending=False)\n",
    "\n",
    "airports_df_trim.head(10)\n"
   ]
  },
  {
   "cell_type": "markdown",
   "id": "feea6dbb",
   "metadata": {},
   "source": [
    "#### Creating stats by airport"
   ]
  },
  {
   "cell_type": "markdown",
   "id": "a9805ee4",
   "metadata": {},
   "source": [
    "Total want to do:\n",
    "Percent of flights delayed\n",
    "Percent of flights diverted or cancelled\n",
    "\n",
    "\n",
    "Separate sections:\n",
    "\n",
    "When there is a delay how extreme is the delay (avg delay length given there is a delay)\n",
    "\n",
    "When there is a delay what percentage of the delay is the fault of the airport (everything other than carrier). arrival delay minutes (early set to 0) total of all non carrier over total arrdelmins\n",
    "\n",
    "Holiday performance indicator (given it is a holiday, average arrival delay)"
   ]
  },
  {
   "cell_type": "code",
   "execution_count": 6,
   "id": "b7947bb2",
   "metadata": {},
   "outputs": [
    {
     "data": {
      "application/vnd.microsoft.datawrangler.viewer.v0+json": {
       "columns": [
        {
         "name": "Origin",
         "rawType": "object",
         "type": "string"
        },
        {
         "name": "PercentAirportFault",
         "rawType": "float64",
         "type": "float"
        }
       ],
       "ref": "ba1f36a9-22e0-4560-8f4d-59211f127717",
       "rows": [
        [
         "ABE",
         "0.49162778836054083"
        ],
        [
         "ABQ",
         "0.22865087683333896"
        ],
        [
         "ACK",
         "0.3025573083068612"
        ],
        [
         "ACY",
         "0.5105390965607451"
        ],
        [
         "ADK",
         "0.8338013179198808"
        ],
        [
         "ADQ",
         "0.5274796927647316"
        ],
        [
         "AGS",
         "0.19943044680939817"
        ],
        [
         "AKN",
         "0.9120911166609739"
        ],
        [
         "ALB",
         "0.34063238327445994"
        ],
        [
         "AMA",
         "0.30185799091418064"
        ],
        [
         "ANC",
         "0.40067360695121323"
        ],
        [
         "ATL",
         "0.25527245898171635"
        ],
        [
         "ATW",
         "0.5482695936676208"
        ],
        [
         "AUS",
         "0.24856819596320515"
        ],
        [
         "AVL",
         "0.37381899931517004"
        ],
        [
         "AVP",
         "0.16984733993122278"
        ],
        [
         "AZA",
         "0.2875736163854692"
        ],
        [
         "BDL",
         "0.3649109670711146"
        ],
        [
         "BET",
         "0.5859198610676621"
        ],
        [
         "BFL",
         "0.19176744726521475"
        ],
        [
         "BGR",
         "0.42784859789229895"
        ],
        [
         "BHM",
         "0.23819236144212264"
        ],
        [
         "BIL",
         "0.5047640431003779"
        ],
        [
         "BIS",
         "0.461838954188511"
        ],
        [
         "BKG",
         "0.42782774126599793"
        ],
        [
         "BLI",
         "0.24464806461260233"
        ],
        [
         "BLV",
         "0.3056477192657684"
        ],
        [
         "BMI",
         "0.4157876371085158"
        ],
        [
         "BNA",
         "0.2547474860732004"
        ],
        [
         "BOI",
         "0.34898732881802014"
        ],
        [
         "BOS",
         "0.35230117232531405"
        ],
        [
         "BQN",
         "0.22009889432763152"
        ],
        [
         "BRW",
         "0.5327935340845278"
        ],
        [
         "BTR",
         "0.22362480474492763"
        ],
        [
         "BTV",
         "0.4125252218395781"
        ],
        [
         "BUF",
         "0.32680192907184547"
        ],
        [
         "BUR",
         "0.26435146749623417"
        ],
        [
         "BWI",
         "0.1860558277820985"
        ],
        [
         "BZN",
         "0.3868271363663331"
        ],
        [
         "CAE",
         "0.24300660006266347"
        ],
        [
         "CAK",
         "0.32930882786873616"
        ],
        [
         "CDV",
         "0.29955990468790433"
        ],
        [
         "CHA",
         "0.20534874302088266"
        ],
        [
         "CHO",
         "0.5255681818181818"
        ],
        [
         "CHS",
         "0.28720101949072624"
        ],
        [
         "CID",
         "0.40864315339616647"
        ],
        [
         "CKB",
         "0.2902870514639157"
        ],
        [
         "CLE",
         "0.3513205014650446"
        ],
        [
         "CLT",
         "0.28282548905911997"
        ],
        [
         "CMH",
         "0.3056839541473622"
        ]
       ],
       "shape": {
        "columns": 1,
        "rows": 246
       }
      },
      "text/plain": [
       "Origin\n",
       "ABE    0.491628\n",
       "ABQ    0.228651\n",
       "ACK    0.302557\n",
       "ACY    0.510539\n",
       "ADK    0.833801\n",
       "         ...   \n",
       "USA    0.272218\n",
       "VPS    0.308612\n",
       "WRG    0.274167\n",
       "XNA    0.283490\n",
       "YAK    0.207387\n",
       "Name: PercentAirportFault, Length: 246, dtype: float64"
      ]
     },
     "execution_count": 6,
     "metadata": {},
     "output_type": "execute_result"
    }
   ],
   "source": [
    "#creating column that shows the percent of the delay that is the carriers fault\n",
    "\n",
    "when_delayed_df = train_df_trim[train_df_trim[\"TotalDelay\"] != 0][[\"NASDelay\", \"SecurityDelay\", \"CarrierDelay\", \n",
    "                                                                   \"WeatherDelay\", \"LateAircraftDelay\", \"Origin\", \"TotalDelay\"]]\n",
    "\n",
    "when_delayed_df = when_delayed_df.reset_index()\n",
    "\n",
    "when_delayed_df[\"PercentAirportFault\"] = ((when_delayed_df[\"NASDelay\"] + when_delayed_df[\"SecurityDelay\"] + when_delayed_df[\"WeatherDelay\"]) \n",
    "                                          / when_delayed_df[\"TotalDelay\"])\n",
    "\n",
    "#creating a new dataframe that is the average percent that a delay is an airports fault\n",
    "airport_delay_fault = when_delayed_df.groupby(\"Origin\")[\"PercentAirportFault\"].mean()\n",
    "airport_delay_fault"
   ]
  },
  {
   "cell_type": "code",
   "execution_count": 7,
   "id": "8971375c",
   "metadata": {},
   "outputs": [],
   "source": [
    "#percent of flights delayed and flights delayed/cancelled\n",
    "airport_stats_df = train_df_trim.groupby(\"Origin\").agg(\n",
    "    percent_delayed = (\"Delayed\", \"mean\"),\n",
    "    percent_diverted_cancelled = (\"CancOrDiv\", \"mean\")).reset_index() \n"
   ]
  },
  {
   "cell_type": "code",
   "execution_count": 8,
   "id": "92e2f731",
   "metadata": {},
   "outputs": [
    {
     "name": "stderr",
     "output_type": "stream",
     "text": [
      "C:\\Users\\bmhawley\\AppData\\Local\\Temp\\4\\ipykernel_8132\\2868795725.py:2: SettingWithCopyWarning: \n",
      "A value is trying to be set on a copy of a slice from a DataFrame.\n",
      "Try using .loc[row_indexer,col_indexer] = value instead\n",
      "\n",
      "See the caveats in the documentation: https://pandas.pydata.org/pandas-docs/stable/user_guide/indexing.html#returning-a-view-versus-a-copy\n",
      "  train_df_trim['FlightDate'] = pd.to_datetime(train_df_trim['FlightDate'])\n",
      "C:\\Users\\bmhawley\\AppData\\Local\\Temp\\4\\ipykernel_8132\\2868795725.py:8: SettingWithCopyWarning: \n",
      "A value is trying to be set on a copy of a slice from a DataFrame.\n",
      "Try using .loc[row_indexer,col_indexer] = value instead\n",
      "\n",
      "See the caveats in the documentation: https://pandas.pydata.org/pandas-docs/stable/user_guide/indexing.html#returning-a-view-versus-a-copy\n",
      "  train_df_trim['Is_Holiday'] = train_df_trim['FlightDate'].dt.date.isin(holiday_dates)\n",
      "C:\\Users\\bmhawley\\AppData\\Local\\Temp\\4\\ipykernel_8132\\2868795725.py:9: SettingWithCopyWarning: \n",
      "A value is trying to be set on a copy of a slice from a DataFrame.\n",
      "Try using .loc[row_indexer,col_indexer] = value instead\n",
      "\n",
      "See the caveats in the documentation: https://pandas.pydata.org/pandas-docs/stable/user_guide/indexing.html#returning-a-view-versus-a-copy\n",
      "  train_df_trim['Is_Delayed'] = (train_df_trim['ArrDelay'] > 0)\n"
     ]
    }
   ],
   "source": [
    "#creating the holidays column in the full dataframe\n",
    "train_df_trim['FlightDate'] = pd.to_datetime(train_df_trim['FlightDate'])\n",
    "train_df_trim.columns = train_df_trim.columns.str.replace(' ','')\n",
    "\n",
    "us_holidays = holidays.US(years=range(train_df_trim['FlightDate'].min().year,train_df_trim['FlightDate'].max().year +1))\n",
    "holiday_dates = {date for date, name in us_holidays.items()}\n",
    "\n",
    "train_df_trim['Is_Holiday'] = train_df_trim['FlightDate'].dt.date.isin(holiday_dates)\n",
    "train_df_trim['Is_Delayed'] = (train_df_trim['ArrDelay'] > 0)"
   ]
  },
  {
   "cell_type": "code",
   "execution_count": 9,
   "id": "3e1b0747",
   "metadata": {},
   "outputs": [
    {
     "data": {
      "application/vnd.microsoft.datawrangler.viewer.v0+json": {
       "columns": [
        {
         "name": "index",
         "rawType": "int64",
         "type": "integer"
        },
        {
         "name": "Origin",
         "rawType": "object",
         "type": "string"
        },
        {
         "name": "Delayed",
         "rawType": "float64",
         "type": "float"
        }
       ],
       "ref": "ec6de122-cc2a-43d4-82b1-6aa54267af45",
       "rows": [
        [
         "0",
         "ABE",
         "0.3958333333333333"
        ],
        [
         "1",
         "ABQ",
         "0.3613636363636364"
        ],
        [
         "2",
         "ACK",
         "0.16666666666666666"
        ],
        [
         "3",
         "ACY",
         "0.21176470588235294"
        ],
        [
         "4",
         "ADQ",
         "0.3"
        ],
        [
         "5",
         "AKN",
         "0.4444444444444444"
        ],
        [
         "6",
         "ALB",
         "0.31088082901554404"
        ],
        [
         "7",
         "AMA",
         "0.30120481927710846"
        ],
        [
         "8",
         "ANC",
         "0.3991228070175439"
        ],
        [
         "9",
         "ATL",
         "0.36007746576289945"
        ]
       ],
       "shape": {
        "columns": 2,
        "rows": 10
       }
      },
      "text/html": [
       "<div>\n",
       "<style scoped>\n",
       "    .dataframe tbody tr th:only-of-type {\n",
       "        vertical-align: middle;\n",
       "    }\n",
       "\n",
       "    .dataframe tbody tr th {\n",
       "        vertical-align: top;\n",
       "    }\n",
       "\n",
       "    .dataframe thead th {\n",
       "        text-align: right;\n",
       "    }\n",
       "</style>\n",
       "<table border=\"1\" class=\"dataframe\">\n",
       "  <thead>\n",
       "    <tr style=\"text-align: right;\">\n",
       "      <th></th>\n",
       "      <th>Origin</th>\n",
       "      <th>Delayed</th>\n",
       "    </tr>\n",
       "  </thead>\n",
       "  <tbody>\n",
       "    <tr>\n",
       "      <th>0</th>\n",
       "      <td>ABE</td>\n",
       "      <td>0.395833</td>\n",
       "    </tr>\n",
       "    <tr>\n",
       "      <th>1</th>\n",
       "      <td>ABQ</td>\n",
       "      <td>0.361364</td>\n",
       "    </tr>\n",
       "    <tr>\n",
       "      <th>2</th>\n",
       "      <td>ACK</td>\n",
       "      <td>0.166667</td>\n",
       "    </tr>\n",
       "    <tr>\n",
       "      <th>3</th>\n",
       "      <td>ACY</td>\n",
       "      <td>0.211765</td>\n",
       "    </tr>\n",
       "    <tr>\n",
       "      <th>4</th>\n",
       "      <td>ADQ</td>\n",
       "      <td>0.300000</td>\n",
       "    </tr>\n",
       "    <tr>\n",
       "      <th>5</th>\n",
       "      <td>AKN</td>\n",
       "      <td>0.444444</td>\n",
       "    </tr>\n",
       "    <tr>\n",
       "      <th>6</th>\n",
       "      <td>ALB</td>\n",
       "      <td>0.310881</td>\n",
       "    </tr>\n",
       "    <tr>\n",
       "      <th>7</th>\n",
       "      <td>AMA</td>\n",
       "      <td>0.301205</td>\n",
       "    </tr>\n",
       "    <tr>\n",
       "      <th>8</th>\n",
       "      <td>ANC</td>\n",
       "      <td>0.399123</td>\n",
       "    </tr>\n",
       "    <tr>\n",
       "      <th>9</th>\n",
       "      <td>ATL</td>\n",
       "      <td>0.360077</td>\n",
       "    </tr>\n",
       "  </tbody>\n",
       "</table>\n",
       "</div>"
      ],
      "text/plain": [
       "  Origin   Delayed\n",
       "0    ABE  0.395833\n",
       "1    ABQ  0.361364\n",
       "2    ACK  0.166667\n",
       "3    ACY  0.211765\n",
       "4    ADQ  0.300000\n",
       "5    AKN  0.444444\n",
       "6    ALB  0.310881\n",
       "7    AMA  0.301205\n",
       "8    ANC  0.399123\n",
       "9    ATL  0.360077"
      ]
     },
     "execution_count": 9,
     "metadata": {},
     "output_type": "execute_result"
    }
   ],
   "source": [
    "holiday_df = train_df_trim[train_df_trim[\"Is_Holiday\"] == 1]\n",
    "\n",
    "holiday_performance_df = holiday_df.groupby(\"Origin\")[\"Delayed\"].mean().reset_index()\n",
    "holiday_performance_df.head(10)"
   ]
  },
  {
   "cell_type": "code",
   "execution_count": 10,
   "id": "c2a5fc43",
   "metadata": {},
   "outputs": [],
   "source": [
    "#how extreme is the average delay\n",
    "only_delayed_flights = train_df_trim[train_df_trim[\"Delayed\"] == 1]\n",
    "how_extreme_delays = only_delayed_flights.groupby(\"Origin\")[\"ArrDelayMinutes\"].mean().reset_index()"
   ]
  },
  {
   "cell_type": "markdown",
   "id": "623a1ee5",
   "metadata": {},
   "source": [
    "#### Merging the airports information into the top 64 airports dataframe"
   ]
  },
  {
   "cell_type": "code",
   "execution_count": 11,
   "id": "22a986c7",
   "metadata": {},
   "outputs": [],
   "source": [
    "airports_df_trim\n",
    "\n",
    "merge1 = pd.merge(airports_df_trim[[\"Origin\", \"Yearly_Flights\"]], airport_stats_df, how=\"left\", on=\"Origin\")\n",
    "\n",
    "merge2 = pd.merge(merge1, airport_delay_fault, on=\"Origin\", how=\"left\")\n",
    "\n",
    "merge3 = pd.merge(merge2, holiday_performance_df, on=\"Origin\", how=\"left\")\n",
    "\n",
    "merge4 = pd.merge(merge3, how_extreme_delays, on=\"Origin\", how=\"left\")"
   ]
  },
  {
   "cell_type": "code",
   "execution_count": 12,
   "id": "3ae2ae66",
   "metadata": {},
   "outputs": [
    {
     "name": "stderr",
     "output_type": "stream",
     "text": [
      "C:\\Users\\bmhawley\\AppData\\Local\\Temp\\4\\ipykernel_8132\\4256925256.py:2: SettingWithCopyWarning: \n",
      "A value is trying to be set on a copy of a slice from a DataFrame.\n",
      "Try using .loc[row_indexer,col_indexer] = value instead\n",
      "\n",
      "See the caveats in the documentation: https://pandas.pydata.org/pandas-docs/stable/user_guide/indexing.html#returning-a-view-versus-a-copy\n",
      "  Final_merge[\"HolidayPercentDelayed\"] = merge4[\"Delayed\"]\n"
     ]
    }
   ],
   "source": [
    "Final_merge = merge4[[\"Origin\", \"Yearly_Flights\", \"percent_delayed\", \"percent_diverted_cancelled\", \"PercentAirportFault\"]]\n",
    "Final_merge[\"HolidayPercentDelayed\"] = merge4[\"Delayed\"]\n",
    "Final_merge[\"HowExtremeDelay\"] = merge4[\"ArrDelayMinutes\"]"
   ]
  },
  {
   "cell_type": "markdown",
   "id": "361276e9",
   "metadata": {},
   "source": [
    "#### Scoring"
   ]
  },
  {
   "cell_type": "code",
   "execution_count": 13,
   "id": "f548c0ff",
   "metadata": {},
   "outputs": [
    {
     "name": "stderr",
     "output_type": "stream",
     "text": [
      "C:\\Users\\bmhawley\\AppData\\Local\\Temp\\4\\ipykernel_8132\\587992617.py:22: FutureWarning: ChainedAssignmentError: behaviour will change in pandas 3.0!\n",
      "You are setting values through chained assignment. Currently this works in certain cases, but when using Copy-on-Write (which will become the default behaviour in pandas 3.0) this will never work to update the original DataFrame or Series, because the intermediate object on which we are setting values will behave as a copy.\n",
      "A typical example is when you are setting values in a column of a DataFrame, like:\n",
      "\n",
      "df[\"col\"][row_indexer] = value\n",
      "\n",
      "Use `df.loc[row_indexer, \"col\"] = values` instead, to perform the assignment in a single step and ensure this keeps updating the original `df`.\n",
      "\n",
      "See the caveats in the documentation: https://pandas.pydata.org/pandas-docs/stable/user_guide/indexing.html#returning-a-view-versus-a-copy\n",
      "\n",
      "  Final_merge[(\"ScoreFrom_\" + column)][i] = points\n",
      "C:\\Users\\bmhawley\\AppData\\Local\\Temp\\4\\ipykernel_8132\\587992617.py:22: SettingWithCopyWarning: \n",
      "A value is trying to be set on a copy of a slice from a DataFrame\n",
      "\n",
      "See the caveats in the documentation: https://pandas.pydata.org/pandas-docs/stable/user_guide/indexing.html#returning-a-view-versus-a-copy\n",
      "  Final_merge[(\"ScoreFrom_\" + column)][i] = points\n",
      "C:\\Users\\bmhawley\\AppData\\Local\\Temp\\4\\ipykernel_8132\\587992617.py:22: FutureWarning: Setting an item of incompatible dtype is deprecated and will raise an error in a future version of pandas. Value '0.75' has dtype incompatible with int64, please explicitly cast to a compatible dtype first.\n",
      "  Final_merge[(\"ScoreFrom_\" + column)][i] = points\n",
      "C:\\Users\\bmhawley\\AppData\\Local\\Temp\\4\\ipykernel_8132\\587992617.py:22: FutureWarning: ChainedAssignmentError: behaviour will change in pandas 3.0!\n",
      "You are setting values through chained assignment. Currently this works in certain cases, but when using Copy-on-Write (which will become the default behaviour in pandas 3.0) this will never work to update the original DataFrame or Series, because the intermediate object on which we are setting values will behave as a copy.\n",
      "A typical example is when you are setting values in a column of a DataFrame, like:\n",
      "\n",
      "df[\"col\"][row_indexer] = value\n",
      "\n",
      "Use `df.loc[row_indexer, \"col\"] = values` instead, to perform the assignment in a single step and ensure this keeps updating the original `df`.\n",
      "\n",
      "See the caveats in the documentation: https://pandas.pydata.org/pandas-docs/stable/user_guide/indexing.html#returning-a-view-versus-a-copy\n",
      "\n",
      "  Final_merge[(\"ScoreFrom_\" + column)][i] = points\n",
      "C:\\Users\\bmhawley\\AppData\\Local\\Temp\\4\\ipykernel_8132\\587992617.py:22: SettingWithCopyWarning: \n",
      "A value is trying to be set on a copy of a slice from a DataFrame\n",
      "\n",
      "See the caveats in the documentation: https://pandas.pydata.org/pandas-docs/stable/user_guide/indexing.html#returning-a-view-versus-a-copy\n",
      "  Final_merge[(\"ScoreFrom_\" + column)][i] = points\n",
      "C:\\Users\\bmhawley\\AppData\\Local\\Temp\\4\\ipykernel_8132\\587992617.py:22: FutureWarning: ChainedAssignmentError: behaviour will change in pandas 3.0!\n",
      "You are setting values through chained assignment. Currently this works in certain cases, but when using Copy-on-Write (which will become the default behaviour in pandas 3.0) this will never work to update the original DataFrame or Series, because the intermediate object on which we are setting values will behave as a copy.\n",
      "A typical example is when you are setting values in a column of a DataFrame, like:\n",
      "\n",
      "df[\"col\"][row_indexer] = value\n",
      "\n",
      "Use `df.loc[row_indexer, \"col\"] = values` instead, to perform the assignment in a single step and ensure this keeps updating the original `df`.\n",
      "\n",
      "See the caveats in the documentation: https://pandas.pydata.org/pandas-docs/stable/user_guide/indexing.html#returning-a-view-versus-a-copy\n",
      "\n",
      "  Final_merge[(\"ScoreFrom_\" + column)][i] = points\n",
      "C:\\Users\\bmhawley\\AppData\\Local\\Temp\\4\\ipykernel_8132\\587992617.py:22: SettingWithCopyWarning: \n",
      "A value is trying to be set on a copy of a slice from a DataFrame\n",
      "\n",
      "See the caveats in the documentation: https://pandas.pydata.org/pandas-docs/stable/user_guide/indexing.html#returning-a-view-versus-a-copy\n",
      "  Final_merge[(\"ScoreFrom_\" + column)][i] = points\n",
      "C:\\Users\\bmhawley\\AppData\\Local\\Temp\\4\\ipykernel_8132\\587992617.py:22: FutureWarning: Setting an item of incompatible dtype is deprecated and will raise an error in a future version of pandas. Value '0.75' has dtype incompatible with int64, please explicitly cast to a compatible dtype first.\n",
      "  Final_merge[(\"ScoreFrom_\" + column)][i] = points\n",
      "C:\\Users\\bmhawley\\AppData\\Local\\Temp\\4\\ipykernel_8132\\587992617.py:22: FutureWarning: ChainedAssignmentError: behaviour will change in pandas 3.0!\n",
      "You are setting values through chained assignment. Currently this works in certain cases, but when using Copy-on-Write (which will become the default behaviour in pandas 3.0) this will never work to update the original DataFrame or Series, because the intermediate object on which we are setting values will behave as a copy.\n",
      "A typical example is when you are setting values in a column of a DataFrame, like:\n",
      "\n",
      "df[\"col\"][row_indexer] = value\n",
      "\n",
      "Use `df.loc[row_indexer, \"col\"] = values` instead, to perform the assignment in a single step and ensure this keeps updating the original `df`.\n",
      "\n",
      "See the caveats in the documentation: https://pandas.pydata.org/pandas-docs/stable/user_guide/indexing.html#returning-a-view-versus-a-copy\n",
      "\n",
      "  Final_merge[(\"ScoreFrom_\" + column)][i] = points\n",
      "C:\\Users\\bmhawley\\AppData\\Local\\Temp\\4\\ipykernel_8132\\587992617.py:22: SettingWithCopyWarning: \n",
      "A value is trying to be set on a copy of a slice from a DataFrame\n",
      "\n",
      "See the caveats in the documentation: https://pandas.pydata.org/pandas-docs/stable/user_guide/indexing.html#returning-a-view-versus-a-copy\n",
      "  Final_merge[(\"ScoreFrom_\" + column)][i] = points\n",
      "C:\\Users\\bmhawley\\AppData\\Local\\Temp\\4\\ipykernel_8132\\587992617.py:22: FutureWarning: Setting an item of incompatible dtype is deprecated and will raise an error in a future version of pandas. Value '0.75' has dtype incompatible with int64, please explicitly cast to a compatible dtype first.\n",
      "  Final_merge[(\"ScoreFrom_\" + column)][i] = points\n",
      "C:\\Users\\bmhawley\\AppData\\Local\\Temp\\4\\ipykernel_8132\\587992617.py:22: FutureWarning: ChainedAssignmentError: behaviour will change in pandas 3.0!\n",
      "You are setting values through chained assignment. Currently this works in certain cases, but when using Copy-on-Write (which will become the default behaviour in pandas 3.0) this will never work to update the original DataFrame or Series, because the intermediate object on which we are setting values will behave as a copy.\n",
      "A typical example is when you are setting values in a column of a DataFrame, like:\n",
      "\n",
      "df[\"col\"][row_indexer] = value\n",
      "\n",
      "Use `df.loc[row_indexer, \"col\"] = values` instead, to perform the assignment in a single step and ensure this keeps updating the original `df`.\n",
      "\n",
      "See the caveats in the documentation: https://pandas.pydata.org/pandas-docs/stable/user_guide/indexing.html#returning-a-view-versus-a-copy\n",
      "\n",
      "  Final_merge[(\"ScoreFrom_\" + column)][i] = points\n",
      "C:\\Users\\bmhawley\\AppData\\Local\\Temp\\4\\ipykernel_8132\\587992617.py:22: SettingWithCopyWarning: \n",
      "A value is trying to be set on a copy of a slice from a DataFrame\n",
      "\n",
      "See the caveats in the documentation: https://pandas.pydata.org/pandas-docs/stable/user_guide/indexing.html#returning-a-view-versus-a-copy\n",
      "  Final_merge[(\"ScoreFrom_\" + column)][i] = points\n",
      "C:\\Users\\bmhawley\\AppData\\Local\\Temp\\4\\ipykernel_8132\\587992617.py:22: FutureWarning: Setting an item of incompatible dtype is deprecated and will raise an error in a future version of pandas. Value '0.75' has dtype incompatible with int64, please explicitly cast to a compatible dtype first.\n",
      "  Final_merge[(\"ScoreFrom_\" + column)][i] = points\n",
      "C:\\Users\\bmhawley\\AppData\\Local\\Temp\\4\\ipykernel_8132\\587992617.py:22: FutureWarning: ChainedAssignmentError: behaviour will change in pandas 3.0!\n",
      "You are setting values through chained assignment. Currently this works in certain cases, but when using Copy-on-Write (which will become the default behaviour in pandas 3.0) this will never work to update the original DataFrame or Series, because the intermediate object on which we are setting values will behave as a copy.\n",
      "A typical example is when you are setting values in a column of a DataFrame, like:\n",
      "\n",
      "df[\"col\"][row_indexer] = value\n",
      "\n",
      "Use `df.loc[row_indexer, \"col\"] = values` instead, to perform the assignment in a single step and ensure this keeps updating the original `df`.\n",
      "\n",
      "See the caveats in the documentation: https://pandas.pydata.org/pandas-docs/stable/user_guide/indexing.html#returning-a-view-versus-a-copy\n",
      "\n",
      "  Final_merge[(\"ScoreFrom_\" + column)][i] = points\n",
      "C:\\Users\\bmhawley\\AppData\\Local\\Temp\\4\\ipykernel_8132\\587992617.py:22: SettingWithCopyWarning: \n",
      "A value is trying to be set on a copy of a slice from a DataFrame\n",
      "\n",
      "See the caveats in the documentation: https://pandas.pydata.org/pandas-docs/stable/user_guide/indexing.html#returning-a-view-versus-a-copy\n",
      "  Final_merge[(\"ScoreFrom_\" + column)][i] = points\n",
      "C:\\Users\\bmhawley\\AppData\\Local\\Temp\\4\\ipykernel_8132\\587992617.py:22: FutureWarning: ChainedAssignmentError: behaviour will change in pandas 3.0!\n",
      "You are setting values through chained assignment. Currently this works in certain cases, but when using Copy-on-Write (which will become the default behaviour in pandas 3.0) this will never work to update the original DataFrame or Series, because the intermediate object on which we are setting values will behave as a copy.\n",
      "A typical example is when you are setting values in a column of a DataFrame, like:\n",
      "\n",
      "df[\"col\"][row_indexer] = value\n",
      "\n",
      "Use `df.loc[row_indexer, \"col\"] = values` instead, to perform the assignment in a single step and ensure this keeps updating the original `df`.\n",
      "\n",
      "See the caveats in the documentation: https://pandas.pydata.org/pandas-docs/stable/user_guide/indexing.html#returning-a-view-versus-a-copy\n",
      "\n",
      "  Final_merge[(\"ScoreFrom_\" + column)][i] = points\n",
      "C:\\Users\\bmhawley\\AppData\\Local\\Temp\\4\\ipykernel_8132\\587992617.py:22: SettingWithCopyWarning: \n",
      "A value is trying to be set on a copy of a slice from a DataFrame\n",
      "\n",
      "See the caveats in the documentation: https://pandas.pydata.org/pandas-docs/stable/user_guide/indexing.html#returning-a-view-versus-a-copy\n",
      "  Final_merge[(\"ScoreFrom_\" + column)][i] = points\n",
      "C:\\Users\\bmhawley\\AppData\\Local\\Temp\\4\\ipykernel_8132\\587992617.py:22: FutureWarning: Setting an item of incompatible dtype is deprecated and will raise an error in a future version of pandas. Value '0.75' has dtype incompatible with int64, please explicitly cast to a compatible dtype first.\n",
      "  Final_merge[(\"ScoreFrom_\" + column)][i] = points\n"
     ]
    }
   ],
   "source": [
    "#Scoring for all columns with for loop\n",
    "columns_of_interest = [\"percent_delayed\", \"percent_diverted_cancelled\", \"PercentAirportFault\", \"HolidayPercentDelayed\", \"HowExtremeDelay\"]\n",
    "\n",
    "for column in columns_of_interest:\n",
    "\n",
    "    quantiles = Final_merge[[column]].quantile([0.25, 0.75])\n",
    "    twenty_fifth = quantiles.loc[0.25][column]\n",
    "    seventy_fifth = quantiles.loc[0.75][column]\n",
    "\n",
    "    Final_merge[(\"ScoreFrom_\" + column)] = 0\n",
    "\n",
    "    for i in range(len(Final_merge[\"Origin\"])):\n",
    "        value = Final_merge[column][i]\n",
    "\n",
    "        if value <= twenty_fifth:\n",
    "            points = 1\n",
    "        elif value > twenty_fifth and value <= seventy_fifth:\n",
    "            points = 0.75\n",
    "        elif value > seventy_fifth:\n",
    "            points = 0.5\n",
    "\n",
    "        Final_merge[(\"ScoreFrom_\" + column)][i] = points\n",
    "\n",
    "Final_merge[\"TotalScore\"] = Final_merge[[\"ScoreFrom_percent_delayed\", \"ScoreFrom_percent_diverted_cancelled\",\"ScoreFrom_PercentAirportFault\",\n",
    "                                         \"ScoreFrom_HolidayPercentDelayed\", \"ScoreFrom_HowExtremeDelay\"]].sum(axis=1)\n",
    "\n"
   ]
  },
  {
   "cell_type": "code",
   "execution_count": 14,
   "id": "3e77c27c",
   "metadata": {},
   "outputs": [
    {
     "data": {
      "application/vnd.microsoft.datawrangler.viewer.v0+json": {
       "columns": [
        {
         "name": "index",
         "rawType": "int64",
         "type": "integer"
        },
        {
         "name": "Origin",
         "rawType": "object",
         "type": "string"
        },
        {
         "name": "Yearly_Flights",
         "rawType": "int64",
         "type": "integer"
        },
        {
         "name": "percent_delayed",
         "rawType": "float64",
         "type": "float"
        },
        {
         "name": "percent_diverted_cancelled",
         "rawType": "float64",
         "type": "float"
        },
        {
         "name": "PercentAirportFault",
         "rawType": "float64",
         "type": "float"
        },
        {
         "name": "HolidayPercentDelayed",
         "rawType": "float64",
         "type": "float"
        },
        {
         "name": "HowExtremeDelay",
         "rawType": "float64",
         "type": "float"
        },
        {
         "name": "ScoreFrom_percent_delayed",
         "rawType": "float64",
         "type": "float"
        },
        {
         "name": "ScoreFrom_percent_diverted_cancelled",
         "rawType": "float64",
         "type": "float"
        },
        {
         "name": "ScoreFrom_PercentAirportFault",
         "rawType": "float64",
         "type": "float"
        },
        {
         "name": "ScoreFrom_HolidayPercentDelayed",
         "rawType": "float64",
         "type": "float"
        },
        {
         "name": "ScoreFrom_HowExtremeDelay",
         "rawType": "float64",
         "type": "float"
        },
        {
         "name": "TotalScore",
         "rawType": "float64",
         "type": "float"
        }
       ],
       "ref": "95d072b4-96b5-4e6a-ab18-1b3cf8592194",
       "rows": [
        [
         "6",
         "MCO",
         "105561",
         "0.46405395932209814",
         "0.03268252479608946",
         "0.3315395713122147",
         "0.42237271131176324",
         "44.44375944147308",
         "0.5",
         "0.5",
         "0.5",
         "0.75",
         "0.5",
         "2.75"
        ],
        [
         "18",
         "FLL",
         "59518",
         "0.4326758291609261",
         "0.024513592526630597",
         "0.34912830265950306",
         "0.44776766363242304",
         "46.225419384902146",
         "0.5",
         "0.75",
         "0.5",
         "0.5",
         "0.5",
         "2.75"
        ],
        [
         "48",
         "PBI",
         "17340",
         "0.4196078431372549",
         "0.03264129181084199",
         "0.30844713680093855",
         "0.44661654135338347",
         "51.867234744365035",
         "0.5",
         "0.5",
         "0.75",
         "0.5",
         "0.5",
         "2.75"
        ],
        [
         "16",
         "MIA",
         "61279",
         "0.42779745100279054",
         "0.026615969581749048",
         "0.3317605403422527",
         "0.42045947117468574",
         "46.0537478542819",
         "0.5",
         "0.75",
         "0.5",
         "0.75",
         "0.5",
         "3.0"
        ],
        [
         "45",
         "SJU",
         "21137",
         "0.4150541704120736",
         "0.02597341155320055",
         "0.2787175307322923",
         "0.45539906103286387",
         "49.25270716972529",
         "0.5",
         "0.75",
         "0.75",
         "0.5",
         "0.5",
         "3.0"
        ],
        [
         "57",
         "CHS",
         "11808",
         "0.3842310298102981",
         "0.031504065040650404",
         "0.28720101949072624",
         "0.4261241970021413",
         "45.239806039232974",
         "0.75",
         "0.5",
         "0.75",
         "0.5",
         "0.5",
         "3.0"
        ],
        [
         "2",
         "DFW",
         "127001",
         "0.4575160825505311",
         "0.027346241368178204",
         "0.2690481592134403",
         "0.46646732165741134",
         "44.120161776095",
         "0.5",
         "0.5",
         "0.75",
         "0.5",
         "0.75",
         "3.0"
        ],
        [
         "10",
         "BOS",
         "79094",
         "0.36959819961058993",
         "0.024818570308746554",
         "0.35230117232531405",
         "0.37091280653950953",
         "46.62087367016728",
         "0.75",
         "0.75",
         "0.5",
         "0.75",
         "0.5",
         "3.25"
        ],
        [
         "11",
         "EWR",
         "70006",
         "0.4109933434277062",
         "0.027897608776390595",
         "0.32034197133806785",
         "0.34608311879367415",
         "49.848776588349786",
         "0.75",
         "0.5",
         "0.75",
         "0.75",
         "0.5",
         "3.25"
        ],
        [
         "13",
         "JFK",
         "66595",
         "0.4285456866131091",
         "0.02581274870485772",
         "0.3239935370080261",
         "0.381605486083098",
         "50.35807141105154",
         "0.5",
         "0.75",
         "0.75",
         "0.75",
         "0.5",
         "3.25"
        ],
        [
         "4",
         "ORD",
         "111266",
         "0.37474161019538765",
         "0.022657415562705587",
         "0.3328546464681382",
         "0.3572625029911462",
         "44.59960188027629",
         "0.75",
         "0.75",
         "0.5",
         "0.75",
         "0.5",
         "3.25"
        ],
        [
         "3",
         "LAS",
         "126041",
         "0.471933735847859",
         "0.021564411580358774",
         "0.2614734653610313",
         "0.43907998342312476",
         "37.674343930198546",
         "0.5",
         "0.75",
         "0.75",
         "0.5",
         "0.75",
         "3.25"
        ],
        [
         "20",
         "MDW",
         "55473",
         "0.48558758314855877",
         "0.03297099489841905",
         "0.17945615961622022",
         "0.4350940017905103",
         "34.14173812971006",
         "0.5",
         "0.5",
         "1.0",
         "0.5",
         "1.0",
         "3.5"
        ],
        [
         "15",
         "LGA",
         "61782",
         "0.3704477032145285",
         "0.03983360849438348",
         "0.3310406001622099",
         "0.2812223206377325",
         "52.47861231266658",
         "0.75",
         "0.5",
         "0.75",
         "1.0",
         "0.5",
         "3.5"
        ],
        [
         "8",
         "SEA",
         "89563",
         "0.40079050500764823",
         "0.02259861773276911",
         "0.36682343365156334",
         "0.4226650803093397",
         "32.12695007800312",
         "0.75",
         "0.75",
         "0.5",
         "0.5",
         "1.0",
         "3.5"
        ],
        [
         "26",
         "TPA",
         "50191",
         "0.35717558924906856",
         "0.0315395190372776",
         "0.2872746576505503",
         "0.3625668449197861",
         "43.66040051319239",
         "0.75",
         "0.5",
         "0.75",
         "0.75",
         "0.75",
         "3.5"
        ],
        [
         "63",
         "RNO",
         "10142",
         "0.37418655097613884",
         "0.025931768881877343",
         "0.28552480570688427",
         "0.40389294403892945",
         "44.33913043478261",
         "0.75",
         "0.75",
         "0.75",
         "0.75",
         "0.5",
         "3.5"
        ],
        [
         "53",
         "JAX",
         "14451",
         "0.36793301501626186",
         "0.026849352985952528",
         "0.29486835237283876",
         "0.3892988929889299",
         "46.10833176603348",
         "0.75",
         "0.75",
         "0.75",
         "0.75",
         "0.5",
         "3.5"
        ],
        [
         "54",
         "CVG",
         "13722",
         "0.3614633435359277",
         "0.022372831948695524",
         "0.3899089280482146",
         "0.3684210526315789",
         "43.92842741935484",
         "0.75",
         "0.75",
         "0.5",
         "0.75",
         "0.75",
         "3.5"
        ],
        [
         "55",
         "BDL",
         "13281",
         "0.36209622769369776",
         "0.026353437241171597",
         "0.3649109670711146",
         "0.3058823529411765",
         "46.78290704928259",
         "0.75",
         "0.75",
         "0.5",
         "1.0",
         "0.5",
         "3.5"
        ],
        [
         "46",
         "BUR",
         "19538",
         "0.40521035929982596",
         "0.03848909816767325",
         "0.26435146749623417",
         "0.42248062015503873",
         "30.790198307439688",
         "0.75",
         "0.5",
         "0.75",
         "0.5",
         "1.0",
         "3.5"
        ],
        [
         "17",
         "BWI",
         "60048",
         "0.4526378896882494",
         "0.029026778577138288",
         "0.1860558277820985",
         "0.3510778706555213",
         "35.51559970566593",
         "0.5",
         "0.5",
         "1.0",
         "0.75",
         "0.75",
         "3.5"
        ],
        [
         "9",
         "CLT",
         "87669",
         "0.42087853175010553",
         "0.021467109240438466",
         "0.28282548905911997",
         "0.4273759713090257",
         "40.0682150794081",
         "0.5",
         "1.0",
         "0.75",
         "0.5",
         "0.75",
         "3.5"
        ],
        [
         "1",
         "DEN",
         "152264",
         "0.44942336993642623",
         "0.022277097672463615",
         "0.23240235407958398",
         "0.45623931623931624",
         "37.46937791351873",
         "0.5",
         "0.75",
         "1.0",
         "0.5",
         "0.75",
         "3.5"
        ],
        [
         "27",
         "DCA",
         "49805",
         "0.3734364019676739",
         "0.0316434092962554",
         "0.30307653424339936",
         "0.32989690721649484",
         "43.66396042798",
         "0.75",
         "0.5",
         "0.75",
         "1.0",
         "0.75",
         "3.75"
        ],
        [
         "23",
         "MSP",
         "53568",
         "0.3424992532855436",
         "0.02182272998805257",
         "0.3914040261479088",
         "0.3709594663930221",
         "39.36877963699787",
         "1.0",
         "0.75",
         "0.5",
         "0.75",
         "0.75",
         "3.75"
        ],
        [
         "25",
         "SLC",
         "50425",
         "0.3765394149727318",
         "0.017134357957362418",
         "0.31334304144923186",
         "0.4286492374727669",
         "39.1968188760731",
         "0.75",
         "1.0",
         "0.75",
         "0.5",
         "0.75",
         "3.75"
        ],
        [
         "21",
         "AUS",
         "55298",
         "0.3840464392925603",
         "0.026944916633512967",
         "0.24856819596320515",
         "0.36393752957879794",
         "41.3790554221406",
         "0.75",
         "0.75",
         "0.75",
         "0.75",
         "0.75",
         "3.75"
        ],
        [
         "43",
         "RSW",
         "23074",
         "0.3415099245904481",
         "0.05486694981364306",
         "0.32883486628407765",
         "0.32984901277584205",
         "51.80786802030457",
         "1.0",
         "0.5",
         "0.75",
         "1.0",
         "0.5",
         "3.75"
        ],
        [
         "35",
         "MSY",
         "31993",
         "0.362798112087019",
         "0.022848748163660802",
         "0.28047362496026257",
         "0.3800335570469799",
         "39.61945377789265",
         "0.75",
         "0.75",
         "0.75",
         "0.75",
         "0.75",
         "3.75"
        ],
        [
         "51",
         "ONT",
         "14615",
         "0.37310981867943893",
         "0.02244269586041738",
         "0.24657151551677087",
         "0.3572744014732965",
         "37.129470016504676",
         "0.75",
         "0.75",
         "0.75",
         "0.75",
         "0.75",
         "3.75"
        ],
        [
         "50",
         "PIT",
         "16694",
         "0.35006589193722293",
         "0.02527854318916976",
         "0.3760123104892441",
         "0.3446601941747573",
         "40.46406570841889",
         "1.0",
         "0.75",
         "0.5",
         "0.75",
         "0.75",
         "3.75"
        ],
        [
         "56",
         "ANC",
         "12745",
         "0.38344448803452336",
         "0.021498626912514713",
         "0.40067360695121323",
         "0.3991228070175439",
         "29.79864947820749",
         "0.75",
         "0.75",
         "0.5",
         "0.75",
         "1.0",
         "3.75"
        ],
        [
         "60",
         "MKE",
         "11121",
         "0.33468213290171744",
         "0.028954230734646164",
         "0.3727433595152524",
         "0.2881773399014778",
         "40.1947877485223",
         "1.0",
         "0.5",
         "0.5",
         "1.0",
         "0.75",
         "3.75"
        ],
        [
         "49",
         "IND",
         "16703",
         "0.37322636652098423",
         "0.027539962880919595",
         "0.3279417492243671",
         "0.3368580060422961",
         "41.47722168752005",
         "0.75",
         "0.5",
         "0.75",
         "1.0",
         "0.75",
         "3.75"
        ],
        [
         "52",
         "CMH",
         "14520",
         "0.3568181818181818",
         "0.029614325068870524",
         "0.3056839541473622",
         "0.30442477876106194",
         "40.60413047674194",
         "0.75",
         "0.5",
         "0.75",
         "1.0",
         "0.75",
         "3.75"
        ],
        [
         "47",
         "CLE",
         "18301",
         "0.3152286760286323",
         "0.025299163980110378",
         "0.3513205014650446",
         "0.26734104046242774",
         "42.97815912636506",
         "1.0",
         "0.75",
         "0.5",
         "1.0",
         "0.75",
         "4.0"
        ],
        [
         "38",
         "SNA",
         "30284",
         "0.4032162197860256",
         "0.026119402985074626",
         "0.2453428342612738",
         "0.41455160744500846",
         "35.68266317254934",
         "0.75",
         "0.75",
         "1.0",
         "0.75",
         "0.75",
         "4.0"
        ],
        [
         "39",
         "RDU",
         "27145",
         "0.35442991342788727",
         "0.024203352366918403",
         "0.3088606411872675",
         "0.3237051792828685",
         "46.56387069951148",
         "1.0",
         "0.75",
         "0.75",
         "1.0",
         "0.5",
         "4.0"
        ],
        [
         "44",
         "OGG",
         "21382",
         "0.4923299971939014",
         "0.013001590122532972",
         "0.1457616434861533",
         "0.4671361502347418",
         "29.237674551154175",
         "0.5",
         "1.0",
         "1.0",
         "0.5",
         "1.0",
         "4.0"
        ],
        [
         "28",
         "DAL",
         "47828",
         "0.4029020657355524",
         "0.033348666053357866",
         "0.1696770114564504",
         "0.3905325443786982",
         "32.583341982355996",
         "0.75",
         "0.5",
         "1.0",
         "0.75",
         "1.0",
         "4.0"
        ],
        [
         "30",
         "HNL",
         "39931",
         "0.4807543011695174",
         "0.010242668603340763",
         "0.12147480225279662",
         "0.45471817606079795",
         "24.497317289159763",
         "0.5",
         "1.0",
         "1.0",
         "0.5",
         "1.0",
         "4.0"
        ],
        [
         "22",
         "SAN",
         "54964",
         "0.3865257259296994",
         "0.024270431555199767",
         "0.31246827465353244",
         "0.3748810656517602",
         "35.18103083078371",
         "0.75",
         "0.75",
         "0.75",
         "0.75",
         "1.0",
         "4.0"
        ],
        [
         "31",
         "STL",
         "35085",
         "0.3946700869317372",
         "0.025708992446914637",
         "0.2139935402261243",
         "0.35294117647058826",
         "36.894200909944395",
         "0.75",
         "0.75",
         "1.0",
         "0.75",
         "0.75",
         "4.0"
        ],
        [
         "61",
         "LIH",
         "10977",
         "0.4616015304728068",
         "0.011023048191673499",
         "0.19906460544249666",
         "0.42663656884875845",
         "26.790408525754884",
         "0.5",
         "1.0",
         "1.0",
         "0.5",
         "1.0",
         "4.0"
        ],
        [
         "58",
         "KOA",
         "11667",
         "0.4433016199537156",
         "0.010285420416559526",
         "0.17190628103924793",
         "0.4439746300211416",
         "26.334880123743233",
         "0.5",
         "1.0",
         "1.0",
         "0.5",
         "1.0",
         "4.0"
        ],
        [
         "62",
         "OMA",
         "10322",
         "0.357295097849254",
         "0.025673319124200737",
         "0.3159093340764676",
         "0.3173076923076923",
         "39.83975054229935",
         "0.75",
         "0.75",
         "0.75",
         "1.0",
         "0.75",
         "4.0"
        ],
        [
         "29",
         "PHL",
         "45676",
         "0.3428277432349593",
         "0.02187144233295385",
         "0.3804664199149619",
         "0.2889016018306636",
         "43.63414011111821",
         "1.0",
         "0.75",
         "0.5",
         "1.0",
         "0.75",
         "4.0"
        ],
        [
         "24",
         "BNA",
         "52446",
         "0.35167600960988443",
         "0.0262937116271975",
         "0.2547474860732004",
         "0.3326663331665833",
         "37.7374213836478",
         "1.0",
         "0.75",
         "0.75",
         "1.0",
         "0.75",
         "4.25"
        ],
        [
         "19",
         "DTW",
         "55693",
         "0.30572962490797767",
         "0.020487314384213456",
         "0.33433283610784537",
         "0.29460379192999514",
         "40.34457038820697",
         "1.0",
         "1.0",
         "0.5",
         "1.0",
         "0.75",
         "4.25"
        ]
       ],
       "shape": {
        "columns": 13,
        "rows": 64
       }
      },
      "text/html": [
       "<div>\n",
       "<style scoped>\n",
       "    .dataframe tbody tr th:only-of-type {\n",
       "        vertical-align: middle;\n",
       "    }\n",
       "\n",
       "    .dataframe tbody tr th {\n",
       "        vertical-align: top;\n",
       "    }\n",
       "\n",
       "    .dataframe thead th {\n",
       "        text-align: right;\n",
       "    }\n",
       "</style>\n",
       "<table border=\"1\" class=\"dataframe\">\n",
       "  <thead>\n",
       "    <tr style=\"text-align: right;\">\n",
       "      <th></th>\n",
       "      <th>Origin</th>\n",
       "      <th>Yearly_Flights</th>\n",
       "      <th>percent_delayed</th>\n",
       "      <th>percent_diverted_cancelled</th>\n",
       "      <th>PercentAirportFault</th>\n",
       "      <th>HolidayPercentDelayed</th>\n",
       "      <th>HowExtremeDelay</th>\n",
       "      <th>ScoreFrom_percent_delayed</th>\n",
       "      <th>ScoreFrom_percent_diverted_cancelled</th>\n",
       "      <th>ScoreFrom_PercentAirportFault</th>\n",
       "      <th>ScoreFrom_HolidayPercentDelayed</th>\n",
       "      <th>ScoreFrom_HowExtremeDelay</th>\n",
       "      <th>TotalScore</th>\n",
       "    </tr>\n",
       "  </thead>\n",
       "  <tbody>\n",
       "    <tr>\n",
       "      <th>6</th>\n",
       "      <td>MCO</td>\n",
       "      <td>105561</td>\n",
       "      <td>0.464054</td>\n",
       "      <td>0.032683</td>\n",
       "      <td>0.331540</td>\n",
       "      <td>0.422373</td>\n",
       "      <td>44.443759</td>\n",
       "      <td>0.50</td>\n",
       "      <td>0.50</td>\n",
       "      <td>0.50</td>\n",
       "      <td>0.75</td>\n",
       "      <td>0.50</td>\n",
       "      <td>2.75</td>\n",
       "    </tr>\n",
       "    <tr>\n",
       "      <th>18</th>\n",
       "      <td>FLL</td>\n",
       "      <td>59518</td>\n",
       "      <td>0.432676</td>\n",
       "      <td>0.024514</td>\n",
       "      <td>0.349128</td>\n",
       "      <td>0.447768</td>\n",
       "      <td>46.225419</td>\n",
       "      <td>0.50</td>\n",
       "      <td>0.75</td>\n",
       "      <td>0.50</td>\n",
       "      <td>0.50</td>\n",
       "      <td>0.50</td>\n",
       "      <td>2.75</td>\n",
       "    </tr>\n",
       "    <tr>\n",
       "      <th>48</th>\n",
       "      <td>PBI</td>\n",
       "      <td>17340</td>\n",
       "      <td>0.419608</td>\n",
       "      <td>0.032641</td>\n",
       "      <td>0.308447</td>\n",
       "      <td>0.446617</td>\n",
       "      <td>51.867235</td>\n",
       "      <td>0.50</td>\n",
       "      <td>0.50</td>\n",
       "      <td>0.75</td>\n",
       "      <td>0.50</td>\n",
       "      <td>0.50</td>\n",
       "      <td>2.75</td>\n",
       "    </tr>\n",
       "    <tr>\n",
       "      <th>16</th>\n",
       "      <td>MIA</td>\n",
       "      <td>61279</td>\n",
       "      <td>0.427797</td>\n",
       "      <td>0.026616</td>\n",
       "      <td>0.331761</td>\n",
       "      <td>0.420459</td>\n",
       "      <td>46.053748</td>\n",
       "      <td>0.50</td>\n",
       "      <td>0.75</td>\n",
       "      <td>0.50</td>\n",
       "      <td>0.75</td>\n",
       "      <td>0.50</td>\n",
       "      <td>3.00</td>\n",
       "    </tr>\n",
       "    <tr>\n",
       "      <th>45</th>\n",
       "      <td>SJU</td>\n",
       "      <td>21137</td>\n",
       "      <td>0.415054</td>\n",
       "      <td>0.025973</td>\n",
       "      <td>0.278718</td>\n",
       "      <td>0.455399</td>\n",
       "      <td>49.252707</td>\n",
       "      <td>0.50</td>\n",
       "      <td>0.75</td>\n",
       "      <td>0.75</td>\n",
       "      <td>0.50</td>\n",
       "      <td>0.50</td>\n",
       "      <td>3.00</td>\n",
       "    </tr>\n",
       "    <tr>\n",
       "      <th>...</th>\n",
       "      <td>...</td>\n",
       "      <td>...</td>\n",
       "      <td>...</td>\n",
       "      <td>...</td>\n",
       "      <td>...</td>\n",
       "      <td>...</td>\n",
       "      <td>...</td>\n",
       "      <td>...</td>\n",
       "      <td>...</td>\n",
       "      <td>...</td>\n",
       "      <td>...</td>\n",
       "      <td>...</td>\n",
       "      <td>...</td>\n",
       "    </tr>\n",
       "    <tr>\n",
       "      <th>41</th>\n",
       "      <td>MCI</td>\n",
       "      <td>25992</td>\n",
       "      <td>0.341759</td>\n",
       "      <td>0.024815</td>\n",
       "      <td>0.272734</td>\n",
       "      <td>0.313542</td>\n",
       "      <td>37.403130</td>\n",
       "      <td>1.00</td>\n",
       "      <td>0.75</td>\n",
       "      <td>0.75</td>\n",
       "      <td>1.00</td>\n",
       "      <td>0.75</td>\n",
       "      <td>4.25</td>\n",
       "    </tr>\n",
       "    <tr>\n",
       "      <th>37</th>\n",
       "      <td>PDX</td>\n",
       "      <td>31508</td>\n",
       "      <td>0.334804</td>\n",
       "      <td>0.024438</td>\n",
       "      <td>0.326341</td>\n",
       "      <td>0.354409</td>\n",
       "      <td>34.523746</td>\n",
       "      <td>1.00</td>\n",
       "      <td>0.75</td>\n",
       "      <td>0.75</td>\n",
       "      <td>0.75</td>\n",
       "      <td>1.00</td>\n",
       "      <td>4.25</td>\n",
       "    </tr>\n",
       "    <tr>\n",
       "      <th>59</th>\n",
       "      <td>ABQ</td>\n",
       "      <td>11312</td>\n",
       "      <td>0.360325</td>\n",
       "      <td>0.019979</td>\n",
       "      <td>0.228651</td>\n",
       "      <td>0.361364</td>\n",
       "      <td>40.939647</td>\n",
       "      <td>0.75</td>\n",
       "      <td>1.00</td>\n",
       "      <td>1.00</td>\n",
       "      <td>0.75</td>\n",
       "      <td>0.75</td>\n",
       "      <td>4.25</td>\n",
       "    </tr>\n",
       "    <tr>\n",
       "      <th>42</th>\n",
       "      <td>SAT</td>\n",
       "      <td>23765</td>\n",
       "      <td>0.327372</td>\n",
       "      <td>0.021166</td>\n",
       "      <td>0.264613</td>\n",
       "      <td>0.313348</td>\n",
       "      <td>39.538046</td>\n",
       "      <td>1.00</td>\n",
       "      <td>1.00</td>\n",
       "      <td>0.75</td>\n",
       "      <td>1.00</td>\n",
       "      <td>0.75</td>\n",
       "      <td>4.50</td>\n",
       "    </tr>\n",
       "    <tr>\n",
       "      <th>36</th>\n",
       "      <td>OAK</td>\n",
       "      <td>31988</td>\n",
       "      <td>0.411717</td>\n",
       "      <td>0.020476</td>\n",
       "      <td>0.165573</td>\n",
       "      <td>0.375591</td>\n",
       "      <td>29.534472</td>\n",
       "      <td>0.75</td>\n",
       "      <td>1.00</td>\n",
       "      <td>1.00</td>\n",
       "      <td>0.75</td>\n",
       "      <td>1.00</td>\n",
       "      <td>4.50</td>\n",
       "    </tr>\n",
       "  </tbody>\n",
       "</table>\n",
       "<p>64 rows × 13 columns</p>\n",
       "</div>"
      ],
      "text/plain": [
       "   Origin  Yearly_Flights  percent_delayed  percent_diverted_cancelled  \\\n",
       "6     MCO          105561         0.464054                    0.032683   \n",
       "18    FLL           59518         0.432676                    0.024514   \n",
       "48    PBI           17340         0.419608                    0.032641   \n",
       "16    MIA           61279         0.427797                    0.026616   \n",
       "45    SJU           21137         0.415054                    0.025973   \n",
       "..    ...             ...              ...                         ...   \n",
       "41    MCI           25992         0.341759                    0.024815   \n",
       "37    PDX           31508         0.334804                    0.024438   \n",
       "59    ABQ           11312         0.360325                    0.019979   \n",
       "42    SAT           23765         0.327372                    0.021166   \n",
       "36    OAK           31988         0.411717                    0.020476   \n",
       "\n",
       "    PercentAirportFault  HolidayPercentDelayed  HowExtremeDelay  \\\n",
       "6              0.331540               0.422373        44.443759   \n",
       "18             0.349128               0.447768        46.225419   \n",
       "48             0.308447               0.446617        51.867235   \n",
       "16             0.331761               0.420459        46.053748   \n",
       "45             0.278718               0.455399        49.252707   \n",
       "..                  ...                    ...              ...   \n",
       "41             0.272734               0.313542        37.403130   \n",
       "37             0.326341               0.354409        34.523746   \n",
       "59             0.228651               0.361364        40.939647   \n",
       "42             0.264613               0.313348        39.538046   \n",
       "36             0.165573               0.375591        29.534472   \n",
       "\n",
       "    ScoreFrom_percent_delayed  ScoreFrom_percent_diverted_cancelled  \\\n",
       "6                        0.50                                  0.50   \n",
       "18                       0.50                                  0.75   \n",
       "48                       0.50                                  0.50   \n",
       "16                       0.50                                  0.75   \n",
       "45                       0.50                                  0.75   \n",
       "..                        ...                                   ...   \n",
       "41                       1.00                                  0.75   \n",
       "37                       1.00                                  0.75   \n",
       "59                       0.75                                  1.00   \n",
       "42                       1.00                                  1.00   \n",
       "36                       0.75                                  1.00   \n",
       "\n",
       "    ScoreFrom_PercentAirportFault  ScoreFrom_HolidayPercentDelayed  \\\n",
       "6                            0.50                             0.75   \n",
       "18                           0.50                             0.50   \n",
       "48                           0.75                             0.50   \n",
       "16                           0.50                             0.75   \n",
       "45                           0.75                             0.50   \n",
       "..                            ...                              ...   \n",
       "41                           0.75                             1.00   \n",
       "37                           0.75                             0.75   \n",
       "59                           1.00                             0.75   \n",
       "42                           0.75                             1.00   \n",
       "36                           1.00                             0.75   \n",
       "\n",
       "    ScoreFrom_HowExtremeDelay  TotalScore  \n",
       "6                        0.50        2.75  \n",
       "18                       0.50        2.75  \n",
       "48                       0.50        2.75  \n",
       "16                       0.50        3.00  \n",
       "45                       0.50        3.00  \n",
       "..                        ...         ...  \n",
       "41                       0.75        4.25  \n",
       "37                       1.00        4.25  \n",
       "59                       0.75        4.25  \n",
       "42                       0.75        4.50  \n",
       "36                       1.00        4.50  \n",
       "\n",
       "[64 rows x 13 columns]"
      ]
     },
     "execution_count": 14,
     "metadata": {},
     "output_type": "execute_result"
    }
   ],
   "source": [
    "Final_merge.sort_values(by=\"TotalScore\", ascending=True)"
   ]
  },
  {
   "cell_type": "markdown",
   "id": "f342914a",
   "metadata": {},
   "source": [
    "#### Merging in the airport latitude and longitude data"
   ]
  },
  {
   "cell_type": "code",
   "execution_count": 15,
   "id": "03bb6ec8",
   "metadata": {},
   "outputs": [],
   "source": [
    "#reading in airport locations\n",
    "\n",
    "airport_locations = pd.read_csv(r\"D:\\Summer Practicum\\0_Personal_Folders\\Ben Hawley\\QGIS\\airport_locations.csv\")\n",
    "\n",
    "merge_locations = pd.merge(Final_merge, airport_locations, how=\"left\", left_on=\"Origin\", right_on=\"IATA\")\n",
    "\n",
    "merge_locations.to_csv(\"AirportScores_Locations.csv\", index=False)"
   ]
  },
  {
   "cell_type": "markdown",
   "id": "bae31313",
   "metadata": {},
   "source": [
    "#### Anova to see differences in arrival delays and scores by region"
   ]
  },
  {
   "cell_type": "code",
   "execution_count": 16,
   "id": "f75ea240",
   "metadata": {},
   "outputs": [],
   "source": [
    "import statsmodels.formula.api as smf\n",
    "import statsmodels as sm\n",
    "from plotnine import *\n",
    "import matplotlib.pyplot as plt"
   ]
  },
  {
   "cell_type": "markdown",
   "id": "f1a4383f",
   "metadata": {},
   "source": [
    "##### Difference in arrival delays"
   ]
  },
  {
   "cell_type": "code",
   "execution_count": 27,
   "id": "57ce3d1a",
   "metadata": {},
   "outputs": [],
   "source": [
    "arrival_delay_model = smf.ols(\"ArrDelayMinutes ~ C(Region)\", data=train_df_trim).fit()"
   ]
  },
  {
   "cell_type": "code",
   "execution_count": null,
   "id": "76e87d6d",
   "metadata": {},
   "outputs": [
    {
     "ename": "TypeError",
     "evalue": "Bad type of argument 0            -16.564087\n1            -16.564087\n2            -19.009917\n3            -16.564087\n4            -13.635051\n                ...    \n3444860      196.435913\n3444861      -13.635051\n3444862      -15.621535\n3444863       11.364949\nresiduals    -16.564087\nLength: 3333489, dtype: float64, expected a dataframe or a mapping.",
     "output_type": "error",
     "traceback": [
      "\u001b[1;31m---------------------------------------------------------------------------\u001b[0m",
      "\u001b[1;31mTypeError\u001b[0m                                 Traceback (most recent call last)",
      "Cell \u001b[1;32mIn[33], line 3\u001b[0m\n\u001b[0;32m      1\u001b[0m resids1 \u001b[38;5;241m=\u001b[39m arrival_delay_model\u001b[38;5;241m.\u001b[39mresid\n\u001b[0;32m      2\u001b[0m resids1[\u001b[38;5;124m\"\u001b[39m\u001b[38;5;124mresiduals\u001b[39m\u001b[38;5;124m\"\u001b[39m] \u001b[38;5;241m=\u001b[39m resids1[\u001b[38;5;241m0\u001b[39m]\n\u001b[1;32m----> 3\u001b[0m arrival_delay_region_qq \u001b[38;5;241m=\u001b[39m(ggplot(resids1, aes(sample\u001b[38;5;241m=\u001b[39m\u001b[38;5;124m\"\u001b[39m\u001b[38;5;124mresiduals\u001b[39m\u001b[38;5;124m\"\u001b[39m)) \u001b[38;5;241m+\u001b[39m geom_qq() \u001b[38;5;241m+\u001b[39m geom_qq_line())\n\u001b[0;32m      4\u001b[0m arrival_delay_region_qq\u001b[38;5;241m.\u001b[39mshow()\n",
      "File \u001b[1;32mc:\\ProgramData\\anaconda3\\envs\\bens_env\\Lib\\site-packages\\plotnine\\ggplot.py:110\u001b[0m, in \u001b[0;36mggplot.__init__\u001b[1;34m(self, data, mapping)\u001b[0m\n\u001b[0;32m    107\u001b[0m \u001b[38;5;28;01mfrom\u001b[39;00m\u001b[38;5;250m \u001b[39m\u001b[38;5;21;01m.\u001b[39;00m\u001b[38;5;21;01mmapping\u001b[39;00m\u001b[38;5;21;01m.\u001b[39;00m\u001b[38;5;21;01m_env\u001b[39;00m\u001b[38;5;250m \u001b[39m\u001b[38;5;28;01mimport\u001b[39;00m Environment\n\u001b[0;32m    109\u001b[0m \u001b[38;5;66;03m# Allow some sloppiness\u001b[39;00m\n\u001b[1;32m--> 110\u001b[0m data, mapping \u001b[38;5;241m=\u001b[39m order_as_data_mapping(data, mapping)\n\u001b[0;32m    111\u001b[0m \u001b[38;5;28mself\u001b[39m\u001b[38;5;241m.\u001b[39mdata \u001b[38;5;241m=\u001b[39m data\n\u001b[0;32m    112\u001b[0m \u001b[38;5;28mself\u001b[39m\u001b[38;5;241m.\u001b[39mmapping \u001b[38;5;241m=\u001b[39m mapping \u001b[38;5;28;01mif\u001b[39;00m mapping \u001b[38;5;129;01mis\u001b[39;00m \u001b[38;5;129;01mnot\u001b[39;00m \u001b[38;5;28;01mNone\u001b[39;00m \u001b[38;5;28;01melse\u001b[39;00m aes()\n",
      "File \u001b[1;32mc:\\ProgramData\\anaconda3\\envs\\bens_env\\Lib\\site-packages\\plotnine\\_utils\\__init__.py:891\u001b[0m, in \u001b[0;36morder_as_data_mapping\u001b[1;34m(arg1, arg2)\u001b[0m\n\u001b[0;32m    889\u001b[0m             \u001b[38;5;28;01mraise\u001b[39;00m \u001b[38;5;167;01mTypeError\u001b[39;00m(\u001b[38;5;124m\"\u001b[39m\u001b[38;5;124mExpected a single dataframe, found two\u001b[39m\u001b[38;5;124m\"\u001b[39m)\n\u001b[0;32m    890\u001b[0m     \u001b[38;5;28;01melif\u001b[39;00m arg \u001b[38;5;129;01mis\u001b[39;00m \u001b[38;5;129;01mnot\u001b[39;00m \u001b[38;5;28;01mNone\u001b[39;00m:\n\u001b[1;32m--> 891\u001b[0m         \u001b[38;5;28;01mraise\u001b[39;00m \u001b[38;5;167;01mTypeError\u001b[39;00m(\n\u001b[0;32m    892\u001b[0m             \u001b[38;5;124mf\u001b[39m\u001b[38;5;124m\"\u001b[39m\u001b[38;5;124mBad type of argument \u001b[39m\u001b[38;5;132;01m{\u001b[39;00marg\u001b[38;5;132;01m!r}\u001b[39;00m\u001b[38;5;124m, expected a dataframe \u001b[39m\u001b[38;5;124m\"\u001b[39m\n\u001b[0;32m    893\u001b[0m             \u001b[38;5;124m\"\u001b[39m\u001b[38;5;124mor a mapping.\u001b[39m\u001b[38;5;124m\"\u001b[39m\n\u001b[0;32m    894\u001b[0m         )\n\u001b[0;32m    896\u001b[0m \u001b[38;5;28;01mreturn\u001b[39;00m data, mapping\n",
      "\u001b[1;31mTypeError\u001b[0m: Bad type of argument 0            -16.564087\n1            -16.564087\n2            -19.009917\n3            -16.564087\n4            -13.635051\n                ...    \n3444860      196.435913\n3444861      -13.635051\n3444862      -15.621535\n3444863       11.364949\nresiduals    -16.564087\nLength: 3333489, dtype: float64, expected a dataframe or a mapping."
     ]
    }
   ],
   "source": [
    "arrival_delay_region_qq =(ggplot(resids1, aes(sample=\"residuals\")) + geom_qq() + geom_qq_line())\n",
    "arrival_delay_region_qq.show()"
   ]
  },
  {
   "cell_type": "code",
   "execution_count": 45,
   "id": "45dfed70",
   "metadata": {},
   "outputs": [
    {
     "data": {
      "application/vnd.microsoft.datawrangler.viewer.v0+json": {
       "columns": [
        {
         "name": "index",
         "rawType": "int64",
         "type": "integer"
        },
        {
         "name": "residuals",
         "rawType": "float64",
         "type": "float"
        }
       ],
       "ref": "83d6c2f8-79d6-49fc-bf95-34e785ff25bb",
       "rows": [
        [
         "0",
         "-16.564087402868907"
        ],
        [
         "1",
         "-16.564087402868907"
        ],
        [
         "2",
         "-19.009917003083615"
        ],
        [
         "3",
         "-16.564087402868907"
        ],
        [
         "4",
         "-13.635051264743408"
        ],
        [
         "5",
         "-5.635051264743408"
        ],
        [
         "6",
         "-7.564087402868907"
        ],
        [
         "7",
         "-14.635051264743408"
        ],
        [
         "8",
         "-14.635051264743408"
        ],
        [
         "9",
         "11.435912597131093"
        ],
        [
         "10",
         "-19.009917003083615"
        ],
        [
         "11",
         "-16.564087402868907"
        ],
        [
         "12",
         "-14.635051264743408"
        ],
        [
         "13",
         "-10.564087402868907"
        ],
        [
         "14",
         "540.435912597131"
        ],
        [
         "15",
         "-19.009917003083615"
        ],
        [
         "16",
         "-19.009917003083615"
        ],
        [
         "17",
         "148.3784646861214"
        ],
        [
         "18",
         "8.435912597131093"
        ],
        [
         "19",
         "0.3784646861213865"
        ],
        [
         "20",
         "-14.635051264743408"
        ],
        [
         "21",
         "-14.635051264743408"
        ],
        [
         "22",
         "-16.564087402868907"
        ],
        [
         "23",
         "-15.621535313878613"
        ],
        [
         "24",
         "-15.621535313878613"
        ],
        [
         "25",
         "21.36494873525659"
        ],
        [
         "26",
         "-15.621535313878613"
        ],
        [
         "27",
         "76.4359125971311"
        ],
        [
         "28",
         "-16.564087402868907"
        ],
        [
         "29",
         "-15.564087402868907"
        ],
        [
         "30",
         "169.3649487352566"
        ],
        [
         "31",
         "-14.635051264743408"
        ],
        [
         "32",
         "-14.635051264743408"
        ],
        [
         "33",
         "-16.564087402868907"
        ],
        [
         "34",
         "142.3649487352566"
        ],
        [
         "35",
         "-16.564087402868907"
        ],
        [
         "36",
         "-9.635051264743408"
        ],
        [
         "37",
         "-14.635051264743408"
        ],
        [
         "38",
         "-16.564087402868907"
        ],
        [
         "39",
         "-14.635051264743408"
        ],
        [
         "40",
         "1.3649487352565917"
        ],
        [
         "41",
         "-16.564087402868907"
        ],
        [
         "42",
         "-16.564087402868907"
        ],
        [
         "43",
         "-16.564087402868907"
        ],
        [
         "44",
         "-14.635051264743408"
        ],
        [
         "45",
         "-10.635051264743408"
        ],
        [
         "46",
         "-14.635051264743408"
        ],
        [
         "47",
         "-16.564087402868907"
        ],
        [
         "48",
         "-14.635051264743408"
        ],
        [
         "49",
         "-15.621535313878613"
        ]
       ],
       "shape": {
        "columns": 1,
        "rows": 3333488
       }
      },
      "text/html": [
       "<div>\n",
       "<style scoped>\n",
       "    .dataframe tbody tr th:only-of-type {\n",
       "        vertical-align: middle;\n",
       "    }\n",
       "\n",
       "    .dataframe tbody tr th {\n",
       "        vertical-align: top;\n",
       "    }\n",
       "\n",
       "    .dataframe thead th {\n",
       "        text-align: right;\n",
       "    }\n",
       "</style>\n",
       "<table border=\"1\" class=\"dataframe\">\n",
       "  <thead>\n",
       "    <tr style=\"text-align: right;\">\n",
       "      <th></th>\n",
       "      <th>residuals</th>\n",
       "    </tr>\n",
       "  </thead>\n",
       "  <tbody>\n",
       "    <tr>\n",
       "      <th>0</th>\n",
       "      <td>-16.564087</td>\n",
       "    </tr>\n",
       "    <tr>\n",
       "      <th>1</th>\n",
       "      <td>-16.564087</td>\n",
       "    </tr>\n",
       "    <tr>\n",
       "      <th>2</th>\n",
       "      <td>-19.009917</td>\n",
       "    </tr>\n",
       "    <tr>\n",
       "      <th>3</th>\n",
       "      <td>-16.564087</td>\n",
       "    </tr>\n",
       "    <tr>\n",
       "      <th>4</th>\n",
       "      <td>-13.635051</td>\n",
       "    </tr>\n",
       "    <tr>\n",
       "      <th>...</th>\n",
       "      <td>...</td>\n",
       "    </tr>\n",
       "    <tr>\n",
       "      <th>3444859</th>\n",
       "      <td>-15.621535</td>\n",
       "    </tr>\n",
       "    <tr>\n",
       "      <th>3444860</th>\n",
       "      <td>196.435913</td>\n",
       "    </tr>\n",
       "    <tr>\n",
       "      <th>3444861</th>\n",
       "      <td>-13.635051</td>\n",
       "    </tr>\n",
       "    <tr>\n",
       "      <th>3444862</th>\n",
       "      <td>-15.621535</td>\n",
       "    </tr>\n",
       "    <tr>\n",
       "      <th>3444863</th>\n",
       "      <td>11.364949</td>\n",
       "    </tr>\n",
       "  </tbody>\n",
       "</table>\n",
       "<p>3333488 rows × 1 columns</p>\n",
       "</div>"
      ],
      "text/plain": [
       "          residuals\n",
       "0        -16.564087\n",
       "1        -16.564087\n",
       "2        -19.009917\n",
       "3        -16.564087\n",
       "4        -13.635051\n",
       "...             ...\n",
       "3444859  -15.621535\n",
       "3444860  196.435913\n",
       "3444861  -13.635051\n",
       "3444862  -15.621535\n",
       "3444863   11.364949\n",
       "\n",
       "[3333488 rows x 1 columns]"
      ]
     },
     "execution_count": 45,
     "metadata": {},
     "output_type": "execute_result"
    }
   ],
   "source": [
    "resids1= pd.DataFrame(arrival_delay_model.resid)\n",
    "resids1.rename(columns={0 : \"residuals\"}, inplace=True)\n",
    "resids1"
   ]
  },
  {
   "cell_type": "code",
   "execution_count": null,
   "id": "99fc6750",
   "metadata": {},
   "outputs": [
    {
     "name": "stderr",
     "output_type": "stream",
     "text": [
      "c:\\ProgramData\\anaconda3\\envs\\bens_env\\Lib\\site-packages\\plotnine\\layer.py:364: PlotnineWarning: geom_point : Removed 107748 rows containing missing values.\n"
     ]
    },
    {
     "data": {
      "image/png": "[encoded data removed]"
     },
     "metadata": {
      "image/png": {
       "height": 480,
       "width": 640
      }
     },
     "output_type": "display_data"
    }
   ],
   "source": [
    "resids1[\"fitted\"] = arrival_delay_model.fittedvalues\n",
    "arr_del_region_rvf = ggplot(resids1, aes(x=\"fitted\", y=\"residuals\")) + geom_point() + geom_hline(yintercept=0)\n",
    "arr_del_region_rvf.show()"
   ]
  },
  {
   "cell_type": "code",
   "execution_count": 32,
   "id": "b352bef6",
   "metadata": {},
   "outputs": [
    {
     "ename": "AttributeError",
     "evalue": "module 'statsmodels' has no attribute 'api'",
     "output_type": "error",
     "traceback": [
      "\u001b[1;31m---------------------------------------------------------------------------\u001b[0m",
      "\u001b[1;31mAttributeError\u001b[0m                            Traceback (most recent call last)",
      "Cell \u001b[1;32mIn[32], line 1\u001b[0m\n\u001b[1;32m----> 1\u001b[0m sm\u001b[38;5;241m.\u001b[39mapi\u001b[38;5;241m.\u001b[39mstats\u001b[38;5;241m.\u001b[39manova_lm(arrival_delay_model, typ\u001b[38;5;241m=\u001b[39m\u001b[38;5;241m2\u001b[39m)\n",
      "\u001b[1;31mAttributeError\u001b[0m: module 'statsmodels' has no attribute 'api'"
     ]
    }
   ],
   "source": [
    "sm.api.stats.anova_lm(arrival_delay_model, typ=2)"
   ]
  },
  {
   "cell_type": "markdown",
   "id": "afeaf89b",
   "metadata": {},
   "source": [
    "##### Difference in scores"
   ]
  },
  {
   "cell_type": "markdown",
   "id": "79997ce5",
   "metadata": {},
   "source": [
    "#### Alaska airlines"
   ]
  }
 ],
 "metadata": {
  "kernelspec": {
   "display_name": "bens_env",
   "language": "python",
   "name": "python3"
  },
  "language_info": {
   "codemirror_mode": {
    "name": "ipython",
    "version": 3
   },
   "file_extension": ".py",
   "mimetype": "text/x-python",
   "name": "python",
   "nbconvert_exporter": "python",
   "pygments_lexer": "ipython3",
   "version": "3.12.11"
  }
 },
 "nbformat": 4,
 "nbformat_minor": 5
}
