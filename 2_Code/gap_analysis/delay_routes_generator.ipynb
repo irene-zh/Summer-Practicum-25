{
 "cells": [
  {
   "cell_type": "markdown",
   "id": "59177544",
   "metadata": {},
   "source": [
    "### Setup"
   ]
  },
  {
   "cell_type": "code",
   "execution_count": 6,
   "id": "9a504755",
   "metadata": {},
   "outputs": [],
   "source": [
    "import numpy as np\n",
    "import pandas as pd\n",
    "from plotnine import *\n",
    "import matplotlib.pyplot as plt\n",
    "import plotly.graph_objects as go\n",
    "import plotly.io as pio"
   ]
  },
  {
   "cell_type": "code",
   "execution_count": 7,
   "id": "dfb453ec",
   "metadata": {},
   "outputs": [],
   "source": [
    "path = 'D:/Summer Practicum/1_Data/worst_5_routes_per_airline.csv'\n",
    "worst_5_df = pd.read_csv(path)"
   ]
  },
  {
   "cell_type": "markdown",
   "id": "8cb180da",
   "metadata": {},
   "source": [
    "### Helper Functions"
   ]
  },
  {
   "cell_type": "code",
   "execution_count": 8,
   "id": "57aeb29a",
   "metadata": {},
   "outputs": [],
   "source": [
    "# Get color from colormap\n",
    "cmap = plt.get_cmap('YlOrRd')\n",
    "\n",
    "# Helper function to get line color to work with the scaled Normalized values\n",
    "def get_rgba(norm_val):\n",
    "    r, g, b, _ = cmap(norm_val)\n",
    "    return f'rgba({r*255:.0f}, {g*255:.0f}, {b*255:.0f}, 0.8)'\n",
    "\n",
    "\n",
    "# Helper function to add markers to any flight path for tooltip hovering\n",
    "def interpolate_coords(lat1, lon1, lat2, lon2, steps=5):\n",
    "    lats = np.linspace(lat1, lat2, steps)\n",
    "    lons = np.linspace(lon1, lon2, steps)\n",
    "    return list(lats), list(lons)"
   ]
  },
  {
   "cell_type": "code",
   "execution_count": 10,
   "id": "704ce47f",
   "metadata": {},
   "outputs": [],
   "source": [
    "# Iterate through each airline\n",
    "for airline in worst_5_df['Airline_Name'].unique():\n",
    "    df_airline = worst_5_df[worst_5_df['Airline_Name'] == airline]\n",
    "\n",
    "    fig = go.Figure()\n",
    "\n",
    "    for _, row in df_airline.iterrows():\n",
    "        color = get_rgba(row['norm_scaled'])\n",
    "\n",
    "        # Add flight route tracing\n",
    "        fig.add_trace(go.Scattergeo(\n",
    "            locationmode='USA-states',\n",
    "            lon=[row['LON1'], row['LON2']],\n",
    "            lat=[row['LAT1'], row['LAT2']],\n",
    "            mode='lines',\n",
    "            line=dict(width=2 + row['impact_score'], color=color),\n",
    "            opacity=0.8,\n",
    "            name=row['AIRPORT_PAIR'],\n",
    "            hoverinfo='text',\n",
    "            text=(\n",
    "                f\"Route: {row['AIRPORT_PAIR']}<br>\"\n",
    "                f\"Avg Delay: {row['avg_delay']:.1f} min<br>\"\n",
    "                f\"Severe Delays: {row['num_severe_delays']}<br>\"\n",
    "                f\"Impact Score: {row['impact_score']:.2f}<br>\"\n",
    "                f\"Flights: {row['num_flights']}\"\n",
    "            )\n",
    "        ))\n",
    "\n",
    "        # Add origin airport label\n",
    "        fig.add_trace(go.Scattergeo(\n",
    "            locationmode='USA-states',\n",
    "            lon=[row['LON1']],\n",
    "            lat=[row['LAT1'] - 0.3],\n",
    "            mode='text',\n",
    "            text=[row['AIRPORT1']],\n",
    "            textfont=dict(size=10, color='gray'),\n",
    "            showlegend=False,\n",
    "            hoverinfo='skip'\n",
    "        ))\n",
    "\n",
    "        # Add destination airport label\n",
    "        fig.add_trace(go.Scattergeo(\n",
    "            locationmode='USA-states',\n",
    "            lon=[row['LON2']],\n",
    "            lat=[row['LAT2'] + 0.3],\n",
    "            mode='text',\n",
    "            text=[row['AIRPORT2']],\n",
    "            textfont=dict(size=10, color='gray'),\n",
    "            showlegend=False,\n",
    "            hoverinfo='skip'\n",
    "        ))\n",
    "\n",
    "\n",
    "        \n",
    "\n",
    "    fig.update_layout(\n",
    "        title=dict(\n",
    "            text=f\"5 Highest-Impact Routes — {airline}\",\n",
    "            x=0.5,\n",
    "            xanchor='center',\n",
    "            font=dict(size=18)\n",
    "        ),\n",
    "        geo=dict(\n",
    "            scope='north america',\n",
    "            projection_type='mercator',  # use 'natural earth' or 'mercator'\n",
    "            showland=True,\n",
    "            landcolor='rgb(240,240,240)',\n",
    "            showcountries=True,\n",
    "            countrycolor='gray',\n",
    "            lonaxis=dict(range=[-130, -60]),\n",
    "            lataxis=dict(range=[20, 55])\n",
    "        ),\n",
    "        showlegend=False\n",
    "    )\n",
    "\n",
    "    # Save the figure as image\n",
    "    filename = f\"D:/Summer Practicum/3_Exports/delayed_routes_maps/{airline}_worst_routes.jpg\"\n",
    "    pio.write_image(fig, filename, format='png', width=1200, height=800)"
   ]
  }
 ],
 "metadata": {
  "kernelspec": {
   "display_name": "summerPracticum",
   "language": "python",
   "name": "python3"
  },
  "language_info": {
   "codemirror_mode": {
    "name": "ipython",
    "version": 3
   },
   "file_extension": ".py",
   "mimetype": "text/x-python",
   "name": "python",
   "nbconvert_exporter": "python",
   "pygments_lexer": "ipython3",
   "version": "3.12.11"
  }
 },
 "nbformat": 4,
 "nbformat_minor": 5
}
