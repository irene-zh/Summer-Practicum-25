{
 "cells": [
  {
   "cell_type": "markdown",
   "id": "9073969d",
   "metadata": {},
   "source": [
    "Trace all flight routes by airline, for the top 10 airlines.\n",
    "Find average delay per route.\n",
    "Display map with 5 worst routes per airline."
   ]
  },
  {
   "cell_type": "markdown",
   "id": "a05cf6f8",
   "metadata": {},
   "source": [
    "# Setup"
   ]
  },
  {
   "cell_type": "markdown",
   "id": "368ac4a5",
   "metadata": {},
   "source": [
    "### Packages"
   ]
  },
  {
   "cell_type": "code",
   "execution_count": 1,
   "id": "7e2eb8cb",
   "metadata": {},
   "outputs": [],
   "source": [
    "import numpy as np\n",
    "import pandas as pd\n",
    "from plotnine import *\n",
    "import matplotlib.pyplot as plt\n",
    "import plotly.graph_objects as go\n",
    "import plotly.io as pio"
   ]
  },
  {
   "cell_type": "markdown",
   "id": "954c7bb5",
   "metadata": {},
   "source": [
    "### Load Data"
   ]
  },
  {
   "cell_type": "code",
   "execution_count": 2,
   "id": "da471c4b",
   "metadata": {},
   "outputs": [],
   "source": [
    "train_data_path = r'D:\\Summer Practicum\\1_Data\\training_airlines.csv'\n",
    "df = pd.read_csv(train_data_path, low_memory=False)\n",
    "\n",
    "# create a tuple for all airports origin/destination pairs (we don't mind which direction the flight is heading)\n",
    "df['AIRPORT_PAIR'] = df.apply(\n",
    "    lambda x: '-'.join(sorted([x['Origin'], x['Dest']])), \n",
    "    axis=1\n",
    ")"
   ]
  },
  {
   "cell_type": "markdown",
   "id": "5b324418",
   "metadata": {},
   "source": [
    "### Delay Impact Score Function"
   ]
  },
  {
   "cell_type": "code",
   "execution_count": 3,
   "id": "f1c3b1ec",
   "metadata": {},
   "outputs": [],
   "source": [
    "def delay_score(minutes):\n",
    "    if minutes <= 20:\n",
    "        return 0\n",
    "    elif minutes < 180:\n",
    "        return ((minutes - 20) / 160) ** 2  # squashed quadratic curve from 0 to ~1\n",
    "    else:\n",
    "        return 5  # represent serious systemic impact like cancellation for flights delayed >180"
   ]
  },
  {
   "cell_type": "markdown",
   "id": "de6908ff",
   "metadata": {},
   "source": [
    "Apply Score to Flight (used later)"
   ]
  },
  {
   "cell_type": "code",
   "execution_count": 4,
   "id": "11c28edf",
   "metadata": {},
   "outputs": [],
   "source": [
    "df['DelayImpact'] = df['ArrDelay'].apply(delay_score)"
   ]
  },
  {
   "cell_type": "markdown",
   "id": "47abac0c",
   "metadata": {},
   "source": [
    "# Data Prep"
   ]
  },
  {
   "cell_type": "markdown",
   "id": "51acf48a",
   "metadata": {},
   "source": [
    "### Aggregate dataframe"
   ]
  },
  {
   "cell_type": "code",
   "execution_count": 5,
   "id": "35780c05",
   "metadata": {},
   "outputs": [],
   "source": [
    "df['SevereDelay'] = df['ArrDelay'] >= 180\n",
    "\n",
    "agg_df = df[df['ArrDelay'] > 0].groupby(['IATA_Code_Operating_Airline', 'AIRPORT_PAIR']).agg(\n",
    "    avg_delay=('ArrDelay', 'mean'),\n",
    "    impact_score=('DelayImpact', 'mean'),\n",
    "    num_flights=('ArrDelay', 'count'),\n",
    "    num_severe_delays=('SevereDelay', 'sum')\n",
    ").reset_index()\n",
    "\n",
    "agg_df[['AIRPORT1', 'AIRPORT2']] = agg_df['AIRPORT_PAIR'].str.split('-', expand=True)"
   ]
  },
  {
   "cell_type": "markdown",
   "id": "96340382",
   "metadata": {},
   "source": [
    "### Filter for Significant Routes by Flights"
   ]
  },
  {
   "cell_type": "code",
   "execution_count": 6,
   "id": "005ec638",
   "metadata": {},
   "outputs": [],
   "source": [
    "# Take only routes with a significant number of delayed flights\n",
    "flights_per_route_filter = 100\n",
    "agg_df = agg_df[agg_df['num_flights'] >= flights_per_route_filter]"
   ]
  },
  {
   "cell_type": "markdown",
   "id": "3254a720",
   "metadata": {},
   "source": [
    "## Normalize by Performance"
   ]
  },
  {
   "cell_type": "code",
   "execution_count": 7,
   "id": "b8599ab6",
   "metadata": {},
   "outputs": [],
   "source": [
    "agg_df = agg_df.sort_values('impact_score', ascending=False)\n",
    "\n",
    "# Normalize impact score for coloring (within top N only)\n",
    "min_score = agg_df['impact_score'].min()\n",
    "max_score = agg_df['impact_score'].max()\n",
    "agg_df['norm_scaled'] = (agg_df['impact_score'] - min_score) / (max_score - min_score + 1e-8)"
   ]
  },
  {
   "cell_type": "markdown",
   "id": "7cdd8379",
   "metadata": {},
   "source": [
    "### Filter for N-Worst Performing Routes"
   ]
  },
  {
   "cell_type": "code",
   "execution_count": 8,
   "id": "e41f1944",
   "metadata": {},
   "outputs": [],
   "source": [
    "# This avoids over-cluttering the map\n",
    "n_worst = 10\n",
    "#agg_df = agg_df.sort_values('norm_delay', ascending=False).head(n_worst)"
   ]
  },
  {
   "cell_type": "markdown",
   "id": "3acba503",
   "metadata": {},
   "source": [
    "### Airport Coordinates - OpenFlights"
   ]
  },
  {
   "cell_type": "code",
   "execution_count": 9,
   "id": "6c391220",
   "metadata": {},
   "outputs": [],
   "source": [
    "# set up column headers because OpenFlights doesn't have them\n",
    "columns = [\n",
    "    'AirportID', 'Name', 'City', 'Country',\n",
    "    'IATA', 'ICAO', 'Latitude', 'Longitude',\n",
    "    'Altitude', 'Timezone', 'DST', 'TzDatabaseTimeZone',\n",
    "    'Type', 'Source'\n",
    "]\n",
    "\n",
    "# Get coordinates from public OpenFlightd DB and remove duplicates (\"N/A\" is duplicated, causing indexing errors)\n",
    "of_airports = pd.read_csv(r'https://raw.githubusercontent.com/jpatokal/openflights/master/data/airports.dat', header=None, names=columns)\n",
    "of_airports = of_airports[of_airports['IATA'].notna() & (of_airports['IATA'] != '\\\\N')]\n",
    "\n",
    "# Create coordinates dictionary for all airports, to later map into the dataframe\n",
    "airport_coords = of_airports.set_index('IATA')[['Latitude', 'Longitude']].to_dict('index')\n",
    "airport_coords['IFP'] = {'Latitude': 35.1574, 'Longitude': -114.5596} # manually add Laughlin/Bullhead, AZ - it is missing from the OpenFlights DB"
   ]
  },
  {
   "cell_type": "code",
   "execution_count": 10,
   "id": "f8a3b3c7",
   "metadata": {},
   "outputs": [],
   "source": [
    "# Add origin and destination coordinates\n",
    "agg_df['LAT1'] = agg_df['AIRPORT1'].map(lambda x: airport_coords.get(x, {}).get('Latitude'))\n",
    "agg_df['LON1'] = agg_df['AIRPORT1'].map(lambda x: airport_coords.get(x, {}).get('Longitude'))\n",
    "agg_df['LAT2'] = agg_df['AIRPORT2'].map(lambda x: airport_coords.get(x, {}).get('Latitude'))\n",
    "agg_df['LON2'] = agg_df['AIRPORT2'].map(lambda x: airport_coords.get(x, {}).get('Longitude'))"
   ]
  },
  {
   "cell_type": "markdown",
   "id": "c6b7c373",
   "metadata": {},
   "source": [
    "#### Filter Worst Routes per Airline"
   ]
  },
  {
   "cell_type": "code",
   "execution_count": 11,
   "id": "f0545628",
   "metadata": {},
   "outputs": [],
   "source": [
    "top_routes_df = (\n",
    "    agg_df\n",
    "    .sort_values(['IATA_Code_Operating_Airline', 'impact_score'], ascending=[True, False])\n",
    "    .groupby('IATA_Code_Operating_Airline')\n",
    "    .head(5)\n",
    ")"
   ]
  },
  {
   "cell_type": "markdown",
   "id": "859541c0",
   "metadata": {},
   "source": [
    "Save Dataframe"
   ]
  },
  {
   "cell_type": "code",
   "execution_count": 12,
   "id": "4f660a0c",
   "metadata": {},
   "outputs": [],
   "source": [
    "# Add Airline Name field\n",
    "airline_names = {\n",
    "    \"AA\": \"American Airlines\",\n",
    "    \"AS\": \"Alaska Airlines\",\n",
    "    \"B6\": \"JetBlue Airways\",\n",
    "    \"DL\": \"Delta Air Lines\",\n",
    "    \"F9\": \"Frontier Airlines\",\n",
    "    \"G4\": \"Allegiant Air\",\n",
    "    \"HA\": \"Hawaiian Airlines\",\n",
    "    \"NK\": \"Spirit Airlines\",\n",
    "    \"UA\": \"United Airlines\",\n",
    "    \"WN\": \"Southwest Airlines\"\n",
    "}\n",
    "top_routes_df['Airline_Name'] = top_routes_df['IATA_Code_Operating_Airline'].map(airline_names)\n",
    "\n",
    "\n",
    "top_df_filename = 'D:/Summer Practicum/1_Data/worst_5_routes_per_airline.csv'\n",
    "top_routes_df.to_csv(top_df_filename, index=False)"
   ]
  },
  {
   "cell_type": "markdown",
   "id": "16d47c24",
   "metadata": {},
   "source": [
    "# Mapping"
   ]
  },
  {
   "cell_type": "markdown",
   "id": "b7d44ab9",
   "metadata": {},
   "source": [
    "### Helper Functions"
   ]
  },
  {
   "cell_type": "code",
   "execution_count": 21,
   "id": "854f3bb2",
   "metadata": {},
   "outputs": [],
   "source": [
    "# Get color from colormap\n",
    "cmap = plt.get_cmap('YlOrRd')\n",
    "\n",
    "# Helper function to get line color to work with the scaled Normalized values\n",
    "def get_rgba(norm_val):\n",
    "    r, g, b, _ = cmap(norm_val)\n",
    "    return f'rgba({r*255:.0f}, {g*255:.0f}, {b*255:.0f}, 0.8)'\n",
    "\n",
    "\n",
    "# Helper function to add markers to any flight path for tooltip hovering\n",
    "def interpolate_coords(lat1, lon1, lat2, lon2, steps=5):\n",
    "    lats = np.linspace(lat1, lat2, steps)\n",
    "    lons = np.linspace(lon1, lon2, steps)\n",
    "    return list(lats), list(lons)"
   ]
  },
  {
   "cell_type": "markdown",
   "id": "114c7c0c",
   "metadata": {},
   "source": [
    "### Map 1: All Routes Per Airline, Uncolored"
   ]
  },
  {
   "cell_type": "code",
   "execution_count": null,
   "id": "2f36840e",
   "metadata": {},
   "outputs": [],
   "source": [
    "fig = go.Figure() # create map plot\n",
    "\n",
    "# Create multi-line segments per airline with all airline's routes\n",
    "for airline, group in agg_df.groupby('IATA_Code_Operating_Airline'):\n",
    "\n",
    "    # Append start and end coordinates for each route\n",
    "    lines_lats = []\n",
    "    lines_lons = []\n",
    "    for _, row in group.iterrows():\n",
    "        lines_lats += [row['LAT1'], row['LAT2'], None]  # None separates segments\n",
    "        lines_lons += [row['LON1'], row['LON2'], None]\n",
    "\n",
    "    # Trace all routes per airline\n",
    "    fig.add_trace(go.Scattergeo(\n",
    "        locationmode='USA-states',\n",
    "        lon=lines_lons,\n",
    "        lat=lines_lats,\n",
    "        mode='lines',\n",
    "        line=dict(width=1, color='gray'),\n",
    "        opacity=0.7,\n",
    "        name=airline,\n",
    "        hoverinfo='none',\n",
    "        visible='legendonly'\n",
    "    ))\n",
    "\n",
    "\n",
    "# Create the plot's layout\n",
    "fig.update_layout(\n",
    "    title=dict(\n",
    "        text=f'Flight Routes by Airline<br>(Only Routes With {flights_per_route_filter} Flights Or More)',\n",
    "        x=0.5,  # Center the title\n",
    "        xanchor='center',\n",
    "        font=dict(size=18)\n",
    "    ),\n",
    "    geo=dict(\n",
    "        projection_type='mercator',  # use 'natural earth' or 'mercator'\n",
    "        showland=True,\n",
    "        center=dict(lat=37, lon=-95),\n",
    "        lataxis=dict(range=[-15, 75]),\n",
    "        lonaxis=dict(range=[-170, -50]),\n",
    "        countrycolor='lightgray',       # borders between countries\n",
    "        showcountries=True,             # show country borders\n",
    "    ),\n",
    "    showlegend=True\n",
    ")\n",
    "\n",
    "# Save the interactive map to an HTML file\n",
    "pio.write_html(fig, file=\"D:/Summer Practicum/3_Exports/flight_routes_map.html\", auto_open=False)"
   ]
  },
  {
   "cell_type": "markdown",
   "id": "75b64bdc",
   "metadata": {},
   "source": [
    "### Map 2: Worst 5 Routes Per Airline, Colored"
   ]
  },
  {
   "cell_type": "markdown",
   "id": "5a8e4485",
   "metadata": {},
   "source": [
    "#### Generate Map (All Airlines)"
   ]
  },
  {
   "cell_type": "code",
   "execution_count": 37,
   "id": "7a9d4c8a",
   "metadata": {},
   "outputs": [],
   "source": [
    "fig = go.Figure()\n",
    "\n",
    "for _, row in top_routes_df.iterrows():\n",
    "    color = get_rgba(row['norm_scaled'])\n",
    "\n",
    "    fig.add_trace(go.Scattergeo(\n",
    "        locationmode='USA-states',\n",
    "        lon=[row['LON1'], row['LON2']],\n",
    "        lat=[row['LAT1'], row['LAT2']],\n",
    "        mode='lines',\n",
    "        line=dict(width=1 + row['impact_score'], color=color),\n",
    "        opacity=0.8,\n",
    "        name=f\"{row['IATA_Code_Operating_Airline']} {row['AIRPORT_PAIR']}\",\n",
    "        text=f\"Airline: {row['IATA_Code_Operating_Airline']}<br>Route: {row['AIRPORT_PAIR']}<br>Impact Score: {row['impact_score']:.2f}<br>Flights: {row['num_flights']}\",\n",
    "        hoverinfo='text',\n",
    "        showlegend=False  # too many to show in legend cleanly\n",
    "    ))\n",
    "\n",
    "fig.update_layout(\n",
    "    title=dict(\n",
    "        text='Worst 5 Routes per Airline<br>Colored by Normalized Impact Score',\n",
    "        x=0.5,\n",
    "        xanchor='center',\n",
    "        font=dict(size=18)\n",
    "    ),\n",
    "    geo=dict(\n",
    "        projection_type='natural earth',  # use 'natural earth' or 'mercator'\n",
    "        center=dict(lat=37, lon=-95),\n",
    "        lataxis=dict(range=[-15, 75]),\n",
    "        lonaxis=dict(range=[-170, -50]),\n",
    "        showland=True,\n",
    "        landcolor='rgb(240,240,240)',\n",
    "        showcountries=True,\n",
    "        countrycolor='gray'\n",
    "    )\n",
    ")\n",
    "\n",
    "pio.write_html(fig, file=\"D:/Summer Practicum/3_Exports/worst_5_routes_per_airline.html\", auto_open=False)\n"
   ]
  },
  {
   "cell_type": "markdown",
   "id": "756bd518",
   "metadata": {},
   "source": [
    "#### Generate Map (Airline Selectable)"
   ]
  },
  {
   "cell_type": "code",
   "execution_count": 42,
   "id": "4698aa5c",
   "metadata": {},
   "outputs": [],
   "source": [
    "fig = go.Figure()\n",
    "trace_airlines = []  # store which airline each trace belongs to\n",
    "\n",
    "for _, row in top_routes_df.iterrows():\n",
    "    color = get_rgba(row['norm_scaled'])\n",
    "\n",
    "    # Add flight path, colored by impact score\n",
    "    fig.add_trace(go.Scattergeo(\n",
    "        locationmode='USA-states',\n",
    "        lon=[row['LON1'], row['LON2']],\n",
    "        lat=[row['LAT1'], row['LAT2']],\n",
    "        mode='lines',\n",
    "        line=dict(width=1 + row['impact_score'], color=color),\n",
    "        opacity=0.8,\n",
    "        name=f\"{row['IATA_Code_Operating_Airline']} {row['AIRPORT_PAIR']}\",\n",
    "        text=f\"Airline: {row['IATA_Code_Operating_Airline']}<br>Route: {row['AIRPORT_PAIR']}<br>Impact Score: {row['impact_score']:.2f}<br>Flights: {row['num_flights']}\",\n",
    "        hoverinfo='text',\n",
    "        visible=False  # start hidden\n",
    "    ))\n",
    "    trace_airlines.append(row['IATA_Code_Operating_Airline'])\n",
    "\n",
    "    # Add origin airport label\n",
    "    fig.add_trace(go.Scattergeo(\n",
    "        locationmode='USA-states',\n",
    "        lon=[row['LON1']],\n",
    "        lat=[row['LAT1']],\n",
    "        mode='text',\n",
    "        text=[row['AIRPORT1']],\n",
    "        textfont=dict(size=10, color='gray'),\n",
    "        showlegend=False,\n",
    "        hoverinfo='skip'\n",
    "    ))\n",
    "\n",
    "    # Add destination airport label\n",
    "    fig.add_trace(go.Scattergeo(\n",
    "        locationmode='USA-states',\n",
    "        lon=[row['LON2']],\n",
    "        lat=[row['LAT2']],\n",
    "        mode='text',\n",
    "        text=[row['AIRPORT2']],\n",
    "        textfont=dict(size=10, color='gray'),\n",
    "        showlegend=False,\n",
    "        hoverinfo='skip'\n",
    "    ))\n",
    "\n",
    "    # Interpolate midpoints for better hover coverage\n",
    "    interp_lats, interp_lons = interpolate_coords(row['LAT1'], row['LON1'], row['LAT2'], row['LON2'], steps=30)\n",
    "\n",
    "    # Add invisible markers along the flight path to enable tooltip when hovering over the line\n",
    "    # (otherwise the tooltip only shows up when hovering around the endpoints)\n",
    "    fig.add_trace(go.Scattergeo(\n",
    "        locationmode='USA-states',\n",
    "        lon=interp_lons,\n",
    "        lat=interp_lats,\n",
    "        mode='markers',\n",
    "        marker=dict(size=3, color=color, opacity=0.001),  # marker indistinguishable from line but still renders - need to see if this causes issues on non-GPU-accelerated machines\n",
    "        text=f\"Airline: {row['IATA_Code_Operating_Airline']}<br>Route: {row['AIRPORT_PAIR']}<br>Impact Score: {row['impact_score']:.2f}<br>Flights: {row['num_flights']}\",\n",
    "        hoverinfo='text',\n",
    "        showlegend=False\n",
    "    ))\n",
    "\n",
    "\n",
    "airlines = sorted(top_routes_df['IATA_Code_Operating_Airline'].unique())\n",
    "buttons = []\n",
    "\n",
    "for airline in airlines:\n",
    "    visible_mask = [airline == trace_airline for trace_airline in trace_airlines]\n",
    "    buttons.append(dict(\n",
    "        label=airline,\n",
    "        method='update',\n",
    "        args=[{'visible': visible_mask},\n",
    "            {'title': dict(\n",
    "                text=f'Top 5 Impactful Routes — {airline}',\n",
    "                x=0.5,\n",
    "                xanchor='center',\n",
    "                font=dict(size=18)\n",
    "            )}]\n",
    "    ))\n",
    "\n",
    "\n",
    "fig.update_layout(\n",
    "    updatemenus=[dict(\n",
    "        active=0,\n",
    "        buttons=buttons,\n",
    "        x=1.02,\n",
    "        y=0.9,\n",
    "        xanchor='left',\n",
    "        yanchor='top'\n",
    "    )],\n",
    "    title=dict(\n",
    "        text='Top 5 Impactful Routes — Select an Airline',\n",
    "        x=0.5,\n",
    "        xanchor='center',\n",
    "        font=dict(size=18)\n",
    "    ),\n",
    "    geo=dict(\n",
    "        projection_type='natural earth',  # use 'natural earth' or 'mercator'\n",
    "        center=dict(lat=37, lon=-95),\n",
    "        lataxis=dict(range=[-15, 75]),\n",
    "        lonaxis=dict(range=[-170, -50]),\n",
    "        showland=True,\n",
    "        landcolor='rgb(240,240,240)',\n",
    "        showcountries=True,\n",
    "        countrycolor='gray'\n",
    "    ),\n",
    "    showlegend=False\n",
    ")\n",
    "\n",
    "fig.write_html(\"D:/Summer Practicum/3_Exports/worst_5_routes_per_airline_dropdown.html\", auto_open=False)"
   ]
  },
  {
   "cell_type": "markdown",
   "id": "0ee6525b",
   "metadata": {},
   "source": [
    "### previous version (1 trace per route)"
   ]
  },
  {
   "cell_type": "code",
   "execution_count": null,
   "id": "7faa906d",
   "metadata": {},
   "outputs": [],
   "source": [
    "# Fill map with flight paths (lines)\n",
    "for _, row in agg_df.iterrows():\n",
    "    cust_color = get_rgba(row['norm_scaled'])\n",
    "\n",
    "    # Add color-coded trace of flight path\n",
    "    fig.add_trace(go.Scattergeo(\n",
    "        locationmode='USA-states',\n",
    "        lon=[row['LON1'], row['LON2']],\n",
    "        lat=[row['LAT1'], row['LAT2']],\n",
    "        mode='lines',\n",
    "        line=dict(width=0.5 + row['impact_score'] / 30, color=cust_color),\n",
    "        opacity=0.8,\n",
    "        name=row['IATA_Code_Operating_Airline'],\n",
    "        text=f\"Route: {row['AIRPORT_PAIR']}<br>Airline: {row['IATA_Code_Operating_Airline']}<br>Avg Delay: {row['avg_delay']:.1f} min<br>Impact Score: {row['impact_score']:.2f}<br>Severe Delays: {row['num_severe_delays']} of {row['num_flights']}\",\n",
    "        hoverinfo='text',\n",
    "        visible='legendonly',\n",
    "        showlegend=True\n",
    "    ))\n",
    "\n",
    "    # Interpolate midpoints for better hover coverage\n",
    "    interp_lats, interp_lons = interpolate_coords(row['LAT1'], row['LON1'], row['LAT2'], row['LON2'], steps=10)\n",
    "\n",
    "    # Add invisible markers along the flight path to enable tooltip when hovering over the line\n",
    "    # (otherwise the tooltip only shows up when hovering around the endpoints)\n",
    "    fig.add_trace(go.Scattergeo(\n",
    "        locationmode='USA-states',\n",
    "        lon=interp_lons,\n",
    "        lat=interp_lats,\n",
    "        mode='markers',\n",
    "        marker=dict(size=3, color=cust_color, opacity=0.001),  # marker indistinguishable from line but still renders - need to see if this causes issues on non-GPU-accelerated machines\n",
    "        text=f\"Route: {row['IATA_Code_Operating_Airline']}<br>Avg Delay: {row['avg_delay']:.1f} min<br>Flights: {row['num_flights']}\",\n",
    "        hoverinfo='text',\n",
    "        showlegend=False\n",
    "    ))"
   ]
  }
 ],
 "metadata": {
  "kernelspec": {
   "display_name": "summerPracticum",
   "language": "python",
   "name": "python3"
  },
  "language_info": {
   "codemirror_mode": {
    "name": "ipython",
    "version": 3
   },
   "file_extension": ".py",
   "mimetype": "text/x-python",
   "name": "python",
   "nbconvert_exporter": "python",
   "pygments_lexer": "ipython3",
   "version": "3.12.11"
  }
 },
 "nbformat": 4,
 "nbformat_minor": 5
}
