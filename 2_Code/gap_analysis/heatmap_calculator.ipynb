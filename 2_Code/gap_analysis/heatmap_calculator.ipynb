{
 "cells": [
  {
   "cell_type": "markdown",
   "id": "e681f5d2",
   "metadata": {},
   "source": [
    "# Flights Gap Analysis"
   ]
  },
  {
   "cell_type": "markdown",
   "id": "e1ad80b3",
   "metadata": {},
   "source": [
    "## Setup"
   ]
  },
  {
   "cell_type": "code",
   "execution_count": 6,
   "id": "ffc220ce",
   "metadata": {},
   "outputs": [],
   "source": [
    "import numpy as np\n",
    "import pandas as pd\n",
    "import os\n",
    "from plotnine import *\n",
    "from sklearn.linear_model import LinearRegression\n",
    "import statsmodels.formula.api as smf\n",
    "import matplotlib.pyplot as plt\n",
    "import seaborn as sns\n",
    "\n",
    "# Train-Test-Validation Files\n",
    "train_data_path = r'D:\\Summer Practicum\\1_Data\\training_airlines.csv'\n",
    "#test_data_path = r'D:\\Summer Practicum\\1_Data\\testing.csv'\n",
    "#validation_data_path = r'D:\\Summer Practicum\\1_Data\\validation.csv'\n",
    "\n",
    "df_train = pd.read_csv(train_data_path, low_memory=False)\n",
    "rdw_df = df_train.copy()"
   ]
  },
  {
   "cell_type": "markdown",
   "id": "a309a379",
   "metadata": {},
   "source": [
    "# Recurring Delays Windows"
   ]
  },
  {
   "cell_type": "markdown",
   "id": "ba6d943e",
   "metadata": {},
   "source": [
    "## Departures"
   ]
  },
  {
   "cell_type": "code",
   "execution_count": 7,
   "id": "dc665874",
   "metadata": {},
   "outputs": [],
   "source": [
    "# create df for all departures with actual delay (no early arrivals)\n",
    "rdw_depts = rdw_df[rdw_df[\"DepDelay\"]>0].copy()\n",
    "\n",
    "# prep data\n",
    "day_map = {1: 'Mon',\n",
    "           2: 'Tue',\n",
    "           3: 'Wed',\n",
    "           4: 'Thu',\n",
    "           5: 'Fri',\n",
    "           6: 'Sat',\n",
    "           7: 'Sun'\n",
    "           }\n",
    "rdw_depts['DayOfWeek'] = rdw_depts['DayOfWeek'].map(day_map)\n",
    "group_cols = ['Operating_Airline ', 'DayOfWeek', 'DepTimeBlk']\n",
    "outbound_grouped = (\n",
    "    rdw_depts\n",
    "    .groupby(group_cols)['DepDelay']\n",
    "    .mean()\n",
    "    .reset_index(name='DelayAvg')\n",
    ")\n",
    "\n",
    "# Calculate and save CSV for average departure delay by timeblock for all airlines\n",
    "airlines = outbound_grouped['Operating_Airline '].unique()\n",
    "for airline in airlines:\n",
    "    data = outbound_grouped[outbound_grouped['Operating_Airline '] == airline]\n",
    "    \n",
    "    # save data and close\n",
    "    filename = f\"D:/Summer Practicum/1_Data/heatmaps/departures/{airline}_delay_data.csv\"\n",
    "    data.to_csv(filename, index=False)"
   ]
  },
  {
   "cell_type": "markdown",
   "id": "51b9878d",
   "metadata": {},
   "source": [
    "## Arrivals"
   ]
  },
  {
   "cell_type": "code",
   "execution_count": 8,
   "id": "99c46624",
   "metadata": {},
   "outputs": [],
   "source": [
    "# create df for all arrivals with actual delay (no early arrivals)\n",
    "rdw_arrs = rdw_df[rdw_df[\"ArrDelay\"]>0].copy()\n",
    "\n",
    "# prep data\n",
    "day_map = {1: 'Mon',\n",
    "           2: 'Tue',\n",
    "           3: 'Wed',\n",
    "           4: 'Thu',\n",
    "           5: 'Fri',\n",
    "           6: 'Sat',\n",
    "           7: 'Sun'\n",
    "           }\n",
    "rdw_arrs['DayOfWeek'] = rdw_arrs['DayOfWeek'].map(day_map)\n",
    "group_cols = ['Operating_Airline ', 'DayOfWeek', 'ArrTimeBlk']\n",
    "outbound_grouped = (\n",
    "    rdw_arrs\n",
    "    .groupby(group_cols)['ArrDelay']\n",
    "    .mean()\n",
    "    .reset_index(name='DelayAvg')\n",
    ")\n",
    "\n",
    "# Calculate and save CSV for average arrival delay by timeblock for all airlines\n",
    "airlines = outbound_grouped['Operating_Airline '].unique()\n",
    "for airline in airlines:\n",
    "    data = outbound_grouped[outbound_grouped['Operating_Airline '] == airline]\n",
    "    \n",
    "    # save data and close\n",
    "    filename = f\"D:/Summer Practicum/1_Data/heatmaps/arrivals/{airline}_delay_data.csv\"\n",
    "    data.to_csv(filename, index=False)"
   ]
  }
 ],
 "metadata": {
  "kernelspec": {
   "display_name": "summerPracticum",
   "language": "python",
   "name": "python3"
  },
  "language_info": {
   "codemirror_mode": {
    "name": "ipython",
    "version": 3
   },
   "file_extension": ".py",
   "mimetype": "text/x-python",
   "name": "python",
   "nbconvert_exporter": "python",
   "pygments_lexer": "ipython3",
   "version": "3.12.11"
  }
 },
 "nbformat": 4,
 "nbformat_minor": 5
}
