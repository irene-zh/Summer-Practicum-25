{
 "cells": [
  {
   "cell_type": "markdown",
   "id": "64acea15",
   "metadata": {},
   "source": [
    "## Setup"
   ]
  },
  {
   "cell_type": "markdown",
   "id": "7e880a32",
   "metadata": {},
   "source": [
    "### Packages"
   ]
  },
  {
   "cell_type": "code",
   "execution_count": 75,
   "id": "6f8b38c6",
   "metadata": {},
   "outputs": [],
   "source": [
    "import numpy as np\n",
    "import pandas as pd\n",
    "import os\n",
    "from plotnine import *\n",
    "import matplotlib.pyplot as plt\n",
    "import seaborn as sns\n",
    "from matplotlib.colors import LinearSegmentedColormap, TwoSlopeNorm"
   ]
  },
  {
   "cell_type": "markdown",
   "id": "833cf847",
   "metadata": {},
   "source": [
    "### Paths, Colormaps"
   ]
  },
  {
   "cell_type": "code",
   "execution_count": 76,
   "id": "dfc9b7f4",
   "metadata": {},
   "outputs": [],
   "source": [
    "departures_path = r'D:\\Summer Practicum\\1_Data\\heatmaps\\departures'\n",
    "arrivals_path = r'D:\\Summer Practicum\\1_Data\\heatmaps\\arrivals'\n",
    "\n",
    "# Custom colormap\n",
    "colors = [\"#FFFFFF\", \"#DEEEF6\", \"#E19B8C\", \"#CB5017\", \"#9C2C19\"]\n",
    "custom_cmap = LinearSegmentedColormap.from_list(\"custom_red_blue\", colors, N=256)\n",
    "vmin = 0        # Minimum delay value\n",
    "vmax = 180      # Maximum delay value\n"
   ]
  },
  {
   "cell_type": "markdown",
   "id": "859b98c4",
   "metadata": {},
   "source": [
    "### Helper Functions, Dicts"
   ]
  },
  {
   "cell_type": "code",
   "execution_count": 77,
   "id": "986533e0",
   "metadata": {},
   "outputs": [],
   "source": [
    "def simplify_timeblock(block):\n",
    "    try:\n",
    "        start_str, end_str = block.split('-')\n",
    "        start_hour = int(start_str[:2])\n",
    "        end_hour = int(end_str[:2]) + 1  # inclusive hour range\n",
    "\n",
    "        def h12(h):\n",
    "            suffix = \"AM\" if h < 12 or h == 24 else \"PM\"\n",
    "            h = h % 12\n",
    "            return (12 if h == 0 else h), suffix\n",
    "\n",
    "        sh, suffix1 = h12(start_hour)\n",
    "        eh, suffix2 = h12(end_hour % 24)\n",
    "\n",
    "        # If both ends are same period (AM/PM)\n",
    "        if suffix1 == suffix2:\n",
    "            return f\"{sh}–{eh} {suffix1}\"\n",
    "        else:\n",
    "            return f\"{sh} {suffix1}–{eh} {suffix2}\"\n",
    "    except Exception:\n",
    "        return block"
   ]
  },
  {
   "cell_type": "code",
   "execution_count": 78,
   "id": "b24a1a60",
   "metadata": {},
   "outputs": [],
   "source": [
    "airline_names = {\n",
    "    \"AA\": \"American Airlines\",\n",
    "    \"AS\": \"Alaska Airlines\",\n",
    "    \"B6\": \"JetBlue Airways\",\n",
    "    \"DL\": \"Delta Air Lines\",\n",
    "    \"F9\": \"Frontier Airlines\",\n",
    "    \"G4\": \"Allegiant Air\",\n",
    "    \"HA\": \"Hawaiian Airlines\",\n",
    "    \"NK\": \"Spirit Airlines\",\n",
    "    \"UA\": \"United Airlines\",\n",
    "    \"WN\": \"Southwest Airlines\"\n",
    "}"
   ]
  },
  {
   "cell_type": "markdown",
   "id": "aafacaa2",
   "metadata": {},
   "source": [
    "## Departures"
   ]
  },
  {
   "cell_type": "markdown",
   "id": "c46cfe12",
   "metadata": {},
   "source": [
    "### Setup"
   ]
  },
  {
   "cell_type": "code",
   "execution_count": 79,
   "id": "88bfe870",
   "metadata": {},
   "outputs": [],
   "source": [
    "# Combine all departure timeblock delays into a single dataframe\n",
    "departure_files = []\n",
    "for filename in os.listdir(departures_path):\n",
    "    if filename.endswith('_delay_data.csv'):\n",
    "        file_path = os.path.join(departures_path, filename)\n",
    "        df = pd.read_csv(file_path, index_col=0)\n",
    "        departure_files.append(df)\n",
    "\n",
    "# Combine into a single dataframe and get the overall mean delay to compare later\n",
    "dep_df = pd.concat(departure_files)\n",
    "avg_dep_delay = int(pd.to_numeric(dep_df[\"DelayAvg\"], errors='coerce').mean())"
   ]
  },
  {
   "cell_type": "code",
   "execution_count": 80,
   "id": "afe2aea9",
   "metadata": {},
   "outputs": [],
   "source": [
    "# Color grading: center of color gradient represents Overall Average\n",
    "vcenter = avg_dep_delay\n",
    "divnorm = TwoSlopeNorm(vmin=vmin, vcenter=vcenter, vmax=vmax)"
   ]
  },
  {
   "cell_type": "markdown",
   "id": "0a697bf1",
   "metadata": {},
   "source": [
    "### Heatmap"
   ]
  },
  {
   "cell_type": "code",
   "execution_count": 81,
   "id": "86d45433",
   "metadata": {},
   "outputs": [],
   "source": [
    "# Generate heatmap per airline\n",
    "for filename in os.listdir(departures_path):\n",
    "    if filename.endswith('_delay_data.csv'):\n",
    "        airline = filename.split('_')[0]\n",
    "        airline_label = airline_names[airline]\n",
    "        file_path = os.path.join(departures_path, filename)\n",
    "        al_df = pd.read_csv(file_path, index_col=0)\n",
    "\n",
    "    # Pivot for heatmaps and sort columns and rows\n",
    "    pivot_df = pd.pivot(data=al_df, index='DepTimeBlk', columns='DayOfWeek', values='DelayAvg')\n",
    "    pivot_df = pivot_df.reindex(columns=['Mon', 'Tue', 'Wed', 'Thu', 'Fri', 'Sat', 'Sun'])\n",
    "    pivot_df = pivot_df.sort_index()\n",
    "    pivot_df.index = pivot_df.index.map(simplify_timeblock)\n",
    "\n",
    "\n",
    "    # calculate the mean airline's delay to compare later\n",
    "    avg_airline_delay = int(round(pd.to_numeric(al_df[\"DelayAvg\"], errors='coerce').mean(), 0))\n",
    "\n",
    "    # Generate Plot\n",
    "    plt.figure(figsize=(10, 8))\n",
    "    ax = sns.heatmap(\n",
    "        pivot_df, \n",
    "        cmap=custom_cmap, \n",
    "        norm=divnorm, \n",
    "        linewidths=0.3, \n",
    "        annot=False\n",
    "        )\n",
    "    plt.title(f\"Average Departure Delays for {airline_label}\")\n",
    "    plt.xlabel(\"Day of Week\")\n",
    "    plt.ylabel(\"Departure Time Block\")\n",
    "\n",
    "\n",
    "    # Add tick at the overall weekly average\n",
    "    cbar = ax.collections[0].colorbar\n",
    "    cbar.ax.axhline(avg_dep_delay, color='black', linestyle='-', linewidth=2)\n",
    "    cbar.ax.text(2.5, avg_dep_delay, f'All Avg: {avg_dep_delay} min',\n",
    "                color='black', va='center', ha='left', fontsize=9, transform=cbar.ax.transData)\n",
    "    \n",
    "    # Add tick at the airline average\n",
    "    cbar = ax.collections[0].colorbar\n",
    "    cbar.ax.axhline(avg_airline_delay, color='black', linestyle='-', linewidth=2)\n",
    "    cbar.ax.text(2.5, avg_airline_delay, f'Airline Avg: {avg_airline_delay} min',\n",
    "                color='black', va='center', ha='left', fontsize=9, transform=cbar.ax.transData)\n",
    "    \n",
    "    hmfilename = f\"D:/Summer Practicum/3_Exports/heatmaps/departures/{airline}_dep_heatmap.png\"\n",
    "    if os.path.exists(hmfilename):\n",
    "        os.remove(hmfilename)  # Force overwrite\n",
    "    plt.savefig(hmfilename, dpi=300)\n",
    "    plt.close()"
   ]
  },
  {
   "cell_type": "markdown",
   "id": "afd342ab",
   "metadata": {},
   "source": [
    "## Arrivals"
   ]
  },
  {
   "cell_type": "markdown",
   "id": "3f4fc76a",
   "metadata": {},
   "source": [
    "### Setup"
   ]
  },
  {
   "cell_type": "code",
   "execution_count": 82,
   "id": "fd817c9c",
   "metadata": {},
   "outputs": [],
   "source": [
    "# Combine all departure timeblock delays into a single dataframe\n",
    "arrival_files = []\n",
    "for filename in os.listdir(arrivals_path):\n",
    "    if filename.endswith('_delay_data.csv'):\n",
    "        file_path = os.path.join(arrivals_path, filename)\n",
    "        df = pd.read_csv(file_path, index_col=0)\n",
    "        arrival_files.append(df)\n",
    "\n",
    "# Combine into a single dataframe and get the overall mean delay to compare later\n",
    "arr_df = pd.concat(arrival_files)\n",
    "avg_arr_delay = int(pd.to_numeric(arr_df[\"DelayAvg\"], errors='coerce').mean())"
   ]
  },
  {
   "cell_type": "code",
   "execution_count": 83,
   "id": "e0583092",
   "metadata": {},
   "outputs": [],
   "source": [
    "# Color grading: center of color gradient represents Overall Average,\n",
    "vcenter = avg_arr_delay\n",
    "divnorm = TwoSlopeNorm(vmin=vmin, vcenter=vcenter, vmax=vmax)"
   ]
  },
  {
   "cell_type": "markdown",
   "id": "8f08c82a",
   "metadata": {},
   "source": [
    "### Heatmap"
   ]
  },
  {
   "cell_type": "code",
   "execution_count": 84,
   "id": "871504ba",
   "metadata": {},
   "outputs": [],
   "source": [
    "# Generate heatmap per airline\n",
    "for filename in os.listdir(arrivals_path):\n",
    "    if filename.endswith('_delay_data.csv'):\n",
    "        airline = filename.split('_')[0]\n",
    "        airline_label = airline_names[airline]\n",
    "        file_path = os.path.join(arrivals_path, filename)\n",
    "        al_df = pd.read_csv(file_path, index_col=0)\n",
    "    \n",
    "    # Pivot for heatmaps and sort columns and rows\n",
    "    pivot_df = pd.pivot(data=al_df, index='ArrTimeBlk', columns='DayOfWeek', values='DelayAvg')\n",
    "    pivot_df = pivot_df.reindex(columns=['Mon', 'Tue', 'Wed', 'Thu', 'Fri', 'Sat', 'Sun'])\n",
    "    pivot_df = pivot_df.sort_index()\n",
    "    pivot_df.index = pivot_df.index.map(simplify_timeblock)\n",
    "\n",
    "\n",
    "    # Calculate the mean airline's delay to compare later\n",
    "    avg_airline_delay = int(round(pd.to_numeric(al_df[\"DelayAvg\"], errors='coerce').mean(), 0))\n",
    "\n",
    "    # Generate plot\n",
    "    plt.figure(figsize=(10, 8))\n",
    "    ax = sns.heatmap(\n",
    "        pivot_df, \n",
    "        cmap=custom_cmap, \n",
    "        norm=divnorm, \n",
    "        linewidths=0.3, \n",
    "        annot=False\n",
    "    )\n",
    "    plt.title(f\"Average Arrival Delays for {airline_label}\")\n",
    "    plt.xlabel(\"Day of Week\")\n",
    "    plt.ylabel(\"Arrival Time Block\")\n",
    "    \n",
    "    # Add tick at the overall weekly average\n",
    "    cbar = ax.collections[0].colorbar\n",
    "    cbar.ax.axhline(avg_arr_delay, color='black', linestyle='-', linewidth=2)\n",
    "    cbar.ax.text(2.5, avg_arr_delay, f'All Avg: {avg_arr_delay} min',\n",
    "                color='black', va='center', ha='left', fontsize=9, transform=cbar.ax.transData)\n",
    "    \n",
    "    # Add tick at the airline average\n",
    "    cbar = ax.collections[0].colorbar\n",
    "    cbar.ax.axhline(avg_airline_delay, color='black', linestyle='-', linewidth=2)\n",
    "    cbar.ax.text(2.5, avg_airline_delay, f'Airline Avg: {avg_airline_delay} min',\n",
    "    color='black', va='center', ha='left', fontsize=9, transform=cbar.ax.transData)\n",
    "\n",
    "    # Save plot\n",
    "    hmfilename = f\"D:/Summer Practicum/3_Exports/heatmaps/arrivals/{airline}_arr_heatmap.png\"\n",
    "    if os.path.exists(hmfilename):\n",
    "        os.remove(hmfilename)  # Force overwrite\n",
    "    plt.savefig(hmfilename, dpi=300)\n",
    "    plt.close()\n"
   ]
  }
 ],
 "metadata": {
  "kernelspec": {
   "display_name": "summerPracticum",
   "language": "python",
   "name": "python3"
  },
  "language_info": {
   "codemirror_mode": {
    "name": "ipython",
    "version": 3
   },
   "file_extension": ".py",
   "mimetype": "text/x-python",
   "name": "python",
   "nbconvert_exporter": "python",
   "pygments_lexer": "ipython3",
   "version": "3.12.11"
  }
 },
 "nbformat": 4,
 "nbformat_minor": 5
}
