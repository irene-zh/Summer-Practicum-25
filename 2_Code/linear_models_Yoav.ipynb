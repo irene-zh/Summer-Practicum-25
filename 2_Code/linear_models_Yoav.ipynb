{
 "cells": [
  {
   "cell_type": "code",
   "execution_count": 8,
   "id": "b4acc80a",
   "metadata": {},
   "outputs": [],
   "source": [
    "import numpy as np\n",
    "import pandas as pd\n",
    "import glob\n",
    "import os\n",
    "from plotnine import *\n",
    "from sklearn.linear_model import LinearRegression\n",
    "import statsmodels.formula.api as smf\n",
    "import matplotlib.pyplot as plt\n",
    "import seaborn as sns\n",
    "\n",
    "# Train-Test-Validation Files\n",
    "train_data_path = r'D:\\Summer Practicum\\1_Data\\training.csv'\n",
    "#test_data_path = r'D:\\Summer Practicum\\1_Data\\testing.csv'\n",
    "#validation_data_path = r'D:\\Summer Practicum\\1_Data\\validation.csv'\n",
    "\n",
    "df = pd.read_csv(train_data_path, low_memory=False)\n"
   ]
  },
  {
   "cell_type": "code",
   "execution_count": 21,
   "id": "ff4132a9",
   "metadata": {},
   "outputs": [
    {
     "name": "stdout",
     "output_type": "stream",
     "text": [
      "(3532808, 2)\n",
      "ArrivalDelayGroups  DistanceGroup\n",
      "-1.0                2                357549\n",
      "                    3                271716\n",
      "                    4                199264\n",
      "                    1                196856\n",
      "-2.0                2                168201\n",
      "                                      ...  \n",
      " 10.0               8                   165\n",
      " 11.0               11                  155\n",
      "                    8                   150\n",
      " 10.0               9                   135\n",
      " 11.0               9                   121\n",
      "Name: count, Length: 165, dtype: int64\n"
     ]
    },
    {
     "data": {
      "text/html": [
       "<div>\n",
       "<style scoped>\n",
       "    .dataframe tbody tr th:only-of-type {\n",
       "        vertical-align: middle;\n",
       "    }\n",
       "\n",
       "    .dataframe tbody tr th {\n",
       "        vertical-align: top;\n",
       "    }\n",
       "\n",
       "    .dataframe thead th {\n",
       "        text-align: right;\n",
       "    }\n",
       "</style>\n",
       "<table border=\"1\" class=\"dataframe\">\n",
       "  <thead>\n",
       "    <tr style=\"text-align: right;\">\n",
       "      <th></th>\n",
       "      <th>ArrivalDelayGroups</th>\n",
       "      <th>DistanceGroup</th>\n",
       "    </tr>\n",
       "  </thead>\n",
       "  <tbody>\n",
       "    <tr>\n",
       "      <th>0</th>\n",
       "      <td>6.0</td>\n",
       "      <td>2</td>\n",
       "    </tr>\n",
       "    <tr>\n",
       "      <th>1</th>\n",
       "      <td>-1.0</td>\n",
       "      <td>1</td>\n",
       "    </tr>\n",
       "    <tr>\n",
       "      <th>2</th>\n",
       "      <td>-2.0</td>\n",
       "      <td>3</td>\n",
       "    </tr>\n",
       "    <tr>\n",
       "      <th>3</th>\n",
       "      <td>-2.0</td>\n",
       "      <td>7</td>\n",
       "    </tr>\n",
       "    <tr>\n",
       "      <th>4</th>\n",
       "      <td>-1.0</td>\n",
       "      <td>9</td>\n",
       "    </tr>\n",
       "  </tbody>\n",
       "</table>\n",
       "</div>"
      ],
      "text/plain": [
       "   ArrivalDelayGroups  DistanceGroup\n",
       "0                 6.0              2\n",
       "1                -1.0              1\n",
       "2                -2.0              3\n",
       "3                -2.0              7\n",
       "4                -1.0              9"
      ]
     },
     "execution_count": 21,
     "metadata": {},
     "output_type": "execute_result"
    }
   ],
   "source": [
    "slr_df = df[['ArrivalDelayGroups', 'DistanceGroup']].fillna(0)\n",
    "print(slr_df.shape)\n",
    "print(slr_df.value_counts())\n",
    "slr_df.head()"
   ]
  },
  {
   "cell_type": "code",
   "execution_count": 22,
   "id": "c750fabc",
   "metadata": {},
   "outputs": [
    {
     "data": {
      "image/png": "[encoded data removed]",
      "text/plain": [
       "<Figure size 640x480 with 1 Axes>"
      ]
     },
     "metadata": {},
     "output_type": "display_data"
    }
   ],
   "source": [
    "sns.regplot(x='DistanceGroup', y='ArrivalDelayGroups', data=slr_df)\n",
    "plt.xlabel(\"Distance Group (250 miles)\")\n",
    "plt.ylabel(\"Arrival Delay Groups (15 minutes)\")\n",
    "plt.show()"
   ]
  },
  {
   "cell_type": "markdown",
   "id": "ef5bd8c2",
   "metadata": {},
   "source": [
    "### Are delays and distance between airports correlated?"
   ]
  },
  {
   "cell_type": "code",
   "execution_count": null,
   "id": "0d1132d2",
   "metadata": {},
   "outputs": [],
   "source": [
    "# fitting the model\n",
    "model = smf.ols(formula='ArrDelayMinutes ~ Distance', data=slr_df).fit()\n",
    "\n",
    "# model summary\n",
    "model.summary()"
   ]
  }
 ],
 "metadata": {
  "kernelspec": {
   "display_name": "summerPracticum",
   "language": "python",
   "name": "python3"
  },
  "language_info": {
   "codemirror_mode": {
    "name": "ipython",
    "version": 3
   },
   "file_extension": ".py",
   "mimetype": "text/x-python",
   "name": "python",
   "nbconvert_exporter": "python",
   "pygments_lexer": "ipython3",
   "version": "3.12.11"
  }
 },
 "nbformat": 4,
 "nbformat_minor": 5
}
