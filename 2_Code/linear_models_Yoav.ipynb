{
 "cells": [
  {
   "cell_type": "code",
   "execution_count": null,
   "id": "b4acc80a",
   "metadata": {},
   "outputs": [],
   "source": [
    "import numpy as np\n",
    "import pandas as pd\n",
    "import glob\n",
    "import os\n",
    "from plotnine import *\n",
    "from sklearn.linear_model import LinearRegression\n",
    "from sklearn.model_selection import train_test_split\n",
    "import matplotlib.pyplot as plt\n",
    "\n",
    "path = r'D:\\Summer Practicum\\1_Data\\On_Time_Marketing_Carrier_On_Time_Performance_Beginning_January_2018_2023_All_Months'\n",
    "data_files = glob.glob(os.path.join(path,'*.csv'))\n",
    "\n",
    "# Read all files in the Data folder\n",
    "df = pd.concat((pd.read_csv(file, low_memory=False) for file in data_files), ignore_index=True)"
   ]
  },
  {
   "cell_type": "markdown",
   "id": "ef5bd8c2",
   "metadata": {},
   "source": [
    "### Are delays and distance between airports correlated?"
   ]
  },
  {
   "cell_type": "code",
   "execution_count": null,
   "id": "0d1132d2",
   "metadata": {},
   "outputs": [],
   "source": [
    "# Train-Test Split\n",
    "training, test1 = train_test_split(df, test_size=0.5, random_state=41)\n",
    "validation, testing = train_test_split(test1, test_size=0.2, random_state=41)\n",
    "\n",
    "# Define Serieses for delay and distance data\n",
    "delays = training[\"ArrDelayMinutes\"]    #total delay, early arrivals are 0 instead of negative numbers\n",
    "distances = training[\"Distance\"]        #distance between airports in miles\n",
    "\n",
    "# Set up SLR\n",
    "model = LinearRegression()\n",
    "model.fit(delays, distances)\n",
    "y_pred = model.predict(delays)\n",
    "\n",
    "print(f\"Coefficient (Slope): {model.coef_[0]:.2f}\")\n",
    "print(f\"Intercept: {model.intercept_:.2f}\")\n",
    "\n",
    "plt.scatter(delays, distances, color='blue', label='Actual Data')\n",
    "plt.plot(delays, y_pred, color='red', label='Regression Line')\n",
    "plt.xlabel(\"Independent Variable\")\n",
    "plt.ylabel(\"Dependent Variable\")\n",
    "plt.title(\"Simple Linear Regression\")\n",
    "plt.legend()\n",
    "plt.show()"
   ]
  }
 ],
 "metadata": {
  "language_info": {
   "name": "python"
  }
 },
 "nbformat": 4,
 "nbformat_minor": 5
}
