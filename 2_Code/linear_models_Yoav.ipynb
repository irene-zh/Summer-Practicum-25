{
 "cells": [
  {
   "cell_type": "code",
   "execution_count": 1,
   "id": "b4acc80a",
   "metadata": {},
   "outputs": [],
   "source": [
    "import numpy as np\n",
    "import pandas as pd\n",
    "import glob\n",
    "import os\n",
    "from plotnine import *\n",
    "from sklearn.linear_model import LinearRegression\n",
    "import statsmodels.formula.api as smf\n",
    "import matplotlib.pyplot as plt\n",
    "import seaborn as sns\n",
    "\n",
    "# Train-Test-Validation Files\n",
    "train_data_path = r'D:\\Summer Practicum\\1_Data\\training.csv'\n",
    "#test_data_path = r'D:\\Summer Practicum\\1_Data\\testing.csv'\n",
    "#validation_data_path = r'D:\\Summer Practicum\\1_Data\\validation.csv'\n",
    "\n",
    "df = pd.read_csv(train_data_path, low_memory=False)\n",
    "slr_df = df[['ArrDelayMinutes', 'Distance']]"
   ]
  },
  {
   "cell_type": "code",
   "execution_count": 3,
   "id": "ff4132a9",
   "metadata": {},
   "outputs": [
    {
     "data": {
      "text/html": [
       "<div>\n",
       "<style scoped>\n",
       "    .dataframe tbody tr th:only-of-type {\n",
       "        vertical-align: middle;\n",
       "    }\n",
       "\n",
       "    .dataframe tbody tr th {\n",
       "        vertical-align: top;\n",
       "    }\n",
       "\n",
       "    .dataframe thead th {\n",
       "        text-align: right;\n",
       "    }\n",
       "</style>\n",
       "<table border=\"1\" class=\"dataframe\">\n",
       "  <thead>\n",
       "    <tr style=\"text-align: right;\">\n",
       "      <th></th>\n",
       "      <th>ArrDelayMinutes</th>\n",
       "      <th>Distance</th>\n",
       "    </tr>\n",
       "  </thead>\n",
       "  <tbody>\n",
       "    <tr>\n",
       "      <th>0</th>\n",
       "      <td>94.0</td>\n",
       "      <td>373.0</td>\n",
       "    </tr>\n",
       "    <tr>\n",
       "      <th>1</th>\n",
       "      <td>0.0</td>\n",
       "      <td>113.0</td>\n",
       "    </tr>\n",
       "    <tr>\n",
       "      <th>2</th>\n",
       "      <td>0.0</td>\n",
       "      <td>605.0</td>\n",
       "    </tr>\n",
       "    <tr>\n",
       "      <th>3</th>\n",
       "      <td>0.0</td>\n",
       "      <td>1670.0</td>\n",
       "    </tr>\n",
       "    <tr>\n",
       "      <th>4</th>\n",
       "      <td>0.0</td>\n",
       "      <td>2174.0</td>\n",
       "    </tr>\n",
       "  </tbody>\n",
       "</table>\n",
       "</div>"
      ],
      "text/plain": [
       "   ArrDelayMinutes  Distance\n",
       "0             94.0     373.0\n",
       "1              0.0     113.0\n",
       "2              0.0     605.0\n",
       "3              0.0    1670.0\n",
       "4              0.0    2174.0"
      ]
     },
     "execution_count": 3,
     "metadata": {},
     "output_type": "execute_result"
    }
   ],
   "source": [
    "slr_df.head()"
   ]
  },
  {
   "cell_type": "code",
   "execution_count": null,
   "id": "c750fabc",
   "metadata": {},
   "outputs": [],
   "source": [
    "sns.regplot(x='Distance', y='ArrDelayMinutes', data=slr_df)\n",
    "plt.xlabel(\"Distance (miles)\")\n",
    "plt.ylabel(\"Arrival Delay (minutes)\")\n",
    "plt.show()"
   ]
  },
  {
   "cell_type": "markdown",
   "id": "ef5bd8c2",
   "metadata": {},
   "source": [
    "### Are delays and distance between airports correlated?"
   ]
  },
  {
   "cell_type": "code",
   "execution_count": null,
   "id": "0d1132d2",
   "metadata": {},
   "outputs": [],
   "source": [
    "# fitting the model\n",
    "model = smf.ols(formula='ArrDelayMinutes ~ Distance', data=slr_df).fit()\n",
    "\n",
    "# model summary\n",
    "model.summary()"
   ]
  }
 ],
 "metadata": {
  "kernelspec": {
   "display_name": "summerPracticum",
   "language": "python",
   "name": "python3"
  },
  "language_info": {
   "codemirror_mode": {
    "name": "ipython",
    "version": 3
   },
   "file_extension": ".py",
   "mimetype": "text/x-python",
   "name": "python",
   "nbconvert_exporter": "python",
   "pygments_lexer": "ipython3",
   "version": "3.12.11"
  }
 },
 "nbformat": 4,
 "nbformat_minor": 5
}
