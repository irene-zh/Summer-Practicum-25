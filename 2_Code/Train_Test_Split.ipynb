{
 "cells": [
  {
   "cell_type": "code",
   "execution_count": 23,
   "id": "99054ea8",
   "metadata": {},
   "outputs": [],
   "source": [
    "import pandas as pd\n",
    "import glob\n",
    "import os\n",
    "from sklearn.linear_model import LinearRegression\n",
    "from sklearn.model_selection import train_test_split"
   ]
  },
  {
   "cell_type": "code",
   "execution_count": 24,
   "id": "2574b652",
   "metadata": {},
   "outputs": [],
   "source": [
    "path = r'D:\\Summer Practicum\\1_Data\\On_Time_Marketing_Carrier_On_Time_Performance_Beginning_January_2018_2023_All_Months'\n",
    "all_files = glob.glob(os.path.join(path,'*.csv'))\n",
    "\n",
    "# Read all files in the Data folder\n",
    "all_data = pd.concat((pd.read_csv(f,low_memory=False) for f in all_files), ignore_index=True)"
   ]
  },
  {
   "cell_type": "code",
   "execution_count": 30,
   "id": "10feddfd",
   "metadata": {},
   "outputs": [
    {
     "name": "stdout",
     "output_type": "stream",
     "text": [
      "(7065617, 120)\n",
      "(4921235, 120)\n"
     ]
    }
   ],
   "source": [
    "# Subset by Top 10 airlines\n",
    "# American, Delta, United, SW, Alaska, Jetblue, Spirit, Frontier, Allegiant, Hawaiian \n",
    "top_10_airlines = ['AA','DL','UA','WN','AS','B6','NK','F9','G4','HA']\n",
    "df = all_data[(all_data['Operating_Airline '].isin(top_10_airlines))]\n",
    "print(all_data.shape)\n",
    "print(df.shape)"
   ]
  },
  {
   "cell_type": "code",
   "execution_count": 32,
   "id": "075bdeab",
   "metadata": {},
   "outputs": [
    {
     "name": "stdout",
     "output_type": "stream",
     "text": [
      "Training data shape: (3444864, 120)\n",
      "Validation data shape: (989168, 120)\n",
      "Testing data shape: (487203, 120)\n"
     ]
    }
   ],
   "source": [
    "training, test1 = train_test_split(df, test_size=0.3, random_state=123)\n",
    "validation, testing = train_test_split(test1, test_size=0.33, random_state=123)\n",
    "\n",
    "print(f\"Training data shape: {training.shape}\")\n",
    "print(f\"Validation data shape: {validation.shape}\")\n",
    "print(f\"Testing data shape: {testing.shape}\")"
   ]
  },
  {
   "cell_type": "code",
   "execution_count": null,
   "id": "b0c9dabd",
   "metadata": {},
   "outputs": [],
   "source": [
    "\"\"\"training.to_csv('D:/Summer Practicum/1_Data/training.csv', index=False)\n",
    "validation.to_csv('D:/Summer Practicum/1_Data/validation.csv', index=False)\n",
    "testing.to_csv('D:/Summer Practicum/1_Data/testing.csv',index=False)\"\"\""
   ]
  },
  {
   "cell_type": "code",
   "execution_count": 33,
   "id": "2053a59f",
   "metadata": {},
   "outputs": [],
   "source": [
    "training.to_csv('D:/Summer Practicum/1_Data/training_airlines.csv', index=False)\n",
    "validation.to_csv('D:/Summer Practicum/1_Data/validation_airlines.csv', index=False)\n",
    "testing.to_csv('D:/Summer Practicum/1_Data/testing_airlines.csv',index=False)"
   ]
  },
  {
   "cell_type": "code",
   "execution_count": null,
   "id": "6c51cdc1",
   "metadata": {},
   "outputs": [],
   "source": []
  }
 ],
 "metadata": {
  "kernelspec": {
   "display_name": "irenes_env",
   "language": "python",
   "name": "python3"
  },
  "language_info": {
   "codemirror_mode": {
    "name": "ipython",
    "version": 3
   },
   "file_extension": ".py",
   "mimetype": "text/x-python",
   "name": "python",
   "nbconvert_exporter": "python",
   "pygments_lexer": "ipython3",
   "version": "3.12.11"
  }
 },
 "nbformat": 4,
 "nbformat_minor": 5
}
