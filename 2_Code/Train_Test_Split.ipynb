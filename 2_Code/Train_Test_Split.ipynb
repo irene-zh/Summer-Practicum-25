{
 "cells": [
  {
   "cell_type": "code",
   "execution_count": 1,
   "id": "99054ea8",
   "metadata": {},
   "outputs": [],
   "source": [
    "import pandas as pd\n",
    "import glob\n",
    "import os\n",
    "from sklearn.linear_model import LinearRegression\n",
    "from sklearn.model_selection import train_test_split"
   ]
  },
  {
   "cell_type": "code",
   "execution_count": 2,
   "id": "2574b652",
   "metadata": {},
   "outputs": [
    {
     "name": "stderr",
     "output_type": "stream",
     "text": [
      "C:\\Users\\izhang\\AppData\\Local\\Temp\\2\\ipykernel_28012\\2200835650.py:5: DtypeWarning: Columns (11,13,86,93) have mixed types. Specify dtype option on import or set low_memory=False.\n",
      "  df = pd.concat((pd.read_csv(f) for f in all_files), ignore_index=True)\n",
      "C:\\Users\\izhang\\AppData\\Local\\Temp\\2\\ipykernel_28012\\2200835650.py:5: DtypeWarning: Columns (11,13,85,86,93) have mixed types. Specify dtype option on import or set low_memory=False.\n",
      "  df = pd.concat((pd.read_csv(f) for f in all_files), ignore_index=True)\n",
      "C:\\Users\\izhang\\AppData\\Local\\Temp\\2\\ipykernel_28012\\2200835650.py:5: DtypeWarning: Columns (11,13,57,78,85,86,93) have mixed types. Specify dtype option on import or set low_memory=False.\n",
      "  df = pd.concat((pd.read_csv(f) for f in all_files), ignore_index=True)\n",
      "C:\\Users\\izhang\\AppData\\Local\\Temp\\2\\ipykernel_28012\\2200835650.py:5: DtypeWarning: Columns (11,13,86,93) have mixed types. Specify dtype option on import or set low_memory=False.\n",
      "  df = pd.concat((pd.read_csv(f) for f in all_files), ignore_index=True)\n",
      "C:\\Users\\izhang\\AppData\\Local\\Temp\\2\\ipykernel_28012\\2200835650.py:5: DtypeWarning: Columns (11,13,86,93) have mixed types. Specify dtype option on import or set low_memory=False.\n",
      "  df = pd.concat((pd.read_csv(f) for f in all_files), ignore_index=True)\n",
      "C:\\Users\\izhang\\AppData\\Local\\Temp\\2\\ipykernel_28012\\2200835650.py:5: DtypeWarning: Columns (11,13,85,86,93) have mixed types. Specify dtype option on import or set low_memory=False.\n",
      "  df = pd.concat((pd.read_csv(f) for f in all_files), ignore_index=True)\n",
      "C:\\Users\\izhang\\AppData\\Local\\Temp\\2\\ipykernel_28012\\2200835650.py:5: DtypeWarning: Columns (11,13,86,93) have mixed types. Specify dtype option on import or set low_memory=False.\n",
      "  df = pd.concat((pd.read_csv(f) for f in all_files), ignore_index=True)\n",
      "C:\\Users\\izhang\\AppData\\Local\\Temp\\2\\ipykernel_28012\\2200835650.py:5: DtypeWarning: Columns (11,13,86,93) have mixed types. Specify dtype option on import or set low_memory=False.\n",
      "  df = pd.concat((pd.read_csv(f) for f in all_files), ignore_index=True)\n",
      "C:\\Users\\izhang\\AppData\\Local\\Temp\\2\\ipykernel_28012\\2200835650.py:5: DtypeWarning: Columns (11,13,85,86,93) have mixed types. Specify dtype option on import or set low_memory=False.\n",
      "  df = pd.concat((pd.read_csv(f) for f in all_files), ignore_index=True)\n",
      "C:\\Users\\izhang\\AppData\\Local\\Temp\\2\\ipykernel_28012\\2200835650.py:5: DtypeWarning: Columns (11,13,57,86,93) have mixed types. Specify dtype option on import or set low_memory=False.\n",
      "  df = pd.concat((pd.read_csv(f) for f in all_files), ignore_index=True)\n",
      "C:\\Users\\izhang\\AppData\\Local\\Temp\\2\\ipykernel_28012\\2200835650.py:5: DtypeWarning: Columns (11,13,57,78,85,86,93) have mixed types. Specify dtype option on import or set low_memory=False.\n",
      "  df = pd.concat((pd.read_csv(f) for f in all_files), ignore_index=True)\n",
      "C:\\Users\\izhang\\AppData\\Local\\Temp\\2\\ipykernel_28012\\2200835650.py:5: DtypeWarning: Columns (11,13,57,78,85,86,93) have mixed types. Specify dtype option on import or set low_memory=False.\n",
      "  df = pd.concat((pd.read_csv(f) for f in all_files), ignore_index=True)\n"
     ]
    }
   ],
   "source": [
    "path = r'D:\\Summer Practicum\\1_Data\\On_Time_Marketing_Carrier_On_Time_Performance_Beginning_January_2018_2023_All_Months'\n",
    "all_files = glob.glob(os.path.join(path,'*.csv'))\n",
    "\n",
    "# Read all files in the Data folder\n",
    "df = pd.concat((pd.read_csv(f) for f in all_files), ignore_index=True)"
   ]
  },
  {
   "cell_type": "code",
   "execution_count": 3,
   "id": "075bdeab",
   "metadata": {},
   "outputs": [
    {
     "name": "stdout",
     "output_type": "stream",
     "text": [
      "Training data shape: (3532808, 120)\n",
      "Validation data shape: (2826247, 120)\n",
      "Testing data shape: (706562, 120)\n"
     ]
    }
   ],
   "source": [
    "training, test1 = train_test_split(df, test_size=0.5, random_state=123)\n",
    "validation, testing = train_test_split(test1, test_size=0.2, random_state=123)\n",
    "\n",
    "print(f\"Training data shape: {training.shape}\")\n",
    "print(f\"Validation data shape: {validation.shape}\")\n",
    "print(f\"Testing data shape: {testing.shape}\")"
   ]
  },
  {
   "cell_type": "code",
   "execution_count": 6,
   "id": "b0c9dabd",
   "metadata": {},
   "outputs": [],
   "source": [
    "training.to_csv('D:/Summer Practicum/1_Data/training.csv', index=False)\n",
    "validation.to_csv('D:/Summer Practicum/1_Data/validation.csv', index=False)\n",
    "testing.to_csv('D:/Summer Practicum/1_Data/testing.csv',index=False)"
   ]
  },
  {
   "cell_type": "code",
   "execution_count": null,
   "id": "ebff7433",
   "metadata": {},
   "outputs": [],
   "source": []
  }
 ],
 "metadata": {
  "kernelspec": {
   "display_name": "irenes_env",
   "language": "python",
   "name": "python3"
  },
  "language_info": {
   "codemirror_mode": {
    "name": "ipython",
    "version": 3
   },
   "file_extension": ".py",
   "mimetype": "text/x-python",
   "name": "python",
   "nbconvert_exporter": "python",
   "pygments_lexer": "ipython3",
   "version": "3.12.11"
  }
 },
 "nbformat": 4,
 "nbformat_minor": 5
}
