{
 "cells": [
  {
   "cell_type": "code",
   "execution_count": 1,
   "id": "0e432346",
   "metadata": {},
   "outputs": [],
   "source": [
    "import numpy as np\n",
    "import pandas as pd\n",
    "from plotnine import *\n",
    "import matplotlib.pyplot as plt"
   ]
  },
  {
   "cell_type": "code",
   "execution_count": 2,
   "id": "3192fb0c",
   "metadata": {},
   "outputs": [],
   "source": [
    "df = r'D:\\Summer Practicum\\1_Data\\training_regression.csv'\n",
    "rdw_df = pd.read_csv(df, low_memory=False).copy()"
   ]
  }
 ],
 "metadata": {
  "kernelspec": {
   "display_name": "summerPracticum",
   "language": "python",
   "name": "python3"
  },
  "language_info": {
   "codemirror_mode": {
    "name": "ipython",
    "version": 3
   },
   "file_extension": ".py",
   "mimetype": "text/x-python",
   "name": "python",
   "nbconvert_exporter": "python",
   "pygments_lexer": "ipython3",
   "version": "3.12.11"
  }
 },
 "nbformat": 4,
 "nbformat_minor": 5
}
